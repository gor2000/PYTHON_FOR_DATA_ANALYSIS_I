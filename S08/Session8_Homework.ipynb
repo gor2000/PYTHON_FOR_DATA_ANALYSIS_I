{
 "cells": [
  {
   "attachments": {},
   "cell_type": "markdown",
   "metadata": {},
   "source": [
    "### Exercise 1\n",
    "\n",
    "Create a function that receives a number and returns itself and all the numbers that are smaller than the given number until 1 (included), in decreasing order.\n",
    "\n",
    "E.g.:\n",
    "\n",
    "$ f(5) = [5, 4, 3, 2, 1] $"
   ]
  },
  {
   "cell_type": "code",
   "execution_count": 6,
   "metadata": {
    "ExecuteTime": {
     "end_time": "2023-05-30T16:16:54.088531Z",
     "start_time": "2023-05-30T16:16:54.081171Z"
    }
   },
   "outputs": [
    {
     "data": {
      "text/plain": "[5, 4, 3, 2, 1]"
     },
     "execution_count": 6,
     "metadata": {},
     "output_type": "execute_result"
    }
   ],
   "source": [
    "def less_num(num):\n",
    "    return [x+1 for x in range(num)][::-1]\n",
    "less_num(5)"
   ]
  },
  {
   "attachments": {},
   "cell_type": "markdown",
   "metadata": {},
   "source": [
    "### Exercise 2\n",
    "\n",
    "Using the function created in the previous exercise, create another function that receives a number and returns all the divisors of that number."
   ]
  },
  {
   "cell_type": "code",
   "execution_count": 10,
   "metadata": {
    "ExecuteTime": {
     "end_time": "2023-05-30T16:20:15.185026Z",
     "start_time": "2023-05-30T16:20:15.177089Z"
    }
   },
   "outputs": [
    {
     "data": {
      "text/plain": "[12, 6, 4, 3, 2, 1]"
     },
     "execution_count": 10,
     "metadata": {},
     "output_type": "execute_result"
    }
   ],
   "source": [
    "def div(number):\n",
    "    res = []\n",
    "    aux = less_num(number)\n",
    "    for x in aux:\n",
    "        if number % x == 0:\n",
    "            res.append(x)\n",
    "    return res\n",
    "div(12)"
   ]
  },
  {
   "attachments": {},
   "cell_type": "markdown",
   "metadata": {},
   "source": [
    "### Exercise 3\n",
    "\n",
    "Using the functions created in the previous exercises, create another function that receives a number and returns if the number is a prime number or not."
   ]
  },
  {
   "cell_type": "code",
   "execution_count": 34,
   "metadata": {
    "ExecuteTime": {
     "end_time": "2023-05-30T16:32:28.767406Z",
     "start_time": "2023-05-30T16:32:28.570499Z"
    }
   },
   "outputs": [
    {
     "name": "stdout",
     "output_type": "stream",
     "text": [
      "997651: True, 7: True, 8: False\n"
     ]
    }
   ],
   "source": [
    "def prime(number):\n",
    "    res = False\n",
    "    _div = div(number)\n",
    "    if len(_div) == 2 and _div[0] == number and _div[1] == 1:\n",
    "        res = True\n",
    "    return res\n",
    "\n",
    "print(f\"997651: {prime(997651)}, 7: {prime(7)}, 8: {prime(8)}\")"
   ]
  },
  {
   "attachments": {},
   "cell_type": "markdown",
   "metadata": {},
   "source": [
    "### Exercise 4\n",
    "\n",
    "Given this paragraph:\n",
    "\n",
    "````\n",
    "The Tipperary Stakes is a Listed flat horse race in Ireland open to thoroughbreds aged two years only. It is run at Tipperary over a distance of five furlongs (1006 metres), and it is scheduled to take place each year in July.\n",
    "\n",
    "The race was first run in 2001 as the Entrepreneur Stakes. It was renamed the Tipperary Stakes the following year, but generally also carries the name of a Coolmore Stud stallion, initially Danehill Dancer and more recently Excelebration, Pride of Dubai and U S Navy Flag.\n",
    "````\n",
    "\n",
    "Create a function that receives a paragraph and returns a dictionary with the number of times each word is used in the paragraph.\n",
    "\n",
    "Steps:\n",
    "* Remove all the punctuation marks (`.`, `,`, `(`, `)`, etc)\n",
    "* Replace all the line breaks (`\"\\n\"`) with spaces (`\" \"`)\n",
    "* Convert the paragraph into a list of words\n",
    "* If the word is a number, remove it (e.g. `2001`, use [`isdigit()`](https://docs.python.org/3/library/stdtypes.html#str.isdigit))\n",
    "* Find a way to count the number of times each word is used\n",
    "* Assign the word as the key and the number of times it appears as the value"
   ]
  },
  {
   "cell_type": "code",
   "execution_count": 56,
   "metadata": {
    "ExecuteTime": {
     "end_time": "2023-05-30T16:54:39.354876Z",
     "start_time": "2023-05-30T16:54:39.346716Z"
    }
   },
   "outputs": [
    {
     "data": {
      "text/plain": "{'The': 2,\n 'Tipperary': 3,\n 'Stakes': 3,\n 'is': 3,\n 'a': 3,\n 'Listed': 1,\n 'flat': 1,\n 'horse': 1,\n 'race': 2,\n 'in': 3,\n 'Ireland': 1,\n 'open': 1,\n 'to': 2,\n 'thoroughbreds': 1,\n 'aged': 1,\n 'two': 1,\n 'years': 1,\n 'only': 1,\n 'It': 2,\n 'run': 2,\n 'at': 1,\n 'over': 1,\n 'distance': 1,\n 'of': 3,\n 'five': 1,\n 'furlongs': 1,\n 'metres': 1,\n 'and': 3,\n 'it': 1,\n 'scheduled': 1,\n 'take': 1,\n 'place': 1,\n 'each': 1,\n 'year': 2,\n 'July': 1,\n 'was': 2,\n 'first': 1,\n 'as': 1,\n 'the': 4,\n 'Entrepreneur': 1,\n 'renamed': 1,\n 'following': 1,\n 'but': 1,\n 'generally': 1,\n 'also': 1,\n 'carries': 1,\n 'name': 1,\n 'Coolmore': 1,\n 'Stud': 1,\n 'stallion': 1,\n 'initially': 1,\n 'Danehill': 1,\n 'Dancer': 1,\n 'more': 1,\n 'recently': 1,\n 'Excelebration': 1,\n 'Pride': 1,\n 'Dubai': 1,\n 'U': 1,\n 'S': 1,\n 'Navy': 1,\n 'Flag': 1}"
     },
     "execution_count": 56,
     "metadata": {},
     "output_type": "execute_result"
    }
   ],
   "source": [
    "def word_count(par):\n",
    "    dic = {}\n",
    "    par = par.replace('.','').replace(',','').replace('(','').replace(')','')\n",
    "    par = par.replace('\\n', ' ')\n",
    "    aux = par.split(' ')\n",
    "    for x in aux:\n",
    "        if x.isdigit() or x == '':\n",
    "            aux.remove(x)\n",
    "    for x in aux:\n",
    "        if not dic.get(x):\n",
    "            dic[x] = 1\n",
    "        else:\n",
    "            dic[x] += 1\n",
    "    return dic\n",
    "para = '''\n",
    "The Tipperary Stakes is a Listed flat horse race in Ireland open to thoroughbreds aged two years only. It is run at Tipperary over a distance of five furlongs (1006 metres), and it is scheduled to take place each year in July.\n",
    "\n",
    "The race was first run in 2001 as the Entrepreneur Stakes. It was renamed the Tipperary Stakes the following year, but generally also carries the name of a Coolmore Stud stallion, initially Danehill Dancer and more recently Excelebration, Pride of Dubai and U S Navy Flag.\n",
    "'''\n",
    "word_count(para)"
   ]
  }
 ],
 "metadata": {
  "kernelspec": {
   "display_name": "pda1",
   "language": "python",
   "name": "python3"
  },
  "language_info": {
   "codemirror_mode": {
    "name": "ipython",
    "version": 3
   },
   "file_extension": ".py",
   "mimetype": "text/x-python",
   "name": "python",
   "nbconvert_exporter": "python",
   "pygments_lexer": "ipython3",
   "version": "3.9.16"
  },
  "orig_nbformat": 4,
  "vscode": {
   "interpreter": {
    "hash": "d246aa15fe447bec9cf17f70958fc89a6642f64402da677f834b9f12b3c7ca3d"
   }
  }
 },
 "nbformat": 4,
 "nbformat_minor": 2
}
