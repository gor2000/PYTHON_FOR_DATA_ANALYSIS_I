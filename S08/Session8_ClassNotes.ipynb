{
 "cells": [
  {
   "attachments": {},
   "cell_type": "markdown",
   "metadata": {},
   "source": [
    "## Session 8: User-defined functions and lambda functions\n",
    "\n",
    "### User-defined functions\n",
    "\n",
    "Functions are a way to group code that belongs together. We use them when we want to reuse code, or when we want to make our code more readable. Functions are defined using the `def` keyword, followed by the name of the function, and then the arguments in parentheses. The function body is indented.\n",
    "\n",
    "```python\n",
    "def square(x):\n",
    "    return x ** 2\n",
    "```\n",
    "\n",
    "Functions can return one or more values, using the `return` keyword. If no `return` statement is used, the function returns `None`.\n",
    "* If a function returns one value we get it right away\n",
    "* If a function returns more than one value we get them as a tuple\n",
    "* If a function returns no value we get `None` back\n",
    "\n",
    "Even though a function doesn't return a value, we can use it to perform a specific task that doesn't require a return value, such as printing something to the screen.\n",
    "\n"
   ]
  },
  {
   "attachments": {},
   "cell_type": "markdown",
   "metadata": {},
   "source": [
    "#### Exercise 1\n",
    "\n",
    "Write a function that receives a string and returns the number of words in the string. For example, if the string is \"Hello world\", the function should return 2."
   ]
  },
  {
   "cell_type": "code",
   "execution_count": 1,
   "metadata": {},
   "outputs": [],
   "source": [
    "def words_in_string(my_string):\n",
    "    return None"
   ]
  },
  {
   "attachments": {},
   "cell_type": "markdown",
   "metadata": {},
   "source": [
    "#### Exercise 2\n",
    "\n",
    "Create a functions that receives a list of numbers, and returns a list with all the odd elements passed through this calculation:\n",
    "\n",
    "$ x \\rightarrow 3 \\cdot x^2 + 1 $."
   ]
  },
  {
   "cell_type": "code",
   "execution_count": null,
   "metadata": {},
   "outputs": [],
   "source": [
    "def operate_odd_elements(my_list):\n",
    "    return None"
   ]
  },
  {
   "attachments": {},
   "cell_type": "markdown",
   "metadata": {},
   "source": [
    "### Arguments and parameters\n",
    "\n",
    "The arguments of a function are the values that are passed to the function when it is called. The parameters of a function are the variables that are used in the function definition. The arguments are assigned to the parameters when the function is called.\n",
    "\n",
    "```python\n",
    "def do_something(param1, param2):\n",
    "    # do something with param1 and param2\n",
    "    return something\n",
    "```"
   ]
  },
  {
   "cell_type": "code",
   "execution_count": 2,
   "metadata": {},
   "outputs": [
    {
     "data": {
      "text/plain": [
       "['churro', 'bottle']"
      ]
     },
     "execution_count": 2,
     "metadata": {},
     "output_type": "execute_result"
    }
   ],
   "source": [
    "# parameters: my_list, n\n",
    "def keep_words_longer_than_n(my_list, n):\n",
    "    return [w for w in my_list if len(w) > n]\n",
    "\n",
    "# arguments: [\"dani\", \"churro\", \"bottle\"], 5\n",
    "keep_words_longer_than_n([\"dani\", \"churro\", \"bottle\"], 5)"
   ]
  },
  {
   "attachments": {},
   "cell_type": "markdown",
   "metadata": {},
   "source": [
    "In the previous example, we have built a function that will use the parameters `my_list` and `n`.\n",
    "\n",
    "Once we define the function, we can pass values to those parameters in order to receive the result of the function. In this case, the values that we've passed to the parameters are called arguments: `[\"dani\", \"churro\", \"bottle\"]`and `5`"
   ]
  },
  {
   "attachments": {},
   "cell_type": "markdown",
   "metadata": {},
   "source": [
    "#### Exercise 3\n",
    "\n",
    "Create a function that receives the parameters `list_to_filter` and `letter`, and returns a list with all the elements that start with the letter passed as an argument.\n",
    "\n",
    "Then, call the function with the following arguments:\n",
    "* `[\"dani\", \"churro\", \"bottle\"]` and `\"d\"`"
   ]
  },
  {
   "cell_type": "code",
   "execution_count": 3,
   "metadata": {},
   "outputs": [],
   "source": [
    "def my_func():\n",
    "    return None"
   ]
  },
  {
   "attachments": {},
   "cell_type": "markdown",
   "metadata": {},
   "source": [
    "### Named arguments\n",
    "\n",
    "In the previous example, we are passing arguments by position, and the function takes them and according to the order in which we defined the parameters, it operates them.\n",
    "\n",
    "If we have a list with several arguments it's difficult to keep track which parameter was in which position.\n",
    "\n",
    "In order to avoid errors, we can pass the arguments by name, so that the function knows which argument is which. The cool thing about passing arguments by the name of the parameter is that we can change the order of the arguments, and the function will still work.\n"
   ]
  },
  {
   "cell_type": "code",
   "execution_count": 4,
   "metadata": {},
   "outputs": [
    {
     "data": {
      "text/plain": [
       "[1, 4, 9]"
      ]
     },
     "execution_count": 4,
     "metadata": {},
     "output_type": "execute_result"
    }
   ],
   "source": [
    "def power_list_n(num_list, exponent):\n",
    "    return [x ** exponent for x in num_list]\n",
    "\n",
    "# without using named arguments\n",
    "power_list_n([1, 2, 3], 2)"
   ]
  },
  {
   "cell_type": "code",
   "execution_count": 5,
   "metadata": {},
   "outputs": [
    {
     "data": {
      "text/plain": [
       "[1, 4, 9]"
      ]
     },
     "execution_count": 5,
     "metadata": {},
     "output_type": "execute_result"
    }
   ],
   "source": [
    "# using named arguments\n",
    "power_list_n(num_list=[1, 2, 3], exponent=2)\n",
    "\n",
    "# same result"
   ]
  },
  {
   "cell_type": "code",
   "execution_count": 7,
   "metadata": {},
   "outputs": [
    {
     "data": {
      "text/plain": [
       "[1, 4, 9]"
      ]
     },
     "execution_count": 7,
     "metadata": {},
     "output_type": "execute_result"
    }
   ],
   "source": [
    "# not following the order\n",
    "power_list_n(exponent=2, num_list=[1, 2, 3])\n",
    "\n",
    "# still works"
   ]
  },
  {
   "attachments": {},
   "cell_type": "markdown",
   "metadata": {},
   "source": [
    "We can also mixed named and unnamed arguments, but the unnamed arguments must be passed first and must follow the order of the parameters in the function definition."
   ]
  },
  {
   "cell_type": "code",
   "execution_count": 11,
   "metadata": {},
   "outputs": [
    {
     "data": {
      "text/plain": [
       "[1, 16, 81]"
      ]
     },
     "execution_count": 11,
     "metadata": {},
     "output_type": "execute_result"
    }
   ],
   "source": [
    "power_list_n([1, 2, 3], exponent=4)\n",
    "\n",
    "# works"
   ]
  },
  {
   "cell_type": "code",
   "execution_count": 12,
   "metadata": {},
   "outputs": [
    {
     "ename": "TypeError",
     "evalue": "power_list_n() got multiple values for argument 'num_list'",
     "output_type": "error",
     "traceback": [
      "\u001B[0;31m---------------------------------------------------------------------------\u001B[0m",
      "\u001B[0;31mTypeError\u001B[0m                                 Traceback (most recent call last)",
      "Cell \u001B[0;32mIn[12], line 1\u001B[0m\n\u001B[0;32m----> 1\u001B[0m power_list_n(\u001B[39m3\u001B[39;49m, num_list\u001B[39m=\u001B[39;49m[\u001B[39m1\u001B[39;49m, \u001B[39m2\u001B[39;49m, \u001B[39m3\u001B[39;49m])\n",
      "\u001B[0;31mTypeError\u001B[0m: power_list_n() got multiple values for argument 'num_list'"
     ]
    }
   ],
   "source": [
    "power_list_n(3, num_list=[1, 2, 3])"
   ]
  },
  {
   "attachments": {},
   "cell_type": "markdown",
   "metadata": {},
   "source": [
    "In this case, the function was expecting the first unnamed argument to be `num_list`, and we passed `3` as that, but then we also passed `[1, 2, 3]` as `num_list`, which made everything crash."
   ]
  },
  {
   "attachments": {},
   "cell_type": "markdown",
   "metadata": {},
   "source": [
    "#### Default arguments\n",
    "\n",
    "We can also define default values for the parameters of a function. This means that if we don't pass a value for that parameter, the function will use the default value.\n",
    "\n",
    "```python\n",
    "def power_of(x, power=2):\n",
    "    return x ** power\n",
    "```"
   ]
  },
  {
   "cell_type": "code",
   "execution_count": 14,
   "metadata": {},
   "outputs": [
    {
     "data": {
      "text/plain": [
       "25"
      ]
     },
     "execution_count": 14,
     "metadata": {},
     "output_type": "execute_result"
    }
   ],
   "source": [
    "def power_of(x, power=2):\n",
    "    return x ** power\n",
    "\n",
    "# without specifying the exponent it will use 2: 5**2\n",
    "power_of(5)"
   ]
  },
  {
   "cell_type": "code",
   "execution_count": 15,
   "metadata": {},
   "outputs": [
    {
     "data": {
      "text/plain": [
       "125"
      ]
     },
     "execution_count": 15,
     "metadata": {},
     "output_type": "execute_result"
    }
   ],
   "source": [
    "# when specifying the exponent\n",
    "power_of(5, 3)"
   ]
  },
  {
   "attachments": {},
   "cell_type": "markdown",
   "metadata": {},
   "source": [
    "#### Exercise 4\n",
    "\n",
    "Create a function that receives a temperature and which system it is referred to (Celsius or Fahrenheit), and converts it to the other system. \n",
    "\n",
    "Use Celsius as the default system."
   ]
  },
  {
   "cell_type": "code",
   "execution_count": 17,
   "metadata": {},
   "outputs": [],
   "source": [
    "def temp_conversion(temperature, system):\n",
    "    return None"
   ]
  },
  {
   "attachments": {},
   "cell_type": "markdown",
   "metadata": {},
   "source": [
    "#### Exercise 5\n",
    "\n",
    "Create a function that receives two lists, and returns a dictionary containing the elements of the first list as keys, and the elements of the second list as values.\n",
    "\n",
    "The list should include a parameter with which we can change which list is the key and which is the value, but the default should be the first list as keys and the second as values."
   ]
  },
  {
   "cell_type": "code",
   "execution_count": 16,
   "metadata": {},
   "outputs": [],
   "source": [
    "def dict_from_lists(list1, list2, order_param):\n",
    "    return None"
   ]
  },
  {
   "attachments": {},
   "cell_type": "markdown",
   "metadata": {},
   "source": [
    "### Lambda functions\n",
    "\n",
    "Lambda functions are a way to create functions without using the `def` keyword. They are useful when we need to create a function that we will only use once, or when we need to pass a function as an argument to another function.\n",
    "\n",
    "```python\n",
    "lambda x: x ** 2\n",
    "```\n",
    "\n",
    "This functions are very useful, for example when using `map`, `filter` or `reduce`.\n",
    "* `map` applies a function to each element of a list\n",
    "* `filter` filters a list according to a function. The function must return `True` or `False`\n",
    "* `reduce` applies a function to a list, accumulating the result"
   ]
  },
  {
   "cell_type": "code",
   "execution_count": 9,
   "metadata": {
    "ExecuteTime": {
     "end_time": "2023-06-08T19:01:48.604246900Z",
     "start_time": "2023-06-08T19:01:48.591971200Z"
    }
   },
   "outputs": [
    {
     "data": {
      "text/plain": "[1, 4, 27, 16, 125]"
     },
     "execution_count": 9,
     "metadata": {},
     "output_type": "execute_result"
    }
   ],
   "source": [
    "# map\n",
    "\n",
    "my_list = [1, 2, 3, 4, 5]\n",
    "\n",
    "list(map(lambda v: v**2 if v % 2 == 0 else v**3, my_list))"
   ]
  },
  {
   "cell_type": "code",
   "execution_count": 21,
   "metadata": {},
   "outputs": [
    {
     "data": {
      "text/plain": [
       "[2, 4]"
      ]
     },
     "execution_count": 21,
     "metadata": {},
     "output_type": "execute_result"
    }
   ],
   "source": [
    "# filter\n",
    "\n",
    "list(filter(lambda v: v % 2 == 0, my_list))"
   ]
  },
  {
   "cell_type": "code",
   "execution_count": 22,
   "metadata": {},
   "outputs": [
    {
     "data": {
      "text/plain": [
       "15"
      ]
     },
     "execution_count": 22,
     "metadata": {},
     "output_type": "execute_result"
    }
   ],
   "source": [
    "# reduce\n",
    "\n",
    "from functools import reduce\n",
    "\n",
    "reduce(lambda x, y: x + y, my_list)"
   ]
  },
  {
   "attachments": {},
   "cell_type": "markdown",
   "metadata": {},
   "source": [
    "#### Exercise 6\n",
    "\n",
    "* Use `map` to create a list of strings with the following condition: if the length of the word is even use `lower()`, and if it's odd use `upper()`.\n",
    "* Use `filter` on a list of numbers if they're divisible by 3 and 5\n",
    "* Use `reduce` to calculate the factorial of a number"
   ]
  },
  {
   "cell_type": "code",
   "execution_count": 19,
   "metadata": {
    "ExecuteTime": {
     "end_time": "2023-06-08T19:10:06.777598100Z",
     "start_time": "2023-06-08T19:10:06.765064800Z"
    }
   },
   "outputs": [
    {
     "name": "stdout",
     "output_type": "stream",
     "text": [
      "['test', 'TEST2', 'moretest', 'LASTONE']\n",
      "[15, 30]\n"
     ]
    },
    {
     "data": {
      "text/plain": "120"
     },
     "execution_count": 19,
     "metadata": {},
     "output_type": "execute_result"
    }
   ],
   "source": [
    "# 6.1\n",
    "words = ['test', 'test2', 'moretest', 'lastone']\n",
    "print(list(map(lambda x: x.lower() if len(x) % 2 == 0 else x.upper(), words)))\n",
    "# 6.2\n",
    "numbers = [15,5,25,7,30]\n",
    "print(list(filter(lambda x: x if x % 3 == 0 and x % 5 == 0 else None, numbers)))\n",
    "# 6.3\n",
    "from functools import reduce\n",
    "number = 5\n",
    "reduce(lambda x, y: x * y, range(1, number+1))"
   ]
  },
  {
   "attachments": {},
   "cell_type": "markdown",
   "metadata": {},
   "source": [
    "#### Bonus track: recursion\n",
    "\n",
    "Recursion is a way to solve a problem by solving a smaller version of the same problem, until we reach a base case. The base case is the smallest version of the problem that we can solve without using recursion."
   ]
  },
  {
   "cell_type": "code",
   "execution_count": 24,
   "metadata": {},
   "outputs": [
    {
     "data": {
      "text/plain": [
       "120"
      ]
     },
     "execution_count": 24,
     "metadata": {},
     "output_type": "execute_result"
    }
   ],
   "source": [
    "# using recursion to calculate the factorial of a number\n",
    "def factorial(n):\n",
    "    if n == 1:\n",
    "        return 1\n",
    "    else:\n",
    "        return n * factorial(n - 1)\n",
    "\n",
    "factorial(5)"
   ]
  },
  {
   "cell_type": "code",
   "execution_count": 31,
   "metadata": {},
   "outputs": [
    {
     "data": {
      "text/plain": [
       "[0, 1, 1, 2, 3]"
      ]
     },
     "execution_count": 31,
     "metadata": {},
     "output_type": "execute_result"
    }
   ],
   "source": [
    "# using recursion to see the fibonacci sequence\n",
    "\n",
    "def fibonacci_list(n):\n",
    "    if n == 1:\n",
    "        return [0]\n",
    "    elif n == 2:\n",
    "        return [0, 1]\n",
    "    else:\n",
    "        my_list = fibonacci_list(n - 1)\n",
    "        my_list.append(my_list[-1] + my_list[-2])\n",
    "        return my_list\n",
    "\n",
    "fibonacci_list(5)"
   ]
  }
 ],
 "metadata": {
  "kernelspec": {
   "display_name": "pda1",
   "language": "python",
   "name": "python3"
  },
  "language_info": {
   "codemirror_mode": {
    "name": "ipython",
    "version": 3
   },
   "file_extension": ".py",
   "mimetype": "text/x-python",
   "name": "python",
   "nbconvert_exporter": "python",
   "pygments_lexer": "ipython3",
   "version": "3.9.16"
  },
  "orig_nbformat": 4,
  "vscode": {
   "interpreter": {
    "hash": "d246aa15fe447bec9cf17f70958fc89a6642f64402da677f834b9f12b3c7ca3d"
   }
  }
 },
 "nbformat": 4,
 "nbformat_minor": 2
}
