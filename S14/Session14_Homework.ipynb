{
 "cells": [
  {
   "cell_type": "markdown",
   "metadata": {},
   "source": [
    "## Session 14 Homework "
   ]
  },
  {
   "cell_type": "markdown",
   "metadata": {},
   "source": [
    "### Using `json` files in Python\n",
    "\n",
    "After learning the context manager, we can now use it to read and write `json` files alongside the `json` module.\n",
    "\n",
    "#### 1. Reading `json` files\n",
    "\n",
    "In Python we can use the `json` module to read and write `json` files. But first we need to understand what `json` is.\n",
    "\n",
    "A JSON file is a file that stores simple data structures and objects in JavaScript Object Notation (JSON) format, which is a standard data interchange format. It is primarily used for transmitting data between a web application and a server. JSON files are lightweight, text-based, human-readable, and can be edited using a text editor.\n",
    "\n",
    "We have to import the `json` module to use it.\n",
    "\n",
    "```python\n",
    "import json\n",
    "```\n",
    "\n",
    "Once we have it installed, we can use the `json.load()` function to read a `json` file.\n",
    "\n",
    "```python\n",
    "with open('data.json', 'r') as f:\n",
    "    data = json.load(f)\n",
    "```"
   ]
  },
  {
   "cell_type": "code",
   "execution_count": 6,
   "metadata": {
    "ExecuteTime": {
     "end_time": "2023-07-04T14:23:19.755295Z",
     "start_time": "2023-07-04T14:23:19.744378300Z"
    }
   },
   "outputs": [],
   "source": [
    "import json\n",
    "\n",
    "with open('spotify.json', 'r', encoding='utf-8') as f:\n",
    "    data = json.load(f)"
   ]
  },
  {
   "cell_type": "markdown",
   "metadata": {},
   "source": [
    "If we take a peek at the file, we can see that in this case, the `json` file contains a list of dictionaries.\n",
    "\n",
    "Since we learned that we can take a list of dictionaries and save it as a pandas dataframe, we can do the same with the `json` file.\n"
   ]
  },
  {
   "cell_type": "code",
   "execution_count": 7,
   "metadata": {
    "ExecuteTime": {
     "end_time": "2023-07-04T14:23:21.464459700Z",
     "start_time": "2023-07-04T14:23:20.570231400Z"
    }
   },
   "outputs": [
    {
     "data": {
      "text/plain": "            endTime  artistName          trackName  msPlayed\n0  2021-03-03 09:44  C. Tangana        Nunca Estoy    162493\n1  2021-03-03 09:49  C. Tangana    Párteme La Cara    167866\n2  2021-03-03 09:52  C. Tangana       Ingobernable    187053\n3  2021-03-03 09:53  C. Tangana            Nominao     85674\n4  2021-03-03 09:56  C. Tangana  Un Veneno - G-Mix    193693",
      "text/html": "<div>\n<style scoped>\n    .dataframe tbody tr th:only-of-type {\n        vertical-align: middle;\n    }\n\n    .dataframe tbody tr th {\n        vertical-align: top;\n    }\n\n    .dataframe thead th {\n        text-align: right;\n    }\n</style>\n<table border=\"1\" class=\"dataframe\">\n  <thead>\n    <tr style=\"text-align: right;\">\n      <th></th>\n      <th>endTime</th>\n      <th>artistName</th>\n      <th>trackName</th>\n      <th>msPlayed</th>\n    </tr>\n  </thead>\n  <tbody>\n    <tr>\n      <th>0</th>\n      <td>2021-03-03 09:44</td>\n      <td>C. Tangana</td>\n      <td>Nunca Estoy</td>\n      <td>162493</td>\n    </tr>\n    <tr>\n      <th>1</th>\n      <td>2021-03-03 09:49</td>\n      <td>C. Tangana</td>\n      <td>Párteme La Cara</td>\n      <td>167866</td>\n    </tr>\n    <tr>\n      <th>2</th>\n      <td>2021-03-03 09:52</td>\n      <td>C. Tangana</td>\n      <td>Ingobernable</td>\n      <td>187053</td>\n    </tr>\n    <tr>\n      <th>3</th>\n      <td>2021-03-03 09:53</td>\n      <td>C. Tangana</td>\n      <td>Nominao</td>\n      <td>85674</td>\n    </tr>\n    <tr>\n      <th>4</th>\n      <td>2021-03-03 09:56</td>\n      <td>C. Tangana</td>\n      <td>Un Veneno - G-Mix</td>\n      <td>193693</td>\n    </tr>\n  </tbody>\n</table>\n</div>"
     },
     "execution_count": 7,
     "metadata": {},
     "output_type": "execute_result"
    }
   ],
   "source": [
    "import pandas as pd\n",
    "\n",
    "df = pd.DataFrame(data)\n",
    "df.head()"
   ]
  },
  {
   "cell_type": "markdown",
   "metadata": {},
   "source": [
    "This file contains 4 columns:\n",
    "\n",
    "* `endTime` - the time the play ended\n",
    "* `artistName` - the name of the artist\n",
    "* `trackName` - the name of the track\n",
    "* `msPlayed` - the length of the track in milliseconds"
   ]
  },
  {
   "cell_type": "markdown",
   "metadata": {},
   "source": [
    "### Exercise 1\n",
    "\n",
    "Using `groupby`, find the total number of milliseconds played by each artist, and order them from most to least played."
   ]
  },
  {
   "cell_type": "code",
   "execution_count": 8,
   "metadata": {
    "ExecuteTime": {
     "end_time": "2023-07-04T14:23:23.158467300Z",
     "start_time": "2023-07-04T14:23:23.111025500Z"
    }
   },
   "outputs": [
    {
     "data": {
      "text/plain": "artistName\nTame Impala            69056722\nNujabes                47705726\nZOO                    41212084\nLos Chikos del Maiz    27667451\nC. Tangana             25543931\n                         ...   \nKesha                         0\nLeona Lewis                   0\nMorgan Wallen                 0\nOne Direction                 0\nLady Gaga                     0\nName: msPlayed, Length: 618, dtype: int64"
     },
     "execution_count": 8,
     "metadata": {},
     "output_type": "execute_result"
    }
   ],
   "source": [
    "df.groupby('artistName')['msPlayed'].sum().sort_values(ascending=False)"
   ]
  },
  {
   "cell_type": "markdown",
   "metadata": {},
   "source": [
    "### Exercise 2\n",
    "\n",
    "Using `groupby`, find the total number of milliseconds played by each track, and order them from most to least played."
   ]
  },
  {
   "cell_type": "code",
   "execution_count": 9,
   "metadata": {
    "ExecuteTime": {
     "end_time": "2023-07-04T14:23:25.775364200Z",
     "start_time": "2023-07-04T14:23:25.762823100Z"
    }
   },
   "outputs": [
    {
     "data": {
      "text/plain": "trackName\nAvant                     5588921\nLlepolies                 5366454\nNo Es País para Viejos    4703974\nDavid Simon               4531009\nSereno                    4433020\n                           ...   \nWe Found Love                   0\nYour Love Is My Drug            0\nLove On Top                     0\nDown On Me                      0\nBad Romance                     0\nName: msPlayed, Length: 1495, dtype: int64"
     },
     "execution_count": 9,
     "metadata": {},
     "output_type": "execute_result"
    }
   ],
   "source": [
    "df.groupby('trackName')['msPlayed'].sum().sort_values(ascending=False)"
   ]
  },
  {
   "cell_type": "markdown",
   "metadata": {},
   "source": [
    "### Date and time in Python and pandas\n",
    "\n",
    "Since we have a column that represents a datetime, we can take advantage of that and use that information to create new columns.\n",
    "\n",
    "First, we need to convert the `endTime` column to a datetime object.\n",
    "\n",
    "```python\n",
    "df['endTime'] = pd.to_datetime(df['endTime'])\n",
    "```\n",
    "\n"
   ]
  },
  {
   "cell_type": "code",
   "execution_count": 10,
   "metadata": {
    "ExecuteTime": {
     "end_time": "2023-07-04T14:23:27.146840700Z",
     "start_time": "2023-07-04T14:23:27.136335100Z"
    }
   },
   "outputs": [],
   "source": [
    "df['endTime'] = pd.to_datetime(df['endTime'])"
   ]
  },
  {
   "cell_type": "markdown",
   "metadata": {},
   "source": [
    "From this object we can extract several pieces of information:\n",
    "\n",
    "* `year`\n",
    "* `month`\n",
    "* `day`\n",
    "* `hour`\n",
    "* `minute`\n",
    "* `weekday`\n",
    "..."
   ]
  },
  {
   "cell_type": "code",
   "execution_count": 11,
   "metadata": {
    "ExecuteTime": {
     "end_time": "2023-07-04T14:23:28.336777100Z",
     "start_time": "2023-07-04T14:23:28.319408500Z"
    }
   },
   "outputs": [
    {
     "data": {
      "text/plain": "              endTime  artistName          trackName  msPlayed  year  month  \\\n0 2021-03-03 09:44:00  C. Tangana        Nunca Estoy    162493  2021      3   \n1 2021-03-03 09:49:00  C. Tangana    Párteme La Cara    167866  2021      3   \n2 2021-03-03 09:52:00  C. Tangana       Ingobernable    187053  2021      3   \n3 2021-03-03 09:53:00  C. Tangana            Nominao     85674  2021      3   \n4 2021-03-03 09:56:00  C. Tangana  Un Veneno - G-Mix    193693  2021      3   \n\n   day  hour  minute  weekday  \n0    3     9      44        2  \n1    3     9      49        2  \n2    3     9      52        2  \n3    3     9      53        2  \n4    3     9      56        2  ",
      "text/html": "<div>\n<style scoped>\n    .dataframe tbody tr th:only-of-type {\n        vertical-align: middle;\n    }\n\n    .dataframe tbody tr th {\n        vertical-align: top;\n    }\n\n    .dataframe thead th {\n        text-align: right;\n    }\n</style>\n<table border=\"1\" class=\"dataframe\">\n  <thead>\n    <tr style=\"text-align: right;\">\n      <th></th>\n      <th>endTime</th>\n      <th>artistName</th>\n      <th>trackName</th>\n      <th>msPlayed</th>\n      <th>year</th>\n      <th>month</th>\n      <th>day</th>\n      <th>hour</th>\n      <th>minute</th>\n      <th>weekday</th>\n    </tr>\n  </thead>\n  <tbody>\n    <tr>\n      <th>0</th>\n      <td>2021-03-03 09:44:00</td>\n      <td>C. Tangana</td>\n      <td>Nunca Estoy</td>\n      <td>162493</td>\n      <td>2021</td>\n      <td>3</td>\n      <td>3</td>\n      <td>9</td>\n      <td>44</td>\n      <td>2</td>\n    </tr>\n    <tr>\n      <th>1</th>\n      <td>2021-03-03 09:49:00</td>\n      <td>C. Tangana</td>\n      <td>Párteme La Cara</td>\n      <td>167866</td>\n      <td>2021</td>\n      <td>3</td>\n      <td>3</td>\n      <td>9</td>\n      <td>49</td>\n      <td>2</td>\n    </tr>\n    <tr>\n      <th>2</th>\n      <td>2021-03-03 09:52:00</td>\n      <td>C. Tangana</td>\n      <td>Ingobernable</td>\n      <td>187053</td>\n      <td>2021</td>\n      <td>3</td>\n      <td>3</td>\n      <td>9</td>\n      <td>52</td>\n      <td>2</td>\n    </tr>\n    <tr>\n      <th>3</th>\n      <td>2021-03-03 09:53:00</td>\n      <td>C. Tangana</td>\n      <td>Nominao</td>\n      <td>85674</td>\n      <td>2021</td>\n      <td>3</td>\n      <td>3</td>\n      <td>9</td>\n      <td>53</td>\n      <td>2</td>\n    </tr>\n    <tr>\n      <th>4</th>\n      <td>2021-03-03 09:56:00</td>\n      <td>C. Tangana</td>\n      <td>Un Veneno - G-Mix</td>\n      <td>193693</td>\n      <td>2021</td>\n      <td>3</td>\n      <td>3</td>\n      <td>9</td>\n      <td>56</td>\n      <td>2</td>\n    </tr>\n  </tbody>\n</table>\n</div>"
     },
     "execution_count": 11,
     "metadata": {},
     "output_type": "execute_result"
    }
   ],
   "source": [
    "df['year'] = df['endTime'].dt.year\n",
    "df['month'] = df['endTime'].dt.month\n",
    "df['day'] = df['endTime'].dt.day\n",
    "df['hour'] = df['endTime'].dt.hour\n",
    "df['minute'] = df['endTime'].dt.minute\n",
    "df['weekday'] = df['endTime'].dt.weekday\n",
    "\n",
    "df.head()"
   ]
  },
  {
   "cell_type": "markdown",
   "metadata": {},
   "source": [
    "### Exercise 3\n",
    "\n",
    "Which is the most played artist in each month?"
   ]
  },
  {
   "cell_type": "code",
   "execution_count": 12,
   "metadata": {
    "ExecuteTime": {
     "end_time": "2023-07-04T14:23:30.282841100Z",
     "start_time": "2023-07-04T14:23:30.231463200Z"
    }
   },
   "outputs": [
    {
     "data": {
      "text/plain": "        artistName  msPlayed\nmonth                       \n3      Tame Impala  46887141\n4              ZOO  37454211\n5        Altin Gün   6688595\n6       C. Tangana   4609679\n7              ZOO     12887",
      "text/html": "<div>\n<style scoped>\n    .dataframe tbody tr th:only-of-type {\n        vertical-align: middle;\n    }\n\n    .dataframe tbody tr th {\n        vertical-align: top;\n    }\n\n    .dataframe thead th {\n        text-align: right;\n    }\n</style>\n<table border=\"1\" class=\"dataframe\">\n  <thead>\n    <tr style=\"text-align: right;\">\n      <th></th>\n      <th>artistName</th>\n      <th>msPlayed</th>\n    </tr>\n    <tr>\n      <th>month</th>\n      <th></th>\n      <th></th>\n    </tr>\n  </thead>\n  <tbody>\n    <tr>\n      <th>3</th>\n      <td>Tame Impala</td>\n      <td>46887141</td>\n    </tr>\n    <tr>\n      <th>4</th>\n      <td>ZOO</td>\n      <td>37454211</td>\n    </tr>\n    <tr>\n      <th>5</th>\n      <td>Altin Gün</td>\n      <td>6688595</td>\n    </tr>\n    <tr>\n      <th>6</th>\n      <td>C. Tangana</td>\n      <td>4609679</td>\n    </tr>\n    <tr>\n      <th>7</th>\n      <td>ZOO</td>\n      <td>12887</td>\n    </tr>\n  </tbody>\n</table>\n</div>"
     },
     "execution_count": 12,
     "metadata": {},
     "output_type": "execute_result"
    }
   ],
   "source": [
    "data = df.groupby(['month', 'artistName'])['msPlayed'].sum()\n",
    "data.reset_index().groupby('month').apply(lambda x: x.loc[x['msPlayed'].idxmax()][['artistName', 'msPlayed']])"
   ]
  },
  {
   "cell_type": "code",
   "execution_count": 16,
   "outputs": [
    {
     "data": {
      "text/plain": "                   msPlayed\nmonth artistName           \n3     Tame Impala  46887141\n4     ZOO          37454211\n5     Altin Gün     6688595\n6     C. Tangana    4609679\n7     ZOO             12887",
      "text/html": "<div>\n<style scoped>\n    .dataframe tbody tr th:only-of-type {\n        vertical-align: middle;\n    }\n\n    .dataframe tbody tr th {\n        vertical-align: top;\n    }\n\n    .dataframe thead th {\n        text-align: right;\n    }\n</style>\n<table border=\"1\" class=\"dataframe\">\n  <thead>\n    <tr style=\"text-align: right;\">\n      <th></th>\n      <th></th>\n      <th>msPlayed</th>\n    </tr>\n    <tr>\n      <th>month</th>\n      <th>artistName</th>\n      <th></th>\n    </tr>\n  </thead>\n  <tbody>\n    <tr>\n      <th>3</th>\n      <th>Tame Impala</th>\n      <td>46887141</td>\n    </tr>\n    <tr>\n      <th>4</th>\n      <th>ZOO</th>\n      <td>37454211</td>\n    </tr>\n    <tr>\n      <th>5</th>\n      <th>Altin Gün</th>\n      <td>6688595</td>\n    </tr>\n    <tr>\n      <th>6</th>\n      <th>C. Tangana</th>\n      <td>4609679</td>\n    </tr>\n    <tr>\n      <th>7</th>\n      <th>ZOO</th>\n      <td>12887</td>\n    </tr>\n  </tbody>\n</table>\n</div>"
     },
     "execution_count": 16,
     "metadata": {},
     "output_type": "execute_result"
    }
   ],
   "source": [
    "df.groupby(['month', 'artistName'])[['msPlayed']].sum().sort_values(by='msPlayed', ascending=False).groupby('month').head(1)"
   ],
   "metadata": {
    "collapsed": false,
    "ExecuteTime": {
     "end_time": "2023-07-04T14:24:18.051354300Z",
     "start_time": "2023-07-04T14:24:18.020208700Z"
    }
   }
  },
  {
   "cell_type": "markdown",
   "metadata": {},
   "source": [
    "### Exercise 4\n",
    "\n",
    "Which was the month in which I listened to the most music?\n",
    "\n",
    "Which was the month in which I listened to the least music?"
   ]
  },
  {
   "cell_type": "code",
   "execution_count": 30,
   "metadata": {
    "ExecuteTime": {
     "end_time": "2023-06-28T12:55:45.740956Z",
     "start_time": "2023-06-28T12:55:45.732042Z"
    }
   },
   "outputs": [
    {
     "name": "stdout",
     "output_type": "stream",
     "text": [
      "Most: 3\n",
      "Least: 7\n"
     ]
    }
   ],
   "source": [
    "most = df.groupby('month')['msPlayed'].sum().idxmax()\n",
    "print('Most:', most)\n",
    "least = df.groupby('month')['msPlayed'].sum().idxmin()\n",
    "print('Least:', least)"
   ]
  },
  {
   "cell_type": "markdown",
   "metadata": {},
   "source": [
    "### Exercise 5\n",
    "\n",
    "Is there an hour of the day in which I listen to more music? \n",
    "\n",
    "Can you explain my behavior during the day according to the data?"
   ]
  },
  {
   "cell_type": "code",
   "execution_count": 49,
   "metadata": {
    "ExecuteTime": {
     "end_time": "2023-06-28T13:18:50.546976Z",
     "start_time": "2023-06-28T13:18:50.538239Z"
    }
   },
   "outputs": [
    {
     "name": "stdout",
     "output_type": "stream",
     "text": [
      "The hour you have listened to the most music is: 10\n",
      "hour\n",
      "6      2645428\n",
      "7     15670417\n",
      "8     46714257\n",
      "9     75319419\n",
      "10    85734763\n",
      "11    64086268\n",
      "12    35872671\n",
      "13    44293379\n",
      "14    41630345\n",
      "15    30577087\n",
      "16    26815662\n",
      "17    17349874\n",
      "18    15547053\n",
      "19    15992947\n",
      "20    12124229\n",
      "21     6041479\n",
      "22      260528\n",
      "23         944\n",
      "Name: msPlayed, dtype: int64 \n",
      "\n",
      "After analyzing the data, we conclude that as the hours go by you listen to more music until 10 o'clock, which is the peak, and it goes down progressively.\n"
     ]
    }
   ],
   "source": [
    "data = df.groupby('hour')['msPlayed'].sum()\n",
    "most = data.idxmax()\n",
    "print('The hour you have listened to the most music is:', most)\n",
    "print(data,'\\n')\n",
    "print('After analyzing the data, we conclude that as the hours go by you listen to more music until 10 o\\'clock, which is the peak, and it goes down progressively.')"
   ]
  }
 ],
 "metadata": {
  "kernelspec": {
   "display_name": "Python 3 (ipykernel)",
   "language": "python",
   "name": "python3"
  },
  "language_info": {
   "codemirror_mode": {
    "name": "ipython",
    "version": 3
   },
   "file_extension": ".py",
   "mimetype": "text/x-python",
   "name": "python",
   "nbconvert_exporter": "python",
   "pygments_lexer": "ipython3",
   "version": "3.10.11"
  }
 },
 "nbformat": 4,
 "nbformat_minor": 2
}
