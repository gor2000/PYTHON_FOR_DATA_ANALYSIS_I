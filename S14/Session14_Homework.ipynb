{
 "cells": [
  {
   "attachments": {},
   "cell_type": "markdown",
   "metadata": {},
   "source": [
    "## Session 14 Homework "
   ]
  },
  {
   "attachments": {},
   "cell_type": "markdown",
   "metadata": {},
   "source": [
    "### Using `json` files in Python\n",
    "\n",
    "After learning the context manager, we can now use it to read and write `json` files alongside the `json` module.\n",
    "\n",
    "#### 1. Reading `json` files\n",
    "\n",
    "In Python we can use the `json` module to read and write `json` files. But first we need to understand what `json` is.\n",
    "\n",
    "A JSON file is a file that stores simple data structures and objects in JavaScript Object Notation (JSON) format, which is a standard data interchange format. It is primarily used for transmitting data between a web application and a server. JSON files are lightweight, text-based, human-readable, and can be edited using a text editor.\n",
    "\n",
    "We have to import the `json` module to use it.\n",
    "\n",
    "```python\n",
    "import json\n",
    "```\n",
    "\n",
    "Once we have it installed, we can use the `json.load()` function to read a `json` file.\n",
    "\n",
    "```python\n",
    "with open('data.json', 'r') as f:\n",
    "    data = json.load(f)\n",
    "```"
   ]
  },
  {
   "cell_type": "code",
   "execution_count": 2,
   "metadata": {
    "ExecuteTime": {
     "end_time": "2023-06-27T14:45:04.350767Z",
     "start_time": "2023-06-27T14:45:04.340584Z"
    }
   },
   "outputs": [],
   "source": [
    "import json\n",
    "\n",
    "with open('spotify.json', 'r') as f:\n",
    "    data = json.load(f)"
   ]
  },
  {
   "attachments": {},
   "cell_type": "markdown",
   "metadata": {},
   "source": [
    "If we take a peek at the file, we can see that in this case, the `json` file contains a list of dictionaries.\n",
    "\n",
    "Since we learned that we can take a list of dictionaries and save it as a pandas dataframe, we can do the same with the `json` file.\n"
   ]
  },
  {
   "cell_type": "code",
   "execution_count": 4,
   "metadata": {
    "ExecuteTime": {
     "end_time": "2023-06-27T14:45:11.070914Z",
     "start_time": "2023-06-27T14:45:11.056847Z"
    }
   },
   "outputs": [
    {
     "data": {
      "text/plain": "            endTime  artistName          trackName  msPlayed\n0  2021-03-03 09:44  C. Tangana        Nunca Estoy    162493\n1  2021-03-03 09:49  C. Tangana    Párteme La Cara    167866\n2  2021-03-03 09:52  C. Tangana       Ingobernable    187053\n3  2021-03-03 09:53  C. Tangana            Nominao     85674\n4  2021-03-03 09:56  C. Tangana  Un Veneno - G-Mix    193693",
      "text/html": "<div>\n<style scoped>\n    .dataframe tbody tr th:only-of-type {\n        vertical-align: middle;\n    }\n\n    .dataframe tbody tr th {\n        vertical-align: top;\n    }\n\n    .dataframe thead th {\n        text-align: right;\n    }\n</style>\n<table border=\"1\" class=\"dataframe\">\n  <thead>\n    <tr style=\"text-align: right;\">\n      <th></th>\n      <th>endTime</th>\n      <th>artistName</th>\n      <th>trackName</th>\n      <th>msPlayed</th>\n    </tr>\n  </thead>\n  <tbody>\n    <tr>\n      <th>0</th>\n      <td>2021-03-03 09:44</td>\n      <td>C. Tangana</td>\n      <td>Nunca Estoy</td>\n      <td>162493</td>\n    </tr>\n    <tr>\n      <th>1</th>\n      <td>2021-03-03 09:49</td>\n      <td>C. Tangana</td>\n      <td>Párteme La Cara</td>\n      <td>167866</td>\n    </tr>\n    <tr>\n      <th>2</th>\n      <td>2021-03-03 09:52</td>\n      <td>C. Tangana</td>\n      <td>Ingobernable</td>\n      <td>187053</td>\n    </tr>\n    <tr>\n      <th>3</th>\n      <td>2021-03-03 09:53</td>\n      <td>C. Tangana</td>\n      <td>Nominao</td>\n      <td>85674</td>\n    </tr>\n    <tr>\n      <th>4</th>\n      <td>2021-03-03 09:56</td>\n      <td>C. Tangana</td>\n      <td>Un Veneno - G-Mix</td>\n      <td>193693</td>\n    </tr>\n  </tbody>\n</table>\n</div>"
     },
     "execution_count": 4,
     "metadata": {},
     "output_type": "execute_result"
    }
   ],
   "source": [
    "import pandas as pd\n",
    "\n",
    "df = pd.DataFrame(data)\n",
    "df.head()"
   ]
  },
  {
   "attachments": {},
   "cell_type": "markdown",
   "metadata": {},
   "source": [
    "This file contains 4 columns:\n",
    "\n",
    "* `endTime` - the time the play ended\n",
    "* `artistName` - the name of the artist\n",
    "* `trackName` - the name of the track\n",
    "* `msPlayed` - the length of the track in milliseconds"
   ]
  },
  {
   "attachments": {},
   "cell_type": "markdown",
   "metadata": {},
   "source": [
    "### Exercise 1\n",
    "\n",
    "Using `groupby`, find the total number of milliseconds played by each artist, and order them from most to least played."
   ]
  },
  {
   "cell_type": "code",
   "execution_count": 16,
   "metadata": {
    "ExecuteTime": {
     "end_time": "2023-06-27T14:53:53.953765Z",
     "start_time": "2023-06-27T14:53:53.946712Z"
    }
   },
   "outputs": [
    {
     "data": {
      "text/plain": "artistName\nTame Impala            69056722\nNujabes                47705726\nZOO                    41212084\nLos Chikos del Maiz    27667451\nC. Tangana             25543931\n                         ...   \nOne Direction                 0\nLeona Lewis                   0\nMorgan Wallen                 0\nUsher                         0\nKesha                         0\nName: msPlayed, Length: 618, dtype: int64"
     },
     "execution_count": 16,
     "metadata": {},
     "output_type": "execute_result"
    }
   ],
   "source": [
    "df.groupby('artistName')['msPlayed'].sum().sort_values(ascending=False)"
   ]
  },
  {
   "attachments": {},
   "cell_type": "markdown",
   "metadata": {},
   "source": [
    "### Exercise 2\n",
    "\n",
    "Using `groupby`, find the total number of milliseconds played by each track, and order them from most to least played."
   ]
  },
  {
   "cell_type": "code",
   "execution_count": null,
   "metadata": {},
   "outputs": [],
   "source": []
  },
  {
   "attachments": {},
   "cell_type": "markdown",
   "metadata": {},
   "source": [
    "### Date and time in Python and pandas\n",
    "\n",
    "Since we have a column that represents a datetime, we can take advantage of that and use that information to create new columns.\n",
    "\n",
    "First, we need to convert the `endTime` column to a datetime object.\n",
    "\n",
    "```python\n",
    "df['endTime'] = pd.to_datetime(df['endTime'])\n",
    "```\n",
    "\n"
   ]
  },
  {
   "cell_type": "code",
   "execution_count": 4,
   "metadata": {},
   "outputs": [],
   "source": [
    "df['endTime'] = pd.to_datetime(df['endTime'])"
   ]
  },
  {
   "attachments": {},
   "cell_type": "markdown",
   "metadata": {},
   "source": [
    "From this object we can extract several pieces of information:\n",
    "\n",
    "* `year`\n",
    "* `month`\n",
    "* `day`\n",
    "* `hour`\n",
    "* `minute`\n",
    "* `weekday`\n",
    "..."
   ]
  },
  {
   "cell_type": "code",
   "execution_count": 5,
   "metadata": {},
   "outputs": [
    {
     "data": {
      "text/html": [
       "<div>\n",
       "<style scoped>\n",
       "    .dataframe tbody tr th:only-of-type {\n",
       "        vertical-align: middle;\n",
       "    }\n",
       "\n",
       "    .dataframe tbody tr th {\n",
       "        vertical-align: top;\n",
       "    }\n",
       "\n",
       "    .dataframe thead th {\n",
       "        text-align: right;\n",
       "    }\n",
       "</style>\n",
       "<table border=\"1\" class=\"dataframe\">\n",
       "  <thead>\n",
       "    <tr style=\"text-align: right;\">\n",
       "      <th></th>\n",
       "      <th>endTime</th>\n",
       "      <th>artistName</th>\n",
       "      <th>trackName</th>\n",
       "      <th>msPlayed</th>\n",
       "      <th>year</th>\n",
       "      <th>month</th>\n",
       "      <th>day</th>\n",
       "      <th>hour</th>\n",
       "      <th>minute</th>\n",
       "      <th>weekday</th>\n",
       "    </tr>\n",
       "  </thead>\n",
       "  <tbody>\n",
       "    <tr>\n",
       "      <th>0</th>\n",
       "      <td>2021-03-03 09:44:00</td>\n",
       "      <td>C. Tangana</td>\n",
       "      <td>Nunca Estoy</td>\n",
       "      <td>162493</td>\n",
       "      <td>2021</td>\n",
       "      <td>3</td>\n",
       "      <td>3</td>\n",
       "      <td>9</td>\n",
       "      <td>44</td>\n",
       "      <td>2</td>\n",
       "    </tr>\n",
       "    <tr>\n",
       "      <th>1</th>\n",
       "      <td>2021-03-03 09:49:00</td>\n",
       "      <td>C. Tangana</td>\n",
       "      <td>Párteme La Cara</td>\n",
       "      <td>167866</td>\n",
       "      <td>2021</td>\n",
       "      <td>3</td>\n",
       "      <td>3</td>\n",
       "      <td>9</td>\n",
       "      <td>49</td>\n",
       "      <td>2</td>\n",
       "    </tr>\n",
       "    <tr>\n",
       "      <th>2</th>\n",
       "      <td>2021-03-03 09:52:00</td>\n",
       "      <td>C. Tangana</td>\n",
       "      <td>Ingobernable</td>\n",
       "      <td>187053</td>\n",
       "      <td>2021</td>\n",
       "      <td>3</td>\n",
       "      <td>3</td>\n",
       "      <td>9</td>\n",
       "      <td>52</td>\n",
       "      <td>2</td>\n",
       "    </tr>\n",
       "    <tr>\n",
       "      <th>3</th>\n",
       "      <td>2021-03-03 09:53:00</td>\n",
       "      <td>C. Tangana</td>\n",
       "      <td>Nominao</td>\n",
       "      <td>85674</td>\n",
       "      <td>2021</td>\n",
       "      <td>3</td>\n",
       "      <td>3</td>\n",
       "      <td>9</td>\n",
       "      <td>53</td>\n",
       "      <td>2</td>\n",
       "    </tr>\n",
       "    <tr>\n",
       "      <th>4</th>\n",
       "      <td>2021-03-03 09:56:00</td>\n",
       "      <td>C. Tangana</td>\n",
       "      <td>Un Veneno - G-Mix</td>\n",
       "      <td>193693</td>\n",
       "      <td>2021</td>\n",
       "      <td>3</td>\n",
       "      <td>3</td>\n",
       "      <td>9</td>\n",
       "      <td>56</td>\n",
       "      <td>2</td>\n",
       "    </tr>\n",
       "  </tbody>\n",
       "</table>\n",
       "</div>"
      ],
      "text/plain": [
       "              endTime  artistName          trackName  msPlayed  year  month  \\\n",
       "0 2021-03-03 09:44:00  C. Tangana        Nunca Estoy    162493  2021      3   \n",
       "1 2021-03-03 09:49:00  C. Tangana    Párteme La Cara    167866  2021      3   \n",
       "2 2021-03-03 09:52:00  C. Tangana       Ingobernable    187053  2021      3   \n",
       "3 2021-03-03 09:53:00  C. Tangana            Nominao     85674  2021      3   \n",
       "4 2021-03-03 09:56:00  C. Tangana  Un Veneno - G-Mix    193693  2021      3   \n",
       "\n",
       "   day  hour  minute  weekday  \n",
       "0    3     9      44        2  \n",
       "1    3     9      49        2  \n",
       "2    3     9      52        2  \n",
       "3    3     9      53        2  \n",
       "4    3     9      56        2  "
      ]
     },
     "execution_count": 5,
     "metadata": {},
     "output_type": "execute_result"
    }
   ],
   "source": [
    "df['year'] = df['endTime'].dt.year\n",
    "df['month'] = df['endTime'].dt.month\n",
    "df['day'] = df['endTime'].dt.day\n",
    "df['hour'] = df['endTime'].dt.hour\n",
    "df['minute'] = df['endTime'].dt.minute\n",
    "df['weekday'] = df['endTime'].dt.weekday\n",
    "\n",
    "df.head()"
   ]
  },
  {
   "attachments": {},
   "cell_type": "markdown",
   "metadata": {},
   "source": [
    "### Exercise 3\n",
    "\n",
    "Which is the most played artist in each month?"
   ]
  },
  {
   "cell_type": "code",
   "execution_count": null,
   "metadata": {},
   "outputs": [],
   "source": []
  },
  {
   "attachments": {},
   "cell_type": "markdown",
   "metadata": {},
   "source": [
    "### Exercise 4\n",
    "\n",
    "Which was the month in which I listened to the most music?\n",
    "\n",
    "Which was the month in which I listened to the least music?"
   ]
  },
  {
   "cell_type": "code",
   "execution_count": null,
   "metadata": {},
   "outputs": [],
   "source": []
  },
  {
   "attachments": {},
   "cell_type": "markdown",
   "metadata": {},
   "source": [
    "### Exercise 5\n",
    "\n",
    "Is there an hour of the day in which I listen to more music? \n",
    "\n",
    "Can you explain my behavior during the day according to the data?"
   ]
  },
  {
   "cell_type": "code",
   "execution_count": null,
   "metadata": {},
   "outputs": [],
   "source": []
  }
 ],
 "metadata": {
  "kernelspec": {
   "display_name": "base",
   "language": "python",
   "name": "python3"
  },
  "language_info": {
   "codemirror_mode": {
    "name": "ipython",
    "version": 3
   },
   "file_extension": ".py",
   "mimetype": "text/x-python",
   "name": "python",
   "nbconvert_exporter": "python",
   "pygments_lexer": "ipython3",
   "version": "3.10.9"
  },
  "orig_nbformat": 4
 },
 "nbformat": 4,
 "nbformat_minor": 2
}
