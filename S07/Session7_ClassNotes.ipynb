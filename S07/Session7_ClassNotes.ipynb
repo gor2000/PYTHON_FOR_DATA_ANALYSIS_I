{
 "cells": [
  {
   "attachments": {},
   "cell_type": "markdown",
   "metadata": {},
   "source": [
    "## Session 7:  Sets, Dictionaries, and comprehensions\n",
    "\n",
    "### Sets\n",
    "Sets are another data structure in Python.  They are similar to lists, but they are unordered and do not allow duplicates.  Sets are created using curly braces, and the elements are separated by commas.  Sets are unordered, so the order of the elements is not guaranteed.\n",
    "\n",
    "```python\n",
    "my_set = {1, 2, 3, 4, 5}\n",
    "```"
   ]
  },
  {
   "cell_type": "code",
   "execution_count": 43,
   "metadata": {},
   "outputs": [
    {
     "name": "stdout",
     "output_type": "stream",
     "text": [
      "{1, 2, 3, 4, 5}\n"
     ]
    }
   ],
   "source": [
    "my_set = {1, 2, 3, 3, 3, 4, 5}\n",
    "\n",
    "print(my_set)"
   ]
  },
  {
   "attachments": {},
   "cell_type": "markdown",
   "metadata": {},
   "source": [
    "We can also create a set from a list.  This is useful if we want to remove duplicates from a list.\n",
    "\n",
    "```python\n",
    "my_list = [1, 2, 3, 4, 5, 1, 2, 3]\n",
    "my_set = set(my_list)\n",
    "```"
   ]
  },
  {
   "cell_type": "code",
   "execution_count": 44,
   "metadata": {},
   "outputs": [
    {
     "name": "stdout",
     "output_type": "stream",
     "text": [
      "{1, 2, 3, 4, 5}\n"
     ]
    }
   ],
   "source": [
    "list_with_duplicates = [1, 2, 3, 3, 3, 4, 5]\n",
    "\n",
    "set_without_duplicates = set(list_with_duplicates)\n",
    "\n",
    "print(set_without_duplicates)"
   ]
  },
  {
   "attachments": {},
   "cell_type": "markdown",
   "metadata": {},
   "source": [
    "We can add elements to a set using the `add()` method.\n",
    "\n",
    "```python\n",
    "my_set.add(6)\n",
    "```"
   ]
  },
  {
   "cell_type": "code",
   "execution_count": 46,
   "metadata": {},
   "outputs": [
    {
     "name": "stdout",
     "output_type": "stream",
     "text": [
      "{1, 2, 3, 4, 5}\n",
      "{1, 2, 3, 4, 5, 6}\n"
     ]
    }
   ],
   "source": [
    "my_set.add(1)\n",
    "\n",
    "print(my_set)\n",
    "\n",
    "my_set.add(6)\n",
    "\n",
    "print(my_set)"
   ]
  },
  {
   "attachments": {},
   "cell_type": "markdown",
   "metadata": {},
   "source": [
    "### Dictionaries\n",
    "Dictionaries in Python are another data structure, also known as key-value pairs.\n",
    "\n",
    "They are similar to lists, but instead of using an index to access the data, you use a key. The key can be any immutable data type, such as a string, integer, or tuple. The value can be any data type, including lists, tuples, dictionaries, or even functions. \n",
    "\n",
    "In dictionaries, the key must be unique, but the value can be duplicated.\n",
    "\n",
    "Dictionaries are created using curly braces, and the key and value are separated by a colon. Multiple key-value pairs are separated by commas.  Dictionaries are unordered, so the order of the key-value pairs is not guaranteed.\n",
    "\n",
    "```python\n",
    "my_dict = {'key1': 'value1', 'key2': 'value2'}\n",
    "```"
   ]
  },
  {
   "cell_type": "code",
   "execution_count": 1,
   "metadata": {},
   "outputs": [],
   "source": [
    "my_dict = {\n",
    "    \"a\": 1,\n",
    "    \"b\": 2,\n",
    "    \"c\": 3\n",
    "}"
   ]
  },
  {
   "cell_type": "code",
   "execution_count": 2,
   "metadata": {},
   "outputs": [
    {
     "data": {
      "text/plain": [
       "1"
      ]
     },
     "execution_count": 2,
     "metadata": {},
     "output_type": "execute_result"
    }
   ],
   "source": [
    "my_dict[\"a\"]"
   ]
  },
  {
   "attachments": {},
   "cell_type": "markdown",
   "metadata": {},
   "source": [
    "We can access the keys and values of a dictionary using the `keys()` and `values()` methods, respectively."
   ]
  },
  {
   "cell_type": "code",
   "execution_count": 3,
   "metadata": {},
   "outputs": [
    {
     "name": "stdout",
     "output_type": "stream",
     "text": [
      "dict_keys(['a', 'b', 'c'])\n"
     ]
    }
   ],
   "source": [
    "keys = my_dict.keys()\n",
    "\n",
    "print(keys)"
   ]
  },
  {
   "cell_type": "code",
   "execution_count": 4,
   "metadata": {},
   "outputs": [
    {
     "name": "stdout",
     "output_type": "stream",
     "text": [
      "dict_values([1, 2, 3])\n"
     ]
    }
   ],
   "source": [
    "values = my_dict.values()\n",
    "\n",
    "print(values)"
   ]
  },
  {
   "attachments": {},
   "cell_type": "markdown",
   "metadata": {},
   "source": [
    "With `items()` we can access both the keys and values of a dictionary.\n",
    "\n",
    "```python\n",
    "my_dict.items()\n",
    "```"
   ]
  },
  {
   "cell_type": "code",
   "execution_count": 5,
   "metadata": {},
   "outputs": [
    {
     "data": {
      "text/plain": [
       "dict_items([('a', 1), ('b', 2), ('c', 3)])"
      ]
     },
     "execution_count": 5,
     "metadata": {},
     "output_type": "execute_result"
    }
   ],
   "source": [
    "my_dict.items()"
   ]
  },
  {
   "attachments": {},
   "cell_type": "markdown",
   "metadata": {},
   "source": [
    "When extracting the value of a specific key, if the key doesn't exist, an error will be thrown. To avoid this, we can use the `get()` method, which will return `None` if the key doesn't exist.\n",
    "\n",
    "```python\n",
    "my_dict.get('key1')\n",
    "```"
   ]
  },
  {
   "cell_type": "code",
   "execution_count": 8,
   "metadata": {},
   "outputs": [
    {
     "ename": "KeyError",
     "evalue": "'d'",
     "output_type": "error",
     "traceback": [
      "\u001b[0;31m---------------------------------------------------------------------------\u001b[0m",
      "\u001b[0;31mKeyError\u001b[0m                                  Traceback (most recent call last)",
      "Cell \u001b[0;32mIn[8], line 1\u001b[0m\n\u001b[0;32m----> 1\u001b[0m \u001b[39mprint\u001b[39m(my_dict[\u001b[39m\"\u001b[39;49m\u001b[39md\u001b[39;49m\u001b[39m\"\u001b[39;49m])\n",
      "\u001b[0;31mKeyError\u001b[0m: 'd'"
     ]
    }
   ],
   "source": [
    "print(my_dict[\"d\"])"
   ]
  },
  {
   "cell_type": "code",
   "execution_count": 9,
   "metadata": {},
   "outputs": [
    {
     "name": "stdout",
     "output_type": "stream",
     "text": [
      "None\n"
     ]
    }
   ],
   "source": [
    "print(my_dict.get(\"d\"))"
   ]
  },
  {
   "attachments": {},
   "cell_type": "markdown",
   "metadata": {},
   "source": [
    "We can include many types of data in a dictionary, including lists, tuples, and even other dictionaries."
   ]
  },
  {
   "cell_type": "code",
   "execution_count": 10,
   "metadata": {},
   "outputs": [
    {
     "name": "stdout",
     "output_type": "stream",
     "text": [
      "[1, 2, 3]\n"
     ]
    }
   ],
   "source": [
    "dict_of_lists = {\n",
    "    \"first_list\": [1, 2, 3],\n",
    "    \"second_list\": [4, 5, 6],\n",
    "    \"third_list\": [7, 8, 9]\n",
    "}\n",
    "\n",
    "print(dict_of_lists[\"first_list\"])"
   ]
  },
  {
   "attachments": {},
   "cell_type": "markdown",
   "metadata": {},
   "source": [
    "#### Exercise 1\n",
    "\n",
    "Extract the second element of each value in the following dictionary:\n",
    "\n",
    "```python\n",
    "my_dict = {'key1': [1, 2, 3], 'key2': [4, 5, 6], 'key3': [7, 8, 9]}\n",
    "```\n",
    "\n",
    "and save in a list."
   ]
  },
  {
   "cell_type": "code",
   "execution_count": 11,
   "metadata": {},
   "outputs": [
    {
     "name": "stdout",
     "output_type": "stream",
     "text": [
      "[2, 5, 8]\n"
     ]
    }
   ],
   "source": [
    "new_list = []\n",
    "\n",
    "for key, value in dict_of_lists.items():\n",
    "    new_list.append(value[1])\n",
    "\n",
    "print(new_list)"
   ]
  },
  {
   "attachments": {},
   "cell_type": "markdown",
   "metadata": {},
   "source": [
    "We can also build a dictionary out of existing data structures, such as lists. For example, we can use the `zip()` function to combine two lists into a dictionary.\n",
    "\n",
    "```python\n",
    "keys = ['key1', 'key2', 'key3']\n",
    "values = [1, 2, 3]\n",
    "\n",
    "my_dict = dict(zip(keys, values))\n",
    "```"
   ]
  },
  {
   "cell_type": "code",
   "execution_count": 12,
   "metadata": {},
   "outputs": [
    {
     "name": "stdout",
     "output_type": "stream",
     "text": [
      "{1: 'a', 2: 'b', 3: 'c', 4: 'd', 5: 'e'}\n"
     ]
    }
   ],
   "source": [
    "the_keys = [1, 2, 3, 4, 5]\n",
    "the_values = [\"a\", \"b\", \"c\", \"d\", \"e\"]\n",
    "\n",
    "new_dict = dict(zip(the_keys, the_values))\n",
    "\n",
    "print(new_dict)"
   ]
  },
  {
   "attachments": {},
   "cell_type": "markdown",
   "metadata": {},
   "source": [
    "You can see, that just like `list()`, `dict()` is a function that takes an iterable as an argument, but the iterable must contain tuples of key-value pairs."
   ]
  },
  {
   "attachments": {},
   "cell_type": "markdown",
   "metadata": {},
   "source": [
    "You can append new key-value pairs to a dictionary by assigning a value to a new key.\n",
    "\n",
    "```python\n",
    "new_dict[6] = \"f\"\n",
    "```"
   ]
  },
  {
   "cell_type": "code",
   "execution_count": 13,
   "metadata": {},
   "outputs": [
    {
     "name": "stdout",
     "output_type": "stream",
     "text": [
      "{1: 'a', 2: 'b', 3: 'c', 4: 'd', 5: 'e', 6: 'f'}\n"
     ]
    }
   ],
   "source": [
    "new_dict[6] = \"f\"\n",
    "\n",
    "print(new_dict)"
   ]
  },
  {
   "attachments": {},
   "cell_type": "markdown",
   "metadata": {},
   "source": [
    "Or if you want to update an existing key-value pair, you can simply reassign the value to the key.\n",
    "\n",
    "```python\n",
    "new_dict[6] = \"g\"\n",
    "```"
   ]
  },
  {
   "cell_type": "code",
   "execution_count": 15,
   "metadata": {},
   "outputs": [
    {
     "name": "stdout",
     "output_type": "stream",
     "text": [
      "{1: 'a', 2: 'b', 3: 'c', 4: 'd', 5: 'e', 6: 'g'}\n"
     ]
    }
   ],
   "source": [
    "new_dict[6] = \"g\"\n",
    "\n",
    "print(new_dict)"
   ]
  },
  {
   "attachments": {},
   "cell_type": "markdown",
   "metadata": {},
   "source": [
    "You can also use the `update()`` method to add new key-value pairs to a dictionary.\n",
    "\n",
    "```python\n",
    "new_dict.update({7: \"h\", 8: \"i\"})\n",
    "```"
   ]
  },
  {
   "cell_type": "code",
   "execution_count": 16,
   "metadata": {},
   "outputs": [
    {
     "name": "stdout",
     "output_type": "stream",
     "text": [
      "{1: 'a', 2: 'b', 3: 'c', 4: 'd', 5: 'e', 6: 'g', 7: 'h', 8: 'i'}\n"
     ]
    }
   ],
   "source": [
    "new_dict.update({7: \"h\", 8: \"i\"})\n",
    "\n",
    "print(new_dict)"
   ]
  },
  {
   "attachments": {},
   "cell_type": "markdown",
   "metadata": {},
   "source": [
    "#### Exercise 2\n",
    "\n",
    "Given the following list of tuples, build a dictionary where the key is the name of the student the value is a tuple containing all the last names:\n",
    "\n",
    "```\n",
    "students = [\n",
    "    ('Akhigbe', '', 'Ekiomoado'), \n",
    "    ('Ammar', '', 'Raouf'),\n",
    "    ('Awad', '', 'Sarah'),\n",
    "    ('Bevilacqua', '', 'Mario'),\n",
    "    ('Casarin', 'Martin del Campo', 'Arturo'),\n",
    "    ('Cerezuela', 'Barbero', 'María'),\n",
    "    ('Dalal', '', 'Arjun'),\n",
    "    ('Danus', '', 'Alejandro'),\n",
    "    ('Delgado', 'Alvarez Malo', 'Jorge'),\n",
    "    ('Fatahi', '', 'Nawid'),\n",
    "    ('García', 'Martín', 'Jorge'),\n",
    "    ('Gasparelli', 'Dante', '', 'Felipe'),\n",
    "    ('Gonzalez Gago', '', 'Lucas'),\n",
    "    ('Gordon', '', 'Brennan'),\n",
    "    ('Hartmann', 'Roca', 'Santiago Felipe'),\n",
    "    ('Hayashi', '', 'Kohei'),\n",
    "    ('Khidesheli', '', 'Luka'),\n",
    "    ('Lange', '', 'Antonia'),\n",
    "    ('Lopez', 'Rosa', 'Miguel'),\n",
    "    ('Malvido', 'Prada', 'Andrés'),\n",
    "    ('Moscoso', '', 'Joaquin'),\n",
    "    ('Mousa', '', 'Mary Ann'),\n",
    "    ('Ngwenya', 'Shirley', 'Simphiwe'),\n",
    "    ('Oeljeklaus', '', 'Elisabeth Sophie'),\n",
    "    ('Ounejjar', 'Mzali', 'Othman'),\n",
    "    ('Perez Sanchez', '', 'Sebastian'),\n",
    "    ('Pinzon', 'Rodriguez', '', 'Aldemar'),\n",
    "    ('Rohilla', '', 'Rahul'),\n",
    "    ('Salazar', 'Villacorta', 'Diego'),\n",
    "    ('Shi', '', 'Yu'),\n",
    "    ('Talarczyk', '', 'Mateusz'),\n",
    "    ('Vega', 'Valdés', '', 'Vanessa'),\n",
    "    ('Viñuela', 'De Vicente', 'Ana Maria'),\n",
    "    ('von Hugo', '', 'Leopold')\n",
    "]\n",
    "```"
   ]
  },
  {
   "cell_type": "code",
   "execution_count": 31,
   "metadata": {},
   "outputs": [
    {
     "name": "stdout",
     "output_type": "stream",
     "text": [
      "{'Ekiomoado': ('Akhigbe', ''), 'Raouf': ('Ammar', ''), 'Sarah': ('Awad', ''), 'Mario': ('Bevilacqua', ''), 'Arturo': ('Casarin', 'Martin del Campo'), 'María': ('Cerezuela', 'Barbero'), 'Arjun': ('Dalal', ''), 'Alejandro': ('Danus', ''), 'Jorge': ('García', 'Martín'), 'Nawid': ('Fatahi', ''), 'Felipe': ('Gasparelli', 'Dante', ''), 'Lucas': ('Gonzalez Gago', ''), 'Brennan': ('Gordon', ''), 'Santiago Felipe': ('Hartmann', 'Roca'), 'Kohei': ('Hayashi', ''), 'Luka': ('Khidesheli', ''), 'Antonia': ('Lange', ''), 'Miguel': ('Lopez', 'Rosa'), 'Andrés': ('Malvido', 'Prada'), 'Joaquin': ('Moscoso', ''), 'Mary Ann': ('Mousa', ''), 'Simphiwe': ('Ngwenya', 'Shirley'), 'Elisabeth Sophie': ('Oeljeklaus', ''), 'Othman': ('Ounejjar', 'Mzali'), 'Sebastian': ('Perez Sanchez', ''), 'Aldemar': ('Pinzon', 'Rodriguez', ''), 'Rahul': ('Rohilla', ''), 'Diego': ('Salazar', 'Villacorta'), 'Yu': ('Shi', ''), 'Mateusz': ('Talarczyk', ''), 'Vanessa': ('Vega', 'Valdés', ''), 'Ana Maria': ('Viñuela', 'De Vicente'), 'Leopold': ('von Hugo', '')}\n"
     ]
    }
   ],
   "source": [
    "students = [\n",
    "    ('Akhigbe', '', 'Ekiomoado'), \n",
    "    ('Ammar', '', 'Raouf'),\n",
    "    ('Awad', '', 'Sarah'),\n",
    "    ('Bevilacqua', '', 'Mario'),\n",
    "    ('Casarin', 'Martin del Campo', 'Arturo'),\n",
    "    ('Cerezuela', 'Barbero', 'María'),\n",
    "    ('Dalal', '', 'Arjun'),\n",
    "    ('Danus', '', 'Alejandro'),\n",
    "    ('Delgado', 'Alvarez Malo', 'Jorge'),\n",
    "    ('Fatahi', '', 'Nawid'),\n",
    "    ('García', 'Martín', 'Jorge'),\n",
    "    ('Gasparelli', 'Dante', 'Felipe'),\n",
    "    ('Gonzalez Gago', '', 'Lucas'),\n",
    "    ('Gordon', '', 'Brennan'),\n",
    "    ('Hartmann', 'Roca', 'Santiago Felipe'),\n",
    "    ('Hayashi', '', 'Kohei'),\n",
    "    ('Khidesheli', '', 'Luka'),\n",
    "    ('Lange', '', 'Antonia'),\n",
    "    ('Lopez', 'Rosa', 'Miguel'),\n",
    "    ('Malvido', 'Prada', 'Andrés'),\n",
    "    ('Moscoso', '', 'Joaquin'),\n",
    "    ('Mousa', '', 'Mary Ann'),\n",
    "    ('Ngwenya', 'Shirley', 'Simphiwe'),\n",
    "    ('Oeljeklaus', '', 'Elisabeth Sophie'),\n",
    "    ('Ounejjar', 'Mzali', 'Othman'),\n",
    "    ('Perez Sanchez', '', 'Sebastian'),\n",
    "    ('Pinzon', 'Rodriguez', 'Aldemar'),\n",
    "    ('Rohilla', '', 'Rahul'),\n",
    "    ('Salazar', 'Villacorta', 'Diego'),\n",
    "    ('Shi', '', 'Yu'),\n",
    "    ('Talarczyk', '', 'Mateusz'),\n",
    "    ('Vega', 'Valdés', 'Vanessa'),\n",
    "    ('Viñuela', 'De Vicente', 'Ana Maria'),\n",
    "    ('von Hugo', '', 'Leopold')\n",
    "]\n",
    "\n",
    "names = []\n",
    "last_names = []\n",
    "for student in students:\n",
    "    names.append(student[-1])\n",
    "    last_names.append(student[:-1])\n",
    "\n",
    "# building the dictionary out of two lists\n",
    "students_dict = dict(zip(names, last_names))\n",
    "\n",
    "print(students_dict)"
   ]
  },
  {
   "attachments": {},
   "cell_type": "markdown",
   "metadata": {},
   "source": [
    "#### Exercise 3\n",
    "\n",
    "Now, instead of `{name: (last names)}`, build the following dictionary: `{full_name: number of last names}`"
   ]
  },
  {
   "cell_type": "code",
   "execution_count": 37,
   "metadata": {},
   "outputs": [
    {
     "name": "stdout",
     "output_type": "stream",
     "text": [
      "{'Akhigbe  Ekiomoado': 2, 'Ammar  Raouf': 2, 'Awad  Sarah': 2, 'Bevilacqua  Mario': 2, 'Casarin Martin del Campo Arturo': 2, 'Cerezuela Barbero María': 2, 'Dalal  Arjun': 2, 'Danus  Alejandro': 2, 'Delgado Alvarez Malo Jorge': 2, 'Fatahi  Nawid': 2, 'García Martín Jorge': 2, 'Gasparelli Dante  Felipe': 3, 'Gonzalez Gago  Lucas': 2, 'Gordon  Brennan': 2, 'Hartmann Roca Santiago Felipe': 2, 'Hayashi  Kohei': 2, 'Khidesheli  Luka': 2, 'Lange  Antonia': 2, 'Lopez Rosa Miguel': 2, 'Malvido Prada Andrés': 2, 'Moscoso  Joaquin': 2, 'Mousa  Mary Ann': 2, 'Ngwenya Shirley Simphiwe': 2, 'Oeljeklaus  Elisabeth Sophie': 2, 'Ounejjar Mzali Othman': 2, 'Perez Sanchez  Sebastian': 2, 'Pinzon Rodriguez  Aldemar': 3, 'Rohilla  Rahul': 2, 'Salazar Villacorta Diego': 2, 'Shi  Yu': 2, 'Talarczyk  Mateusz': 2, 'Vega Valdés  Vanessa': 3, 'Viñuela De Vicente Ana Maria': 2, 'von Hugo  Leopold': 2}\n"
     ]
    }
   ],
   "source": [
    "full_names = []\n",
    "\n",
    "students_dict = {}\n",
    "\n",
    "for student in students:\n",
    "\n",
    "    # get the full name\n",
    "    full_name = \" \".join(student)\n",
    "\n",
    "    # calculate number of last names\n",
    "    num_last_names = len(student) - 1\n",
    "\n",
    "    # build dictionary\n",
    "    students_dict[full_name] = num_last_names\n",
    "\n",
    "# What happened?\n",
    "print(students_dict)\n"
   ]
  },
  {
   "cell_type": "code",
   "execution_count": 42,
   "metadata": {},
   "outputs": [],
   "source": [
    "# fix issue\n",
    "for student in students:\n",
    "    continue"
   ]
  },
  {
   "attachments": {},
   "cell_type": "markdown",
   "metadata": {},
   "source": [
    "## Comprehensions\n",
    "\n",
    "Comprehensions are a way of creating a new data structure from an existing one. They are a more concise way of writing a `for` loop.\n",
    "\n",
    "It can be used to create lists, dictionaries, and sets.\n",
    "\n",
    "A for loop in python:\n",
    "```python\n",
    "my_list = []\n",
    "for i in range(10):\n",
    "    my_list.append(i)\n",
    "```\n",
    "\n",
    "The same for loop as a list comprehension:\n",
    "```python\n",
    "my_list = [i for i in range(10)]\n",
    "```\n",
    "\n",
    "We can also add a conditional to the list comprehension:\n",
    "```python\n",
    "my_list = [do something for element in container if condition]\n",
    "```\n",
    "\n",
    "If we want an `if-else` statement, we can use the following syntax:\n",
    "```python\n",
    "my_list = [do something if condition else do something else for element in container]\n",
    "```\n"
   ]
  },
  {
   "attachments": {},
   "cell_type": "markdown",
   "metadata": {},
   "source": [
    "#### Exercise 4\n",
    "\n",
    "Using list comprehensions, create a list of the first 10 numbers squared."
   ]
  },
  {
   "attachments": {},
   "cell_type": "markdown",
   "metadata": {},
   "source": [
    "#### Exercise 5\n",
    "\n",
    "Using list comprehensions, take the students list, and return a list only containing the first names of the students."
   ]
  },
  {
   "attachments": {},
   "cell_type": "markdown",
   "metadata": {},
   "source": [
    "#### Exercise 6\n",
    "\n",
    "Using list comprehensions, take the students list, and return a list only containing the full names of the students."
   ]
  },
  {
   "attachments": {},
   "cell_type": "markdown",
   "metadata": {},
   "source": [
    "We can also use list comprehensions to create dictionaries from lists"
   ]
  },
  {
   "cell_type": "code",
   "execution_count": 48,
   "metadata": {},
   "outputs": [
    {
     "name": "stdout",
     "output_type": "stream",
     "text": [
      "{'Dani': 4, 'Sebas': 5, 'Eki': 3, 'Raouf': 5}\n"
     ]
    }
   ],
   "source": [
    "names_list = [\"Dani\", \"Sebas\", \"Eki\", \"Raouf\"]\n",
    "\n",
    "names_letter_dict = {\n",
    "    name: len(name) for name in names_list\n",
    "}\n",
    "\n",
    "print(names_letter_dict)"
   ]
  },
  {
   "cell_type": "markdown",
   "metadata": {},
   "source": [
    "Or dictionaries from other dictionaries"
   ]
  },
  {
   "cell_type": "code",
   "execution_count": 49,
   "metadata": {},
   "outputs": [
    {
     "name": "stdout",
     "output_type": "stream",
     "text": [
      "{'a': 1, 'b': 4, 'c': 9}\n"
     ]
    }
   ],
   "source": [
    "dict_1  = {\"a\": 1, \"b\": 2, \"c\": 3}\n",
    "\n",
    "dict_2 = {key: value**2 for key, value in dict_1.items()}\n",
    "\n",
    "print(dict_2)"
   ]
  },
  {
   "attachments": {},
   "cell_type": "markdown",
   "metadata": {},
   "source": [
    "Or lists from dictionaries"
   ]
  },
  {
   "cell_type": "code",
   "execution_count": 50,
   "metadata": {},
   "outputs": [
    {
     "name": "stdout",
     "output_type": "stream",
     "text": [
      "[1, 2, 3]\n"
     ]
    }
   ],
   "source": [
    "dict_1  = {\"a\": 1, \"b\": 2, \"c\": 3}\n",
    "\n",
    "list_1 = [value for key, value in dict_1.items()]\n",
    "\n",
    "print(list_1)"
   ]
  },
  {
   "attachments": {},
   "cell_type": "markdown",
   "metadata": {},
   "source": [
    "Or sets from dictionaries"
   ]
  },
  {
   "cell_type": "code",
   "execution_count": 51,
   "metadata": {},
   "outputs": [
    {
     "name": "stdout",
     "output_type": "stream",
     "text": [
      "{1, 2, 3}\n"
     ]
    }
   ],
   "source": [
    "my_dict = {\n",
    "    \"a\": 1,\n",
    "    \"b\": 2,\n",
    "    \"c\": 3,\n",
    "    \"d\": 1\n",
    "}\n",
    "\n",
    "my_set = {value for key, value in my_dict.items()}\n",
    "\n",
    "print(my_set)"
   ]
  }
 ],
 "metadata": {
  "kernelspec": {
   "display_name": "pda1",
   "language": "python",
   "name": "python3"
  },
  "language_info": {
   "codemirror_mode": {
    "name": "ipython",
    "version": 3
   },
   "file_extension": ".py",
   "mimetype": "text/x-python",
   "name": "python",
   "nbconvert_exporter": "python",
   "pygments_lexer": "ipython3",
   "version": "3.9.16"
  },
  "orig_nbformat": 4,
  "vscode": {
   "interpreter": {
    "hash": "d246aa15fe447bec9cf17f70958fc89a6642f64402da677f834b9f12b3c7ca3d"
   }
  }
 },
 "nbformat": 4,
 "nbformat_minor": 2
}
