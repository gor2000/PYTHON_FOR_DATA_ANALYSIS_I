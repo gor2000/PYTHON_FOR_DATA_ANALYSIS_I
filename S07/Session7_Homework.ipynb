{
 "cells": [
  {
   "attachments": {},
   "cell_type": "markdown",
   "metadata": {},
   "source": [
    "## Homework Session 7\n",
    "\n",
    "Use the students list for the following exercises.\n",
    "\n",
    "```python\n",
    "students = [\n",
    "    ('Akhigbe', '', 'Ekiomoado'), \n",
    "    ('Ammar', '', 'Raouf'),\n",
    "    ('Awad', '', 'Sarah'),\n",
    "    ('Bevilacqua', '', 'Mario'),\n",
    "    ('Casarin', 'Martin del Campo', 'Arturo'),\n",
    "    ('Cerezuela', 'Barbero', 'María'),\n",
    "    ('Dalal', '', 'Arjun'),\n",
    "    ('Danus', '', 'Alejandro'),\n",
    "    ('Delgado', 'Alvarez Malo', 'Jorge'),\n",
    "    ('Fatahi', '', 'Nawid'),\n",
    "    ('García', 'Martín', 'Jorge'),\n",
    "    ('Gasparelli', 'Dante', 'Felipe'),\n",
    "    ('Gonzalez Gago', '', 'Lucas'),\n",
    "    ('Gordon', '', 'Brennan'),\n",
    "    ('Hartmann', 'Roca', 'Santiago Felipe'),\n",
    "    ('Hayashi', '', 'Kohei'),\n",
    "    ('Khidesheli', '', 'Luka'),\n",
    "    ('Lange', '', 'Antonia'),\n",
    "    ('Lopez', 'Rosa', 'Miguel'),\n",
    "    ('Malvido', 'Prada', 'Andrés'),\n",
    "    ('Moscoso', '', 'Joaquin'),\n",
    "    ('Mousa', '', 'Mary Ann'),\n",
    "    ('Ngwenya', 'Shirley', 'Simphiwe'),\n",
    "    ('Oeljeklaus', '', 'Elisabeth Sophie'),\n",
    "    ('Ounejjar', 'Mzali', 'Othman'),\n",
    "    ('Perez Sanchez', '', 'Sebastian'),\n",
    "    ('Pinzon', 'Rodriguez', 'Aldemar'),\n",
    "    ('Rohilla', '', 'Rahul'),\n",
    "    ('Salazar', 'Villacorta', 'Diego'),\n",
    "    ('Shi', '', 'Yu'),\n",
    "    ('Talarczyk', '', 'Mateusz'),\n",
    "    ('Vega', 'Valdés', 'Vanessa'),\n",
    "    ('Viñuela', 'De Vicente', 'Ana Maria'),\n",
    "    ('von Hugo', '', 'Leopold')\n",
    "]\n",
    "```"
   ]
  },
  {
   "cell_type": "code",
   "execution_count": 1,
   "metadata": {
    "ExecuteTime": {
     "end_time": "2023-05-25T16:20:23.906139Z",
     "start_time": "2023-05-25T16:20:23.892998Z"
    }
   },
   "outputs": [],
   "source": [
    "students = [\n",
    "    ('Akhigbe', '', 'Ekiomoado'), \n",
    "    ('Ammar', '', 'Raouf'),\n",
    "    ('Awad', '', 'Sarah'),\n",
    "    ('Bevilacqua', '', 'Mario'),\n",
    "    ('Casarin', 'Martin del Campo', 'Arturo'),\n",
    "    ('Cerezuela', 'Barbero', 'María'),\n",
    "    ('Dalal', '', 'Arjun'),\n",
    "    ('Danus', '', 'Alejandro'),\n",
    "    ('Delgado', 'Alvarez Malo', 'Jorge'),\n",
    "    ('Fatahi', '', 'Nawid'),\n",
    "    ('García', 'Martín', 'Jorge'),\n",
    "    ('Gasparelli', 'Dante', 'Felipe'),\n",
    "    ('Gonzalez Gago', '', 'Lucas'),\n",
    "    ('Gordon', '', 'Brennan'),\n",
    "    ('Hartmann', 'Roca', 'Santiago Felipe'),\n",
    "    ('Hayashi', '', 'Kohei'),\n",
    "    ('Khidesheli', '', 'Luka'),\n",
    "    ('Lange', '', 'Antonia'),\n",
    "    ('Lopez', 'Rosa', 'Miguel'),\n",
    "    ('Malvido', 'Prada', 'Andrés'),\n",
    "    ('Moscoso', '', 'Joaquin'),\n",
    "    ('Mousa', '', 'Mary Ann'),\n",
    "    ('Ngwenya', 'Shirley', 'Simphiwe'),\n",
    "    ('Oeljeklaus', '', 'Elisabeth Sophie'),\n",
    "    ('Ounejjar', 'Mzali', 'Othman'),\n",
    "    ('Perez Sanchez', '', 'Sebastian'),\n",
    "    ('Pinzon', 'Rodriguez', 'Aldemar'),\n",
    "    ('Rohilla', '', 'Rahul'),\n",
    "    ('Salazar', 'Villacorta', 'Diego'),\n",
    "    ('Shi', '', 'Yu'),\n",
    "    ('Talarczyk', '', 'Mateusz'),\n",
    "    ('Vega', 'Valdés', 'Vanessa'),\n",
    "    ('Viñuela', 'De Vicente', 'Ana Maria'),\n",
    "    ('von Hugo', '', 'Leopold')\n",
    "]"
   ]
  },
  {
   "attachments": {},
   "cell_type": "markdown",
   "metadata": {},
   "source": [
    "### Exercise 1\n",
    "\n",
    "Create a list with all the full names using a list comprehension.\n",
    "\n",
    "Then, sort the list of names alphabetically.\n",
    "\n",
    "Then, assign a number to each student according to the alphabetical order using `enumerate` and save that into a list."
   ]
  },
  {
   "cell_type": "code",
   "execution_count": null,
   "outputs": [],
   "source": [
    "full_names ="
   ],
   "metadata": {
    "collapsed": false
   }
  },
  {
   "attachments": {},
   "cell_type": "markdown",
   "metadata": {},
   "source": [
    "### Exercise 2\n",
    "\n",
    "With the numbered list from the previous exercise, create a dictionary where the keys are the numbers and the values are the names.\n",
    "\n",
    "Then take the dictionary, and add me into it with the number 34."
   ]
  },
  {
   "attachments": {},
   "cell_type": "markdown",
   "metadata": {},
   "source": [
    "### Exercise 3\n",
    "\n",
    "Create a dictionary with the following keys and values, using a for loop:\n",
    "* `full name uppercase: [alphabetical position, length of the name]`\n",
    "\n",
    "And then the same but using a list comprehension."
   ]
  }
 ],
 "metadata": {
  "kernelspec": {
   "display_name": "pda1",
   "language": "python",
   "name": "python3"
  },
  "language_info": {
   "codemirror_mode": {
    "name": "ipython",
    "version": 3
   },
   "file_extension": ".py",
   "mimetype": "text/x-python",
   "name": "python",
   "nbconvert_exporter": "python",
   "pygments_lexer": "ipython3",
   "version": "3.9.16"
  },
  "orig_nbformat": 4,
  "vscode": {
   "interpreter": {
    "hash": "d246aa15fe447bec9cf17f70958fc89a6642f64402da677f834b9f12b3c7ca3d"
   }
  }
 },
 "nbformat": 4,
 "nbformat_minor": 2
}
