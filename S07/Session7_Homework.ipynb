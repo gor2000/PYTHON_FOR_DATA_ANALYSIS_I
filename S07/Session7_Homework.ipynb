{
 "cells": [
  {
   "attachments": {},
   "cell_type": "markdown",
   "metadata": {},
   "source": [
    "## Homework Session 7\n",
    "\n",
    "Use the students list for the following exercises.\n",
    "\n",
    "```python\n",
    "students = [\n",
    "    ('Akhigbe', '', 'Ekiomoado'), \n",
    "    ('Ammar', '', 'Raouf'),\n",
    "    ('Awad', '', 'Sarah'),\n",
    "    ('Bevilacqua', '', 'Mario'),\n",
    "    ('Casarin', 'Martin del Campo', 'Arturo'),\n",
    "    ('Cerezuela', 'Barbero', 'María'),\n",
    "    ('Dalal', '', 'Arjun'),\n",
    "    ('Danus', '', 'Alejandro'),\n",
    "    ('Delgado', 'Alvarez Malo', 'Jorge'),\n",
    "    ('Fatahi', '', 'Nawid'),\n",
    "    ('García', 'Martín', 'Jorge'),\n",
    "    ('Gasparelli', 'Dante', 'Felipe'),\n",
    "    ('Gonzalez Gago', '', 'Lucas'),\n",
    "    ('Gordon', '', 'Brennan'),\n",
    "    ('Hartmann', 'Roca', 'Santiago Felipe'),\n",
    "    ('Hayashi', '', 'Kohei'),\n",
    "    ('Khidesheli', '', 'Luka'),\n",
    "    ('Lange', '', 'Antonia'),\n",
    "    ('Lopez', 'Rosa', 'Miguel'),\n",
    "    ('Malvido', 'Prada', 'Andrés'),\n",
    "    ('Moscoso', '', 'Joaquin'),\n",
    "    ('Mousa', '', 'Mary Ann'),\n",
    "    ('Ngwenya', 'Shirley', 'Simphiwe'),\n",
    "    ('Oeljeklaus', '', 'Elisabeth Sophie'),\n",
    "    ('Ounejjar', 'Mzali', 'Othman'),\n",
    "    ('Perez Sanchez', '', 'Sebastian'),\n",
    "    ('Pinzon', 'Rodriguez', 'Aldemar'),\n",
    "    ('Rohilla', '', 'Rahul'),\n",
    "    ('Salazar', 'Villacorta', 'Diego'),\n",
    "    ('Shi', '', 'Yu'),\n",
    "    ('Talarczyk', '', 'Mateusz'),\n",
    "    ('Vega', 'Valdés', 'Vanessa'),\n",
    "    ('Viñuela', 'De Vicente', 'Ana Maria'),\n",
    "    ('von Hugo', '', 'Leopold')\n",
    "]\n",
    "```"
   ]
  },
  {
   "cell_type": "code",
   "execution_count": 1,
   "metadata": {
    "ExecuteTime": {
     "end_time": "2023-05-26T08:15:46.620576400Z",
     "start_time": "2023-05-26T08:15:46.614071200Z"
    }
   },
   "outputs": [],
   "source": [
    "students = [\n",
    "    ('Akhigbe', '', 'Ekiomoado'), \n",
    "    ('Ammar', '', 'Raouf'),\n",
    "    ('Awad', '', 'Sarah'),\n",
    "    ('Bevilacqua', '', 'Mario'),\n",
    "    ('Casarin', 'Martin del Campo', 'Arturo'),\n",
    "    ('Cerezuela', 'Barbero', 'María'),\n",
    "    ('Dalal', '', 'Arjun'),\n",
    "    ('Danus', '', 'Alejandro'),\n",
    "    ('Delgado', 'Alvarez Malo', 'Jorge'),\n",
    "    ('Fatahi', '', 'Nawid'),\n",
    "    ('García', 'Martín', 'Jorge'),\n",
    "    ('Gasparelli', 'Dante', 'Felipe'),\n",
    "    ('Gonzalez Gago', '', 'Lucas'),\n",
    "    ('Gordon', '', 'Brennan'),\n",
    "    ('Hartmann', 'Roca', 'Santiago Felipe'),\n",
    "    ('Hayashi', '', 'Kohei'),\n",
    "    ('Khidesheli', '', 'Luka'),\n",
    "    ('Lange', '', 'Antonia'),\n",
    "    ('Lopez', 'Rosa', 'Miguel'),\n",
    "    ('Malvido', 'Prada', 'Andrés'),\n",
    "    ('Moscoso', '', 'Joaquin'),\n",
    "    ('Mousa', '', 'Mary Ann'),\n",
    "    ('Ngwenya', 'Shirley', 'Simphiwe'),\n",
    "    ('Oeljeklaus', '', 'Elisabeth Sophie'),\n",
    "    ('Ounejjar', 'Mzali', 'Othman'),\n",
    "    ('Perez Sanchez', '', 'Sebastian'),\n",
    "    ('Pinzon', 'Rodriguez', 'Aldemar'),\n",
    "    ('Rohilla', '', 'Rahul'),\n",
    "    ('Salazar', 'Villacorta', 'Diego'),\n",
    "    ('Shi', '', 'Yu'),\n",
    "    ('Talarczyk', '', 'Mateusz'),\n",
    "    ('Vega', 'Valdés', 'Vanessa'),\n",
    "    ('Viñuela', 'De Vicente', 'Ana Maria'),\n",
    "    ('von Hugo', '', 'Leopold')\n",
    "]"
   ]
  },
  {
   "attachments": {},
   "cell_type": "markdown",
   "metadata": {},
   "source": [
    "### Exercise 1\n",
    "\n",
    "Create a list with all the full names using a list comprehension.\n",
    "\n",
    "Then, sort the list of names alphabetically.\n",
    "\n",
    "Then, assign a number to each student according to the alphabetical order using `enumerate` and save that into a list."
   ]
  },
  {
   "cell_type": "code",
   "execution_count": 21,
   "outputs": [
    {
     "name": "stdout",
     "output_type": "stream",
     "text": [
      "List with all the full names:\n",
      "['Ekiomoado Akhigbe', 'Raouf Ammar', 'Sarah Awad', 'Mario Bevilacqua', 'Arturo Martin del Campo Casarin', 'María Barbero Cerezuela', 'Arjun Dalal', 'Alejandro Danus', 'Jorge Alvarez Malo Delgado', 'Nawid Fatahi', 'Jorge Martín García', 'Felipe Dante Gasparelli', 'Lucas Gonzalez Gago', 'Brennan Gordon', 'Santiago Felipe Roca Hartmann', 'Kohei Hayashi', 'Luka Khidesheli', 'Antonia Lange', 'Miguel Rosa Lopez', 'Andrés Prada Malvido', 'Joaquin Moscoso', 'Mary Ann Mousa', 'Simphiwe Shirley Ngwenya', 'Elisabeth Sophie Oeljeklaus', 'Othman Mzali Ounejjar', 'Sebastian Perez Sanchez', 'Aldemar Rodriguez Pinzon', 'Rahul Rohilla', 'Diego Villacorta Salazar', 'Yu Shi', 'Mateusz Talarczyk', 'Vanessa Valdés Vega', 'Ana Maria De Vicente Viñuela', 'Leopold von Hugo']\n",
      "\n",
      "Sorted List:\n",
      "['Aldemar Rodriguez Pinzon', 'Alejandro Danus', 'Ana Maria De Vicente Viñuela', 'Andrés Prada Malvido', 'Antonia Lange', 'Arjun Dalal', 'Arturo Martin del Campo Casarin', 'Brennan Gordon', 'Diego Villacorta Salazar', 'Ekiomoado Akhigbe', 'Elisabeth Sophie Oeljeklaus', 'Felipe Dante Gasparelli', 'Joaquin Moscoso', 'Jorge Alvarez Malo Delgado', 'Jorge Martín García', 'Kohei Hayashi', 'Leopold von Hugo', 'Lucas Gonzalez Gago', 'Luka Khidesheli', 'Mario Bevilacqua', 'Mary Ann Mousa', 'María Barbero Cerezuela', 'Mateusz Talarczyk', 'Miguel Rosa Lopez', 'Nawid Fatahi', 'Othman Mzali Ounejjar', 'Rahul Rohilla', 'Raouf Ammar', 'Santiago Felipe Roca Hartmann', 'Sarah Awad', 'Sebastian Perez Sanchez', 'Simphiwe Shirley Ngwenya', 'Vanessa Valdés Vega', 'Yu Shi']\n",
      "\n",
      "Numbered List:\n",
      "[(0, 'Aldemar Rodriguez Pinzon'), (1, 'Alejandro Danus'), (2, 'Ana Maria De Vicente Viñuela'), (3, 'Andrés Prada Malvido'), (4, 'Antonia Lange'), (5, 'Arjun Dalal'), (6, 'Arturo Martin del Campo Casarin'), (7, 'Brennan Gordon'), (8, 'Diego Villacorta Salazar'), (9, 'Ekiomoado Akhigbe'), (10, 'Elisabeth Sophie Oeljeklaus'), (11, 'Felipe Dante Gasparelli'), (12, 'Joaquin Moscoso'), (13, 'Jorge Alvarez Malo Delgado'), (14, 'Jorge Martín García'), (15, 'Kohei Hayashi'), (16, 'Leopold von Hugo'), (17, 'Lucas Gonzalez Gago'), (18, 'Luka Khidesheli'), (19, 'Mario Bevilacqua'), (20, 'Mary Ann Mousa'), (21, 'María Barbero Cerezuela'), (22, 'Mateusz Talarczyk'), (23, 'Miguel Rosa Lopez'), (24, 'Nawid Fatahi'), (25, 'Othman Mzali Ounejjar'), (26, 'Rahul Rohilla'), (27, 'Raouf Ammar'), (28, 'Santiago Felipe Roca Hartmann'), (29, 'Sarah Awad'), (30, 'Sebastian Perez Sanchez'), (31, 'Simphiwe Shirley Ngwenya'), (32, 'Vanessa Valdés Vega'), (33, 'Yu Shi')]\n"
     ]
    }
   ],
   "source": [
    "full_names = [x[2] + ' ' + x[1] + ' ' + x[0]\n",
    "              if x[1] != '' else x[2] + ' ' + x[0]\n",
    "              for x in students]\n",
    "print(f\"List with all the full names:\\n{full_names}\\n\")\n",
    "\n",
    "full_names_sorted = sorted(full_names)\n",
    "print(f\"Sorted List:\\n{full_names_sorted}\\n\")\n",
    "\n",
    "numbered = []\n",
    "for i, name in enumerate(full_names_sorted):\n",
    "    numbered.append((i,name))\n",
    "print(f\"Numbered List:\\n{numbered}\")"
   ],
   "metadata": {
    "collapsed": false,
    "ExecuteTime": {
     "end_time": "2023-05-26T08:37:39.989249200Z",
     "start_time": "2023-05-26T08:37:39.974728Z"
    }
   }
  },
  {
   "attachments": {},
   "cell_type": "markdown",
   "metadata": {},
   "source": [
    "### Exercise 2\n",
    "\n",
    "With the numbered list from the previous exercise, create a dictionary where the keys are the numbers and the values are the names.\n",
    "\n",
    "Then take the dictionary, and add me into it with the number 34."
   ]
  },
  {
   "cell_type": "code",
   "execution_count": 23,
   "outputs": [
    {
     "data": {
      "text/plain": "{0: 'Aldemar Rodriguez Pinzon',\n 1: 'Alejandro Danus',\n 2: 'Ana Maria De Vicente Viñuela',\n 3: 'Andrés Prada Malvido',\n 4: 'Antonia Lange',\n 5: 'Arjun Dalal',\n 6: 'Arturo Martin del Campo Casarin',\n 7: 'Brennan Gordon',\n 8: 'Diego Villacorta Salazar',\n 9: 'Ekiomoado Akhigbe',\n 10: 'Elisabeth Sophie Oeljeklaus',\n 11: 'Felipe Dante Gasparelli',\n 12: 'Joaquin Moscoso',\n 13: 'Jorge Alvarez Malo Delgado',\n 14: 'Jorge Martín García',\n 15: 'Kohei Hayashi',\n 16: 'Leopold von Hugo',\n 17: 'Lucas Gonzalez Gago',\n 18: 'Luka Khidesheli',\n 19: 'Mario Bevilacqua',\n 20: 'Mary Ann Mousa',\n 21: 'María Barbero Cerezuela',\n 22: 'Mateusz Talarczyk',\n 23: 'Miguel Rosa Lopez',\n 24: 'Nawid Fatahi',\n 25: 'Othman Mzali Ounejjar',\n 26: 'Rahul Rohilla',\n 27: 'Raouf Ammar',\n 28: 'Santiago Felipe Roca Hartmann',\n 29: 'Sarah Awad',\n 30: 'Sebastian Perez Sanchez',\n 31: 'Simphiwe Shirley Ngwenya',\n 32: 'Vanessa Valdés Vega',\n 33: 'Yu Shi',\n 34: 'Daniel Garcia Hernandez'}"
     },
     "execution_count": 23,
     "metadata": {},
     "output_type": "execute_result"
    }
   ],
   "source": [
    "dicc = {}\n",
    "for x,y in numbered:\n",
    "    dicc[x] = y\n",
    "dicc[34] = 'Daniel Garcia Hernandez'\n",
    "dicc"
   ],
   "metadata": {
    "collapsed": false,
    "ExecuteTime": {
     "end_time": "2023-05-26T08:41:53.779927400Z",
     "start_time": "2023-05-26T08:41:53.766964900Z"
    }
   }
  },
  {
   "attachments": {},
   "cell_type": "markdown",
   "metadata": {},
   "source": [
    "### Exercise 3\n",
    "\n",
    "Create a dictionary with the following keys and values, using a for loop:\n",
    "* `full name uppercase: [alphabetical position, length of the name]`\n",
    "\n",
    "And then the same but using a list comprehension."
   ]
  },
  {
   "cell_type": "code",
   "execution_count": 26,
   "outputs": [
    {
     "data": {
      "text/plain": "{'Aldemar Rodriguez Pinzon': [0, 24],\n 'Alejandro Danus': [1, 15],\n 'Ana Maria De Vicente Viñuela': [2, 28],\n 'Andrés Prada Malvido': [3, 20],\n 'Antonia Lange': [4, 13],\n 'Arjun Dalal': [5, 11],\n 'Arturo Martin del Campo Casarin': [6, 31],\n 'Brennan Gordon': [7, 14],\n 'Diego Villacorta Salazar': [8, 24],\n 'Ekiomoado Akhigbe': [9, 17],\n 'Elisabeth Sophie Oeljeklaus': [10, 27],\n 'Felipe Dante Gasparelli': [11, 23],\n 'Joaquin Moscoso': [12, 15],\n 'Jorge Alvarez Malo Delgado': [13, 26],\n 'Jorge Martín García': [14, 19],\n 'Kohei Hayashi': [15, 13],\n 'Leopold von Hugo': [16, 16],\n 'Lucas Gonzalez Gago': [17, 19],\n 'Luka Khidesheli': [18, 15],\n 'Mario Bevilacqua': [19, 16],\n 'Mary Ann Mousa': [20, 14],\n 'María Barbero Cerezuela': [21, 23],\n 'Mateusz Talarczyk': [22, 17],\n 'Miguel Rosa Lopez': [23, 17],\n 'Nawid Fatahi': [24, 12],\n 'Othman Mzali Ounejjar': [25, 21],\n 'Rahul Rohilla': [26, 13],\n 'Raouf Ammar': [27, 11],\n 'Santiago Felipe Roca Hartmann': [28, 29],\n 'Sarah Awad': [29, 10],\n 'Sebastian Perez Sanchez': [30, 23],\n 'Simphiwe Shirley Ngwenya': [31, 24],\n 'Vanessa Valdés Vega': [32, 19],\n 'Yu Shi': [33, 6],\n 'Daniel Garcia Hernandez': [34, 23]}"
     },
     "execution_count": 26,
     "metadata": {},
     "output_type": "execute_result"
    }
   ],
   "source": [
    "new_dicc = {}\n",
    "for x,y in dicc.items():\n",
    "    new_dicc[y] = [x, len(y)]\n",
    "new_dicc"
   ],
   "metadata": {
    "collapsed": false,
    "ExecuteTime": {
     "end_time": "2023-05-26T08:44:00.628842100Z",
     "start_time": "2023-05-26T08:44:00.622326200Z"
    }
   }
  }
 ],
 "metadata": {
  "kernelspec": {
   "display_name": "pda1",
   "language": "python",
   "name": "python3"
  },
  "language_info": {
   "codemirror_mode": {
    "name": "ipython",
    "version": 3
   },
   "file_extension": ".py",
   "mimetype": "text/x-python",
   "name": "python",
   "nbconvert_exporter": "python",
   "pygments_lexer": "ipython3",
   "version": "3.9.16"
  },
  "orig_nbformat": 4,
  "vscode": {
   "interpreter": {
    "hash": "d246aa15fe447bec9cf17f70958fc89a6642f64402da677f834b9f12b3c7ca3d"
   }
  }
 },
 "nbformat": 4,
 "nbformat_minor": 2
}
