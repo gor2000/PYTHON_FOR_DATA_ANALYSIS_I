{
 "cells": [
  {
   "attachments": {},
   "cell_type": "markdown",
   "metadata": {},
   "source": [
    "## Session 6: Practice\n",
    "\n",
    "In this session we are going to practice what we have learned:\n",
    "* Variables, types, and operators\n",
    "* Data structures\n",
    "* Control flow\n",
    "    * Conditional statements\n",
    "    * `for` loops\n"
   ]
  },
  {
   "attachments": {},
   "cell_type": "markdown",
   "metadata": {},
   "source": [
    "### Exercise 1\n",
    "\n",
    "Perform the following calculation: result is 15168.443661658159\n",
    "\n",
    "$\\frac{4.156^{7.332} \\cdot \\sqrt{2.25}}{abs(4.35 / 1.28)}$"
   ]
  },
  {
   "cell_type": "code",
   "execution_count": 6,
   "metadata": {
    "ExecuteTime": {
     "end_time": "2023-05-23T16:08:41.884330Z",
     "start_time": "2023-05-23T16:08:41.874114Z"
    }
   },
   "outputs": [
    {
     "data": {
      "text/plain": "15168.443661658159"
     },
     "execution_count": 6,
     "metadata": {},
     "output_type": "execute_result"
    }
   ],
   "source": [
    "import math\n",
    "((4.156**7.332)*math.sqrt(2.25))/ abs(4.35/1.28)"
   ]
  },
  {
   "attachments": {},
   "cell_type": "markdown",
   "metadata": {},
   "source": [
    "### Exercise 2\n",
    "\n",
    "What's the result of this operation?\n",
    "\n",
    "$ (7 > 5) \\text{ and }  (5 < 1) \\text{ or } (8\\%3 == 2) $"
   ]
  },
  {
   "cell_type": "code",
   "execution_count": null,
   "metadata": {},
   "outputs": [],
   "source": []
  },
  {
   "attachments": {},
   "cell_type": "markdown",
   "metadata": {},
   "source": [
    "### Exercise 3\n",
    "\n",
    "* Replace every vowel in your full name by `e`\n",
    "* Take your name and add 7 `$` on each side\n",
    "* Take `Hola` and add 5 `x` to the left and 11 `y` to the right\n",
    "* Save your Name and last name(s) as independent strings, and then build your full name using those variables"
   ]
  },
  {
   "cell_type": "code",
   "execution_count": 8,
   "metadata": {
    "ExecuteTime": {
     "end_time": "2023-05-23T16:14:38.066252Z",
     "start_time": "2023-05-23T16:14:38.061890Z"
    }
   },
   "outputs": [
    {
     "data": {
      "text/plain": "'elesebeth'"
     },
     "execution_count": 8,
     "metadata": {},
     "output_type": "execute_result"
    }
   ],
   "source": [
    "x = 'elisabeth'\n",
    "x.replace('a', 'e').replace('o', 'e').replace('i', 'e').replace('u', 'e')"
   ]
  },
  {
   "attachments": {},
   "cell_type": "markdown",
   "metadata": {},
   "source": [
    "### Exercise 4\n",
    "\n",
    "* Build a list containing all the letters in the alphabet: [\"a\", \"b\", \"c\", ..., \"z\"]\n",
    "* Take the original list from the previous exercise and add the letter \"ñ\" between \"n\" and \"o\"\n",
    "* Take the original list and remove the letter \"k\"\n",
    "* Take the original list and reverse it\n"
   ]
  },
  {
   "cell_type": "code",
   "execution_count": 29,
   "metadata": {
    "ExecuteTime": {
     "end_time": "2023-05-23T16:47:04.919912Z",
     "start_time": "2023-05-23T16:47:04.915068Z"
    }
   },
   "outputs": [
    {
     "name": "stdout",
     "output_type": "stream",
     "text": [
      "['a', 'b', 'c', 'd', 'e', 'f', 'g', 'h', 'i', 'j', 'k', 'l', 'm', 'n', 'o', 'p', 'q', 'r', 's', 't', 'u', 'v', 'w', 'x', 'y', 'z']\n",
      "lst_aux ['a', 'b', 'c', 'd', 'e', 'f', 'g', 'h', 'i', 'j', 'k', 'l', 'm', 'n', 'ñ', 'o', 'p', 'q', 'r', 's', 't', 'u', 'v', 'w', 'x', 'y', 'z']\n",
      "['a', 'b', 'c', 'd', 'e', 'f', 'g', 'h', 'i', 'j', 'k', 'l', 'm', 'n', 'ñ', 'o', 'p', 'q', 'r', 's', 't', 'u', 'v', 'w', 'x', 'y', 'z']\n",
      "['a', 'b', 'c', 'd', 'e', 'f', 'g', 'h', 'i', 'j', 'l', 'm', 'n', 'o', 'p', 'q', 'r', 's', 't', 'u', 'v', 'w', 'x', 'y', 'z']\n",
      "['z', 'y', 'x', 'w', 'v', 'u', 't', 's', 'r', 'q', 'p', 'o', 'n', 'm', 'l', 'k', 'j', 'i', 'h', 'g', 'f', 'e', 'd', 'c', 'b', 'a']\n"
     ]
    }
   ],
   "source": [
    "# Ex 4.1\n",
    "letter = 'a'\n",
    "lst = [letter]\n",
    "while letter != 'z':\n",
    "    letter = chr(ord(letter) + 1)\n",
    "    lst.append(letter)\n",
    "print(lst)\n",
    "lst_aux = lst.copy()\n",
    "lst_aux[lst_aux.index('o')::] = ['ñ'] + lst_aux[lst_aux.index('o')::]\n",
    "print('lst_aux',lst_aux)\n",
    "# Ex 4.2\n",
    "lst2 = lst.copy()\n",
    "index = lst2.index('n')\n",
    "index2 = lst2.index('o')\n",
    "lst2.insert(index + 1, 'ñ')\n",
    "print(lst2)\n",
    "# Ex 4.3\n",
    "lst3 = lst.copy()\n",
    "lst3.remove('k')\n",
    "print(lst3)\n",
    "# Ex 4.4\n",
    "lst4 = lst.copy()\n",
    "lst4.reverse()\n",
    "print(lst4)"
   ]
  },
  {
   "attachments": {},
   "cell_type": "markdown",
   "metadata": {},
   "source": [
    "### Exercise 5\n",
    "\n",
    "* Build a list with the english vowels, the consonants and put them together in a single list\n",
    "* Sort the list alphabetically and print it"
   ]
  },
  {
   "cell_type": "code",
   "execution_count": 46,
   "metadata": {
    "ExecuteTime": {
     "end_time": "2023-05-23T17:03:04.617055Z",
     "start_time": "2023-05-23T17:03:04.603934Z"
    }
   },
   "outputs": [
    {
     "name": "stdout",
     "output_type": "stream",
     "text": [
      "['a', 'b', 'c', 'd', 'e', 'f', 'g', 'h', 'i', 'j', 'k', 'l', 'm', 'n', 'o', 'p', 'q', 'r', 's', 't', 'u', 'v', 'w', 'x', 'y', 'z']\n"
     ]
    }
   ],
   "source": [
    "en_vowels = ['a', 'e', 'i', 'o', 'u']\n",
    "abc = ['a', 'b', 'c', 'd', 'e', 'f', 'g', 'h', 'i', 'j', 'k', 'l', 'm', 'n', 'o', 'p', 'q', 'r', 's', 't', 'u', 'v',\n",
    "       'w', 'x', 'y', 'z']\n",
    "for x in en_vowels:\n",
    "    abc.remove(x)\n",
    "\n",
    "result = en_vowels + abc\n",
    "result.sort()\n",
    "print(result)"
   ]
  },
  {
   "cell_type": "markdown",
   "source": [
    "# List comprehension exercise"
   ],
   "metadata": {
    "collapsed": false
   }
  },
  {
   "cell_type": "code",
   "execution_count": 49,
   "outputs": [
    {
     "data": {
      "text/plain": "[1, 3, 5]"
     },
     "execution_count": 49,
     "metadata": {},
     "output_type": "execute_result"
    }
   ],
   "source": [
    "num_list = [1,2,3,4,5]\n",
    "[x for x in num_list if x%2 != 0]\n",
    "name = 'Daniel'\n",
    "en_vowels = ['a', 'e', 'i', 'o', 'u']\n",
    "for x in en_vowels:\n",
    "    abc.remove(x)\n",
    "[x.upper() if x in en_vowels else x.lower() for x in name]"
   ],
   "metadata": {
    "collapsed": false,
    "ExecuteTime": {
     "end_time": "2023-05-23T17:05:43.970274Z",
     "start_time": "2023-05-23T17:05:43.961038Z"
    }
   }
  },
  {
   "attachments": {},
   "cell_type": "markdown",
   "metadata": {},
   "source": [
    "### Exercise 6\n",
    "\n",
    "If `a=1, b=2, etc`, how much is your full name worth?"
   ]
  },
  {
   "cell_type": "code",
   "execution_count": 47,
   "outputs": [
    {
     "name": "stdout",
     "output_type": "stream",
     "text": [
      "200\n"
     ]
    }
   ],
   "source": [
    "full_name = \"Jorge Garcia Martin\".lower()\n",
    "\n",
    "result = 0\n",
    "for x in full_name:\n",
    "    # the difference of the unicode values + 1 to start at 1 not at 0\n",
    "    result = result + ord(x) - ord('a') + 1\n",
    "\n",
    "print(f'{result}')\n"
   ],
   "metadata": {
    "collapsed": false,
    "ExecuteTime": {
     "end_time": "2023-05-25T17:03:39.259128Z",
     "start_time": "2023-05-25T17:03:39.248537Z"
    }
   }
  },
  {
   "attachments": {},
   "cell_type": "markdown",
   "metadata": {},
   "source": [
    "### Exercise 7\n",
    "\n",
    "Remember our class about conditionals and loops, where we were checking conditions (with only True/False value) and depending on the value, take different actions.\n",
    "\n",
    "```Python\n",
    "if condition:  # if condition is True\n",
    "    do_something\n",
    "else:  # if it's not True\n",
    "    do_something_else\n",
    "```\n",
    "\n",
    "Also, and since the code is read from top to bottom, evaluating each statement once at a time, if a condition is included in a posterior condition -- this is, the second one is more restrictive -- then only the first one will be evaluated in a `if-elif-else` structure."
   ]
  },
  {
   "cell_type": "code",
   "execution_count": null,
   "metadata": {},
   "outputs": [],
   "source": [
    "a = 1\n",
    "\n",
    "if a < 4:  # True\n",
    "    print(\"a < 4\")  # This is going to be printed\n",
    "elif a < 2:  # True, but already found a previous True to go through\n",
    "    print(\"a < 2\")  # This one should be printed too, since a < 2!!\n",
    "else:\n",
    "    print(\"a >= 4\")"
   ]
  },
  {
   "attachments": {},
   "cell_type": "markdown",
   "metadata": {},
   "source": [
    "The previous snippet should've printed `a < 2` since `a = 1`. But since `a < 4` is `True` and evaluated *before* the `elif`, then the elif in this case is not evaluated.\n",
    "\n",
    "The key here is to evaluate the *more restrictive* condition first in the `if`, and then reduce the restrictions with `elif`s."
   ]
  },
  {
   "cell_type": "code",
   "execution_count": null,
   "metadata": {},
   "outputs": [],
   "source": [
    "a = 1\n",
    "\n",
    "if a < 2:  # most restrictive condition\n",
    "    print(\"a < 2\")\n",
    "elif a < 4:  # second most restrictive condition\n",
    "    print(\"a < 4\")\n",
    "else:\n",
    "    print(\"a >= 4\")"
   ]
  },
  {
   "attachments": {},
   "cell_type": "markdown",
   "metadata": {},
   "source": [
    "Taking this into account, please build a classic piece of code --Fizzbuzz.\n",
    "\n",
    "FizzBuzz:\n",
    "* Print all the numbers from 1 to 100, with the following conditions:\n",
    "    - If the number is divisible by 3, print `Fizz` instead of the number\n",
    "    - If the number is divisible by 5, print `Buzz` instead of the number\n",
    "    - If the number is divisible by 3 and 5 both, print `FizzBuzz` instead of the number\n",
    "    \n",
    "The solution looks like this:\n",
    "* 1, 2, Fizz, 4, Buzz, Fizz, ..."
   ]
  },
  {
   "cell_type": "code",
   "execution_count": 8,
   "metadata": {
    "ExecuteTime": {
     "end_time": "2023-05-25T16:33:25.288383Z",
     "start_time": "2023-05-25T16:33:25.282067Z"
    }
   },
   "outputs": [
    {
     "name": "stdout",
     "output_type": "stream",
     "text": [
      "1\n",
      "2\n",
      "Fizz\n",
      "4\n",
      "Buzz\n",
      "Fizz\n",
      "7\n",
      "8\n",
      "Fizz\n",
      "Buzz\n",
      "11\n",
      "Fizz\n",
      "13\n",
      "14\n",
      "FizzBuff\n",
      "16\n",
      "17\n",
      "Fizz\n",
      "19\n",
      "Buzz\n",
      "Fizz\n",
      "22\n",
      "23\n",
      "Fizz\n",
      "Buzz\n",
      "26\n",
      "Fizz\n",
      "28\n",
      "29\n",
      "FizzBuff\n",
      "31\n",
      "32\n",
      "Fizz\n",
      "34\n",
      "Buzz\n",
      "Fizz\n",
      "37\n",
      "38\n",
      "Fizz\n",
      "Buzz\n",
      "41\n",
      "Fizz\n",
      "43\n",
      "44\n",
      "FizzBuff\n",
      "46\n",
      "47\n",
      "Fizz\n",
      "49\n",
      "Buzz\n",
      "Fizz\n",
      "52\n",
      "53\n",
      "Fizz\n",
      "Buzz\n",
      "56\n",
      "Fizz\n",
      "58\n",
      "59\n",
      "FizzBuff\n",
      "61\n",
      "62\n",
      "Fizz\n",
      "64\n",
      "Buzz\n",
      "Fizz\n",
      "67\n",
      "68\n",
      "Fizz\n",
      "Buzz\n",
      "71\n",
      "Fizz\n",
      "73\n",
      "74\n",
      "FizzBuff\n",
      "76\n",
      "77\n",
      "Fizz\n",
      "79\n",
      "Buzz\n",
      "Fizz\n",
      "82\n",
      "83\n",
      "Fizz\n",
      "Buzz\n",
      "86\n",
      "Fizz\n",
      "88\n",
      "89\n",
      "FizzBuff\n",
      "91\n",
      "92\n",
      "Fizz\n",
      "94\n",
      "Buzz\n",
      "Fizz\n",
      "97\n",
      "98\n",
      "Fizz\n",
      "Buzz\n"
     ]
    }
   ],
   "source": [
    "# fizzbuzz\n",
    "n_list = list(range(1,101))\n",
    "for n in n_list:\n",
    "    if n % 3 == 0 and n % 5 == 0:\n",
    "        print('FizzBuff')\n",
    "    elif n % 5 == 0:\n",
    "        print('Buzz')\n",
    "    elif n % 3 == 0:\n",
    "        print('Fizz')\n",
    "    else:\n",
    "        print(n)"
   ]
  },
  {
   "attachments": {},
   "cell_type": "markdown",
   "metadata": {},
   "source": [
    "### Exercise 8\n",
    "\n",
    "Repeat the calculation from Exercise 6, but this time return the full name of the student with the most name points.\n",
    "\n",
    "Who has the shortest full name? Who has the longest full name?\n",
    "\n",
    "What's the average name points of the class?\n"
   ]
  },
  {
   "cell_type": "code",
   "execution_count": 51,
   "metadata": {
    "ExecuteTime": {
     "end_time": "2023-05-25T17:10:08.782028Z",
     "start_time": "2023-05-25T17:10:08.770609Z"
    }
   },
   "outputs": [],
   "source": [
    "students = [\n",
    "    ('Akhigbe', '', 'Ekiomoado'), \n",
    "    ('Ammar', '', 'Raouf'),\n",
    "    ('Awad', '', 'Sarah'),\n",
    "    ('Bevilacqua', '', 'Mario'),\n",
    "    ('Casarin', 'Martin del Campo', 'Arturo'),\n",
    "    ('Cerezuela', '', 'Barbero', 'María'),\n",
    "    ('Dalal', '', 'Arjun'),\n",
    "    ('Danus', '', 'Alejandro'),\n",
    "    ('Delgado', 'Alvarez Malo', 'Jorge'),\n",
    "    ('Fatahi', '', 'Nawid'),\n",
    "    ('Garcia', 'Martin', '', 'Jorge'),\n",
    "    ('Gasparelli', 'Dante', '', 'Felipe'),\n",
    "    ('Gonzalez Gago', '', 'Lucas'),\n",
    "    ('Gordon', '', 'Brennan'),\n",
    "    ('Hartmann', 'Roca', 'Santiago Felipe'),\n",
    "    ('Hayashi', '', 'Kohei'),\n",
    "    ('Khidesheli', '', 'Luka'),\n",
    "    ('Lange', '', 'Antonia'),\n",
    "    ('Lopez', 'Rosa', 'Miguel'),\n",
    "    ('Malvido', 'Prada', 'Andrés'),\n",
    "    ('Moscoso', '', 'Joaquin'),\n",
    "    ('Mousa', '', 'Mary Ann'),\n",
    "    ('Ngwenya', 'Shirley', 'Simphiwe'),\n",
    "    ('Oeljeklaus', '', 'Elisabeth Sophie'),\n",
    "    ('Ounejjar', 'Mzali', '', 'Othman'),\n",
    "    ('Perez Sanchez', '', 'Sebastian'),\n",
    "    ('Pinzon', 'Rodriguez', '', 'Aldemar'),\n",
    "    ('Rohilla', '', 'Rahul'),\n",
    "    ('Salazar', 'Villacorta', 'Diego'),\n",
    "    ('Shi', '', 'Yu'),\n",
    "    ('Talarczyk', '', 'Mateusz'),\n",
    "    ('Vega', 'Valdés', '', 'Vanessa'),\n",
    "    ('Viñuela', 'De Vicente', '', 'Ana Maria'),\n",
    "    ('von Hugo', '', 'Leopold')\n",
    "]\n"
   ]
  },
  {
   "cell_type": "code",
   "execution_count": 52,
   "outputs": [],
   "source": [
    "def get_value(f_name):\n",
    "    f_name = f_name.lower()\n",
    "\n",
    "    res = 0\n",
    "    for l in f_name:\n",
    "        # the difference of the unicode values + 1 to start at 1 not at 0\n",
    "        res = res + ord(l) - ord('a') + 1\n",
    "    return res"
   ],
   "metadata": {
    "collapsed": false,
    "ExecuteTime": {
     "end_time": "2023-05-25T17:10:10.686745Z",
     "start_time": "2023-05-25T17:10:10.682998Z"
    }
   }
  },
  {
   "cell_type": "code",
   "execution_count": 62,
   "metadata": {
    "ExecuteTime": {
     "end_time": "2023-05-25T17:17:57.912471Z",
     "start_time": "2023-05-25T17:17:57.895072Z"
    }
   },
   "outputs": [
    {
     "name": "stdout",
     "output_type": "stream",
     "text": [
      "{'EkiomoadoAkhigbe': 131, 'RaoufAmmar': 107, 'SarahAwad': 76, 'MarioBevilacqua': 149, 'ArturoMartin del CampoCasarin': 174, 'MaríaBarberoCerezuela': 331, 'ArjunDalal': 94, 'AlejandroDanus': 139, 'JorgeAlvarez MaloDelgado': 165, 'NawidFatahi': 96, 'JorgeMartinGarcia': 169, 'FelipeDanteGasparelli': 197, 'LucasGonzalez Gago': 128, 'BrennanGordon': 141, 'Santiago FelipeRocaHartmann': 201, 'KoheiHayashi': 119, 'LukaKhidesheli': 135, 'AntoniaLange': 113, 'MiguelRosaLopez': 194, 'AndrésPradaMalvido': 309, 'JoaquinMoscoso': 186, 'Mary AnnMousa': 91, 'SimphiweShirleyNgwenya': 287, 'Elisabeth SophieOeljeklaus': 200, 'OthmanMzaliOunejjar': 226, 'SebastianPerez Sanchez': 172, 'AldemarRodriguezPinzon': 271, 'RahulRohilla': 135, 'DiegoVillacortaSalazar': 231, 'YuShi': 82, 'MateuszTalarczyk': 222, 'VanessaValdésVega': 311, 'Ana MariaDe VicenteViñuela': 232, 'Leopoldvon Hugo': 117}\n",
      "\n",
      "- The average points of the class is 174.44\n",
      "- The maximum points  331.00\n",
      "- The largest full name  ArturoMartin del CampoCasarin\n",
      "- The minimum points  76.00\n",
      "- The shortest full  YuShi\n"
     ]
    }
   ],
   "source": [
    "new_students = {}\n",
    "for student in students:\n",
    "    try:\n",
    "        aux = student[3] + student[2] + student[1] + student[0]\n",
    "    except:\n",
    "        aux = student[2] + student[1] + student[0]\n",
    "    val = get_value(aux)\n",
    "    new_students[aux] = val\n",
    "\n",
    "print(new_students)\n",
    "print()\n",
    "_max = max(new_students.values())\n",
    "_min = min(new_students.values())\n",
    "avg = sum(new_students.values()) / len(new_students.values())\n",
    "l_name = max(new_students.keys(), key=len)\n",
    "s_name = min(new_students.keys(), key=len)\n",
    "print(f'- The average points of the class is {avg:,.2f}')\n",
    "print(f'- The maximum points  {_max:,.2f}')\n",
    "print(f'- The largest full name  {l_name}')\n",
    "print(f'- The minimum points  {_min:,.2f}')\n",
    "print(f'- The shortest full  {s_name}')"
   ]
  }
 ],
 "metadata": {
  "kernelspec": {
   "display_name": "base",
   "language": "python",
   "name": "python3"
  },
  "language_info": {
   "codemirror_mode": {
    "name": "ipython",
    "version": 3
   },
   "file_extension": ".py",
   "mimetype": "text/x-python",
   "name": "python",
   "nbconvert_exporter": "python",
   "pygments_lexer": "ipython3",
   "version": "3.8.16"
  },
  "orig_nbformat": 4
 },
 "nbformat": 4,
 "nbformat_minor": 2
}
