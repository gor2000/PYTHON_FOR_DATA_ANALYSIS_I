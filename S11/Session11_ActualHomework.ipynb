{
 "cells": [
  {
   "attachments": {},
   "cell_type": "markdown",
   "metadata": {},
   "source": [
    "### Exercise 1\n",
    "\n",
    "Calculate the average price per product, from the `ecomm.csv` dataset"
   ]
  },
  {
   "cell_type": "code",
   "execution_count": 2,
   "metadata": {
    "ExecuteTime": {
     "end_time": "2023-06-16T19:17:31.697294500Z",
     "start_time": "2023-06-16T19:17:29.549529300Z"
    }
   },
   "outputs": [
    {
     "data": {
      "text/plain": "   product_id reporting_date country_code  units      price    sales    cogs  \\\n0          17     2022-01-01           us     48  31.429792  1508.63 -254.48   \n1           3     2022-01-01           de      1  46.210000    46.21  -16.12   \n2          32     2022-01-01           de     39  21.330513   831.89 -178.62   \n3           9     2022-01-01           de      6   8.048333    48.29   -8.82   \n4           5     2022-01-01           nl      1  17.150000    17.15   -5.47   \n\n   discounts  refunds  advertising_fees  returns     sde    fees  \n0    -121.20   -24.36           -305.42      3.0  385.53 -428.24  \n1       0.00      NaN             -2.05      NaN   15.79  -12.25  \n2      -3.58      NaN            -79.76      NaN  269.24 -300.69  \n3      -2.51      NaN            -12.27      NaN    4.89  -19.80  \n4      -0.52      NaN             -0.44      NaN    4.91   -5.81  ",
      "text/html": "<div>\n<style scoped>\n    .dataframe tbody tr th:only-of-type {\n        vertical-align: middle;\n    }\n\n    .dataframe tbody tr th {\n        vertical-align: top;\n    }\n\n    .dataframe thead th {\n        text-align: right;\n    }\n</style>\n<table border=\"1\" class=\"dataframe\">\n  <thead>\n    <tr style=\"text-align: right;\">\n      <th></th>\n      <th>product_id</th>\n      <th>reporting_date</th>\n      <th>country_code</th>\n      <th>units</th>\n      <th>price</th>\n      <th>sales</th>\n      <th>cogs</th>\n      <th>discounts</th>\n      <th>refunds</th>\n      <th>advertising_fees</th>\n      <th>returns</th>\n      <th>sde</th>\n      <th>fees</th>\n    </tr>\n  </thead>\n  <tbody>\n    <tr>\n      <th>0</th>\n      <td>17</td>\n      <td>2022-01-01</td>\n      <td>us</td>\n      <td>48</td>\n      <td>31.429792</td>\n      <td>1508.63</td>\n      <td>-254.48</td>\n      <td>-121.20</td>\n      <td>-24.36</td>\n      <td>-305.42</td>\n      <td>3.0</td>\n      <td>385.53</td>\n      <td>-428.24</td>\n    </tr>\n    <tr>\n      <th>1</th>\n      <td>3</td>\n      <td>2022-01-01</td>\n      <td>de</td>\n      <td>1</td>\n      <td>46.210000</td>\n      <td>46.21</td>\n      <td>-16.12</td>\n      <td>0.00</td>\n      <td>NaN</td>\n      <td>-2.05</td>\n      <td>NaN</td>\n      <td>15.79</td>\n      <td>-12.25</td>\n    </tr>\n    <tr>\n      <th>2</th>\n      <td>32</td>\n      <td>2022-01-01</td>\n      <td>de</td>\n      <td>39</td>\n      <td>21.330513</td>\n      <td>831.89</td>\n      <td>-178.62</td>\n      <td>-3.58</td>\n      <td>NaN</td>\n      <td>-79.76</td>\n      <td>NaN</td>\n      <td>269.24</td>\n      <td>-300.69</td>\n    </tr>\n    <tr>\n      <th>3</th>\n      <td>9</td>\n      <td>2022-01-01</td>\n      <td>de</td>\n      <td>6</td>\n      <td>8.048333</td>\n      <td>48.29</td>\n      <td>-8.82</td>\n      <td>-2.51</td>\n      <td>NaN</td>\n      <td>-12.27</td>\n      <td>NaN</td>\n      <td>4.89</td>\n      <td>-19.80</td>\n    </tr>\n    <tr>\n      <th>4</th>\n      <td>5</td>\n      <td>2022-01-01</td>\n      <td>nl</td>\n      <td>1</td>\n      <td>17.150000</td>\n      <td>17.15</td>\n      <td>-5.47</td>\n      <td>-0.52</td>\n      <td>NaN</td>\n      <td>-0.44</td>\n      <td>NaN</td>\n      <td>4.91</td>\n      <td>-5.81</td>\n    </tr>\n  </tbody>\n</table>\n</div>"
     },
     "execution_count": 2,
     "metadata": {},
     "output_type": "execute_result"
    }
   ],
   "source": [
    "import pandas as pd\n",
    "df = pd.read_csv('ecomm.csv')\n",
    "df.head()"
   ]
  },
  {
   "cell_type": "code",
   "execution_count": 37,
   "outputs": [
    {
     "data": {
      "text/plain": "product_id\n0     49.618315\n1     49.396427\n2     49.813390\n3     49.257190\n4     18.915189\n5     20.185136\n6     21.616699\n7     21.632878\n8     19.064039\n9      8.479945\n10    14.360827\n11    15.602003\n12    25.585793\n13    48.281715\n14    44.927753\n15    45.562648\n16    51.930000\n17    38.644011\n18    30.221720\n19    49.391936\n20    30.824334\n21    38.164976\n22    30.223260\n23    24.580000\n24    33.739505\n25    22.764116\n26    38.477857\n27    14.071765\n28    14.300000\n29    14.773889\n30    23.252473\n31    18.357949\n32    25.628381\n33     8.588097\n34     9.700358\n35    27.022301\n36    16.121078\n37    23.303880\n38    42.163283\n39    15.000149\n40    18.666596\n41    20.747196\n42    21.015763\n43    17.191550\n44    17.124929\n45    17.218509\n46    17.128650\n47    25.123507\n48     9.393494\n49     9.628872\n50     9.428247\n51    15.184121\n52    14.943466\n53    16.058073\n54    14.571043\n55    15.314396\n56    24.153954\n57    13.433591\nName: price, dtype: float64"
     },
     "execution_count": 37,
     "metadata": {},
     "output_type": "execute_result"
    }
   ],
   "source": [
    "df.groupby('product_id')['price'].mean()"
   ],
   "metadata": {
    "collapsed": false,
    "ExecuteTime": {
     "end_time": "2023-06-16T20:13:03.254628600Z",
     "start_time": "2023-06-16T20:13:03.212776Z"
    }
   }
  },
  {
   "cell_type": "code",
   "execution_count": 21,
   "outputs": [
    {
     "data": {
      "text/plain": "       product_id reporting_date country_code  units      price    sales  \\\n0              17     2022-01-01           us     48  31.429792  1508.63   \n90             17     2022-01-02           us     43  30.363953  1305.65   \n119            17     2022-01-03           us     44  30.995909  1363.82   \n192            17     2022-01-04           us     50  31.288400  1564.42   \n233            17     2022-01-05           us     36  31.130833  1120.71   \n...           ...            ...          ...    ...        ...      ...   \n20309          17     2022-11-10           us     23  39.445217   907.24   \n20383          17     2022-11-11           us     20  39.178500   783.57   \n20436          17     2022-11-12           us     33  39.494242  1303.31   \n20497          17     2022-11-13           us     30  39.274667  1178.24   \n20555          17     2022-11-14           us     24  39.274583   942.59   \n\n         cogs  discounts  refunds  advertising_fees  returns     sde    fees  \n0     -254.48    -121.20   -24.36           -305.42      3.0  385.53 -428.24  \n90    -227.99     -95.55   -81.22           -235.42      1.0  293.70 -371.77  \n119   -234.81     -85.33  -158.04           -150.77      8.0  -74.58 -841.47  \n192   -267.21    -109.53   -79.13           -156.07      2.0  506.99 -450.83  \n233   -191.88     -81.78  -180.98           -137.89      6.0  245.64 -298.53  \n...       ...        ...      ...               ...      ...     ...     ...  \n20309 -135.92     -69.02  -134.18           -188.15      5.0  115.44 -282.26  \n20383 -116.99     -30.23   -98.99           -136.80      NaN   52.92 -347.64  \n20436 -193.03     -47.44   -91.57           -197.63      2.0  373.92 -399.72  \n20497 -175.48     -90.58   -87.56           -145.55      5.0  365.57 -336.90  \n20555 -140.38     -17.42   -34.14               NaN      1.0  538.40 -212.25  \n\n[333 rows x 13 columns]",
      "text/html": "<div>\n<style scoped>\n    .dataframe tbody tr th:only-of-type {\n        vertical-align: middle;\n    }\n\n    .dataframe tbody tr th {\n        vertical-align: top;\n    }\n\n    .dataframe thead th {\n        text-align: right;\n    }\n</style>\n<table border=\"1\" class=\"dataframe\">\n  <thead>\n    <tr style=\"text-align: right;\">\n      <th></th>\n      <th>product_id</th>\n      <th>reporting_date</th>\n      <th>country_code</th>\n      <th>units</th>\n      <th>price</th>\n      <th>sales</th>\n      <th>cogs</th>\n      <th>discounts</th>\n      <th>refunds</th>\n      <th>advertising_fees</th>\n      <th>returns</th>\n      <th>sde</th>\n      <th>fees</th>\n    </tr>\n  </thead>\n  <tbody>\n    <tr>\n      <th>0</th>\n      <td>17</td>\n      <td>2022-01-01</td>\n      <td>us</td>\n      <td>48</td>\n      <td>31.429792</td>\n      <td>1508.63</td>\n      <td>-254.48</td>\n      <td>-121.20</td>\n      <td>-24.36</td>\n      <td>-305.42</td>\n      <td>3.0</td>\n      <td>385.53</td>\n      <td>-428.24</td>\n    </tr>\n    <tr>\n      <th>90</th>\n      <td>17</td>\n      <td>2022-01-02</td>\n      <td>us</td>\n      <td>43</td>\n      <td>30.363953</td>\n      <td>1305.65</td>\n      <td>-227.99</td>\n      <td>-95.55</td>\n      <td>-81.22</td>\n      <td>-235.42</td>\n      <td>1.0</td>\n      <td>293.70</td>\n      <td>-371.77</td>\n    </tr>\n    <tr>\n      <th>119</th>\n      <td>17</td>\n      <td>2022-01-03</td>\n      <td>us</td>\n      <td>44</td>\n      <td>30.995909</td>\n      <td>1363.82</td>\n      <td>-234.81</td>\n      <td>-85.33</td>\n      <td>-158.04</td>\n      <td>-150.77</td>\n      <td>8.0</td>\n      <td>-74.58</td>\n      <td>-841.47</td>\n    </tr>\n    <tr>\n      <th>192</th>\n      <td>17</td>\n      <td>2022-01-04</td>\n      <td>us</td>\n      <td>50</td>\n      <td>31.288400</td>\n      <td>1564.42</td>\n      <td>-267.21</td>\n      <td>-109.53</td>\n      <td>-79.13</td>\n      <td>-156.07</td>\n      <td>2.0</td>\n      <td>506.99</td>\n      <td>-450.83</td>\n    </tr>\n    <tr>\n      <th>233</th>\n      <td>17</td>\n      <td>2022-01-05</td>\n      <td>us</td>\n      <td>36</td>\n      <td>31.130833</td>\n      <td>1120.71</td>\n      <td>-191.88</td>\n      <td>-81.78</td>\n      <td>-180.98</td>\n      <td>-137.89</td>\n      <td>6.0</td>\n      <td>245.64</td>\n      <td>-298.53</td>\n    </tr>\n    <tr>\n      <th>...</th>\n      <td>...</td>\n      <td>...</td>\n      <td>...</td>\n      <td>...</td>\n      <td>...</td>\n      <td>...</td>\n      <td>...</td>\n      <td>...</td>\n      <td>...</td>\n      <td>...</td>\n      <td>...</td>\n      <td>...</td>\n      <td>...</td>\n    </tr>\n    <tr>\n      <th>20309</th>\n      <td>17</td>\n      <td>2022-11-10</td>\n      <td>us</td>\n      <td>23</td>\n      <td>39.445217</td>\n      <td>907.24</td>\n      <td>-135.92</td>\n      <td>-69.02</td>\n      <td>-134.18</td>\n      <td>-188.15</td>\n      <td>5.0</td>\n      <td>115.44</td>\n      <td>-282.26</td>\n    </tr>\n    <tr>\n      <th>20383</th>\n      <td>17</td>\n      <td>2022-11-11</td>\n      <td>us</td>\n      <td>20</td>\n      <td>39.178500</td>\n      <td>783.57</td>\n      <td>-116.99</td>\n      <td>-30.23</td>\n      <td>-98.99</td>\n      <td>-136.80</td>\n      <td>NaN</td>\n      <td>52.92</td>\n      <td>-347.64</td>\n    </tr>\n    <tr>\n      <th>20436</th>\n      <td>17</td>\n      <td>2022-11-12</td>\n      <td>us</td>\n      <td>33</td>\n      <td>39.494242</td>\n      <td>1303.31</td>\n      <td>-193.03</td>\n      <td>-47.44</td>\n      <td>-91.57</td>\n      <td>-197.63</td>\n      <td>2.0</td>\n      <td>373.92</td>\n      <td>-399.72</td>\n    </tr>\n    <tr>\n      <th>20497</th>\n      <td>17</td>\n      <td>2022-11-13</td>\n      <td>us</td>\n      <td>30</td>\n      <td>39.274667</td>\n      <td>1178.24</td>\n      <td>-175.48</td>\n      <td>-90.58</td>\n      <td>-87.56</td>\n      <td>-145.55</td>\n      <td>5.0</td>\n      <td>365.57</td>\n      <td>-336.90</td>\n    </tr>\n    <tr>\n      <th>20555</th>\n      <td>17</td>\n      <td>2022-11-14</td>\n      <td>us</td>\n      <td>24</td>\n      <td>39.274583</td>\n      <td>942.59</td>\n      <td>-140.38</td>\n      <td>-17.42</td>\n      <td>-34.14</td>\n      <td>NaN</td>\n      <td>1.0</td>\n      <td>538.40</td>\n      <td>-212.25</td>\n    </tr>\n  </tbody>\n</table>\n<p>333 rows × 13 columns</p>\n</div>"
     },
     "execution_count": 21,
     "metadata": {},
     "output_type": "execute_result"
    }
   ],
   "source": [
    "rows_with_17 = df[df['product_id'] == 17]\n",
    "rows_with_17"
   ],
   "metadata": {
    "collapsed": false,
    "ExecuteTime": {
     "end_time": "2023-06-16T19:41:24.323696300Z",
     "start_time": "2023-06-16T19:41:24.284129600Z"
    }
   }
  },
  {
   "attachments": {},
   "cell_type": "markdown",
   "metadata": {},
   "source": [
    "### Exercise 2\n",
    "\n",
    "Which is the most expensive product?"
   ]
  },
  {
   "cell_type": "code",
   "execution_count": 24,
   "metadata": {
    "ExecuteTime": {
     "end_time": "2023-06-16T20:04:43.324351900Z",
     "start_time": "2023-06-16T20:04:43.276369Z"
    }
   },
   "outputs": [
    {
     "data": {
      "text/plain": "     product_id  price\n691          13  69.86",
      "text/html": "<div>\n<style scoped>\n    .dataframe tbody tr th:only-of-type {\n        vertical-align: middle;\n    }\n\n    .dataframe tbody tr th {\n        vertical-align: top;\n    }\n\n    .dataframe thead th {\n        text-align: right;\n    }\n</style>\n<table border=\"1\" class=\"dataframe\">\n  <thead>\n    <tr style=\"text-align: right;\">\n      <th></th>\n      <th>product_id</th>\n      <th>price</th>\n    </tr>\n  </thead>\n  <tbody>\n    <tr>\n      <th>691</th>\n      <td>13</td>\n      <td>69.86</td>\n    </tr>\n  </tbody>\n</table>\n</div>"
     },
     "execution_count": 24,
     "metadata": {},
     "output_type": "execute_result"
    }
   ],
   "source": [
    "df.loc[df['price'] == max(df['price']), ['product_id', 'price']]"
   ]
  },
  {
   "attachments": {},
   "cell_type": "markdown",
   "metadata": {},
   "source": [
    "### Exercise 3\n",
    "\n",
    "What's the country with most `advertising_fees`?\n",
    "\n",
    "And the country with less `returns`?"
   ]
  },
  {
   "cell_type": "code",
   "execution_count": 31,
   "metadata": {
    "ExecuteTime": {
     "end_time": "2023-06-16T20:09:32.576254100Z",
     "start_time": "2023-06-16T20:09:32.556223Z"
    }
   },
   "outputs": [
    {
     "data": {
      "text/plain": "      country_code  advertising_fees\n11965           us           -1305.1",
      "text/html": "<div>\n<style scoped>\n    .dataframe tbody tr th:only-of-type {\n        vertical-align: middle;\n    }\n\n    .dataframe tbody tr th {\n        vertical-align: top;\n    }\n\n    .dataframe thead th {\n        text-align: right;\n    }\n</style>\n<table border=\"1\" class=\"dataframe\">\n  <thead>\n    <tr style=\"text-align: right;\">\n      <th></th>\n      <th>country_code</th>\n      <th>advertising_fees</th>\n    </tr>\n  </thead>\n  <tbody>\n    <tr>\n      <th>11965</th>\n      <td>us</td>\n      <td>-1305.1</td>\n    </tr>\n  </tbody>\n</table>\n</div>"
     },
     "execution_count": 31,
     "metadata": {},
     "output_type": "execute_result"
    }
   ],
   "source": [
    "df.loc[df['advertising_fees'] == min(df['advertising_fees']), ['country_code', 'advertising_fees']]"
   ]
  },
  {
   "cell_type": "code",
   "execution_count": 36,
   "outputs": [
    {
     "data": {
      "text/plain": "      country_code  returns\n49              de      1.0\n85              us      1.0\n124             it      1.0\n326             nl      1.0\n826             fr      1.0\n3164            es      1.0\n15841           uk      1.0",
      "text/html": "<div>\n<style scoped>\n    .dataframe tbody tr th:only-of-type {\n        vertical-align: middle;\n    }\n\n    .dataframe tbody tr th {\n        vertical-align: top;\n    }\n\n    .dataframe thead th {\n        text-align: right;\n    }\n</style>\n<table border=\"1\" class=\"dataframe\">\n  <thead>\n    <tr style=\"text-align: right;\">\n      <th></th>\n      <th>country_code</th>\n      <th>returns</th>\n    </tr>\n  </thead>\n  <tbody>\n    <tr>\n      <th>49</th>\n      <td>de</td>\n      <td>1.0</td>\n    </tr>\n    <tr>\n      <th>85</th>\n      <td>us</td>\n      <td>1.0</td>\n    </tr>\n    <tr>\n      <th>124</th>\n      <td>it</td>\n      <td>1.0</td>\n    </tr>\n    <tr>\n      <th>326</th>\n      <td>nl</td>\n      <td>1.0</td>\n    </tr>\n    <tr>\n      <th>826</th>\n      <td>fr</td>\n      <td>1.0</td>\n    </tr>\n    <tr>\n      <th>3164</th>\n      <td>es</td>\n      <td>1.0</td>\n    </tr>\n    <tr>\n      <th>15841</th>\n      <td>uk</td>\n      <td>1.0</td>\n    </tr>\n  </tbody>\n</table>\n</div>"
     },
     "execution_count": 36,
     "metadata": {},
     "output_type": "execute_result"
    }
   ],
   "source": [
    "df.loc[df['returns'] == min(df['returns']), ['country_code', 'returns']].drop_duplicates()"
   ],
   "metadata": {
    "collapsed": false,
    "ExecuteTime": {
     "end_time": "2023-06-16T20:10:58.271163200Z",
     "start_time": "2023-06-16T20:10:58.233135Z"
    }
   }
  }
 ],
 "metadata": {
  "language_info": {
   "name": "python"
  },
  "orig_nbformat": 4,
  "kernelspec": {
   "name": "python3",
   "language": "python",
   "display_name": "Python 3 (ipykernel)"
  }
 },
 "nbformat": 4,
 "nbformat_minor": 2
}
