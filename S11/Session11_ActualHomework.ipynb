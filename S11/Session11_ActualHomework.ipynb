{
 "cells": [
  {
   "attachments": {},
   "cell_type": "markdown",
   "metadata": {},
   "source": [
    "### Exercise 1\n",
    "\n",
    "Calculate the average price per product, from the `ecomm.csv` dataset"
   ]
  },
  {
   "cell_type": "code",
   "execution_count": 8,
   "metadata": {
    "ExecuteTime": {
     "end_time": "2023-06-16T17:16:42.081432Z",
     "start_time": "2023-06-16T17:16:42.030399Z"
    }
   },
   "outputs": [
    {
     "data": {
      "text/plain": "   product_id reporting_date country_code  units      price    sales    cogs  \\\n0          17     2022-01-01           us     48  31.429792  1508.63 -254.48   \n1           3     2022-01-01           de      1  46.210000    46.21  -16.12   \n2          32     2022-01-01           de     39  21.330513   831.89 -178.62   \n3           9     2022-01-01           de      6   8.048333    48.29   -8.82   \n4           5     2022-01-01           nl      1  17.150000    17.15   -5.47   \n\n   discounts  refunds  advertising_fees  returns     sde    fees  \n0    -121.20   -24.36           -305.42      3.0  385.53 -428.24  \n1       0.00      NaN             -2.05      NaN   15.79  -12.25  \n2      -3.58      NaN            -79.76      NaN  269.24 -300.69  \n3      -2.51      NaN            -12.27      NaN    4.89  -19.80  \n4      -0.52      NaN             -0.44      NaN    4.91   -5.81  ",
      "text/html": "<div>\n<style scoped>\n    .dataframe tbody tr th:only-of-type {\n        vertical-align: middle;\n    }\n\n    .dataframe tbody tr th {\n        vertical-align: top;\n    }\n\n    .dataframe thead th {\n        text-align: right;\n    }\n</style>\n<table border=\"1\" class=\"dataframe\">\n  <thead>\n    <tr style=\"text-align: right;\">\n      <th></th>\n      <th>product_id</th>\n      <th>reporting_date</th>\n      <th>country_code</th>\n      <th>units</th>\n      <th>price</th>\n      <th>sales</th>\n      <th>cogs</th>\n      <th>discounts</th>\n      <th>refunds</th>\n      <th>advertising_fees</th>\n      <th>returns</th>\n      <th>sde</th>\n      <th>fees</th>\n    </tr>\n  </thead>\n  <tbody>\n    <tr>\n      <th>0</th>\n      <td>17</td>\n      <td>2022-01-01</td>\n      <td>us</td>\n      <td>48</td>\n      <td>31.429792</td>\n      <td>1508.63</td>\n      <td>-254.48</td>\n      <td>-121.20</td>\n      <td>-24.36</td>\n      <td>-305.42</td>\n      <td>3.0</td>\n      <td>385.53</td>\n      <td>-428.24</td>\n    </tr>\n    <tr>\n      <th>1</th>\n      <td>3</td>\n      <td>2022-01-01</td>\n      <td>de</td>\n      <td>1</td>\n      <td>46.210000</td>\n      <td>46.21</td>\n      <td>-16.12</td>\n      <td>0.00</td>\n      <td>NaN</td>\n      <td>-2.05</td>\n      <td>NaN</td>\n      <td>15.79</td>\n      <td>-12.25</td>\n    </tr>\n    <tr>\n      <th>2</th>\n      <td>32</td>\n      <td>2022-01-01</td>\n      <td>de</td>\n      <td>39</td>\n      <td>21.330513</td>\n      <td>831.89</td>\n      <td>-178.62</td>\n      <td>-3.58</td>\n      <td>NaN</td>\n      <td>-79.76</td>\n      <td>NaN</td>\n      <td>269.24</td>\n      <td>-300.69</td>\n    </tr>\n    <tr>\n      <th>3</th>\n      <td>9</td>\n      <td>2022-01-01</td>\n      <td>de</td>\n      <td>6</td>\n      <td>8.048333</td>\n      <td>48.29</td>\n      <td>-8.82</td>\n      <td>-2.51</td>\n      <td>NaN</td>\n      <td>-12.27</td>\n      <td>NaN</td>\n      <td>4.89</td>\n      <td>-19.80</td>\n    </tr>\n    <tr>\n      <th>4</th>\n      <td>5</td>\n      <td>2022-01-01</td>\n      <td>nl</td>\n      <td>1</td>\n      <td>17.150000</td>\n      <td>17.15</td>\n      <td>-5.47</td>\n      <td>-0.52</td>\n      <td>NaN</td>\n      <td>-0.44</td>\n      <td>NaN</td>\n      <td>4.91</td>\n      <td>-5.81</td>\n    </tr>\n  </tbody>\n</table>\n</div>"
     },
     "execution_count": 8,
     "metadata": {},
     "output_type": "execute_result"
    }
   ],
   "source": [
    "import pandas as pd\n",
    "df = pd.read_csv('ecomm.csv')\n",
    "df.head()"
   ]
  },
  {
   "cell_type": "code",
   "execution_count": null,
   "outputs": [],
   "source": [],
   "metadata": {
    "collapsed": false
   }
  },
  {
   "attachments": {},
   "cell_type": "markdown",
   "metadata": {},
   "source": [
    "### Exercise 2\n",
    "\n",
    "Which is the most expensive product?"
   ]
  },
  {
   "cell_type": "code",
   "execution_count": null,
   "metadata": {},
   "outputs": [],
   "source": []
  },
  {
   "attachments": {},
   "cell_type": "markdown",
   "metadata": {},
   "source": [
    "### Exercise 3\n",
    "\n",
    "What's the country with most `advertising_fees`?\n",
    "\n",
    "And the country with less `returns`?"
   ]
  },
  {
   "cell_type": "code",
   "execution_count": null,
   "metadata": {},
   "outputs": [],
   "source": []
  }
 ],
 "metadata": {
  "language_info": {
   "name": "python"
  },
  "orig_nbformat": 4,
  "kernelspec": {
   "name": "python3",
   "language": "python",
   "display_name": "Python 3 (ipykernel)"
  }
 },
 "nbformat": 4,
 "nbformat_minor": 2
}
