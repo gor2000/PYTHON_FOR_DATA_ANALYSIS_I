{
 "cells": [
  {
   "cell_type": "markdown",
   "id": "1f9d9551-468f-48e7-a8f5-88f64f56f733",
   "metadata": {},
   "source": [
    "# Session 11: Introduction to Pandas and data manipulation"
   ]
  },
  {
   "cell_type": "markdown",
   "id": "76a8c5c7-7857-44bc-b150-73a5bda1a86e",
   "metadata": {},
   "source": [
    "`pandas` is a Python library that uses `NumPy` under the hood. `pandas` allows us to perform data analysis and manipulation for tabular data. \n",
    "\n",
    "We can use pandas by importing it\n",
    "```Python\n",
    "import pandas\n",
    "```\n",
    "Or using its well known alias `pd`\n",
    "```Python\n",
    "import pandas as pd\n",
    "```"
   ]
  },
  {
   "cell_type": "code",
   "execution_count": 2,
   "id": "bf67f509-ae09-4cc6-a0d0-6446382a7c2b",
   "metadata": {
    "ExecuteTime": {
     "end_time": "2023-06-16T16:06:21.746604Z",
     "start_time": "2023-06-16T16:06:21.723099Z"
    }
   },
   "outputs": [],
   "source": [
    "# importing pandas as its shorter alias: pd\n",
    "import pandas as pd"
   ]
  },
  {
   "cell_type": "markdown",
   "id": "c9e83ff0-16ac-4604-9f51-da49e400e41b",
   "metadata": {},
   "source": [
    "Now that we have loaded `pandas` we can start using it. But first, some of its main classes and functionalities."
   ]
  },
  {
   "cell_type": "markdown",
   "id": "5be3c4f0-d1fb-4b4d-adaf-3d3a19ab1600",
   "metadata": {},
   "source": [
    "## Pandas series\n",
    "\n",
    "`pd.Series` is a pandas object that contains one dimensional data in an array-like data structure.\n",
    "\n",
    "For each element in a `pd.Series`, a label is assigned to it: the `index`.\n",
    "\n",
    "`pd.Series` can be created from lists, dictionaries, `NumPy` arrays, etc, and can contain integers, floats, strings, booleans, datetimes, ...\n",
    "\n",
    "Let's create a series that contains the following elements `[1, 2, 3]` and let's assign the following labels (`index`) to them `[\"elem1\", \"elem2\", \"elem3\"]`"
   ]
  },
  {
   "cell_type": "code",
   "execution_count": 3,
   "id": "8aeb048d-2b88-4062-9a83-c467cfd3ca36",
   "metadata": {
    "ExecuteTime": {
     "end_time": "2023-06-16T16:06:34.527693Z",
     "start_time": "2023-06-16T16:06:34.514464Z"
    }
   },
   "outputs": [
    {
     "data": {
      "text/plain": "elem1    1\nelem2    2\nelem3    3\ndtype: int64"
     },
     "execution_count": 3,
     "metadata": {},
     "output_type": "execute_result"
    }
   ],
   "source": [
    "# specifying the index\n",
    "\n",
    "s = pd.Series(\n",
    "    [1, 2, 3], \n",
    "    index=[\"elem1\", \"elem2\", \"elem3\"]\n",
    ")\n",
    "\n",
    "s"
   ]
  },
  {
   "cell_type": "code",
   "execution_count": 4,
   "id": "58720895-47e6-4a40-91ce-f3598145c6f7",
   "metadata": {
    "ExecuteTime": {
     "end_time": "2023-06-16T16:08:20.972748Z",
     "start_time": "2023-06-16T16:08:20.962156Z"
    }
   },
   "outputs": [
    {
     "data": {
      "text/plain": "pandas.core.indexes.base.Index"
     },
     "execution_count": 4,
     "metadata": {},
     "output_type": "execute_result"
    }
   ],
   "source": [
    "type(s.index)"
   ]
  },
  {
   "cell_type": "code",
   "execution_count": 5,
   "id": "e4c404e4-3812-4857-85bb-b2707e28533e",
   "metadata": {
    "ExecuteTime": {
     "end_time": "2023-06-16T16:08:24.342867Z",
     "start_time": "2023-06-16T16:08:24.330877Z"
    }
   },
   "outputs": [
    {
     "data": {
      "text/plain": "numpy.int64"
     },
     "execution_count": 5,
     "metadata": {},
     "output_type": "execute_result"
    }
   ],
   "source": [
    "type(s.values[0])"
   ]
  },
  {
   "cell_type": "code",
   "execution_count": 6,
   "id": "a62574f2-01f9-4dcf-b68b-845eba5804e2",
   "metadata": {
    "ExecuteTime": {
     "end_time": "2023-06-16T16:08:29.712711Z",
     "start_time": "2023-06-16T16:08:29.702468Z"
    }
   },
   "outputs": [
    {
     "data": {
      "text/plain": "elem1    1\nelem2    2\nelem3    3\na        4\ndtype: int64"
     },
     "execution_count": 6,
     "metadata": {},
     "output_type": "execute_result"
    }
   ],
   "source": [
    "# without specifying the index you get an index of 0, 1, 2\n",
    "\n",
    "s = pd.Series([1, 2, 3, 4], index=[\"elem1\", \"elem2\", \"elem3\", \"a\"])\n",
    "\n",
    "s"
   ]
  },
  {
   "cell_type": "markdown",
   "id": "0b7bd9bb-0813-4159-a7a1-910a17ee8dd7",
   "metadata": {
    "tags": []
   },
   "source": [
    "### Series elements\n",
    "\n",
    "`pd.Series` have two main properties: `values` and `index`. \n",
    "\n",
    "We can extract the values contained in a series or the index that labels the values."
   ]
  },
  {
   "cell_type": "code",
   "execution_count": 12,
   "id": "810ce5bf-cace-4aef-9c3e-2c31283527cf",
   "metadata": {
    "ExecuteTime": {
     "end_time": "2023-06-16T16:16:48.633420Z",
     "start_time": "2023-06-16T16:16:48.624966Z"
    }
   },
   "outputs": [
    {
     "name": "stdout",
     "output_type": "stream",
     "text": [
      "[1 2 3 4]\n",
      "<class 'numpy.ndarray'>\n"
     ]
    }
   ],
   "source": [
    "print(s.values)\n",
    "print(type(s.values))"
   ]
  },
  {
   "cell_type": "code",
   "execution_count": 8,
   "id": "42d723b8-f4a3-4d6a-924c-8dbb924ea70e",
   "metadata": {
    "ExecuteTime": {
     "end_time": "2023-06-16T16:09:07.143614Z",
     "start_time": "2023-06-16T16:09:07.134708Z"
    }
   },
   "outputs": [
    {
     "data": {
      "text/plain": "[1, 2, 3, 4]"
     },
     "execution_count": 8,
     "metadata": {},
     "output_type": "execute_result"
    }
   ],
   "source": [
    "list(s.values)"
   ]
  },
  {
   "cell_type": "code",
   "execution_count": 9,
   "id": "c0ed3b84-69c5-472c-a6d5-07797274bffe",
   "metadata": {
    "ExecuteTime": {
     "end_time": "2023-06-16T16:09:08.742719Z",
     "start_time": "2023-06-16T16:09:08.734819Z"
    }
   },
   "outputs": [
    {
     "name": "stdout",
     "output_type": "stream",
     "text": [
      "Index(['elem1', 'elem2', 'elem3', 'a'], dtype='object')\n",
      "<class 'pandas.core.indexes.base.Index'>\n"
     ]
    }
   ],
   "source": [
    "print(s.index)\n",
    "print(type(s.index))"
   ]
  },
  {
   "cell_type": "markdown",
   "id": "5878d772-b0e9-4496-8f2e-679cace5701a",
   "metadata": {},
   "source": [
    "As we can see, the `values` are a `NumPy` array, whereas the `index` is a `pandas.Index` object"
   ]
  },
  {
   "cell_type": "markdown",
   "id": "c85ca344-d54c-4a7f-90f2-c3d6dd3cc903",
   "metadata": {},
   "source": [
    "When `index` is not specified, `pandas` will use 0, 1, ..., N as indices."
   ]
  },
  {
   "cell_type": "code",
   "execution_count": 10,
   "id": "cfffa3d2-b444-4e4d-834f-4111fa7e7c2f",
   "metadata": {
    "ExecuteTime": {
     "end_time": "2023-06-16T16:09:11.164834Z",
     "start_time": "2023-06-16T16:09:11.153037Z"
    }
   },
   "outputs": [
    {
     "data": {
      "text/plain": "1"
     },
     "execution_count": 10,
     "metadata": {},
     "output_type": "execute_result"
    }
   ],
   "source": [
    "s[0]"
   ]
  },
  {
   "cell_type": "markdown",
   "id": "d9abc38e-30d4-4914-8a10-03587bcf32b0",
   "metadata": {
    "tags": []
   },
   "source": [
    "### Creating `pd.Series`\n",
    "\n",
    "We can use the following objects as the argument of `pd.Series`\n",
    "\n",
    "* From `list`, `tuple`\n",
    "* From `np.array`\n",
    "* From `dict`\n",
    "* From `range()`"
   ]
  },
  {
   "cell_type": "code",
   "execution_count": 11,
   "id": "c562922d-11fa-4aa3-b851-1d3d644b3eca",
   "metadata": {
    "ExecuteTime": {
     "end_time": "2023-06-16T16:09:14.904579Z",
     "start_time": "2023-06-16T16:09:14.878373Z"
    }
   },
   "outputs": [
    {
     "name": "stdout",
     "output_type": "stream",
     "text": [
      "Series from list: 0    1\n",
      "1    2\n",
      "2    3\n",
      "dtype: object\n",
      "Series from list: 0    1\n",
      "1    2\n",
      "2    3\n",
      "dtype: object\n",
      "Series from array: 0    1\n",
      "1    2\n",
      "2    3\n",
      "dtype: int64\n",
      "Series from dict: x    1\n",
      "y    2\n",
      "z    3\n",
      "dtype: int64\n",
      "Series from dict: 0    0\n",
      "1    1\n",
      "2    2\n",
      "3    3\n",
      "4    4\n",
      "dtype: int64\n"
     ]
    }
   ],
   "source": [
    "import numpy as np\n",
    "\n",
    "# from list\n",
    "s_list = pd.Series([\"1\", \"2\", \"3\"])\n",
    "\n",
    "# from tuple\n",
    "s_tuple = pd.Series((\"1\", \"2\", \"3\"))\n",
    "\n",
    "# from np.array\n",
    "s_array = pd.Series(np.array((1, 2, 3)))\n",
    "\n",
    "# from dict\n",
    "s_dict = pd.Series({\"x\": 1, \"y\": 2, \"z\": 3, })\n",
    "\n",
    "# from range\n",
    "s_range = pd.Series(range(5))\n",
    "\n",
    "print(f\"Series from list: {s_list}\")\n",
    "print(f\"Series from list: {s_tuple}\")\n",
    "print(f\"Series from array: {s_array}\")\n",
    "print(f\"Series from dict: {s_dict}\")\n",
    "print(f\"Series from dict: {s_range}\")"
   ]
  },
  {
   "cell_type": "markdown",
   "id": "660c3a39-da1a-4f7f-8503-790880949f4e",
   "metadata": {},
   "source": [
    "### `pd.Series` basic properties and methods"
   ]
  },
  {
   "cell_type": "code",
   "execution_count": 15,
   "id": "d35b077a-ac08-454e-b5c7-d522f5618216",
   "metadata": {
    "ExecuteTime": {
     "end_time": "2023-06-16T16:21:28.993143Z",
     "start_time": "2023-06-16T16:21:28.982145Z"
    }
   },
   "outputs": [],
   "source": [
    "s = pd.Series([1, 2, 3, 4])"
   ]
  },
  {
   "cell_type": "code",
   "execution_count": 16,
   "id": "1f95af2a-47be-428b-b2ac-ad5d2984bea3",
   "metadata": {
    "ExecuteTime": {
     "end_time": "2023-06-16T16:21:29.871176Z",
     "start_time": "2023-06-16T16:21:29.861126Z"
    }
   },
   "outputs": [
    {
     "data": {
      "text/plain": "0    1\n1    2\n2    3\n3    4\ndtype: int64"
     },
     "execution_count": 16,
     "metadata": {},
     "output_type": "execute_result"
    }
   ],
   "source": [
    "s"
   ]
  },
  {
   "cell_type": "code",
   "execution_count": 18,
   "id": "599703f2-0988-4302-81ee-a65894ec0d20",
   "metadata": {
    "ExecuteTime": {
     "end_time": "2023-06-16T16:21:35.496317Z",
     "start_time": "2023-06-16T16:21:35.478136Z"
    }
   },
   "outputs": [
    {
     "name": "stdout",
     "output_type": "stream",
     "text": [
      "4\n"
     ]
    }
   ],
   "source": [
    "# length: `len(s)`\n",
    "\n",
    "print(len(s))"
   ]
  },
  {
   "cell_type": "code",
   "execution_count": 19,
   "id": "f261bfcd-5867-427e-b624-e0045fb94474",
   "metadata": {
    "ExecuteTime": {
     "end_time": "2023-06-16T16:21:37.300693Z",
     "start_time": "2023-06-16T16:21:37.291300Z"
    }
   },
   "outputs": [
    {
     "data": {
      "text/plain": "(4,)"
     },
     "execution_count": 19,
     "metadata": {},
     "output_type": "execute_result"
    }
   ],
   "source": [
    "# shape: `s.shape`\n",
    "s.shape"
   ]
  },
  {
   "cell_type": "code",
   "execution_count": 20,
   "id": "62076644-d9ca-4f22-94fb-cc1ce06d2a0e",
   "metadata": {
    "ExecuteTime": {
     "end_time": "2023-06-16T16:21:52.591047Z",
     "start_time": "2023-06-16T16:21:52.571996Z"
    }
   },
   "outputs": [
    {
     "data": {
      "text/plain": "True"
     },
     "execution_count": 20,
     "metadata": {},
     "output_type": "execute_result"
    }
   ],
   "source": [
    "len(s)==s.shape[0]"
   ]
  },
  {
   "cell_type": "code",
   "execution_count": 21,
   "id": "9b2644e4-2dab-4ed1-a928-183667418874",
   "metadata": {
    "ExecuteTime": {
     "end_time": "2023-06-16T16:22:03.218790Z",
     "start_time": "2023-06-16T16:22:03.208513Z"
    }
   },
   "outputs": [
    {
     "data": {
      "text/plain": "2147483648"
     },
     "execution_count": 21,
     "metadata": {},
     "output_type": "execute_result"
    }
   ],
   "source": [
    "2**(32-1)"
   ]
  },
  {
   "cell_type": "code",
   "execution_count": 22,
   "id": "c5f92be5-3d60-4e0e-b1f5-4cabfea2e4e5",
   "metadata": {
    "ExecuteTime": {
     "end_time": "2023-06-16T16:22:05.321443Z",
     "start_time": "2023-06-16T16:22:05.288007Z"
    }
   },
   "outputs": [
    {
     "data": {
      "text/plain": "pandas.core.series.Series"
     },
     "execution_count": 22,
     "metadata": {},
     "output_type": "execute_result"
    }
   ],
   "source": [
    "type(s)"
   ]
  },
  {
   "cell_type": "code",
   "execution_count": 23,
   "id": "16269e99-7b3f-4778-839a-47ed105bdaae",
   "metadata": {
    "ExecuteTime": {
     "end_time": "2023-06-16T16:22:07.226116Z",
     "start_time": "2023-06-16T16:22:07.208256Z"
    }
   },
   "outputs": [
    {
     "data": {
      "text/plain": "dtype('int64')"
     },
     "execution_count": 23,
     "metadata": {},
     "output_type": "execute_result"
    }
   ],
   "source": [
    "# type of elements\n",
    "\n",
    "s.dtype"
   ]
  },
  {
   "cell_type": "code",
   "execution_count": 24,
   "id": "145ebab4-8554-4a1e-80c8-e8a99f256e12",
   "metadata": {
    "ExecuteTime": {
     "end_time": "2023-06-16T16:22:09.584218Z",
     "start_time": "2023-06-16T16:22:09.560575Z"
    }
   },
   "outputs": [
    {
     "data": {
      "text/plain": "2"
     },
     "execution_count": 24,
     "metadata": {},
     "output_type": "execute_result"
    }
   ],
   "source": [
    "# selecting a certain element according to the index: `get()`\n",
    "ser = pd.Series({\"a\": 1, \"b\": 2, \"c\": 3})\n",
    "\n",
    "ser.get(\"b\")"
   ]
  },
  {
   "cell_type": "markdown",
   "id": "059af60a-8159-4cf2-9936-b255d82af94b",
   "metadata": {
    "tags": []
   },
   "source": [
    "## Pandas DataFrames\n",
    "\n",
    "If we aggregate several series together we can build a `pd.DataFrame`. These objects are table-like structures in which each row is represented by its own `index` and each column is represented by a column name.\n",
    "\n",
    "A `pd.DataFrame` is, in the end, a `NumPy` matrix of `n` rows and `m` columns, with labels for each row and column."
   ]
  },
  {
   "cell_type": "markdown",
   "id": "82a18493-b7ec-45a0-8825-468634b6aec9",
   "metadata": {},
   "source": [
    "### How to create a `pd.DataFrame`\n",
    "\n",
    "We can use the following objects as the argument of `pd.DataFrame`\n",
    "\n",
    "* From dict of `pd.Series`: the keys will be the name of the columns\n",
    "* From list of dicts: the keys will be the name of the columns\n",
    "* From dict of lists: the keys will be the name of the columns \n",
    "..."
   ]
  },
  {
   "cell_type": "code",
   "execution_count": 25,
   "id": "54382a86-4485-47ae-a2c3-657ace7c9c99",
   "metadata": {
    "ExecuteTime": {
     "end_time": "2023-06-16T16:25:33.058495Z",
     "start_time": "2023-06-16T16:25:33.037423Z"
    }
   },
   "outputs": [
    {
     "data": {
      "text/plain": "   var1  var2\n0     1     2\n1     2     3\n2     3     4\n3     4     5",
      "text/html": "<div>\n<style scoped>\n    .dataframe tbody tr th:only-of-type {\n        vertical-align: middle;\n    }\n\n    .dataframe tbody tr th {\n        vertical-align: top;\n    }\n\n    .dataframe thead th {\n        text-align: right;\n    }\n</style>\n<table border=\"1\" class=\"dataframe\">\n  <thead>\n    <tr style=\"text-align: right;\">\n      <th></th>\n      <th>var1</th>\n      <th>var2</th>\n    </tr>\n  </thead>\n  <tbody>\n    <tr>\n      <th>0</th>\n      <td>1</td>\n      <td>2</td>\n    </tr>\n    <tr>\n      <th>1</th>\n      <td>2</td>\n      <td>3</td>\n    </tr>\n    <tr>\n      <th>2</th>\n      <td>3</td>\n      <td>4</td>\n    </tr>\n    <tr>\n      <th>3</th>\n      <td>4</td>\n      <td>5</td>\n    </tr>\n  </tbody>\n</table>\n</div>"
     },
     "execution_count": 25,
     "metadata": {},
     "output_type": "execute_result"
    }
   ],
   "source": [
    "# from dict of pd.Series\n",
    "\n",
    "series1 = pd.Series([1, 2, 3, 4])\n",
    "series2 = pd.Series([2, 3, 4, 5])\n",
    "\n",
    "df = pd.DataFrame(\n",
    "    {\n",
    "        \"var1\": series1,\n",
    "        \"var2\": series2\n",
    "    }\n",
    ")\n",
    "\n",
    "df"
   ]
  },
  {
   "cell_type": "code",
   "execution_count": 26,
   "id": "4fe1eac9-8ee0-45c3-958f-c7ab58ca23e5",
   "metadata": {
    "ExecuteTime": {
     "end_time": "2023-06-16T16:25:48.239790Z",
     "start_time": "2023-06-16T16:25:48.204052Z"
    }
   },
   "outputs": [
    {
     "data": {
      "text/plain": "   dani pedro\n0     1     a\n1     2     b\n2     3     c",
      "text/html": "<div>\n<style scoped>\n    .dataframe tbody tr th:only-of-type {\n        vertical-align: middle;\n    }\n\n    .dataframe tbody tr th {\n        vertical-align: top;\n    }\n\n    .dataframe thead th {\n        text-align: right;\n    }\n</style>\n<table border=\"1\" class=\"dataframe\">\n  <thead>\n    <tr style=\"text-align: right;\">\n      <th></th>\n      <th>dani</th>\n      <th>pedro</th>\n    </tr>\n  </thead>\n  <tbody>\n    <tr>\n      <th>0</th>\n      <td>1</td>\n      <td>a</td>\n    </tr>\n    <tr>\n      <th>1</th>\n      <td>2</td>\n      <td>b</td>\n    </tr>\n    <tr>\n      <th>2</th>\n      <td>3</td>\n      <td>c</td>\n    </tr>\n  </tbody>\n</table>\n</div>"
     },
     "execution_count": 26,
     "metadata": {},
     "output_type": "execute_result"
    }
   ],
   "source": [
    "df = pd.DataFrame(\n",
    "    {\n",
    "        \"dani\": [1, 2, 3],\n",
    "        \"pedro\": [\"a\", \"b\", \"c\"]\n",
    "    }\n",
    ")\n",
    "\n",
    "df"
   ]
  },
  {
   "cell_type": "code",
   "execution_count": 27,
   "id": "89d169dc-21b5-4436-8543-87edcb8cfd12",
   "metadata": {
    "ExecuteTime": {
     "end_time": "2023-06-16T16:25:50.701997Z",
     "start_time": "2023-06-16T16:25:50.676272Z"
    }
   },
   "outputs": [
    {
     "data": {
      "text/plain": "array([[1, 'a'],\n       [2, 'b'],\n       [3, 'c']], dtype=object)"
     },
     "execution_count": 27,
     "metadata": {},
     "output_type": "execute_result"
    }
   ],
   "source": [
    "df.values"
   ]
  },
  {
   "cell_type": "code",
   "execution_count": 31,
   "id": "2ccb4d9a-6cbc-43e1-9546-2cf1db8d435d",
   "metadata": {
    "ExecuteTime": {
     "end_time": "2023-06-16T16:26:53.391513Z",
     "start_time": "2023-06-16T16:26:53.381455Z"
    }
   },
   "outputs": [
    {
     "data": {
      "text/plain": "[0, 1, 2]"
     },
     "execution_count": 31,
     "metadata": {},
     "output_type": "execute_result"
    }
   ],
   "source": [
    "list(df.index)"
   ]
  },
  {
   "cell_type": "code",
   "execution_count": 32,
   "id": "82d9df31-87cc-4551-88c7-82fbc8594cbf",
   "metadata": {
    "ExecuteTime": {
     "end_time": "2023-06-16T16:26:54.333626Z",
     "start_time": "2023-06-16T16:26:54.326438Z"
    }
   },
   "outputs": [
    {
     "data": {
      "text/plain": "Index(['dani', 'pedro'], dtype='object')"
     },
     "execution_count": 32,
     "metadata": {},
     "output_type": "execute_result"
    }
   ],
   "source": [
    "df.columns"
   ]
  },
  {
   "cell_type": "code",
   "execution_count": 33,
   "id": "8c7988c4-bbda-4b08-bef0-7e2f741083df",
   "metadata": {
    "ExecuteTime": {
     "end_time": "2023-06-16T16:26:55.989848Z",
     "start_time": "2023-06-16T16:26:55.965922Z"
    }
   },
   "outputs": [
    {
     "data": {
      "text/plain": "Name      object\nAge       object\nFurry       bool\nHeight     int64\ndtype: object"
     },
     "execution_count": 33,
     "metadata": {},
     "output_type": "execute_result"
    }
   ],
   "source": [
    "# from list of dicts\n",
    "\n",
    "list_of_dicts = [\n",
    "    {\"Name\": \"Daniel\", \"Age\": 34, \"Furry\": False, \"Height\": 178},\n",
    "    {\"Name\": \"Churro\", \"Age\": 9, \"Furry\": True, \"Height\": 60},\n",
    "    {\"Name\": \"Plant\", \"Age\": \"None\", \"Furry\": False, \"Height\": 40},\n",
    "]\n",
    "\n",
    "pd.DataFrame(list_of_dicts).dtypes"
   ]
  },
  {
   "cell_type": "code",
   "execution_count": 34,
   "id": "1bbd917e-0928-44ab-8b9f-2f0785c5d77a",
   "metadata": {
    "ExecuteTime": {
     "end_time": "2023-06-16T16:27:18.737284Z",
     "start_time": "2023-06-16T16:27:18.709626Z"
    }
   },
   "outputs": [
    {
     "data": {
      "text/plain": "      var1  var2   var3  var4\n0     Good    32  False   178\n1  Average     6   True    60\n2      Bad     1   None    40",
      "text/html": "<div>\n<style scoped>\n    .dataframe tbody tr th:only-of-type {\n        vertical-align: middle;\n    }\n\n    .dataframe tbody tr th {\n        vertical-align: top;\n    }\n\n    .dataframe thead th {\n        text-align: right;\n    }\n</style>\n<table border=\"1\" class=\"dataframe\">\n  <thead>\n    <tr style=\"text-align: right;\">\n      <th></th>\n      <th>var1</th>\n      <th>var2</th>\n      <th>var3</th>\n      <th>var4</th>\n    </tr>\n  </thead>\n  <tbody>\n    <tr>\n      <th>0</th>\n      <td>Good</td>\n      <td>32</td>\n      <td>False</td>\n      <td>178</td>\n    </tr>\n    <tr>\n      <th>1</th>\n      <td>Average</td>\n      <td>6</td>\n      <td>True</td>\n      <td>60</td>\n    </tr>\n    <tr>\n      <th>2</th>\n      <td>Bad</td>\n      <td>1</td>\n      <td>None</td>\n      <td>40</td>\n    </tr>\n  </tbody>\n</table>\n</div>"
     },
     "execution_count": 34,
     "metadata": {},
     "output_type": "execute_result"
    }
   ],
   "source": [
    "# from dict of lists\n",
    "dict_lists = {\n",
    "    \"var1\": [\"Good\", \"Average\", \"Bad\"],\n",
    "    \"var2\": [32, 6, 1],\n",
    "    \"var3\": [False, True, None],\n",
    "    \"var4\": [178, 60, 40]\n",
    "}\n",
    "\n",
    "pd.DataFrame(dict_lists)"
   ]
  },
  {
   "cell_type": "markdown",
   "id": "c354e456-e1c3-42d1-99d7-cf98873b87cd",
   "metadata": {},
   "source": [
    "### `pd.DataFrame` basic properties and methods"
   ]
  },
  {
   "cell_type": "code",
   "execution_count": 35,
   "id": "3025953b-77d7-4e44-910a-7bf0c0e0b806",
   "metadata": {
    "ExecuteTime": {
     "end_time": "2023-06-16T16:28:02.992664Z",
     "start_time": "2023-06-16T16:28:02.975256Z"
    }
   },
   "outputs": [
    {
     "data": {
      "text/plain": "   col_float  col_int col_string  col_boolean\n0       1.00        1        abc         True\n1       2.30        2        abc         True\n2       5.66        3        ghi        False",
      "text/html": "<div>\n<style scoped>\n    .dataframe tbody tr th:only-of-type {\n        vertical-align: middle;\n    }\n\n    .dataframe tbody tr th {\n        vertical-align: top;\n    }\n\n    .dataframe thead th {\n        text-align: right;\n    }\n</style>\n<table border=\"1\" class=\"dataframe\">\n  <thead>\n    <tr style=\"text-align: right;\">\n      <th></th>\n      <th>col_float</th>\n      <th>col_int</th>\n      <th>col_string</th>\n      <th>col_boolean</th>\n    </tr>\n  </thead>\n  <tbody>\n    <tr>\n      <th>0</th>\n      <td>1.00</td>\n      <td>1</td>\n      <td>abc</td>\n      <td>True</td>\n    </tr>\n    <tr>\n      <th>1</th>\n      <td>2.30</td>\n      <td>2</td>\n      <td>abc</td>\n      <td>True</td>\n    </tr>\n    <tr>\n      <th>2</th>\n      <td>5.66</td>\n      <td>3</td>\n      <td>ghi</td>\n      <td>False</td>\n    </tr>\n  </tbody>\n</table>\n</div>"
     },
     "execution_count": 35,
     "metadata": {},
     "output_type": "execute_result"
    }
   ],
   "source": [
    "df = pd.DataFrame({\n",
    "    \"col_float\": [1.0, 2.3, 5.66],\n",
    "    \"col_int\": [1, 2, 3],\n",
    "    \"col_string\": [\"abc\", \"abc\", \"ghi\"],\n",
    "    \"col_boolean\": [True, True, False]\n",
    "})\n",
    "\n",
    "df"
   ]
  },
  {
   "cell_type": "markdown",
   "id": "b7872986-83c4-4a14-828d-88bd146a975c",
   "metadata": {},
   "source": [
    "#### Values:\n",
    "\n",
    "`df.values` is the actual information contained and labelled in our dataframe.\n",
    "\n",
    "Returns an `np.array`. These are formed as a list of list in which each sublist contains the rows of the matrix"
   ]
  },
  {
   "cell_type": "code",
   "execution_count": 36,
   "id": "41d8ff08-aa8c-4a89-8468-2fa6e396da9d",
   "metadata": {
    "ExecuteTime": {
     "end_time": "2023-06-16T16:28:07.090199Z",
     "start_time": "2023-06-16T16:28:07.080714Z"
    }
   },
   "outputs": [
    {
     "data": {
      "text/plain": "array([[1.0, 1, 'abc', True],\n       [2.3, 2, 'abc', True],\n       [5.66, 3, 'ghi', False]], dtype=object)"
     },
     "execution_count": 36,
     "metadata": {},
     "output_type": "execute_result"
    }
   ],
   "source": [
    "# values: np.array\n",
    "# np.arrays are formed as a list of list in which each sublist contains the rows of the matrix\n",
    "\n",
    "df.values"
   ]
  },
  {
   "cell_type": "markdown",
   "id": "6937c84f-64ca-4ccd-aef4-20808f350e55",
   "metadata": {},
   "source": [
    "#### Index:\n",
    "\n",
    "We can see the index used in our DF by using the `index` property. We will receive a generator that we can unfold with `list()` for example\n",
    "\n",
    "We can also change this index to any other info we want with `df.set_index()`.\n",
    "\n",
    "If we pass the argument `drop=False` we will not remove the column from the values, and we'll have it as index AND in the values. Otherwise, it will be removed."
   ]
  },
  {
   "cell_type": "code",
   "execution_count": 217,
   "id": "3b40acfd-b69c-4129-802f-4adb9a5224e9",
   "metadata": {},
   "outputs": [
    {
     "data": {
      "text/plain": [
       "[0, 1, 2]"
      ]
     },
     "execution_count": 217,
     "metadata": {},
     "output_type": "execute_result"
    }
   ],
   "source": [
    "list(df.index)"
   ]
  },
  {
   "cell_type": "code",
   "execution_count": 218,
   "id": "f92862a5-f0b6-48bd-a302-0a34c549657e",
   "metadata": {},
   "outputs": [
    {
     "data": {
      "text/html": [
       "<div>\n",
       "<style scoped>\n",
       "    .dataframe tbody tr th:only-of-type {\n",
       "        vertical-align: middle;\n",
       "    }\n",
       "\n",
       "    .dataframe tbody tr th {\n",
       "        vertical-align: top;\n",
       "    }\n",
       "\n",
       "    .dataframe thead th {\n",
       "        text-align: right;\n",
       "    }\n",
       "</style>\n",
       "<table border=\"1\" class=\"dataframe\">\n",
       "  <thead>\n",
       "    <tr style=\"text-align: right;\">\n",
       "      <th></th>\n",
       "      <th>col_float</th>\n",
       "      <th>col_int</th>\n",
       "      <th>col_string</th>\n",
       "      <th>col_boolean</th>\n",
       "    </tr>\n",
       "  </thead>\n",
       "  <tbody>\n",
       "    <tr>\n",
       "      <th>0</th>\n",
       "      <td>1.00</td>\n",
       "      <td>1</td>\n",
       "      <td>abc</td>\n",
       "      <td>True</td>\n",
       "    </tr>\n",
       "    <tr>\n",
       "      <th>1</th>\n",
       "      <td>2.30</td>\n",
       "      <td>2</td>\n",
       "      <td>abc</td>\n",
       "      <td>True</td>\n",
       "    </tr>\n",
       "    <tr>\n",
       "      <th>2</th>\n",
       "      <td>5.66</td>\n",
       "      <td>3</td>\n",
       "      <td>ghi</td>\n",
       "      <td>False</td>\n",
       "    </tr>\n",
       "  </tbody>\n",
       "</table>\n",
       "</div>"
      ],
      "text/plain": [
       "   col_float  col_int col_string  col_boolean\n",
       "0       1.00        1        abc         True\n",
       "1       2.30        2        abc         True\n",
       "2       5.66        3        ghi        False"
      ]
     },
     "execution_count": 218,
     "metadata": {},
     "output_type": "execute_result"
    }
   ],
   "source": [
    "df"
   ]
  },
  {
   "cell_type": "code",
   "execution_count": 37,
   "id": "960b0453-4c74-414b-b25a-70d14a269cb3",
   "metadata": {
    "ExecuteTime": {
     "end_time": "2023-06-16T16:28:16.728214Z",
     "start_time": "2023-06-16T16:28:16.702327Z"
    }
   },
   "outputs": [
    {
     "data": {
      "text/plain": "            col_float  col_int  col_boolean\ncol_string                                 \nabc              1.00        1         True\nabc              2.30        2         True\nghi              5.66        3        False",
      "text/html": "<div>\n<style scoped>\n    .dataframe tbody tr th:only-of-type {\n        vertical-align: middle;\n    }\n\n    .dataframe tbody tr th {\n        vertical-align: top;\n    }\n\n    .dataframe thead th {\n        text-align: right;\n    }\n</style>\n<table border=\"1\" class=\"dataframe\">\n  <thead>\n    <tr style=\"text-align: right;\">\n      <th></th>\n      <th>col_float</th>\n      <th>col_int</th>\n      <th>col_boolean</th>\n    </tr>\n    <tr>\n      <th>col_string</th>\n      <th></th>\n      <th></th>\n      <th></th>\n    </tr>\n  </thead>\n  <tbody>\n    <tr>\n      <th>abc</th>\n      <td>1.00</td>\n      <td>1</td>\n      <td>True</td>\n    </tr>\n    <tr>\n      <th>abc</th>\n      <td>2.30</td>\n      <td>2</td>\n      <td>True</td>\n    </tr>\n    <tr>\n      <th>ghi</th>\n      <td>5.66</td>\n      <td>3</td>\n      <td>False</td>\n    </tr>\n  </tbody>\n</table>\n</div>"
     },
     "execution_count": 37,
     "metadata": {},
     "output_type": "execute_result"
    }
   ],
   "source": [
    "# we can use an existing column as new index\n",
    "df_new_index = df.set_index(\"col_string\")\n",
    "\n",
    "# print(df_new_index.index)\n",
    "\n",
    "df_new_index"
   ]
  },
  {
   "cell_type": "markdown",
   "id": "b1e67259-6da2-4ecb-ba6c-c31549ef2a09",
   "metadata": {},
   "source": [
    "We can reset our index to the original (0, 1, ...) with `df.reset_index()`"
   ]
  },
  {
   "cell_type": "code",
   "execution_count": 38,
   "id": "d63ce688-c222-4093-8c8c-df0b68edaa72",
   "metadata": {
    "ExecuteTime": {
     "end_time": "2023-06-16T16:28:34.860162Z",
     "start_time": "2023-06-16T16:28:34.848630Z"
    }
   },
   "outputs": [],
   "source": [
    "df_new_index.reset_index(inplace=True)"
   ]
  },
  {
   "cell_type": "code",
   "execution_count": 39,
   "id": "1cc05d9d-b0ba-4a4e-a7a6-c71e20e56680",
   "metadata": {
    "ExecuteTime": {
     "end_time": "2023-06-16T16:28:36.165014Z",
     "start_time": "2023-06-16T16:28:36.138200Z"
    }
   },
   "outputs": [
    {
     "data": {
      "text/plain": "  col_string  col_float  col_int  col_boolean\n0        abc       1.00        1         True\n1        abc       2.30        2         True\n2        ghi       5.66        3        False",
      "text/html": "<div>\n<style scoped>\n    .dataframe tbody tr th:only-of-type {\n        vertical-align: middle;\n    }\n\n    .dataframe tbody tr th {\n        vertical-align: top;\n    }\n\n    .dataframe thead th {\n        text-align: right;\n    }\n</style>\n<table border=\"1\" class=\"dataframe\">\n  <thead>\n    <tr style=\"text-align: right;\">\n      <th></th>\n      <th>col_string</th>\n      <th>col_float</th>\n      <th>col_int</th>\n      <th>col_boolean</th>\n    </tr>\n  </thead>\n  <tbody>\n    <tr>\n      <th>0</th>\n      <td>abc</td>\n      <td>1.00</td>\n      <td>1</td>\n      <td>True</td>\n    </tr>\n    <tr>\n      <th>1</th>\n      <td>abc</td>\n      <td>2.30</td>\n      <td>2</td>\n      <td>True</td>\n    </tr>\n    <tr>\n      <th>2</th>\n      <td>ghi</td>\n      <td>5.66</td>\n      <td>3</td>\n      <td>False</td>\n    </tr>\n  </tbody>\n</table>\n</div>"
     },
     "execution_count": 39,
     "metadata": {},
     "output_type": "execute_result"
    }
   ],
   "source": [
    "df_new_index"
   ]
  },
  {
   "cell_type": "code",
   "execution_count": 40,
   "id": "7fe7f9f7-b090-4eeb-92be-5e22ccb6069f",
   "metadata": {
    "ExecuteTime": {
     "end_time": "2023-06-16T16:28:40.125903Z",
     "start_time": "2023-06-16T16:28:40.105291Z"
    }
   },
   "outputs": [
    {
     "data": {
      "text/plain": "   index col_string  col_float  col_int  col_boolean\n0      0        abc       1.00        1         True\n1      1        abc       2.30        2         True\n2      2        ghi       5.66        3        False",
      "text/html": "<div>\n<style scoped>\n    .dataframe tbody tr th:only-of-type {\n        vertical-align: middle;\n    }\n\n    .dataframe tbody tr th {\n        vertical-align: top;\n    }\n\n    .dataframe thead th {\n        text-align: right;\n    }\n</style>\n<table border=\"1\" class=\"dataframe\">\n  <thead>\n    <tr style=\"text-align: right;\">\n      <th></th>\n      <th>index</th>\n      <th>col_string</th>\n      <th>col_float</th>\n      <th>col_int</th>\n      <th>col_boolean</th>\n    </tr>\n  </thead>\n  <tbody>\n    <tr>\n      <th>0</th>\n      <td>0</td>\n      <td>abc</td>\n      <td>1.00</td>\n      <td>1</td>\n      <td>True</td>\n    </tr>\n    <tr>\n      <th>1</th>\n      <td>1</td>\n      <td>abc</td>\n      <td>2.30</td>\n      <td>2</td>\n      <td>True</td>\n    </tr>\n    <tr>\n      <th>2</th>\n      <td>2</td>\n      <td>ghi</td>\n      <td>5.66</td>\n      <td>3</td>\n      <td>False</td>\n    </tr>\n  </tbody>\n</table>\n</div>"
     },
     "execution_count": 40,
     "metadata": {},
     "output_type": "execute_result"
    }
   ],
   "source": [
    "df_new_index.reset_index(inplace=True)\n",
    "\n",
    "df_new_index"
   ]
  },
  {
   "cell_type": "markdown",
   "id": "e23cf02a-e220-4dba-974b-56a996bbde7b",
   "metadata": {
    "tags": []
   },
   "source": [
    "#### Columns and their names:\n",
    "\n",
    "`df.columns` return the labels attached to each column, or their names.\n",
    "\n",
    "We can mutate this by mutating the `df.columns` values, or by using `df.rename()` passing as argument a dict with keys containing the old columns we want to change, and value the new name."
   ]
  },
  {
   "cell_type": "code",
   "execution_count": 41,
   "id": "2e418521-de83-4498-8427-4566a7042c5a",
   "metadata": {
    "ExecuteTime": {
     "end_time": "2023-06-16T16:28:42.469685Z",
     "start_time": "2023-06-16T16:28:42.458232Z"
    }
   },
   "outputs": [
    {
     "data": {
      "text/plain": "Index(['col_float', 'col_int', 'col_string', 'col_boolean'], dtype='object')"
     },
     "execution_count": 41,
     "metadata": {},
     "output_type": "execute_result"
    }
   ],
   "source": [
    "# get the columns names\n",
    "df.columns"
   ]
  },
  {
   "cell_type": "code",
   "execution_count": 42,
   "id": "d17ccbe3-3f7a-45cd-b5eb-809522dbe6bd",
   "metadata": {
    "ExecuteTime": {
     "end_time": "2023-06-16T16:28:43.830871Z",
     "start_time": "2023-06-16T16:28:43.806128Z"
    }
   },
   "outputs": [
    {
     "data": {
      "text/plain": "   type_float  type_int type_string  type_boolean\n0        1.00         1         abc          True\n1        2.30         2         abc          True\n2        5.66         3         ghi         False",
      "text/html": "<div>\n<style scoped>\n    .dataframe tbody tr th:only-of-type {\n        vertical-align: middle;\n    }\n\n    .dataframe tbody tr th {\n        vertical-align: top;\n    }\n\n    .dataframe thead th {\n        text-align: right;\n    }\n</style>\n<table border=\"1\" class=\"dataframe\">\n  <thead>\n    <tr style=\"text-align: right;\">\n      <th></th>\n      <th>type_float</th>\n      <th>type_int</th>\n      <th>type_string</th>\n      <th>type_boolean</th>\n    </tr>\n  </thead>\n  <tbody>\n    <tr>\n      <th>0</th>\n      <td>1.00</td>\n      <td>1</td>\n      <td>abc</td>\n      <td>True</td>\n    </tr>\n    <tr>\n      <th>1</th>\n      <td>2.30</td>\n      <td>2</td>\n      <td>abc</td>\n      <td>True</td>\n    </tr>\n    <tr>\n      <th>2</th>\n      <td>5.66</td>\n      <td>3</td>\n      <td>ghi</td>\n      <td>False</td>\n    </tr>\n  </tbody>\n</table>\n</div>"
     },
     "execution_count": 42,
     "metadata": {},
     "output_type": "execute_result"
    }
   ],
   "source": [
    "# updating df.columns by mutating the df.columns info directly\n",
    "df.columns = [\"type_\" + colname.split(\"_\")[1] for colname in df.columns]\n",
    "\n",
    "df"
   ]
  },
  {
   "cell_type": "code",
   "execution_count": 225,
   "id": "4d07ec61-9fe0-4381-a81b-c7776de152ec",
   "metadata": {},
   "outputs": [],
   "source": [
    "# df = df.rename(columns={da da da})"
   ]
  },
  {
   "cell_type": "code",
   "execution_count": 43,
   "id": "01f133cb-de73-4f82-8cec-74720e5da1fa",
   "metadata": {
    "ExecuteTime": {
     "end_time": "2023-06-16T16:29:39.045869Z",
     "start_time": "2023-06-16T16:29:39.037059Z"
    }
   },
   "outputs": [],
   "source": [
    "df.rename(\n",
    "    columns={\n",
    "        \"type_boolean\": \"dani\"\n",
    "    },\n",
    "    inplace=True\n",
    ")"
   ]
  },
  {
   "cell_type": "code",
   "execution_count": 44,
   "id": "2220eb65-2159-4d38-9e76-1024a72c1386",
   "metadata": {
    "ExecuteTime": {
     "end_time": "2023-06-16T16:29:52.631393Z",
     "start_time": "2023-06-16T16:29:52.596718Z"
    }
   },
   "outputs": [
    {
     "data": {
      "text/plain": "   type_float  type_int type_string   dani\n0        1.00         1         abc   True\n1        2.30         2         abc   True\n2        5.66         3         ghi  False",
      "text/html": "<div>\n<style scoped>\n    .dataframe tbody tr th:only-of-type {\n        vertical-align: middle;\n    }\n\n    .dataframe tbody tr th {\n        vertical-align: top;\n    }\n\n    .dataframe thead th {\n        text-align: right;\n    }\n</style>\n<table border=\"1\" class=\"dataframe\">\n  <thead>\n    <tr style=\"text-align: right;\">\n      <th></th>\n      <th>type_float</th>\n      <th>type_int</th>\n      <th>type_string</th>\n      <th>dani</th>\n    </tr>\n  </thead>\n  <tbody>\n    <tr>\n      <th>0</th>\n      <td>1.00</td>\n      <td>1</td>\n      <td>abc</td>\n      <td>True</td>\n    </tr>\n    <tr>\n      <th>1</th>\n      <td>2.30</td>\n      <td>2</td>\n      <td>abc</td>\n      <td>True</td>\n    </tr>\n    <tr>\n      <th>2</th>\n      <td>5.66</td>\n      <td>3</td>\n      <td>ghi</td>\n      <td>False</td>\n    </tr>\n  </tbody>\n</table>\n</div>"
     },
     "execution_count": 44,
     "metadata": {},
     "output_type": "execute_result"
    }
   ],
   "source": [
    "df"
   ]
  },
  {
   "cell_type": "code",
   "execution_count": 45,
   "id": "0773e8df-27e0-4cd4-9929-adbb651fed5e",
   "metadata": {
    "ExecuteTime": {
     "end_time": "2023-06-16T16:29:54.269209Z",
     "start_time": "2023-06-16T16:29:54.259204Z"
    }
   },
   "outputs": [],
   "source": [
    "# using df.rename({old_col:new_col})\n",
    "# we need to use `inplace=True` \n",
    "# if we want to update the information stored in memory or assign the result to a new variable\n",
    "\n",
    "df.rename(columns={\n",
    "    \"type_float\": \"type_num_float\",\n",
    "    \"type_int\": \"type_num_int\"\n",
    "}, inplace=True)\n",
    "\n",
    "# or updating the variable: df = df..."
   ]
  },
  {
   "cell_type": "code",
   "execution_count": 46,
   "id": "0c7083c3-6da5-4175-bf3f-df45b52c0858",
   "metadata": {
    "ExecuteTime": {
     "end_time": "2023-06-16T16:29:55.984206Z",
     "start_time": "2023-06-16T16:29:55.962193Z"
    }
   },
   "outputs": [
    {
     "data": {
      "text/plain": "   type_num_float  type_num_int type_string   dani\n0            1.00             1         abc   True\n1            2.30             2         abc   True\n2            5.66             3         ghi  False",
      "text/html": "<div>\n<style scoped>\n    .dataframe tbody tr th:only-of-type {\n        vertical-align: middle;\n    }\n\n    .dataframe tbody tr th {\n        vertical-align: top;\n    }\n\n    .dataframe thead th {\n        text-align: right;\n    }\n</style>\n<table border=\"1\" class=\"dataframe\">\n  <thead>\n    <tr style=\"text-align: right;\">\n      <th></th>\n      <th>type_num_float</th>\n      <th>type_num_int</th>\n      <th>type_string</th>\n      <th>dani</th>\n    </tr>\n  </thead>\n  <tbody>\n    <tr>\n      <th>0</th>\n      <td>1.00</td>\n      <td>1</td>\n      <td>abc</td>\n      <td>True</td>\n    </tr>\n    <tr>\n      <th>1</th>\n      <td>2.30</td>\n      <td>2</td>\n      <td>abc</td>\n      <td>True</td>\n    </tr>\n    <tr>\n      <th>2</th>\n      <td>5.66</td>\n      <td>3</td>\n      <td>ghi</td>\n      <td>False</td>\n    </tr>\n  </tbody>\n</table>\n</div>"
     },
     "execution_count": 46,
     "metadata": {},
     "output_type": "execute_result"
    }
   ],
   "source": [
    "df"
   ]
  },
  {
   "cell_type": "markdown",
   "id": "34f5367b-4ccb-4373-8f01-0793c1383966",
   "metadata": {},
   "source": [
    "#### Describe \n",
    "\n",
    "`df.describe()` returns a summary with statistics for the numeric columns, very useful for Exploratory Data Analysis"
   ]
  },
  {
   "cell_type": "code",
   "execution_count": 47,
   "id": "d013ff87-2140-489a-b9cd-80c5d285a757",
   "metadata": {
    "ExecuteTime": {
     "end_time": "2023-06-16T16:29:58.566440Z",
     "start_time": "2023-06-16T16:29:58.536586Z"
    }
   },
   "outputs": [
    {
     "data": {
      "text/plain": "Index(['type_num_float', 'type_num_int', 'type_string', 'dani'], dtype='object')"
     },
     "execution_count": 47,
     "metadata": {},
     "output_type": "execute_result"
    }
   ],
   "source": [
    "df.T.index"
   ]
  },
  {
   "cell_type": "code",
   "execution_count": 48,
   "id": "f4257b17-4f5c-46ab-a857-4003bcb27307",
   "metadata": {
    "ExecuteTime": {
     "end_time": "2023-06-16T16:30:00.035120Z",
     "start_time": "2023-06-16T16:29:59.981879Z"
    }
   },
   "outputs": [
    {
     "data": {
      "text/plain": "                count      mean      std  min   25%  50%   75%   max\ntype_num_float    3.0  2.986667  2.40469  1.0  1.65  2.3  3.98  5.66\ntype_num_int      3.0  2.000000  1.00000  1.0  1.50  2.0  2.50  3.00",
      "text/html": "<div>\n<style scoped>\n    .dataframe tbody tr th:only-of-type {\n        vertical-align: middle;\n    }\n\n    .dataframe tbody tr th {\n        vertical-align: top;\n    }\n\n    .dataframe thead th {\n        text-align: right;\n    }\n</style>\n<table border=\"1\" class=\"dataframe\">\n  <thead>\n    <tr style=\"text-align: right;\">\n      <th></th>\n      <th>count</th>\n      <th>mean</th>\n      <th>std</th>\n      <th>min</th>\n      <th>25%</th>\n      <th>50%</th>\n      <th>75%</th>\n      <th>max</th>\n    </tr>\n  </thead>\n  <tbody>\n    <tr>\n      <th>type_num_float</th>\n      <td>3.0</td>\n      <td>2.986667</td>\n      <td>2.40469</td>\n      <td>1.0</td>\n      <td>1.65</td>\n      <td>2.3</td>\n      <td>3.98</td>\n      <td>5.66</td>\n    </tr>\n    <tr>\n      <th>type_num_int</th>\n      <td>3.0</td>\n      <td>2.000000</td>\n      <td>1.00000</td>\n      <td>1.0</td>\n      <td>1.50</td>\n      <td>2.0</td>\n      <td>2.50</td>\n      <td>3.00</td>\n    </tr>\n  </tbody>\n</table>\n</div>"
     },
     "execution_count": 48,
     "metadata": {},
     "output_type": "execute_result"
    }
   ],
   "source": [
    "df.describe().T"
   ]
  },
  {
   "cell_type": "markdown",
   "id": "60c69e23-f5f9-4498-b642-fdd2a169166f",
   "metadata": {},
   "source": [
    "#### Transpose\n",
    "\n",
    "Since DataFrames are matrices, we can transpose them with `df.T`"
   ]
  },
  {
   "cell_type": "code",
   "execution_count": 49,
   "id": "815bd918-0d1f-41b9-8f85-ea7330e989e2",
   "metadata": {
    "ExecuteTime": {
     "end_time": "2023-06-16T16:30:02.084288Z",
     "start_time": "2023-06-16T16:30:02.058789Z"
    }
   },
   "outputs": [
    {
     "data": {
      "text/plain": "  type_num_float type_num_int type_string   dani\n0            1.0            1         abc   True\n1            2.3            2         abc   True\n2           5.66            3         ghi  False",
      "text/html": "<div>\n<style scoped>\n    .dataframe tbody tr th:only-of-type {\n        vertical-align: middle;\n    }\n\n    .dataframe tbody tr th {\n        vertical-align: top;\n    }\n\n    .dataframe thead th {\n        text-align: right;\n    }\n</style>\n<table border=\"1\" class=\"dataframe\">\n  <thead>\n    <tr style=\"text-align: right;\">\n      <th></th>\n      <th>type_num_float</th>\n      <th>type_num_int</th>\n      <th>type_string</th>\n      <th>dani</th>\n    </tr>\n  </thead>\n  <tbody>\n    <tr>\n      <th>0</th>\n      <td>1.0</td>\n      <td>1</td>\n      <td>abc</td>\n      <td>True</td>\n    </tr>\n    <tr>\n      <th>1</th>\n      <td>2.3</td>\n      <td>2</td>\n      <td>abc</td>\n      <td>True</td>\n    </tr>\n    <tr>\n      <th>2</th>\n      <td>5.66</td>\n      <td>3</td>\n      <td>ghi</td>\n      <td>False</td>\n    </tr>\n  </tbody>\n</table>\n</div>"
     },
     "execution_count": 49,
     "metadata": {},
     "output_type": "execute_result"
    }
   ],
   "source": [
    "a = df.T.T\n",
    "\n",
    "a"
   ]
  },
  {
   "cell_type": "markdown",
   "id": "5035f4e0-2218-4758-9411-084b53c0600e",
   "metadata": {
    "tags": []
   },
   "source": [
    "## Indexing and slicing\n",
    "\n",
    "We can create subsets of our `pandas` objects in different ways:\n",
    "\n",
    "* `df.loc[label_row_start:label_row_end, label_col_start:label_col_end]` to slice by label\n",
    "* `df.iloc[pos_row_start:pos_row_end, pos_col_start:pos_col_end]` to slice by position\n",
    "* Good old []"
   ]
  },
  {
   "cell_type": "code",
   "execution_count": 50,
   "id": "25d948f7-7a71-4924-80cd-ffbd7580d25f",
   "metadata": {
    "ExecuteTime": {
     "end_time": "2023-06-16T16:30:25.805928Z",
     "start_time": "2023-06-16T16:30:25.800023Z"
    }
   },
   "outputs": [
    {
     "data": {
      "text/plain": "[2, 3]"
     },
     "execution_count": 50,
     "metadata": {},
     "output_type": "execute_result"
    }
   ],
   "source": [
    "a = [1, 2, 3, 4]\n",
    "\n",
    "a[1:3]"
   ]
  },
  {
   "cell_type": "code",
   "execution_count": 51,
   "id": "51a845d1-5f14-4034-9023-e47f83a50449",
   "metadata": {
    "ExecuteTime": {
     "end_time": "2023-06-16T16:30:32.172359Z",
     "start_time": "2023-06-16T16:30:32.149458Z"
    }
   },
   "outputs": [
    {
     "data": {
      "text/plain": "            col_float  col_int  col_boolean\ncol_string                                 \nabc              1.00        1         True\ndef              2.30        2         True\nghi              5.66        3        False\njkl              9.99        4         True",
      "text/html": "<div>\n<style scoped>\n    .dataframe tbody tr th:only-of-type {\n        vertical-align: middle;\n    }\n\n    .dataframe tbody tr th {\n        vertical-align: top;\n    }\n\n    .dataframe thead th {\n        text-align: right;\n    }\n</style>\n<table border=\"1\" class=\"dataframe\">\n  <thead>\n    <tr style=\"text-align: right;\">\n      <th></th>\n      <th>col_float</th>\n      <th>col_int</th>\n      <th>col_boolean</th>\n    </tr>\n    <tr>\n      <th>col_string</th>\n      <th></th>\n      <th></th>\n      <th></th>\n    </tr>\n  </thead>\n  <tbody>\n    <tr>\n      <th>abc</th>\n      <td>1.00</td>\n      <td>1</td>\n      <td>True</td>\n    </tr>\n    <tr>\n      <th>def</th>\n      <td>2.30</td>\n      <td>2</td>\n      <td>True</td>\n    </tr>\n    <tr>\n      <th>ghi</th>\n      <td>5.66</td>\n      <td>3</td>\n      <td>False</td>\n    </tr>\n    <tr>\n      <th>jkl</th>\n      <td>9.99</td>\n      <td>4</td>\n      <td>True</td>\n    </tr>\n  </tbody>\n</table>\n</div>"
     },
     "execution_count": 51,
     "metadata": {},
     "output_type": "execute_result"
    }
   ],
   "source": [
    "df = pd.DataFrame({\n",
    "    \"col_float\": [1.0, 2.3, 5.66, 9.99],\n",
    "    \"col_int\": [1, 2, 3, 4],\n",
    "    \"col_string\": [\"abc\", \"def\", \"ghi\", \"jkl\"],\n",
    "    \"col_boolean\": [True, True, False, True]\n",
    "})\n",
    "\n",
    "# set `col_string` as index\n",
    "df = df.set_index(\"col_string\")\n",
    "\n",
    "df"
   ]
  },
  {
   "cell_type": "markdown",
   "id": "a203cab4-8a44-4e06-8a9d-ea086c64c82f",
   "metadata": {},
   "source": [
    "Now we have string labels for rows (`\"abc\", \"def\", \"ghi\"`) and columns (`\"col_float\", \"col_int\", \"col_boolean\"`)"
   ]
  },
  {
   "cell_type": "markdown",
   "id": "38447b85-d0db-4d4b-a9d0-2d084655af4d",
   "metadata": {},
   "source": [
    "### Slicing based on single values as arguments\n",
    "\n",
    "* `loc[row_label, column_label]`\n",
    "* `iloc[row_position, column_position]`"
   ]
  },
  {
   "cell_type": "code",
   "execution_count": 52,
   "id": "20a6ed99-6068-43f6-a50d-03df989acc61",
   "metadata": {
    "ExecuteTime": {
     "end_time": "2023-06-16T16:30:38.190261Z",
     "start_time": "2023-06-16T16:30:38.179732Z"
    }
   },
   "outputs": [
    {
     "data": {
      "text/plain": "2"
     },
     "execution_count": 52,
     "metadata": {},
     "output_type": "execute_result"
    }
   ],
   "source": [
    "# value at second row and second column: using loc\n",
    "df.loc[\"def\", \"col_int\"]"
   ]
  },
  {
   "cell_type": "code",
   "execution_count": 53,
   "id": "1c217310-23ba-48be-a4c2-92c9a2e26727",
   "metadata": {
    "ExecuteTime": {
     "end_time": "2023-06-16T16:30:40.231765Z",
     "start_time": "2023-06-16T16:30:40.222244Z"
    }
   },
   "outputs": [
    {
     "data": {
      "text/plain": "2"
     },
     "execution_count": 53,
     "metadata": {},
     "output_type": "execute_result"
    }
   ],
   "source": [
    "# value at second row and second column: using iloc\n",
    "df.iloc[1, 1]"
   ]
  },
  {
   "cell_type": "markdown",
   "id": "1d1ebef9-baa6-4d57-9683-558521165043",
   "metadata": {},
   "source": [
    "We can also get all the row or all the column by using `:`"
   ]
  },
  {
   "cell_type": "code",
   "execution_count": 54,
   "id": "7caf8c1a-8bdd-4b43-8c02-de9a07fa5358",
   "metadata": {
    "ExecuteTime": {
     "end_time": "2023-06-16T16:32:55.322743Z",
     "start_time": "2023-06-16T16:32:55.294931Z"
    }
   },
   "outputs": [
    {
     "data": {
      "text/plain": "col_float       5.66\ncol_int            3\ncol_boolean    False\nName: ghi, dtype: object"
     },
     "execution_count": 54,
     "metadata": {},
     "output_type": "execute_result"
    }
   ],
   "source": [
    "# getting the 3rd row using loc\n",
    "df.loc[\"ghi\", :]"
   ]
  },
  {
   "cell_type": "code",
   "execution_count": 55,
   "id": "bfa3538c-f62c-4140-96d8-1c41db30e806",
   "metadata": {
    "ExecuteTime": {
     "end_time": "2023-06-16T16:32:59.781533Z",
     "start_time": "2023-06-16T16:32:59.773482Z"
    }
   },
   "outputs": [
    {
     "data": {
      "text/plain": "col_float       5.66\ncol_int            3\ncol_boolean    False\nName: ghi, dtype: object"
     },
     "execution_count": 55,
     "metadata": {},
     "output_type": "execute_result"
    }
   ],
   "source": [
    "# getting the 3rd row using iloc\n",
    "df.iloc[2, :]"
   ]
  },
  {
   "cell_type": "code",
   "execution_count": 57,
   "id": "29b73ae5-8d98-4eec-9b99-49dae3b82f17",
   "metadata": {
    "ExecuteTime": {
     "end_time": "2023-06-16T16:33:37.694037Z",
     "start_time": "2023-06-16T16:33:37.654727Z"
    }
   },
   "outputs": [
    {
     "data": {
      "text/plain": "col_string\nabc    1.00\ndef    2.30\nghi    5.66\njkl    9.99\nName: col_float, dtype: float64"
     },
     "execution_count": 57,
     "metadata": {},
     "output_type": "execute_result"
    }
   ],
   "source": [
    "# to get the whole column we can use `:` in the rows position\n",
    "\n",
    "# with loc\n",
    "df.loc[:, \"col_float\"]"
   ]
  },
  {
   "cell_type": "code",
   "execution_count": 58,
   "id": "212d2e20-aa4e-4df7-aaec-78f8fdb6df61",
   "metadata": {
    "ExecuteTime": {
     "end_time": "2023-06-16T16:33:39.714211Z",
     "start_time": "2023-06-16T16:33:39.705339Z"
    }
   },
   "outputs": [
    {
     "data": {
      "text/plain": "col_string\nabc    1.00\ndef    2.30\nghi    5.66\njkl    9.99\nName: col_float, dtype: float64"
     },
     "execution_count": 58,
     "metadata": {},
     "output_type": "execute_result"
    }
   ],
   "source": [
    "# with iloc\n",
    "df.iloc[:, 0]"
   ]
  },
  {
   "cell_type": "markdown",
   "id": "2275c01e-df91-46e9-b49b-316f882a1d96",
   "metadata": {},
   "source": [
    "We can do all this for columns with just square brackets `[]` and the name of the column:"
   ]
  },
  {
   "cell_type": "code",
   "execution_count": 59,
   "id": "512f299f-6b3d-4502-8fd6-a7689edcb91a",
   "metadata": {
    "ExecuteTime": {
     "end_time": "2023-06-16T16:33:41.536360Z",
     "start_time": "2023-06-16T16:33:41.526117Z"
    }
   },
   "outputs": [],
   "source": [
    "df_copy = df.copy()"
   ]
  },
  {
   "cell_type": "code",
   "execution_count": 60,
   "id": "23aceacc-0729-476c-8854-4f8e68569286",
   "metadata": {
    "ExecuteTime": {
     "end_time": "2023-06-16T16:33:43.116055Z",
     "start_time": "2023-06-16T16:33:43.091043Z"
    }
   },
   "outputs": [
    {
     "data": {
      "text/plain": "            col_float  col_int  col_boolean\ncol_string                                 \nabc              2.00        1         True\ndef              4.60        2         True\nghi             11.32        3        False\njkl             19.98        4         True",
      "text/html": "<div>\n<style scoped>\n    .dataframe tbody tr th:only-of-type {\n        vertical-align: middle;\n    }\n\n    .dataframe tbody tr th {\n        vertical-align: top;\n    }\n\n    .dataframe thead th {\n        text-align: right;\n    }\n</style>\n<table border=\"1\" class=\"dataframe\">\n  <thead>\n    <tr style=\"text-align: right;\">\n      <th></th>\n      <th>col_float</th>\n      <th>col_int</th>\n      <th>col_boolean</th>\n    </tr>\n    <tr>\n      <th>col_string</th>\n      <th></th>\n      <th></th>\n      <th></th>\n    </tr>\n  </thead>\n  <tbody>\n    <tr>\n      <th>abc</th>\n      <td>2.00</td>\n      <td>1</td>\n      <td>True</td>\n    </tr>\n    <tr>\n      <th>def</th>\n      <td>4.60</td>\n      <td>2</td>\n      <td>True</td>\n    </tr>\n    <tr>\n      <th>ghi</th>\n      <td>11.32</td>\n      <td>3</td>\n      <td>False</td>\n    </tr>\n    <tr>\n      <th>jkl</th>\n      <td>19.98</td>\n      <td>4</td>\n      <td>True</td>\n    </tr>\n  </tbody>\n</table>\n</div>"
     },
     "execution_count": 60,
     "metadata": {},
     "output_type": "execute_result"
    }
   ],
   "source": [
    "df_copy.loc[:, \"col_float\"] = df_copy.loc[:, \"col_float\"] * 2\n",
    "\n",
    "df_copy"
   ]
  },
  {
   "cell_type": "code",
   "execution_count": 61,
   "id": "fe73c86c-7009-4769-a8ec-db1f67490790",
   "metadata": {
    "ExecuteTime": {
     "end_time": "2023-06-16T16:33:44.969663Z",
     "start_time": "2023-06-16T16:33:44.963250Z"
    }
   },
   "outputs": [
    {
     "data": {
      "text/plain": "            col_int\ncol_string         \nabc               1\ndef               2\nghi               3\njkl               4",
      "text/html": "<div>\n<style scoped>\n    .dataframe tbody tr th:only-of-type {\n        vertical-align: middle;\n    }\n\n    .dataframe tbody tr th {\n        vertical-align: top;\n    }\n\n    .dataframe thead th {\n        text-align: right;\n    }\n</style>\n<table border=\"1\" class=\"dataframe\">\n  <thead>\n    <tr style=\"text-align: right;\">\n      <th></th>\n      <th>col_int</th>\n    </tr>\n    <tr>\n      <th>col_string</th>\n      <th></th>\n    </tr>\n  </thead>\n  <tbody>\n    <tr>\n      <th>abc</th>\n      <td>1</td>\n    </tr>\n    <tr>\n      <th>def</th>\n      <td>2</td>\n    </tr>\n    <tr>\n      <th>ghi</th>\n      <td>3</td>\n    </tr>\n    <tr>\n      <th>jkl</th>\n      <td>4</td>\n    </tr>\n  </tbody>\n</table>\n</div>"
     },
     "execution_count": 61,
     "metadata": {},
     "output_type": "execute_result"
    }
   ],
   "source": [
    "df[[\"col_int\"]]"
   ]
  },
  {
   "cell_type": "code",
   "execution_count": 62,
   "id": "6ce881fb-8cb4-463d-9fed-d17a3000717f",
   "metadata": {
    "ExecuteTime": {
     "end_time": "2023-06-16T16:33:47.231207Z",
     "start_time": "2023-06-16T16:33:47.223694Z"
    }
   },
   "outputs": [
    {
     "data": {
      "text/plain": "            col_float  col_int\ncol_string                    \nabc              1.00        1\ndef              2.30        2\nghi              5.66        3\njkl              9.99        4",
      "text/html": "<div>\n<style scoped>\n    .dataframe tbody tr th:only-of-type {\n        vertical-align: middle;\n    }\n\n    .dataframe tbody tr th {\n        vertical-align: top;\n    }\n\n    .dataframe thead th {\n        text-align: right;\n    }\n</style>\n<table border=\"1\" class=\"dataframe\">\n  <thead>\n    <tr style=\"text-align: right;\">\n      <th></th>\n      <th>col_float</th>\n      <th>col_int</th>\n    </tr>\n    <tr>\n      <th>col_string</th>\n      <th></th>\n      <th></th>\n    </tr>\n  </thead>\n  <tbody>\n    <tr>\n      <th>abc</th>\n      <td>1.00</td>\n      <td>1</td>\n    </tr>\n    <tr>\n      <th>def</th>\n      <td>2.30</td>\n      <td>2</td>\n    </tr>\n    <tr>\n      <th>ghi</th>\n      <td>5.66</td>\n      <td>3</td>\n    </tr>\n    <tr>\n      <th>jkl</th>\n      <td>9.99</td>\n      <td>4</td>\n    </tr>\n  </tbody>\n</table>\n</div>"
     },
     "execution_count": 62,
     "metadata": {},
     "output_type": "execute_result"
    }
   ],
   "source": [
    "df[[\"col_float\", \"col_int\"]]"
   ]
  },
  {
   "cell_type": "markdown",
   "id": "e7390cd3-8bf3-4f53-a150-7ae2a335912b",
   "metadata": {
    "tags": []
   },
   "source": [
    "### Slicing based on several values: lists or ranges.\n",
    "\n",
    "* Using ranges of values:\n",
    "  * Using `loc`: when using `loc` the final value **WILL BE INCLUDED**\n",
    "    * df.loc[ini_row_label:end_row_label, ini_col_label:end_col_label]\n",
    "  * Using `iloc`\n",
    "    * df.iloc[ini_row_position:end_row_position, ini_col_position:end_col_position]\n",
    "    \n",
    "* Using list of values:\n",
    "  * Using `loc`:\n",
    "    * df.loc[[row_labels_to_include], [col_labels_to_include]]\n",
    "  * Using `iloc`\n",
    "    * df.iloc[[row_positions_to_include], [col_positions_to_include]]"
   ]
  },
  {
   "cell_type": "code",
   "execution_count": 63,
   "id": "1773ee72-4c01-4949-a98a-0aabb9f3759a",
   "metadata": {
    "ExecuteTime": {
     "end_time": "2023-06-16T16:33:50.515684Z",
     "start_time": "2023-06-16T16:33:50.487130Z"
    }
   },
   "outputs": [
    {
     "data": {
      "text/plain": "            col_int  col_boolean\ncol_string                      \ndef               2         True\nghi               3        False\njkl               4         True",
      "text/html": "<div>\n<style scoped>\n    .dataframe tbody tr th:only-of-type {\n        vertical-align: middle;\n    }\n\n    .dataframe tbody tr th {\n        vertical-align: top;\n    }\n\n    .dataframe thead th {\n        text-align: right;\n    }\n</style>\n<table border=\"1\" class=\"dataframe\">\n  <thead>\n    <tr style=\"text-align: right;\">\n      <th></th>\n      <th>col_int</th>\n      <th>col_boolean</th>\n    </tr>\n    <tr>\n      <th>col_string</th>\n      <th></th>\n      <th></th>\n    </tr>\n  </thead>\n  <tbody>\n    <tr>\n      <th>def</th>\n      <td>2</td>\n      <td>True</td>\n    </tr>\n    <tr>\n      <th>ghi</th>\n      <td>3</td>\n      <td>False</td>\n    </tr>\n    <tr>\n      <th>jkl</th>\n      <td>4</td>\n      <td>True</td>\n    </tr>\n  </tbody>\n</table>\n</div>"
     },
     "execution_count": 63,
     "metadata": {},
     "output_type": "execute_result"
    }
   ],
   "source": [
    "# get the last 3 rows for the last 2 columns\n",
    "# using ranges and loc\n",
    "df.loc[\"def\":\"jkl\", \"col_int\": \"col_boolean\"]"
   ]
  },
  {
   "cell_type": "code",
   "execution_count": 246,
   "id": "e57fd905-3981-4e6b-b59f-e17b6a8ae084",
   "metadata": {},
   "outputs": [
    {
     "data": {
      "text/html": [
       "<div>\n",
       "<style scoped>\n",
       "    .dataframe tbody tr th:only-of-type {\n",
       "        vertical-align: middle;\n",
       "    }\n",
       "\n",
       "    .dataframe tbody tr th {\n",
       "        vertical-align: top;\n",
       "    }\n",
       "\n",
       "    .dataframe thead th {\n",
       "        text-align: right;\n",
       "    }\n",
       "</style>\n",
       "<table border=\"1\" class=\"dataframe\">\n",
       "  <thead>\n",
       "    <tr style=\"text-align: right;\">\n",
       "      <th></th>\n",
       "      <th>col_int</th>\n",
       "      <th>col_boolean</th>\n",
       "    </tr>\n",
       "    <tr>\n",
       "      <th>col_string</th>\n",
       "      <th></th>\n",
       "      <th></th>\n",
       "    </tr>\n",
       "  </thead>\n",
       "  <tbody>\n",
       "    <tr>\n",
       "      <th>def</th>\n",
       "      <td>2</td>\n",
       "      <td>True</td>\n",
       "    </tr>\n",
       "    <tr>\n",
       "      <th>ghi</th>\n",
       "      <td>3</td>\n",
       "      <td>False</td>\n",
       "    </tr>\n",
       "    <tr>\n",
       "      <th>jkl</th>\n",
       "      <td>4</td>\n",
       "      <td>True</td>\n",
       "    </tr>\n",
       "  </tbody>\n",
       "</table>\n",
       "</div>"
      ],
      "text/plain": [
       "            col_int  col_boolean\n",
       "col_string                      \n",
       "def               2         True\n",
       "ghi               3        False\n",
       "jkl               4         True"
      ]
     },
     "execution_count": 246,
     "metadata": {},
     "output_type": "execute_result"
    }
   ],
   "source": [
    "# get the last 3 rows for the last 2 columns\n",
    "# using ranges and iloc\n",
    "df.iloc[-3:, -2:]\n"
   ]
  },
  {
   "cell_type": "code",
   "execution_count": 66,
   "id": "7ee168e3-c8c5-4eb8-929e-19adeb4fd047",
   "metadata": {
    "ExecuteTime": {
     "end_time": "2023-06-16T16:36:14.318513Z",
     "start_time": "2023-06-16T16:36:14.307811Z"
    }
   },
   "outputs": [
    {
     "data": {
      "text/plain": "col_string\ndef    2\njkl    4\nName: col_int, dtype: int64"
     },
     "execution_count": 66,
     "metadata": {},
     "output_type": "execute_result"
    }
   ],
   "source": [
    "# get the 2nd and 4th row for the 2nd column\n",
    "# using lists and loc\n",
    "df.loc[[\"def\", \"jkl\"], \"col_int\"]"
   ]
  },
  {
   "cell_type": "code",
   "execution_count": 68,
   "id": "9af49ef3-35e9-4990-ac7a-6e62da07f413",
   "metadata": {
    "ExecuteTime": {
     "end_time": "2023-06-16T16:37:13.723444Z",
     "start_time": "2023-06-16T16:37:13.696141Z"
    }
   },
   "outputs": [
    {
     "data": {
      "text/plain": "col_string\ndef    2\njkl    4\nName: col_int, dtype: int64"
     },
     "execution_count": 68,
     "metadata": {},
     "output_type": "execute_result"
    }
   ],
   "source": [
    "# get the 2nd and 4th row for the 2nd column\n",
    "# using lists and iloc\n",
    "df.iloc[[1, 3], 1]"
   ]
  },
  {
   "cell_type": "markdown",
   "id": "6d8d26b2-c03e-4756-a5b4-e98fd7dd2b1f",
   "metadata": {},
   "source": [
    "### Slicing based on conditions\n",
    "\n",
    "Before diving into it, let's see what `pandas` return when we perform logical operations on a series"
   ]
  },
  {
   "cell_type": "code",
   "execution_count": 69,
   "id": "1e0e9cbb-a8f5-40b2-99b2-cc5709b15283",
   "metadata": {
    "ExecuteTime": {
     "end_time": "2023-06-16T16:37:23.786411Z",
     "start_time": "2023-06-16T16:37:23.779542Z"
    }
   },
   "outputs": [
    {
     "data": {
      "text/plain": "0    1\n1    2\n2    3\n3    4\n4    5\ndtype: int64"
     },
     "execution_count": 69,
     "metadata": {},
     "output_type": "execute_result"
    }
   ],
   "source": [
    "# create series\n",
    "s = pd.Series([1, 2, 3, 4, 5])\n",
    "\n",
    "s"
   ]
  },
  {
   "cell_type": "code",
   "execution_count": 70,
   "id": "4257d1dd-0202-4d73-bd9e-19c6a01e5900",
   "metadata": {
    "ExecuteTime": {
     "end_time": "2023-06-16T16:37:27.841658Z",
     "start_time": "2023-06-16T16:37:27.832674Z"
    }
   },
   "outputs": [
    {
     "data": {
      "text/plain": "0    False\n1    False\n2    False\n3     True\n4     True\ndtype: bool"
     },
     "execution_count": 70,
     "metadata": {},
     "output_type": "execute_result"
    }
   ],
   "source": [
    "s > 3"
   ]
  },
  {
   "cell_type": "code",
   "execution_count": 71,
   "id": "0b4993a5-1b01-43e6-bcd4-e84ecb2baaec",
   "metadata": {
    "ExecuteTime": {
     "end_time": "2023-06-16T16:37:29.923381Z",
     "start_time": "2023-06-16T16:37:29.914808Z"
    }
   },
   "outputs": [
    {
     "data": {
      "text/plain": "3    4\n4    5\ndtype: int64"
     },
     "execution_count": 71,
     "metadata": {},
     "output_type": "execute_result"
    }
   ],
   "source": [
    "# create series\n",
    "s = pd.Series([1, 2, 3, 4, 5])\n",
    "\n",
    "# condition\n",
    "s > 3\n",
    "\n",
    "s[s>3]"
   ]
  },
  {
   "cell_type": "code",
   "execution_count": 252,
   "id": "2bd60f44-6adc-428a-ac30-b82995b633bd",
   "metadata": {},
   "outputs": [
    {
     "data": {
      "text/plain": [
       "3    4\n",
       "dtype: int64"
      ]
     },
     "execution_count": 252,
     "metadata": {},
     "output_type": "execute_result"
    }
   ],
   "source": [
    "s[(s > 3) & (s % 2 == 0)]"
   ]
  },
  {
   "cell_type": "markdown",
   "id": "29dda6d5-12f7-49f2-85d0-f0670ec4187f",
   "metadata": {},
   "source": [
    "The result is another `pd.Series` filled with `True/False` according to whether or not the condition was met for each element.\n",
    "\n",
    "We can use this to *filter* series, by including the condition between brackets.\n",
    "\n",
    "```Python\n",
    "series[series[condition]]\n",
    "```"
   ]
  },
  {
   "cell_type": "markdown",
   "id": "78976e0a-f556-4d64-935b-9526cdeed71b",
   "metadata": {},
   "source": [
    "### logical operators in pandas\n",
    "* and: &\n",
    "* or: |"
   ]
  },
  {
   "cell_type": "code",
   "execution_count": 72,
   "id": "df41e8ff-3cbc-42ba-83af-95ba14280be2",
   "metadata": {
    "ExecuteTime": {
     "end_time": "2023-06-16T17:05:02.141867Z",
     "start_time": "2023-06-16T17:05:02.101943Z"
    }
   },
   "outputs": [
    {
     "data": {
      "text/plain": "15    15\n20    20\n25    25\ndtype: int64"
     },
     "execution_count": 72,
     "metadata": {},
     "output_type": "execute_result"
    }
   ],
   "source": [
    "s = pd.Series(range(26))\n",
    "\n",
    "s[(s % 5 == 0) & (s > 12)]"
   ]
  },
  {
   "cell_type": "code",
   "execution_count": 73,
   "id": "d35a87b1-2a5d-4da9-a1ea-9dc48944197e",
   "metadata": {
    "ExecuteTime": {
     "end_time": "2023-06-16T17:05:04.490396Z",
     "start_time": "2023-06-16T17:05:04.482123Z"
    }
   },
   "outputs": [
    {
     "data": {
      "text/plain": "0      0\n5      5\n7      7\n10    10\n14    14\n15    15\n20    20\n21    21\n25    25\ndtype: int64"
     },
     "execution_count": 73,
     "metadata": {},
     "output_type": "execute_result"
    }
   ],
   "source": [
    "s[(s % 5 == 0) | (s % 7 == 0)]"
   ]
  },
  {
   "cell_type": "markdown",
   "id": "56541df0-d350-46f3-b58d-9fe36a8bf57e",
   "metadata": {},
   "source": [
    "We can extend this behaviors to DataFrames: we can filter the rows of our df based on logical conditions on the columns."
   ]
  },
  {
   "cell_type": "code",
   "execution_count": 74,
   "id": "ac68eddb-9965-48f9-9efb-5b61e47c4247",
   "metadata": {
    "ExecuteTime": {
     "end_time": "2023-06-16T17:05:10.015427Z",
     "start_time": "2023-06-16T17:05:09.981271Z"
    }
   },
   "outputs": [
    {
     "data": {
      "text/plain": "   col_a  col_b  col_c  col_d\n0      1      2      3      4\n1      2      4      6      8\n2      3      6      9     12\n3      4      8     12     16",
      "text/html": "<div>\n<style scoped>\n    .dataframe tbody tr th:only-of-type {\n        vertical-align: middle;\n    }\n\n    .dataframe tbody tr th {\n        vertical-align: top;\n    }\n\n    .dataframe thead th {\n        text-align: right;\n    }\n</style>\n<table border=\"1\" class=\"dataframe\">\n  <thead>\n    <tr style=\"text-align: right;\">\n      <th></th>\n      <th>col_a</th>\n      <th>col_b</th>\n      <th>col_c</th>\n      <th>col_d</th>\n    </tr>\n  </thead>\n  <tbody>\n    <tr>\n      <th>0</th>\n      <td>1</td>\n      <td>2</td>\n      <td>3</td>\n      <td>4</td>\n    </tr>\n    <tr>\n      <th>1</th>\n      <td>2</td>\n      <td>4</td>\n      <td>6</td>\n      <td>8</td>\n    </tr>\n    <tr>\n      <th>2</th>\n      <td>3</td>\n      <td>6</td>\n      <td>9</td>\n      <td>12</td>\n    </tr>\n    <tr>\n      <th>3</th>\n      <td>4</td>\n      <td>8</td>\n      <td>12</td>\n      <td>16</td>\n    </tr>\n  </tbody>\n</table>\n</div>"
     },
     "execution_count": 74,
     "metadata": {},
     "output_type": "execute_result"
    }
   ],
   "source": [
    "# defining the dataset\n",
    "df = pd.DataFrame({\n",
    "    \"col_a\": [1, 2, 3, 4],\n",
    "    \"col_b\": [2, 4, 6, 8],\n",
    "    \"col_c\": [3, 6, 9, 12],\n",
    "    \"col_d\": [4, 8, 12, 16]\n",
    "})\n",
    "\n",
    "df"
   ]
  },
  {
   "cell_type": "code",
   "execution_count": 75,
   "id": "eba02f0f-88b0-48d4-9d74-9a0865698019",
   "metadata": {
    "ExecuteTime": {
     "end_time": "2023-06-16T17:05:11.821578Z",
     "start_time": "2023-06-16T17:05:11.799584Z"
    }
   },
   "outputs": [
    {
     "data": {
      "text/plain": "   col_a  col_b  col_c  col_d\n2      3      6      9     12\n3      4      8     12     16",
      "text/html": "<div>\n<style scoped>\n    .dataframe tbody tr th:only-of-type {\n        vertical-align: middle;\n    }\n\n    .dataframe tbody tr th {\n        vertical-align: top;\n    }\n\n    .dataframe thead th {\n        text-align: right;\n    }\n</style>\n<table border=\"1\" class=\"dataframe\">\n  <thead>\n    <tr style=\"text-align: right;\">\n      <th></th>\n      <th>col_a</th>\n      <th>col_b</th>\n      <th>col_c</th>\n      <th>col_d</th>\n    </tr>\n  </thead>\n  <tbody>\n    <tr>\n      <th>2</th>\n      <td>3</td>\n      <td>6</td>\n      <td>9</td>\n      <td>12</td>\n    </tr>\n    <tr>\n      <th>3</th>\n      <td>4</td>\n      <td>8</td>\n      <td>12</td>\n      <td>16</td>\n    </tr>\n  </tbody>\n</table>\n</div>"
     },
     "execution_count": 75,
     "metadata": {},
     "output_type": "execute_result"
    }
   ],
   "source": [
    "# filter rows that have `col_c` greater or equal than 9\n",
    "\n",
    "df[df[\"col_c\"] >= 9]"
   ]
  },
  {
   "cell_type": "markdown",
   "id": "5285fd60-bd49-439b-b354-d0c288f77acc",
   "metadata": {},
   "source": [
    "We can concatenate conditions in a single instruction:"
   ]
  },
  {
   "cell_type": "code",
   "execution_count": 76,
   "id": "1560966f-75c4-4749-b0e7-f29be3520b4f",
   "metadata": {
    "ExecuteTime": {
     "end_time": "2023-06-16T17:05:15.596985Z",
     "start_time": "2023-06-16T17:05:15.562632Z"
    }
   },
   "outputs": [
    {
     "data": {
      "text/plain": "   col_a  col_b  col_c  col_d\n3      4      8     12     16",
      "text/html": "<div>\n<style scoped>\n    .dataframe tbody tr th:only-of-type {\n        vertical-align: middle;\n    }\n\n    .dataframe tbody tr th {\n        vertical-align: top;\n    }\n\n    .dataframe thead th {\n        text-align: right;\n    }\n</style>\n<table border=\"1\" class=\"dataframe\">\n  <thead>\n    <tr style=\"text-align: right;\">\n      <th></th>\n      <th>col_a</th>\n      <th>col_b</th>\n      <th>col_c</th>\n      <th>col_d</th>\n    </tr>\n  </thead>\n  <tbody>\n    <tr>\n      <th>3</th>\n      <td>4</td>\n      <td>8</td>\n      <td>12</td>\n      <td>16</td>\n    </tr>\n  </tbody>\n</table>\n</div>"
     },
     "execution_count": 76,
     "metadata": {},
     "output_type": "execute_result"
    }
   ],
   "source": [
    "# rows with even values of `col_a` AND values of `col_d` greater than 8\n",
    "df[\n",
    "    (df[\"col_a\"] % 2 == 0) &\n",
    "    (df[\"col_d\"] > 8)\n",
    "]"
   ]
  },
  {
   "cell_type": "markdown",
   "id": "fb1666d4-4e2d-4c7d-9bc7-941443953220",
   "metadata": {},
   "source": [
    "## Adding data to a `pd.DataFrame`\n",
    "\n",
    "* Adding columns:\n",
    "```Python\n",
    "df[\"new_column\"] = data_to_include\n",
    "```"
   ]
  },
  {
   "cell_type": "code",
   "execution_count": 77,
   "id": "25f36750-00bc-428d-bff1-5f5539e7d354",
   "metadata": {
    "ExecuteTime": {
     "end_time": "2023-06-16T17:05:18.543651Z",
     "start_time": "2023-06-16T17:05:18.514429Z"
    }
   },
   "outputs": [
    {
     "data": {
      "text/plain": "        sport  round_ball  is_cool\n0    football        True    False\n1  basketball        True     True\n2       rugby       False     True",
      "text/html": "<div>\n<style scoped>\n    .dataframe tbody tr th:only-of-type {\n        vertical-align: middle;\n    }\n\n    .dataframe tbody tr th {\n        vertical-align: top;\n    }\n\n    .dataframe thead th {\n        text-align: right;\n    }\n</style>\n<table border=\"1\" class=\"dataframe\">\n  <thead>\n    <tr style=\"text-align: right;\">\n      <th></th>\n      <th>sport</th>\n      <th>round_ball</th>\n      <th>is_cool</th>\n    </tr>\n  </thead>\n  <tbody>\n    <tr>\n      <th>0</th>\n      <td>football</td>\n      <td>True</td>\n      <td>False</td>\n    </tr>\n    <tr>\n      <th>1</th>\n      <td>basketball</td>\n      <td>True</td>\n      <td>True</td>\n    </tr>\n    <tr>\n      <th>2</th>\n      <td>rugby</td>\n      <td>False</td>\n      <td>True</td>\n    </tr>\n  </tbody>\n</table>\n</div>"
     },
     "execution_count": 77,
     "metadata": {},
     "output_type": "execute_result"
    }
   ],
   "source": [
    "# create df\n",
    "df = pd.DataFrame({\n",
    "    \"sport\": [\"football\", \"basketball\", \"rugby\"],\n",
    "    \"round_ball\": [True, True, False],\n",
    "    \"is_cool\": [False, True, True]\n",
    "})\n",
    "\n",
    "df"
   ]
  },
  {
   "cell_type": "code",
   "execution_count": 78,
   "id": "bf7b1726-7ff8-412e-8075-bc346126e585",
   "metadata": {
    "ExecuteTime": {
     "end_time": "2023-06-16T17:05:21.201041Z",
     "start_time": "2023-06-16T17:05:21.170403Z"
    }
   },
   "outputs": [
    {
     "data": {
      "text/plain": "        sport  round_ball  is_cool  players_per_team\n0    football        True    False                11\n1  basketball        True     True                 5\n2       rugby       False     True                 5",
      "text/html": "<div>\n<style scoped>\n    .dataframe tbody tr th:only-of-type {\n        vertical-align: middle;\n    }\n\n    .dataframe tbody tr th {\n        vertical-align: top;\n    }\n\n    .dataframe thead th {\n        text-align: right;\n    }\n</style>\n<table border=\"1\" class=\"dataframe\">\n  <thead>\n    <tr style=\"text-align: right;\">\n      <th></th>\n      <th>sport</th>\n      <th>round_ball</th>\n      <th>is_cool</th>\n      <th>players_per_team</th>\n    </tr>\n  </thead>\n  <tbody>\n    <tr>\n      <th>0</th>\n      <td>football</td>\n      <td>True</td>\n      <td>False</td>\n      <td>11</td>\n    </tr>\n    <tr>\n      <th>1</th>\n      <td>basketball</td>\n      <td>True</td>\n      <td>True</td>\n      <td>5</td>\n    </tr>\n    <tr>\n      <th>2</th>\n      <td>rugby</td>\n      <td>False</td>\n      <td>True</td>\n      <td>5</td>\n    </tr>\n  </tbody>\n</table>\n</div>"
     },
     "execution_count": 78,
     "metadata": {},
     "output_type": "execute_result"
    }
   ],
   "source": [
    "# add a new column called players_per_team\n",
    "df[\"players_per_team\"] = [11, 5, 5]\n",
    "\n",
    "# print df\n",
    "df"
   ]
  },
  {
   "cell_type": "markdown",
   "id": "059877cf-7a77-42ba-9b05-e4c2b77f1f71",
   "metadata": {},
   "source": [
    "* Adding rows:\n",
    "```Python\n",
    "new_row = {col_1: data_1, col_2: data_2, ..., col_n:data_n}\n",
    "df = df.append(new_row, ignore_index=True)\n",
    "```"
   ]
  },
  {
   "cell_type": "code",
   "execution_count": 83,
   "id": "d5be3e76-ea48-498c-a469-a1b36c8cfae8",
   "metadata": {
    "ExecuteTime": {
     "end_time": "2023-06-16T17:07:52.532663Z",
     "start_time": "2023-06-16T17:07:52.523072Z"
    }
   },
   "outputs": [
    {
     "name": "stderr",
     "output_type": "stream",
     "text": [
      "/var/folders/13/smwg3b9d61320g6ch8tf4wmh0000gn/T/ipykernel_66354/2872677527.py:10: FutureWarning: The frame.append method is deprecated and will be removed from pandas in a future version. Use pandas.concat instead.\n",
      "  df = df.append(am_football, ignore_index=True)\n"
     ]
    },
    {
     "data": {
      "text/plain": "               sport  round_ball  is_cool  players_per_team\n0           football        True    False                11\n1         basketball        True     True                 5\n2              rugby       False     True                 5\n3  american football       False    False                11",
      "text/html": "<div>\n<style scoped>\n    .dataframe tbody tr th:only-of-type {\n        vertical-align: middle;\n    }\n\n    .dataframe tbody tr th {\n        vertical-align: top;\n    }\n\n    .dataframe thead th {\n        text-align: right;\n    }\n</style>\n<table border=\"1\" class=\"dataframe\">\n  <thead>\n    <tr style=\"text-align: right;\">\n      <th></th>\n      <th>sport</th>\n      <th>round_ball</th>\n      <th>is_cool</th>\n      <th>players_per_team</th>\n    </tr>\n  </thead>\n  <tbody>\n    <tr>\n      <th>0</th>\n      <td>football</td>\n      <td>True</td>\n      <td>False</td>\n      <td>11</td>\n    </tr>\n    <tr>\n      <th>1</th>\n      <td>basketball</td>\n      <td>True</td>\n      <td>True</td>\n      <td>5</td>\n    </tr>\n    <tr>\n      <th>2</th>\n      <td>rugby</td>\n      <td>False</td>\n      <td>True</td>\n      <td>5</td>\n    </tr>\n    <tr>\n      <th>3</th>\n      <td>american football</td>\n      <td>False</td>\n      <td>False</td>\n      <td>11</td>\n    </tr>\n  </tbody>\n</table>\n</div>"
     },
     "execution_count": 83,
     "metadata": {},
     "output_type": "execute_result"
    }
   ],
   "source": [
    "# define new row\n",
    "am_football = {\n",
    "    \"sport\": \"american football\",\n",
    "    \"round_ball\": False,\n",
    "    \"is_cool\": False,\n",
    "    \"players_per_team\": 11\n",
    "}\n",
    "\n",
    "# add new row for american football\n",
    "df = df.append(am_football)\n",
    "\n",
    "# print df\n",
    "df"
   ]
  },
  {
   "cell_type": "markdown",
   "id": "598408b7-09c7-4f64-ac81-706eaab0b486",
   "metadata": {},
   "source": [
    "## Practice"
   ]
  },
  {
   "cell_type": "markdown",
   "id": "0325edf8-10ec-48a9-ae91-140a735f4b3a",
   "metadata": {
    "tags": []
   },
   "source": [
    "### 1. Create the following DataFrame\n",
    "\n",
    "Save it as the variable `dataset`\n",
    "\n",
    "| name   | age | type    | is_furry | likes_cats |\n",
    "|--------|-----|---------|----------|------------|\n",
    "| dani   | 33  | human   | False    | False      |\n",
    "| churro | 8   | dog     | True     | False      |\n",
    "| plant  | 2   | plant   | False    | True       |\n",
    "| cup    | 1   | object  | False    | True       |"
   ]
  },
  {
   "cell_type": "code",
   "execution_count": 261,
   "id": "b63db418-7c33-4827-8fd6-9d300631ab79",
   "metadata": {},
   "outputs": [
    {
     "data": {
      "text/html": [
       "<div>\n",
       "<style scoped>\n",
       "    .dataframe tbody tr th:only-of-type {\n",
       "        vertical-align: middle;\n",
       "    }\n",
       "\n",
       "    .dataframe tbody tr th {\n",
       "        vertical-align: top;\n",
       "    }\n",
       "\n",
       "    .dataframe thead th {\n",
       "        text-align: right;\n",
       "    }\n",
       "</style>\n",
       "<table border=\"1\" class=\"dataframe\">\n",
       "  <thead>\n",
       "    <tr style=\"text-align: right;\">\n",
       "      <th></th>\n",
       "      <th>name</th>\n",
       "      <th>age</th>\n",
       "      <th>type</th>\n",
       "      <th>is_furry</th>\n",
       "      <th>likes_cats</th>\n",
       "    </tr>\n",
       "  </thead>\n",
       "  <tbody>\n",
       "    <tr>\n",
       "      <th>0</th>\n",
       "      <td>dani</td>\n",
       "      <td>34</td>\n",
       "      <td>human</td>\n",
       "      <td>False</td>\n",
       "      <td>False</td>\n",
       "    </tr>\n",
       "    <tr>\n",
       "      <th>1</th>\n",
       "      <td>churro</td>\n",
       "      <td>9</td>\n",
       "      <td>dog</td>\n",
       "      <td>True</td>\n",
       "      <td>False</td>\n",
       "    </tr>\n",
       "    <tr>\n",
       "      <th>2</th>\n",
       "      <td>plant</td>\n",
       "      <td>0</td>\n",
       "      <td>dead</td>\n",
       "      <td>False</td>\n",
       "      <td>False</td>\n",
       "    </tr>\n",
       "    <tr>\n",
       "      <th>3</th>\n",
       "      <td>cup</td>\n",
       "      <td>1</td>\n",
       "      <td>cup</td>\n",
       "      <td>False</td>\n",
       "      <td>False</td>\n",
       "    </tr>\n",
       "  </tbody>\n",
       "</table>\n",
       "</div>"
      ],
      "text/plain": [
       "     name  age   type  is_furry  likes_cats\n",
       "0    dani   34  human     False       False\n",
       "1  churro    9    dog      True       False\n",
       "2   plant    0   dead     False       False\n",
       "3     cup    1    cup     False       False"
      ]
     },
     "execution_count": 261,
     "metadata": {},
     "output_type": "execute_result"
    }
   ],
   "source": [
    "dataset = pd.DataFrame({\n",
    "    \"name\": [\"dani\", \"churro\", \"plant\", \"cup\"],\n",
    "    \"age\": [34, 9, 0, 1],\n",
    "    \"type\": [\"human\", \"dog\", \"dead\", \"cup\"],\n",
    "    \"is_furry\": [False, True, False, False],\n",
    "    \"likes_cats\": [False]*4\n",
    "})\n",
    "\n",
    "dataset"
   ]
  },
  {
   "cell_type": "markdown",
   "id": "41b1a1af-f975-4146-8ec1-f088021840a1",
   "metadata": {},
   "source": [
    "### 2. Return the value of `is_furry` for the element with `index = 2`"
   ]
  },
  {
   "cell_type": "code",
   "execution_count": 262,
   "id": "fcf5b58e-4afd-4a3d-a8ce-22d9042cbf35",
   "metadata": {},
   "outputs": [
    {
     "data": {
      "text/plain": [
       "False"
      ]
     },
     "execution_count": 262,
     "metadata": {},
     "output_type": "execute_result"
    }
   ],
   "source": [
    "dataset.iloc[2, 3]"
   ]
  },
  {
   "cell_type": "code",
   "execution_count": 263,
   "id": "c42e2af5-dad4-4e42-b26c-4d866b891eb6",
   "metadata": {},
   "outputs": [
    {
     "data": {
      "text/plain": [
       "False"
      ]
     },
     "execution_count": 263,
     "metadata": {},
     "output_type": "execute_result"
    }
   ],
   "source": [
    "dataset.loc[2, \"is_furry\"]"
   ]
  },
  {
   "cell_type": "markdown",
   "id": "f805bce2-4c41-41dd-80c1-7746aa275706",
   "metadata": {},
   "source": [
    "### 3. Add a new column containing the length of the name in characters"
   ]
  },
  {
   "cell_type": "code",
   "execution_count": 264,
   "id": "9f128e9b-05f9-4d17-9c3c-771de9d1b6b6",
   "metadata": {},
   "outputs": [
    {
     "data": {
      "text/plain": [
       "[4, 6, 5, 3]"
      ]
     },
     "execution_count": 264,
     "metadata": {},
     "output_type": "execute_result"
    }
   ],
   "source": [
    "[len(x) for x in dataset[\"name\"].values]"
   ]
  },
  {
   "cell_type": "code",
   "execution_count": 265,
   "id": "ccaea59e-58ff-4980-bb9c-6cdfeec17005",
   "metadata": {},
   "outputs": [
    {
     "data": {
      "text/html": [
       "<div>\n",
       "<style scoped>\n",
       "    .dataframe tbody tr th:only-of-type {\n",
       "        vertical-align: middle;\n",
       "    }\n",
       "\n",
       "    .dataframe tbody tr th {\n",
       "        vertical-align: top;\n",
       "    }\n",
       "\n",
       "    .dataframe thead th {\n",
       "        text-align: right;\n",
       "    }\n",
       "</style>\n",
       "<table border=\"1\" class=\"dataframe\">\n",
       "  <thead>\n",
       "    <tr style=\"text-align: right;\">\n",
       "      <th></th>\n",
       "      <th>name</th>\n",
       "      <th>age</th>\n",
       "      <th>type</th>\n",
       "      <th>is_furry</th>\n",
       "      <th>likes_cats</th>\n",
       "      <th>len_name</th>\n",
       "    </tr>\n",
       "  </thead>\n",
       "  <tbody>\n",
       "    <tr>\n",
       "      <th>0</th>\n",
       "      <td>dani</td>\n",
       "      <td>34</td>\n",
       "      <td>human</td>\n",
       "      <td>False</td>\n",
       "      <td>False</td>\n",
       "      <td>4</td>\n",
       "    </tr>\n",
       "    <tr>\n",
       "      <th>1</th>\n",
       "      <td>churro</td>\n",
       "      <td>9</td>\n",
       "      <td>dog</td>\n",
       "      <td>True</td>\n",
       "      <td>False</td>\n",
       "      <td>6</td>\n",
       "    </tr>\n",
       "    <tr>\n",
       "      <th>2</th>\n",
       "      <td>plant</td>\n",
       "      <td>0</td>\n",
       "      <td>dead</td>\n",
       "      <td>False</td>\n",
       "      <td>False</td>\n",
       "      <td>5</td>\n",
       "    </tr>\n",
       "    <tr>\n",
       "      <th>3</th>\n",
       "      <td>cup</td>\n",
       "      <td>1</td>\n",
       "      <td>cup</td>\n",
       "      <td>False</td>\n",
       "      <td>False</td>\n",
       "      <td>3</td>\n",
       "    </tr>\n",
       "  </tbody>\n",
       "</table>\n",
       "</div>"
      ],
      "text/plain": [
       "     name  age   type  is_furry  likes_cats  len_name\n",
       "0    dani   34  human     False       False         4\n",
       "1  churro    9    dog      True       False         6\n",
       "2   plant    0   dead     False       False         5\n",
       "3     cup    1    cup     False       False         3"
      ]
     },
     "execution_count": 265,
     "metadata": {},
     "output_type": "execute_result"
    }
   ],
   "source": [
    "# dataset[\"len_name\"] = [len(x) for x in dataset[\"name\"]]\n",
    "\n",
    "dataset[\"len_name\"] = dataset[\"name\"].str.len()\n",
    "\n",
    "dataset"
   ]
  },
  {
   "cell_type": "markdown",
   "id": "8215cf13-f2b3-40d6-9d94-b908c5ee4431",
   "metadata": {},
   "source": [
    "### 4. Add a new column named `logical_op` containing the following logical operation:\n",
    "\n",
    "```Python\n",
    "`is_furry` and `likes_cats`\n",
    "```\n",
    "\n",
    "Keep in mind that logical operators in pandas are not the ones we know (`not`, `and`, `or`) but rather (`~`, `&`, `|`).\n",
    "\n",
    "Source: https://jakevdp.github.io/PythonDataScienceHandbook/02.06-boolean-arrays-and-masks.html#Boolean-operators"
   ]
  },
  {
   "cell_type": "code",
   "execution_count": 266,
   "id": "16cc5a27",
   "metadata": {},
   "outputs": [
    {
     "data": {
      "text/html": [
       "<div>\n",
       "<style scoped>\n",
       "    .dataframe tbody tr th:only-of-type {\n",
       "        vertical-align: middle;\n",
       "    }\n",
       "\n",
       "    .dataframe tbody tr th {\n",
       "        vertical-align: top;\n",
       "    }\n",
       "\n",
       "    .dataframe thead th {\n",
       "        text-align: right;\n",
       "    }\n",
       "</style>\n",
       "<table border=\"1\" class=\"dataframe\">\n",
       "  <thead>\n",
       "    <tr style=\"text-align: right;\">\n",
       "      <th></th>\n",
       "      <th>name</th>\n",
       "      <th>age</th>\n",
       "      <th>type</th>\n",
       "      <th>is_furry</th>\n",
       "      <th>likes_cats</th>\n",
       "      <th>len_name</th>\n",
       "      <th>logical_op</th>\n",
       "    </tr>\n",
       "  </thead>\n",
       "  <tbody>\n",
       "    <tr>\n",
       "      <th>0</th>\n",
       "      <td>dani</td>\n",
       "      <td>34</td>\n",
       "      <td>human</td>\n",
       "      <td>False</td>\n",
       "      <td>False</td>\n",
       "      <td>4</td>\n",
       "      <td>False</td>\n",
       "    </tr>\n",
       "    <tr>\n",
       "      <th>1</th>\n",
       "      <td>churro</td>\n",
       "      <td>9</td>\n",
       "      <td>dog</td>\n",
       "      <td>True</td>\n",
       "      <td>False</td>\n",
       "      <td>6</td>\n",
       "      <td>False</td>\n",
       "    </tr>\n",
       "    <tr>\n",
       "      <th>2</th>\n",
       "      <td>plant</td>\n",
       "      <td>0</td>\n",
       "      <td>dead</td>\n",
       "      <td>False</td>\n",
       "      <td>False</td>\n",
       "      <td>5</td>\n",
       "      <td>False</td>\n",
       "    </tr>\n",
       "    <tr>\n",
       "      <th>3</th>\n",
       "      <td>cup</td>\n",
       "      <td>1</td>\n",
       "      <td>cup</td>\n",
       "      <td>False</td>\n",
       "      <td>False</td>\n",
       "      <td>3</td>\n",
       "      <td>False</td>\n",
       "    </tr>\n",
       "  </tbody>\n",
       "</table>\n",
       "</div>"
      ],
      "text/plain": [
       "     name  age   type  is_furry  likes_cats  len_name  logical_op\n",
       "0    dani   34  human     False       False         4       False\n",
       "1  churro    9    dog      True       False         6       False\n",
       "2   plant    0   dead     False       False         5       False\n",
       "3     cup    1    cup     False       False         3       False"
      ]
     },
     "execution_count": 266,
     "metadata": {},
     "output_type": "execute_result"
    }
   ],
   "source": [
    "# dataset[\"logical_op\"] = \n",
    "\n",
    "dataset[\"logical_op\"] = dataset[\"is_furry\"] & dataset[\"likes_cats\"]\n",
    "dataset"
   ]
  },
  {
   "cell_type": "markdown",
   "id": "8617052d-4e53-4662-868d-fe61ecbe0501",
   "metadata": {
    "tags": []
   },
   "source": [
    "### 5. Change the `index` from the default to:\n",
    "\n",
    "`element_1, element_2, element_3, element_4, element_5`"
   ]
  },
  {
   "cell_type": "code",
   "execution_count": 269,
   "id": "c55220e1",
   "metadata": {},
   "outputs": [],
   "source": [
    "dataset[\"new_index\"] = [f\"element_{i}\" for i in range(1, 5)]\n",
    "\n",
    "dataset = dataset.set_index(\"new_index\")"
   ]
  },
  {
   "cell_type": "code",
   "execution_count": 270,
   "id": "5ef50303-1cbc-46a8-baf3-217bcc37076a",
   "metadata": {},
   "outputs": [
    {
     "data": {
      "text/html": [
       "<div>\n",
       "<style scoped>\n",
       "    .dataframe tbody tr th:only-of-type {\n",
       "        vertical-align: middle;\n",
       "    }\n",
       "\n",
       "    .dataframe tbody tr th {\n",
       "        vertical-align: top;\n",
       "    }\n",
       "\n",
       "    .dataframe thead th {\n",
       "        text-align: right;\n",
       "    }\n",
       "</style>\n",
       "<table border=\"1\" class=\"dataframe\">\n",
       "  <thead>\n",
       "    <tr style=\"text-align: right;\">\n",
       "      <th></th>\n",
       "      <th>name</th>\n",
       "      <th>age</th>\n",
       "      <th>type</th>\n",
       "      <th>is_furry</th>\n",
       "      <th>likes_cats</th>\n",
       "      <th>len_name</th>\n",
       "      <th>logical_op</th>\n",
       "    </tr>\n",
       "    <tr>\n",
       "      <th>new_index</th>\n",
       "      <th></th>\n",
       "      <th></th>\n",
       "      <th></th>\n",
       "      <th></th>\n",
       "      <th></th>\n",
       "      <th></th>\n",
       "      <th></th>\n",
       "    </tr>\n",
       "  </thead>\n",
       "  <tbody>\n",
       "    <tr>\n",
       "      <th>element_1</th>\n",
       "      <td>dani</td>\n",
       "      <td>34</td>\n",
       "      <td>human</td>\n",
       "      <td>False</td>\n",
       "      <td>False</td>\n",
       "      <td>4</td>\n",
       "      <td>False</td>\n",
       "    </tr>\n",
       "    <tr>\n",
       "      <th>element_2</th>\n",
       "      <td>churro</td>\n",
       "      <td>9</td>\n",
       "      <td>dog</td>\n",
       "      <td>True</td>\n",
       "      <td>False</td>\n",
       "      <td>6</td>\n",
       "      <td>False</td>\n",
       "    </tr>\n",
       "    <tr>\n",
       "      <th>element_3</th>\n",
       "      <td>plant</td>\n",
       "      <td>0</td>\n",
       "      <td>dead</td>\n",
       "      <td>False</td>\n",
       "      <td>False</td>\n",
       "      <td>5</td>\n",
       "      <td>False</td>\n",
       "    </tr>\n",
       "    <tr>\n",
       "      <th>element_4</th>\n",
       "      <td>cup</td>\n",
       "      <td>1</td>\n",
       "      <td>cup</td>\n",
       "      <td>False</td>\n",
       "      <td>False</td>\n",
       "      <td>3</td>\n",
       "      <td>False</td>\n",
       "    </tr>\n",
       "  </tbody>\n",
       "</table>\n",
       "</div>"
      ],
      "text/plain": [
       "             name  age   type  is_furry  likes_cats  len_name  logical_op\n",
       "new_index                                                                \n",
       "element_1    dani   34  human     False       False         4       False\n",
       "element_2  churro    9    dog      True       False         6       False\n",
       "element_3   plant    0   dead     False       False         5       False\n",
       "element_4     cup    1    cup     False       False         3       False"
      ]
     },
     "execution_count": 270,
     "metadata": {},
     "output_type": "execute_result"
    }
   ],
   "source": [
    "dataset"
   ]
  },
  {
   "cell_type": "markdown",
   "id": "382ef518-bfc7-4732-83df-15d107153505",
   "metadata": {},
   "source": [
    "### 6. Create a new dataframe called `non_furry` that contains the rows with `is_furry = False`:"
   ]
  },
  {
   "cell_type": "code",
   "execution_count": 273,
   "id": "d4c60502-8617-4114-80ff-1d6780f86a08",
   "metadata": {},
   "outputs": [],
   "source": [
    "condition = dataset[\"is_furry\"]==False"
   ]
  },
  {
   "cell_type": "code",
   "execution_count": 274,
   "id": "d4f1f77c",
   "metadata": {},
   "outputs": [
    {
     "data": {
      "text/html": [
       "<div>\n",
       "<style scoped>\n",
       "    .dataframe tbody tr th:only-of-type {\n",
       "        vertical-align: middle;\n",
       "    }\n",
       "\n",
       "    .dataframe tbody tr th {\n",
       "        vertical-align: top;\n",
       "    }\n",
       "\n",
       "    .dataframe thead th {\n",
       "        text-align: right;\n",
       "    }\n",
       "</style>\n",
       "<table border=\"1\" class=\"dataframe\">\n",
       "  <thead>\n",
       "    <tr style=\"text-align: right;\">\n",
       "      <th></th>\n",
       "      <th>name</th>\n",
       "      <th>age</th>\n",
       "      <th>type</th>\n",
       "      <th>is_furry</th>\n",
       "      <th>likes_cats</th>\n",
       "      <th>len_name</th>\n",
       "      <th>logical_op</th>\n",
       "    </tr>\n",
       "    <tr>\n",
       "      <th>new_index</th>\n",
       "      <th></th>\n",
       "      <th></th>\n",
       "      <th></th>\n",
       "      <th></th>\n",
       "      <th></th>\n",
       "      <th></th>\n",
       "      <th></th>\n",
       "    </tr>\n",
       "  </thead>\n",
       "  <tbody>\n",
       "    <tr>\n",
       "      <th>element_1</th>\n",
       "      <td>dani</td>\n",
       "      <td>34</td>\n",
       "      <td>human</td>\n",
       "      <td>False</td>\n",
       "      <td>False</td>\n",
       "      <td>4</td>\n",
       "      <td>False</td>\n",
       "    </tr>\n",
       "    <tr>\n",
       "      <th>element_3</th>\n",
       "      <td>plant</td>\n",
       "      <td>0</td>\n",
       "      <td>dead</td>\n",
       "      <td>False</td>\n",
       "      <td>False</td>\n",
       "      <td>5</td>\n",
       "      <td>False</td>\n",
       "    </tr>\n",
       "    <tr>\n",
       "      <th>element_4</th>\n",
       "      <td>cup</td>\n",
       "      <td>1</td>\n",
       "      <td>cup</td>\n",
       "      <td>False</td>\n",
       "      <td>False</td>\n",
       "      <td>3</td>\n",
       "      <td>False</td>\n",
       "    </tr>\n",
       "  </tbody>\n",
       "</table>\n",
       "</div>"
      ],
      "text/plain": [
       "            name  age   type  is_furry  likes_cats  len_name  logical_op\n",
       "new_index                                                               \n",
       "element_1   dani   34  human     False       False         4       False\n",
       "element_3  plant    0   dead     False       False         5       False\n",
       "element_4    cup    1    cup     False       False         3       False"
      ]
     },
     "execution_count": 274,
     "metadata": {},
     "output_type": "execute_result"
    }
   ],
   "source": [
    "non_furry = dataset[condition]\n",
    "\n",
    "non_furry"
   ]
  }
 ],
 "metadata": {
  "kernelspec": {
   "name": "python3",
   "language": "python",
   "display_name": "Python 3 (ipykernel)"
  },
  "language_info": {
   "codemirror_mode": {
    "name": "ipython",
    "version": 3
   },
   "file_extension": ".py",
   "mimetype": "text/x-python",
   "name": "python",
   "nbconvert_exporter": "python",
   "pygments_lexer": "ipython3",
   "version": "3.8.12"
  },
  "vscode": {
   "interpreter": {
    "hash": "a9f295c814a5ce7ff0b0a20f2b13117bfaf008fc7980e281f2c2bfa8e9ec0fbf"
   }
  }
 },
 "nbformat": 4,
 "nbformat_minor": 5
}
