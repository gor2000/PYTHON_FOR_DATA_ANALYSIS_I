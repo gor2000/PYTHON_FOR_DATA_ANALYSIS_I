{
 "cells": [
  {
   "cell_type": "code",
   "execution_count": null,
   "id": "41b1404c-18f8-4667-a5de-24c712b8a96d",
   "metadata": {},
   "outputs": [],
   "source": []
  },
  {
   "cell_type": "markdown",
   "id": "38b94bd6-69b0-4dad-bf37-563dabfe98e7",
   "metadata": {},
   "source": [
    "```python\n",
    "# first the if\n",
    "if condition:\n",
    "    do something\n",
    "else: # if not\n",
    "    do something else\n",
    "```"
   ]
  },
  {
   "cell_type": "code",
   "execution_count": 17,
   "id": "3fedbc75-2878-4fe6-865a-c8d70e1020b3",
   "metadata": {},
   "outputs": [
    {
     "name": "stdout",
     "output_type": "stream",
     "text": [
      "Nay\n"
     ]
    }
   ],
   "source": [
    "a = 2\n",
    "\n",
    "if a>4:\n",
    "    print(\"yay\")\n",
    "else:\n",
    "    print(\"Nay\")"
   ]
  },
  {
   "cell_type": "code",
   "execution_count": 21,
   "id": "c9ae2ad4-b1e0-4bf7-a733-ca4b0a1de0a5",
   "metadata": {},
   "outputs": [
    {
     "name": "stdout",
     "output_type": "stream",
     "text": [
      "1\n",
      "2\n",
      "3\n"
     ]
    }
   ],
   "source": [
    "for i in [1, 2, 3]:\n",
    "    print(i)"
   ]
  },
  {
   "cell_type": "code",
   "execution_count": 22,
   "id": "4348e2e7-9c15-47c2-9411-528c7a739b37",
   "metadata": {},
   "outputs": [
    {
     "data": {
      "text/plain": [
       "45"
      ]
     },
     "execution_count": 22,
     "metadata": {},
     "output_type": "execute_result"
    }
   ],
   "source": [
    "sum(list(range(10)))"
   ]
  },
  {
   "cell_type": "code",
   "execution_count": 23,
   "id": "a37cd7c3-307c-44ca-a99c-b5553b399873",
   "metadata": {},
   "outputs": [
    {
     "data": {
      "text/plain": [
       "10"
      ]
     },
     "execution_count": 23,
     "metadata": {},
     "output_type": "execute_result"
    }
   ],
   "source": [
    "s = 0\n",
    "\n",
    "for i in range(5):\n",
    "    \n",
    "    s += i\n",
    "\n",
    "s"
   ]
  },
  {
   "cell_type": "code",
   "execution_count": 26,
   "id": "7d2930bf-98c8-4171-9d51-004c1a6c044f",
   "metadata": {},
   "outputs": [
    {
     "data": {
      "text/plain": [
       "['a', 'i', 'e']"
      ]
     },
     "execution_count": 26,
     "metadata": {},
     "output_type": "execute_result"
    }
   ],
   "source": [
    "vowels = \"aeiou\"\n",
    "name = \"daniel\"\n",
    "vowels_in_name = []\n",
    "\n",
    "for letter in name:\n",
    "    if letter in vowels:\n",
    "        vowels_in_name.append(letter)\n",
    "        \n",
    "vowels_in_name"
   ]
  }
 ],
 "metadata": {
  "kernelspec": {
   "display_name": "Python [conda env:pda1] *",
   "language": "python",
   "name": "conda-env-pda1-py"
  },
  "language_info": {
   "codemirror_mode": {
    "name": "ipython",
    "version": 3
   },
   "file_extension": ".py",
   "mimetype": "text/x-python",
   "name": "python",
   "nbconvert_exporter": "python",
   "pygments_lexer": "ipython3",
   "version": "3.9.16"
  }
 },
 "nbformat": 4,
 "nbformat_minor": 5
}
