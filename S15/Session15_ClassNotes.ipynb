{
 "cells": [
  {
   "attachments": {},
   "cell_type": "markdown",
   "id": "f971ca1f-f158-4ded-9108-74bac36c3167",
   "metadata": {},
   "source": [
    "# Session 15: Pivot tables. Merge, join, and concat.\n"
   ]
  },
  {
   "attachments": {},
   "cell_type": "markdown",
   "id": "b1c024a6-1fd2-4e72-88d2-416f794c55b3",
   "metadata": {},
   "source": [
    "## Pivot tables\n",
    "\n",
    "Just like with Excel, we can use a similar set of operations to be performed on our dataframes:\n",
    "\n",
    "The syntax for pivot tables in `pandas` is the following:\n",
    "\n",
    "```Python\n",
    "pd.pivot_table(\n",
    "    data=\"our dataframe\",\n",
    "    values=\"column to aggregate\",\n",
    "    index=\"column to use as index\",\n",
    "    columns=\"column with categories with which to aggregate\",\n",
    "    aggfunc=\"function to use\",\n",
    ")\n",
    "```\n",
    "\n",
    "Let's see it with an example!"
   ]
  },
  {
   "cell_type": "code",
   "execution_count": 33,
   "id": "d5cbd7df-2542-4aa1-b68d-60fc006a3b0d",
   "metadata": {
    "ExecuteTime": {
     "end_time": "2023-06-29T14:39:04.370742Z",
     "start_time": "2023-06-29T14:39:04.334420Z"
    }
   },
   "outputs": [
    {
     "data": {
      "text/plain": "                    datetime  power_demand  nuclear     gas  solar   hydro  \\\n0  2018-12-31 23:00:00+00:00       23251.2   6059.2  2954.0    7.1  3202.8   \n1  2019-01-01 00:00:00+00:00       22485.0   6059.2  3044.1    8.0  2884.4   \n2  2019-01-01 01:00:00+00:00       20977.0   6059.2  3138.6    7.5  1950.8   \n3  2019-01-01 02:00:00+00:00       19754.2   6059.2  3596.2    7.5  1675.7   \n4  2019-01-01 03:00:00+00:00       19320.6   6063.4  3192.6    7.5  1581.8   \n\n     coal    wind  spot_price  year  month  day  hour  weekday  \n0  1867.0  3830.3       66.88  2018     12   31    23        0  \n1  1618.0  3172.1       66.88  2019      1    1     0        1  \n2  1535.3  2980.5       66.00  2019      1    1     1        1  \n3  1344.0  2840.0       63.64  2019      1    1     2        1  \n4  1345.0  3253.4       58.85  2019      1    1     3        1  ",
      "text/html": "<div>\n<style scoped>\n    .dataframe tbody tr th:only-of-type {\n        vertical-align: middle;\n    }\n\n    .dataframe tbody tr th {\n        vertical-align: top;\n    }\n\n    .dataframe thead th {\n        text-align: right;\n    }\n</style>\n<table border=\"1\" class=\"dataframe\">\n  <thead>\n    <tr style=\"text-align: right;\">\n      <th></th>\n      <th>datetime</th>\n      <th>power_demand</th>\n      <th>nuclear</th>\n      <th>gas</th>\n      <th>solar</th>\n      <th>hydro</th>\n      <th>coal</th>\n      <th>wind</th>\n      <th>spot_price</th>\n      <th>year</th>\n      <th>month</th>\n      <th>day</th>\n      <th>hour</th>\n      <th>weekday</th>\n    </tr>\n  </thead>\n  <tbody>\n    <tr>\n      <th>0</th>\n      <td>2018-12-31 23:00:00+00:00</td>\n      <td>23251.2</td>\n      <td>6059.2</td>\n      <td>2954.0</td>\n      <td>7.1</td>\n      <td>3202.8</td>\n      <td>1867.0</td>\n      <td>3830.3</td>\n      <td>66.88</td>\n      <td>2018</td>\n      <td>12</td>\n      <td>31</td>\n      <td>23</td>\n      <td>0</td>\n    </tr>\n    <tr>\n      <th>1</th>\n      <td>2019-01-01 00:00:00+00:00</td>\n      <td>22485.0</td>\n      <td>6059.2</td>\n      <td>3044.1</td>\n      <td>8.0</td>\n      <td>2884.4</td>\n      <td>1618.0</td>\n      <td>3172.1</td>\n      <td>66.88</td>\n      <td>2019</td>\n      <td>1</td>\n      <td>1</td>\n      <td>0</td>\n      <td>1</td>\n    </tr>\n    <tr>\n      <th>2</th>\n      <td>2019-01-01 01:00:00+00:00</td>\n      <td>20977.0</td>\n      <td>6059.2</td>\n      <td>3138.6</td>\n      <td>7.5</td>\n      <td>1950.8</td>\n      <td>1535.3</td>\n      <td>2980.5</td>\n      <td>66.00</td>\n      <td>2019</td>\n      <td>1</td>\n      <td>1</td>\n      <td>1</td>\n      <td>1</td>\n    </tr>\n    <tr>\n      <th>3</th>\n      <td>2019-01-01 02:00:00+00:00</td>\n      <td>19754.2</td>\n      <td>6059.2</td>\n      <td>3596.2</td>\n      <td>7.5</td>\n      <td>1675.7</td>\n      <td>1344.0</td>\n      <td>2840.0</td>\n      <td>63.64</td>\n      <td>2019</td>\n      <td>1</td>\n      <td>1</td>\n      <td>2</td>\n      <td>1</td>\n    </tr>\n    <tr>\n      <th>4</th>\n      <td>2019-01-01 03:00:00+00:00</td>\n      <td>19320.6</td>\n      <td>6063.4</td>\n      <td>3192.6</td>\n      <td>7.5</td>\n      <td>1581.8</td>\n      <td>1345.0</td>\n      <td>3253.4</td>\n      <td>58.85</td>\n      <td>2019</td>\n      <td>1</td>\n      <td>1</td>\n      <td>3</td>\n      <td>1</td>\n    </tr>\n  </tbody>\n</table>\n</div>"
     },
     "execution_count": 33,
     "metadata": {},
     "output_type": "execute_result"
    }
   ],
   "source": [
    "import pandas as pd\n",
    "\n",
    "energy = pd.read_csv(\"../files/energy.csv\")\n",
    "\n",
    "energy.head()"
   ]
  },
  {
   "cell_type": "code",
   "execution_count": 34,
   "id": "ec3397df-e018-4f8a-ad06-ffd2082b6e26",
   "metadata": {
    "ExecuteTime": {
     "end_time": "2023-06-29T14:44:50.076976Z",
     "start_time": "2023-06-29T14:44:49.206127Z"
    }
   },
   "outputs": [
    {
     "data": {
      "text/plain": "<Axes: xlabel='hour', ylabel='month'>"
     },
     "execution_count": 34,
     "metadata": {},
     "output_type": "execute_result"
    },
    {
     "data": {
      "text/plain": "<Figure size 640x480 with 2 Axes>",
      "image/png": "[encoded data removed]"
     },
     "metadata": {},
     "output_type": "display_data"
    }
   ],
   "source": [
    "# Create a table with:\n",
    "# months as rows -> `index`\n",
    "# weekday as columns -> `columns`\n",
    "# containing the average (`aggfunc`) solar power (`values`) per weekday and month\n",
    "pt = pd.pivot_table(\n",
    "    data=energy, \n",
    "    values=\"solar\",\n",
    "    index=\"month\",\n",
    "    columns=\"weekday\",\n",
    "    aggfunc=\"mean\"\n",
    ")\n",
    "\n",
    "pt"
   ]
  },
  {
   "cell_type": "code",
   "execution_count": 36,
   "id": "7f25ef23-23d4-40bc-9db6-1e0ac97d7f5e",
   "metadata": {
    "ExecuteTime": {
     "end_time": "2023-06-29T14:51:23.511516Z",
     "start_time": "2023-06-29T14:51:23.479101Z"
    }
   },
   "outputs": [
    {
     "data": {
      "text/plain": "                     solar\nmonth weekday             \n1     0        1176.332759\n      1         885.727848\n      2         848.296341\n      3         882.874286\n      4        1054.105000\n...                    ...\n12    2         775.440476\n      3         618.424419\n      4         680.612941\n      5         785.815909\n      6         860.047423\n\n[84 rows x 1 columns]",
      "text/html": "<div>\n<style scoped>\n    .dataframe tbody tr th:only-of-type {\n        vertical-align: middle;\n    }\n\n    .dataframe tbody tr th {\n        vertical-align: top;\n    }\n\n    .dataframe thead th {\n        text-align: right;\n    }\n</style>\n<table border=\"1\" class=\"dataframe\">\n  <thead>\n    <tr style=\"text-align: right;\">\n      <th></th>\n      <th></th>\n      <th>solar</th>\n    </tr>\n    <tr>\n      <th>month</th>\n      <th>weekday</th>\n      <th></th>\n    </tr>\n  </thead>\n  <tbody>\n    <tr>\n      <th rowspan=\"5\" valign=\"top\">1</th>\n      <th>0</th>\n      <td>1176.332759</td>\n    </tr>\n    <tr>\n      <th>1</th>\n      <td>885.727848</td>\n    </tr>\n    <tr>\n      <th>2</th>\n      <td>848.296341</td>\n    </tr>\n    <tr>\n      <th>3</th>\n      <td>882.874286</td>\n    </tr>\n    <tr>\n      <th>4</th>\n      <td>1054.105000</td>\n    </tr>\n    <tr>\n      <th>...</th>\n      <th>...</th>\n      <td>...</td>\n    </tr>\n    <tr>\n      <th rowspan=\"5\" valign=\"top\">12</th>\n      <th>2</th>\n      <td>775.440476</td>\n    </tr>\n    <tr>\n      <th>3</th>\n      <td>618.424419</td>\n    </tr>\n    <tr>\n      <th>4</th>\n      <td>680.612941</td>\n    </tr>\n    <tr>\n      <th>5</th>\n      <td>785.815909</td>\n    </tr>\n    <tr>\n      <th>6</th>\n      <td>860.047423</td>\n    </tr>\n  </tbody>\n</table>\n<p>84 rows × 1 columns</p>\n</div>"
     },
     "execution_count": 36,
     "metadata": {},
     "output_type": "execute_result"
    }
   ],
   "source": [
    "energy.groupby([\"month\", \"weekday\"])[[\"solar\"]].mean()"
   ]
  },
  {
   "cell_type": "code",
   "execution_count": 35,
   "id": "1d55982d-b50c-4b65-ae3c-752e50717cba",
   "metadata": {
    "ExecuteTime": {
     "end_time": "2023-06-29T14:51:19.607719Z",
     "start_time": "2023-06-29T14:51:19.595879Z"
    }
   },
   "outputs": [
    {
     "data": {
      "text/plain": "860.0474226804124"
     },
     "execution_count": 35,
     "metadata": {},
     "output_type": "execute_result"
    }
   ],
   "source": [
    "# to check let's calculate the average solar power generation \n",
    "# on Sundays in December\n",
    "energy[\n",
    "    (energy[\"weekday\"]==6) &\n",
    "    (energy[\"month\"]==12)\n",
    "][\"solar\"].mean()\n",
    "\n",
    "# nice!"
   ]
  },
  {
   "attachments": {},
   "cell_type": "markdown",
   "id": "d2dd01d3-8a9f-4935-a808-ebe44ed5de91",
   "metadata": {},
   "source": [
    "In the end, `pd.pivot_table` is nothing but filling a table with:\n",
    "\n",
    "```Python\n",
    "for idx in index:\n",
    "    for category in column:\n",
    "        table[idx, category] = df[\n",
    "            (df[index]==idx) &\n",
    "            (df[column]==category)\n",
    "        ][values].aggfunc()\n",
    "```"
   ]
  },
  {
   "cell_type": "code",
   "execution_count": 37,
   "id": "fa430395-4828-4671-9fd0-1ed5d15c1d41",
   "metadata": {
    "ExecuteTime": {
     "end_time": "2023-06-29T14:51:26.089529Z",
     "start_time": "2023-06-29T14:51:26.049988Z"
    }
   },
   "outputs": [
    {
     "data": {
      "text/plain": "                     solar\nweekday month             \n0       1      1176.332759\n        2      1163.607463\n        3      1409.240000\n        4      1238.181395\n        5      1726.642254\n...                    ...\n6       8      1955.343077\n        9      1484.169231\n        10     1434.127778\n        11      894.848649\n        12      860.047423\n\n[84 rows x 1 columns]",
      "text/html": "<div>\n<style scoped>\n    .dataframe tbody tr th:only-of-type {\n        vertical-align: middle;\n    }\n\n    .dataframe tbody tr th {\n        vertical-align: top;\n    }\n\n    .dataframe thead th {\n        text-align: right;\n    }\n</style>\n<table border=\"1\" class=\"dataframe\">\n  <thead>\n    <tr style=\"text-align: right;\">\n      <th></th>\n      <th></th>\n      <th>solar</th>\n    </tr>\n    <tr>\n      <th>weekday</th>\n      <th>month</th>\n      <th></th>\n    </tr>\n  </thead>\n  <tbody>\n    <tr>\n      <th rowspan=\"5\" valign=\"top\">0</th>\n      <th>1</th>\n      <td>1176.332759</td>\n    </tr>\n    <tr>\n      <th>2</th>\n      <td>1163.607463</td>\n    </tr>\n    <tr>\n      <th>3</th>\n      <td>1409.240000</td>\n    </tr>\n    <tr>\n      <th>4</th>\n      <td>1238.181395</td>\n    </tr>\n    <tr>\n      <th>5</th>\n      <td>1726.642254</td>\n    </tr>\n    <tr>\n      <th>...</th>\n      <th>...</th>\n      <td>...</td>\n    </tr>\n    <tr>\n      <th rowspan=\"5\" valign=\"top\">6</th>\n      <th>8</th>\n      <td>1955.343077</td>\n    </tr>\n    <tr>\n      <th>9</th>\n      <td>1484.169231</td>\n    </tr>\n    <tr>\n      <th>10</th>\n      <td>1434.127778</td>\n    </tr>\n    <tr>\n      <th>11</th>\n      <td>894.848649</td>\n    </tr>\n    <tr>\n      <th>12</th>\n      <td>860.047423</td>\n    </tr>\n  </tbody>\n</table>\n<p>84 rows × 1 columns</p>\n</div>"
     },
     "execution_count": 37,
     "metadata": {},
     "output_type": "execute_result"
    }
   ],
   "source": [
    "# Create a table with months and weekdays as rows\n",
    "# containing the average solar power per weekday and month\n",
    "pd.pivot_table(\n",
    "    data=energy, \n",
    "    values=\"solar\",\n",
    "    index=[\"weekday\", \"month\"],\n",
    "    aggfunc=\"mean\"\n",
    ")"
   ]
  },
  {
   "attachments": {},
   "cell_type": "markdown",
   "id": "cb374fa6-b200-4108-9752-8a4b46d31533",
   "metadata": {},
   "source": [
    "### Summarizing data\n",
    "\n",
    "Pivot tables allow us to summarize data: \n",
    "* Create a table expressing the probability of having low/high wind in day of the week"
   ]
  },
  {
   "cell_type": "code",
   "execution_count": 81,
   "id": "f4c27fbd-ed9a-4f08-a72c-2f6023d047f1",
   "metadata": {},
   "outputs": [
    {
     "ename": "SyntaxError",
     "evalue": "invalid syntax (1514108982.py, line 2)",
     "output_type": "error",
     "traceback": [
      "\u001B[0;36m  File \u001B[0;32m\"/var/folders/kn/gt9ggj051wdfjnfqv8xjl8qh0000gn/T/ipykernel_28486/1514108982.py\"\u001B[0;36m, line \u001B[0;32m2\u001B[0m\n\u001B[0;31m    do this\u001B[0m\n\u001B[0m       ^\u001B[0m\n\u001B[0;31mSyntaxError\u001B[0m\u001B[0;31m:\u001B[0m invalid syntax\n"
     ]
    }
   ],
   "source": [
    "if condition:\n",
    "    do this\n",
    "else:\n",
    "    do this other thing\n",
    "    \n",
    "\n",
    "np.where(\n",
    "    condition,\n",
    "    do this,\n",
    "    do this other thing\n",
    ")"
   ]
  },
  {
   "cell_type": "code",
   "execution_count": null,
   "id": "e5ebbbfa-0c4b-478b-b27d-500d39e6f778",
   "metadata": {},
   "outputs": [],
   "source": [
    "np.size, np.sum, np.mean\n",
    "\n",
    "def dadada():\n",
    "    return something"
   ]
  },
  {
   "cell_type": "code",
   "execution_count": 38,
   "id": "1bc548a6-26b1-4bd8-b598-37c7633aeb8a",
   "metadata": {
    "ExecuteTime": {
     "end_time": "2023-06-29T14:52:04.768268Z",
     "start_time": "2023-06-29T14:52:04.731826Z"
    }
   },
   "outputs": [
    {
     "data": {
      "text/plain": "wind_cat  High  Low\nweekday            \n0          543  706\n1          519  729\n2          585  663\n3          543  705\n4          473  775\n5          472  776\n6          540  708",
      "text/html": "<div>\n<style scoped>\n    .dataframe tbody tr th:only-of-type {\n        vertical-align: middle;\n    }\n\n    .dataframe tbody tr th {\n        vertical-align: top;\n    }\n\n    .dataframe thead th {\n        text-align: right;\n    }\n</style>\n<table border=\"1\" class=\"dataframe\">\n  <thead>\n    <tr style=\"text-align: right;\">\n      <th>wind_cat</th>\n      <th>High</th>\n      <th>Low</th>\n    </tr>\n    <tr>\n      <th>weekday</th>\n      <th></th>\n      <th></th>\n    </tr>\n  </thead>\n  <tbody>\n    <tr>\n      <th>0</th>\n      <td>543</td>\n      <td>706</td>\n    </tr>\n    <tr>\n      <th>1</th>\n      <td>519</td>\n      <td>729</td>\n    </tr>\n    <tr>\n      <th>2</th>\n      <td>585</td>\n      <td>663</td>\n    </tr>\n    <tr>\n      <th>3</th>\n      <td>543</td>\n      <td>705</td>\n    </tr>\n    <tr>\n      <th>4</th>\n      <td>473</td>\n      <td>775</td>\n    </tr>\n    <tr>\n      <th>5</th>\n      <td>472</td>\n      <td>776</td>\n    </tr>\n    <tr>\n      <th>6</th>\n      <td>540</td>\n      <td>708</td>\n    </tr>\n  </tbody>\n</table>\n</div>"
     },
     "execution_count": 38,
     "metadata": {},
     "output_type": "execute_result"
    }
   ],
   "source": [
    "# create categories of low/high wind\n",
    "import numpy as np\n",
    "\n",
    "energy[\"wind_cat\"] = np.where(\n",
    "    energy[\"wind\"] > energy[\"wind\"].mean(),\n",
    "    \"High\",\n",
    "    \"Low\"\n",
    ")\n",
    "\n",
    "# create table \n",
    "energy.pivot_table(\n",
    "    index=\"weekday\", \n",
    "    columns=\"wind_cat\", \n",
    "    aggfunc=\"size\",\n",
    ")"
   ]
  },
  {
   "cell_type": "code",
   "execution_count": 9,
   "id": "8ebbb9b8-7a68-471f-8cf2-cd7e68b219d8",
   "metadata": {
    "ExecuteTime": {
     "end_time": "2023-06-29T14:13:07.069615Z",
     "start_time": "2023-06-29T14:13:07.043536Z"
    }
   },
   "outputs": [
    {
     "data": {
      "text/plain": "wind_cat      High       Low\nweekday                     \n0         0.062149  0.080806\n1         0.059403  0.083438\n2         0.066957  0.075884\n3         0.062149  0.080691\n4         0.054138  0.088703\n5         0.054023  0.088818\n6         0.061806  0.081035",
      "text/html": "<div>\n<style scoped>\n    .dataframe tbody tr th:only-of-type {\n        vertical-align: middle;\n    }\n\n    .dataframe tbody tr th {\n        vertical-align: top;\n    }\n\n    .dataframe thead th {\n        text-align: right;\n    }\n</style>\n<table border=\"1\" class=\"dataframe\">\n  <thead>\n    <tr style=\"text-align: right;\">\n      <th>wind_cat</th>\n      <th>High</th>\n      <th>Low</th>\n    </tr>\n    <tr>\n      <th>weekday</th>\n      <th></th>\n      <th></th>\n    </tr>\n  </thead>\n  <tbody>\n    <tr>\n      <th>0</th>\n      <td>0.062149</td>\n      <td>0.080806</td>\n    </tr>\n    <tr>\n      <th>1</th>\n      <td>0.059403</td>\n      <td>0.083438</td>\n    </tr>\n    <tr>\n      <th>2</th>\n      <td>0.066957</td>\n      <td>0.075884</td>\n    </tr>\n    <tr>\n      <th>3</th>\n      <td>0.062149</td>\n      <td>0.080691</td>\n    </tr>\n    <tr>\n      <th>4</th>\n      <td>0.054138</td>\n      <td>0.088703</td>\n    </tr>\n    <tr>\n      <th>5</th>\n      <td>0.054023</td>\n      <td>0.088818</td>\n    </tr>\n    <tr>\n      <th>6</th>\n      <td>0.061806</td>\n      <td>0.081035</td>\n    </tr>\n  </tbody>\n</table>\n</div>"
     },
     "execution_count": 9,
     "metadata": {},
     "output_type": "execute_result"
    }
   ],
   "source": [
    "# we convert times into probabilities by dividing by the length of the df!\n",
    "\n",
    "df = energy.pivot_table(\n",
    "    index=\"weekday\", columns=\"wind_cat\", aggfunc=\"size\",\n",
    ") / len(energy)\n",
    "\n",
    "df"
   ]
  },
  {
   "cell_type": "code",
   "execution_count": 10,
   "id": "4b2077bf-6bd3-4ed0-afe6-04a44d7db384",
   "metadata": {
    "ExecuteTime": {
     "end_time": "2023-06-29T14:13:27.025591Z",
     "start_time": "2023-06-29T14:13:27.011901Z"
    }
   },
   "outputs": [
    {
     "data": {
      "text/plain": "1.0"
     },
     "execution_count": 10,
     "metadata": {},
     "output_type": "execute_result"
    }
   ],
   "source": [
    "df.values.sum()"
   ]
  },
  {
   "cell_type": "code",
   "execution_count": 11,
   "id": "0f2199c2-8639-40a5-a9a2-ceb60237d7d6",
   "metadata": {
    "ExecuteTime": {
     "end_time": "2023-06-29T14:13:29.834473Z",
     "start_time": "2023-06-29T14:13:29.804914Z"
    }
   },
   "outputs": [
    {
     "data": {
      "text/plain": "wind_cat          High       Low\nweekday hour                    \n0       0     0.002747  0.003205\n        1     0.002861  0.003090\n        2     0.002632  0.003319\n        3     0.002518  0.003434\n        4     0.002518  0.003434\n...                ...       ...\n6       19    0.003090  0.002861\n        20    0.003319  0.002632\n        21    0.003205  0.002747\n        22    0.003090  0.002861\n        23    0.002747  0.003205\n\n[168 rows x 2 columns]",
      "text/html": "<div>\n<style scoped>\n    .dataframe tbody tr th:only-of-type {\n        vertical-align: middle;\n    }\n\n    .dataframe tbody tr th {\n        vertical-align: top;\n    }\n\n    .dataframe thead th {\n        text-align: right;\n    }\n</style>\n<table border=\"1\" class=\"dataframe\">\n  <thead>\n    <tr style=\"text-align: right;\">\n      <th></th>\n      <th>wind_cat</th>\n      <th>High</th>\n      <th>Low</th>\n    </tr>\n    <tr>\n      <th>weekday</th>\n      <th>hour</th>\n      <th></th>\n      <th></th>\n    </tr>\n  </thead>\n  <tbody>\n    <tr>\n      <th rowspan=\"5\" valign=\"top\">0</th>\n      <th>0</th>\n      <td>0.002747</td>\n      <td>0.003205</td>\n    </tr>\n    <tr>\n      <th>1</th>\n      <td>0.002861</td>\n      <td>0.003090</td>\n    </tr>\n    <tr>\n      <th>2</th>\n      <td>0.002632</td>\n      <td>0.003319</td>\n    </tr>\n    <tr>\n      <th>3</th>\n      <td>0.002518</td>\n      <td>0.003434</td>\n    </tr>\n    <tr>\n      <th>4</th>\n      <td>0.002518</td>\n      <td>0.003434</td>\n    </tr>\n    <tr>\n      <th>...</th>\n      <th>...</th>\n      <td>...</td>\n      <td>...</td>\n    </tr>\n    <tr>\n      <th rowspan=\"5\" valign=\"top\">6</th>\n      <th>19</th>\n      <td>0.003090</td>\n      <td>0.002861</td>\n    </tr>\n    <tr>\n      <th>20</th>\n      <td>0.003319</td>\n      <td>0.002632</td>\n    </tr>\n    <tr>\n      <th>21</th>\n      <td>0.003205</td>\n      <td>0.002747</td>\n    </tr>\n    <tr>\n      <th>22</th>\n      <td>0.003090</td>\n      <td>0.002861</td>\n    </tr>\n    <tr>\n      <th>23</th>\n      <td>0.002747</td>\n      <td>0.003205</td>\n    </tr>\n  </tbody>\n</table>\n<p>168 rows × 2 columns</p>\n</div>"
     },
     "execution_count": 11,
     "metadata": {},
     "output_type": "execute_result"
    }
   ],
   "source": [
    "# Calculate the probabilities of having low/high wind for both weekdays and hours\n",
    "\n",
    "energy.pivot_table(\n",
    "    index=[\"weekday\", \"hour\"],\n",
    "    columns=\"wind_cat\", \n",
    "    aggfunc=\"size\",\n",
    ") / len(energy)"
   ]
  },
  {
   "attachments": {},
   "cell_type": "markdown",
   "id": "f50b8c42",
   "metadata": {},
   "source": [
    "### `stack` and `unstack`\n",
    "\n",
    "We can use `stack` and `unstack` to transform a dataframe from a wide format to a long format and viceversa.\n",
    "\n",
    "It is important to note that `stack` and `unstack` are not methods of the dataframe, but of the `MultiIndex` object.\n",
    "\n",
    "These methods allow us to \"move\" labels from rows to columns and viceversa\n",
    "* `unstack` moves row labels to column labels\n",
    "* `stack` moves column labels to row labels\n",
    "\n",
    "By default, the level at which these function operates is on the -1th level."
   ]
  },
  {
   "cell_type": "code",
   "execution_count": 12,
   "id": "c266ae93",
   "metadata": {
    "ExecuteTime": {
     "end_time": "2023-06-29T14:13:40.391961Z",
     "start_time": "2023-06-29T14:13:40.359308Z"
    }
   },
   "outputs": [
    {
     "data": {
      "text/plain": "                   coal                    wind              \n                    sum         mean        sum          mean\nmonth weekday                                                \n1     0        421269.8  4388.227083   824014.0   8583.479167\n      1        507610.3  4230.085833   846574.9   7054.790833\n      2        512002.1  4266.684167  1127327.0   9394.391667\n      3        499262.3  4160.519167  1107441.0   9228.675000\n      4        456063.6  4750.662500   604727.5   6299.244792\n...                 ...          ...        ...           ...\n12    2         57690.3   801.254167   687588.4   7162.379167\n      3         60719.6   645.953191   966697.5  10069.765625\n      4         49367.6   530.834409   843487.3   8786.326042\n      5         31480.4   655.841667   675993.2   7041.595833\n      6         51225.7   683.009333   759838.7   6331.989167\n\n[84 rows x 4 columns]",
      "text/html": "<div>\n<style scoped>\n    .dataframe tbody tr th:only-of-type {\n        vertical-align: middle;\n    }\n\n    .dataframe tbody tr th {\n        vertical-align: top;\n    }\n\n    .dataframe thead tr th {\n        text-align: left;\n    }\n\n    .dataframe thead tr:last-of-type th {\n        text-align: right;\n    }\n</style>\n<table border=\"1\" class=\"dataframe\">\n  <thead>\n    <tr>\n      <th></th>\n      <th></th>\n      <th colspan=\"2\" halign=\"left\">coal</th>\n      <th colspan=\"2\" halign=\"left\">wind</th>\n    </tr>\n    <tr>\n      <th></th>\n      <th></th>\n      <th>sum</th>\n      <th>mean</th>\n      <th>sum</th>\n      <th>mean</th>\n    </tr>\n    <tr>\n      <th>month</th>\n      <th>weekday</th>\n      <th></th>\n      <th></th>\n      <th></th>\n      <th></th>\n    </tr>\n  </thead>\n  <tbody>\n    <tr>\n      <th rowspan=\"5\" valign=\"top\">1</th>\n      <th>0</th>\n      <td>421269.8</td>\n      <td>4388.227083</td>\n      <td>824014.0</td>\n      <td>8583.479167</td>\n    </tr>\n    <tr>\n      <th>1</th>\n      <td>507610.3</td>\n      <td>4230.085833</td>\n      <td>846574.9</td>\n      <td>7054.790833</td>\n    </tr>\n    <tr>\n      <th>2</th>\n      <td>512002.1</td>\n      <td>4266.684167</td>\n      <td>1127327.0</td>\n      <td>9394.391667</td>\n    </tr>\n    <tr>\n      <th>3</th>\n      <td>499262.3</td>\n      <td>4160.519167</td>\n      <td>1107441.0</td>\n      <td>9228.675000</td>\n    </tr>\n    <tr>\n      <th>4</th>\n      <td>456063.6</td>\n      <td>4750.662500</td>\n      <td>604727.5</td>\n      <td>6299.244792</td>\n    </tr>\n    <tr>\n      <th>...</th>\n      <th>...</th>\n      <td>...</td>\n      <td>...</td>\n      <td>...</td>\n      <td>...</td>\n    </tr>\n    <tr>\n      <th rowspan=\"5\" valign=\"top\">12</th>\n      <th>2</th>\n      <td>57690.3</td>\n      <td>801.254167</td>\n      <td>687588.4</td>\n      <td>7162.379167</td>\n    </tr>\n    <tr>\n      <th>3</th>\n      <td>60719.6</td>\n      <td>645.953191</td>\n      <td>966697.5</td>\n      <td>10069.765625</td>\n    </tr>\n    <tr>\n      <th>4</th>\n      <td>49367.6</td>\n      <td>530.834409</td>\n      <td>843487.3</td>\n      <td>8786.326042</td>\n    </tr>\n    <tr>\n      <th>5</th>\n      <td>31480.4</td>\n      <td>655.841667</td>\n      <td>675993.2</td>\n      <td>7041.595833</td>\n    </tr>\n    <tr>\n      <th>6</th>\n      <td>51225.7</td>\n      <td>683.009333</td>\n      <td>759838.7</td>\n      <td>6331.989167</td>\n    </tr>\n  </tbody>\n</table>\n<p>84 rows × 4 columns</p>\n</div>"
     },
     "execution_count": 12,
     "metadata": {},
     "output_type": "execute_result"
    }
   ],
   "source": [
    "# create DF with 2 indices\n",
    "df = energy.groupby([\"month\", \"weekday\"]).agg({\n",
    "    \"coal\": [\"sum\", \"mean\"],\n",
    "    \"wind\": [\"sum\", \"mean\"]\n",
    "})\n",
    "\n",
    "df"
   ]
  },
  {
   "cell_type": "code",
   "execution_count": 13,
   "id": "56115c1e",
   "metadata": {
    "ExecuteTime": {
     "end_time": "2023-06-29T14:13:50.099090Z",
     "start_time": "2023-06-29T14:13:50.056334Z"
    }
   },
   "outputs": [
    {
     "data": {
      "text/plain": "             coal                                                              \\\n              sum                                                               \nweekday         0         1         2         3         4         5         6   \nmonth                                                                           \n1        421269.8  507610.3  512002.1  499262.3  456063.6  403004.1  299088.4   \n2        355023.1  412356.6  409794.9  354202.2  296157.4  228108.9  201911.1   \n3         90575.2   93075.8   83690.6  115528.7  211058.3  136452.7  105241.6   \n4        143198.9  141308.6   93011.4   93500.1   97725.8   86918.0   75626.0   \n5         46014.0   57783.7   67651.7   65313.1   54077.2   34526.5   34845.2   \n6         60259.3   69456.2   65415.9   57449.5   53481.9   58768.7   65776.0   \n7        103709.9  120206.6  126196.5  102481.9  102255.1   59825.4   54971.8   \n8         39654.1   47677.5   49256.2   68909.5   68596.1   54148.6   35596.5   \n9         87533.4   74152.3   73621.4   63098.8   62168.6   42217.6   57211.7   \n10       100779.0  133426.4  127907.2  116723.8   78866.9   64727.8   65093.0   \n11        70592.7   85964.6  101457.7  103385.3   82449.8   69183.2   50649.2   \n12        78784.7   66524.0   57690.3   60719.6   49367.6   31480.4   51225.7   \n\n                                                ...       wind             \\\n                mean                            ...        sum              \nweekday            0            1            2  ...          4          5   \nmonth                                           ...                         \n1        4388.227083  4230.085833  4266.684167  ...   604727.5   547692.5   \n2        3698.157292  4295.381250  4268.696875  ...   687880.1   742590.4   \n3         943.491667   969.539583   871.777083  ...   479457.2   509594.6   \n4        1193.324167  1177.571667   968.868750  ...   688169.6   654563.4   \n5         479.312500   601.913542   563.764167  ...   873835.7   631901.0   \n6         627.701042   723.502083   681.415625  ...   449544.9   414505.6   \n7         864.249167  1001.721667  1051.637500  ...   315439.9   438007.4   \n8         413.063542   496.640625   513.085417  ...   437170.9   334951.0   \n9         729.445000   772.419792   766.889583  ...   577429.3   548192.7   \n10       1049.781250  1111.886667  1065.893333  ...   397112.2   492724.4   \n11        735.340625   895.464583  1056.851042  ...  1222601.3  1281275.4   \n12        667.666949   923.944444   801.254167  ...   843487.3   675993.2   \n\n                                                                          \\\n                            mean                                           \nweekday          6             0            1            2             3   \nmonth                                                                      \n1         845505.9   8583.479167  7054.790833  9394.391667   9228.675000   \n2         709697.2   4573.125000  3127.797917  3264.470833   4621.850000   \n3         710068.8   7840.760417  8366.327083  9745.963542   6416.372917   \n4         540527.0   4688.543333  5507.959167  9419.402083   7540.681250   \n5         625664.3   4705.531250  5094.652083  6217.274167   6080.860000   \n6         425935.3   3330.016667  5273.940625  5041.561458   5647.368750   \n7         383020.7   5041.106667  4705.435833  4125.745000   3559.652083   \n8         385160.3   4416.210417  3737.441667  3280.898958   3903.412500   \n9         590555.9   4250.530833  5994.954167  5176.195833   5125.916667   \n10        444821.8   4660.223958  5447.506667  5343.123333   5583.927500   \n11       1143600.5  10425.447917  9691.090625  9423.719792   9903.391667   \n12        759838.7   7981.160331  5662.886458  7162.379167  10069.765625   \n\n                                                   \n                                                   \nweekday             4             5             6  \nmonth                                              \n1         6299.244792   5705.130208   8807.353125  \n2         7165.417708   7735.316667   7392.679167  \n3         3995.476667   4246.621667   5917.240000  \n4         7168.433333   6818.368750   5630.489583  \n5         7281.964167   6582.302083   6517.336458  \n6         4682.759375   3454.213333   3549.460833  \n7         3285.832292   4562.577083   3989.798958  \n8         3643.090833   2791.258333   4012.086458  \n9         6014.888542   5710.340625   4921.299167  \n10        4136.585417   5132.545833   4633.560417  \n11       10188.344167  10677.295000  11912.505208  \n12        8786.326042   7041.595833   6331.989167  \n\n[12 rows x 28 columns]",
      "text/html": "<div>\n<style scoped>\n    .dataframe tbody tr th:only-of-type {\n        vertical-align: middle;\n    }\n\n    .dataframe tbody tr th {\n        vertical-align: top;\n    }\n\n    .dataframe thead tr th {\n        text-align: left;\n    }\n\n    .dataframe thead tr:last-of-type th {\n        text-align: right;\n    }\n</style>\n<table border=\"1\" class=\"dataframe\">\n  <thead>\n    <tr>\n      <th></th>\n      <th colspan=\"10\" halign=\"left\">coal</th>\n      <th>...</th>\n      <th colspan=\"10\" halign=\"left\">wind</th>\n    </tr>\n    <tr>\n      <th></th>\n      <th colspan=\"7\" halign=\"left\">sum</th>\n      <th colspan=\"3\" halign=\"left\">mean</th>\n      <th>...</th>\n      <th colspan=\"3\" halign=\"left\">sum</th>\n      <th colspan=\"7\" halign=\"left\">mean</th>\n    </tr>\n    <tr>\n      <th>weekday</th>\n      <th>0</th>\n      <th>1</th>\n      <th>2</th>\n      <th>3</th>\n      <th>4</th>\n      <th>5</th>\n      <th>6</th>\n      <th>0</th>\n      <th>1</th>\n      <th>2</th>\n      <th>...</th>\n      <th>4</th>\n      <th>5</th>\n      <th>6</th>\n      <th>0</th>\n      <th>1</th>\n      <th>2</th>\n      <th>3</th>\n      <th>4</th>\n      <th>5</th>\n      <th>6</th>\n    </tr>\n    <tr>\n      <th>month</th>\n      <th></th>\n      <th></th>\n      <th></th>\n      <th></th>\n      <th></th>\n      <th></th>\n      <th></th>\n      <th></th>\n      <th></th>\n      <th></th>\n      <th></th>\n      <th></th>\n      <th></th>\n      <th></th>\n      <th></th>\n      <th></th>\n      <th></th>\n      <th></th>\n      <th></th>\n      <th></th>\n      <th></th>\n    </tr>\n  </thead>\n  <tbody>\n    <tr>\n      <th>1</th>\n      <td>421269.8</td>\n      <td>507610.3</td>\n      <td>512002.1</td>\n      <td>499262.3</td>\n      <td>456063.6</td>\n      <td>403004.1</td>\n      <td>299088.4</td>\n      <td>4388.227083</td>\n      <td>4230.085833</td>\n      <td>4266.684167</td>\n      <td>...</td>\n      <td>604727.5</td>\n      <td>547692.5</td>\n      <td>845505.9</td>\n      <td>8583.479167</td>\n      <td>7054.790833</td>\n      <td>9394.391667</td>\n      <td>9228.675000</td>\n      <td>6299.244792</td>\n      <td>5705.130208</td>\n      <td>8807.353125</td>\n    </tr>\n    <tr>\n      <th>2</th>\n      <td>355023.1</td>\n      <td>412356.6</td>\n      <td>409794.9</td>\n      <td>354202.2</td>\n      <td>296157.4</td>\n      <td>228108.9</td>\n      <td>201911.1</td>\n      <td>3698.157292</td>\n      <td>4295.381250</td>\n      <td>4268.696875</td>\n      <td>...</td>\n      <td>687880.1</td>\n      <td>742590.4</td>\n      <td>709697.2</td>\n      <td>4573.125000</td>\n      <td>3127.797917</td>\n      <td>3264.470833</td>\n      <td>4621.850000</td>\n      <td>7165.417708</td>\n      <td>7735.316667</td>\n      <td>7392.679167</td>\n    </tr>\n    <tr>\n      <th>3</th>\n      <td>90575.2</td>\n      <td>93075.8</td>\n      <td>83690.6</td>\n      <td>115528.7</td>\n      <td>211058.3</td>\n      <td>136452.7</td>\n      <td>105241.6</td>\n      <td>943.491667</td>\n      <td>969.539583</td>\n      <td>871.777083</td>\n      <td>...</td>\n      <td>479457.2</td>\n      <td>509594.6</td>\n      <td>710068.8</td>\n      <td>7840.760417</td>\n      <td>8366.327083</td>\n      <td>9745.963542</td>\n      <td>6416.372917</td>\n      <td>3995.476667</td>\n      <td>4246.621667</td>\n      <td>5917.240000</td>\n    </tr>\n    <tr>\n      <th>4</th>\n      <td>143198.9</td>\n      <td>141308.6</td>\n      <td>93011.4</td>\n      <td>93500.1</td>\n      <td>97725.8</td>\n      <td>86918.0</td>\n      <td>75626.0</td>\n      <td>1193.324167</td>\n      <td>1177.571667</td>\n      <td>968.868750</td>\n      <td>...</td>\n      <td>688169.6</td>\n      <td>654563.4</td>\n      <td>540527.0</td>\n      <td>4688.543333</td>\n      <td>5507.959167</td>\n      <td>9419.402083</td>\n      <td>7540.681250</td>\n      <td>7168.433333</td>\n      <td>6818.368750</td>\n      <td>5630.489583</td>\n    </tr>\n    <tr>\n      <th>5</th>\n      <td>46014.0</td>\n      <td>57783.7</td>\n      <td>67651.7</td>\n      <td>65313.1</td>\n      <td>54077.2</td>\n      <td>34526.5</td>\n      <td>34845.2</td>\n      <td>479.312500</td>\n      <td>601.913542</td>\n      <td>563.764167</td>\n      <td>...</td>\n      <td>873835.7</td>\n      <td>631901.0</td>\n      <td>625664.3</td>\n      <td>4705.531250</td>\n      <td>5094.652083</td>\n      <td>6217.274167</td>\n      <td>6080.860000</td>\n      <td>7281.964167</td>\n      <td>6582.302083</td>\n      <td>6517.336458</td>\n    </tr>\n    <tr>\n      <th>6</th>\n      <td>60259.3</td>\n      <td>69456.2</td>\n      <td>65415.9</td>\n      <td>57449.5</td>\n      <td>53481.9</td>\n      <td>58768.7</td>\n      <td>65776.0</td>\n      <td>627.701042</td>\n      <td>723.502083</td>\n      <td>681.415625</td>\n      <td>...</td>\n      <td>449544.9</td>\n      <td>414505.6</td>\n      <td>425935.3</td>\n      <td>3330.016667</td>\n      <td>5273.940625</td>\n      <td>5041.561458</td>\n      <td>5647.368750</td>\n      <td>4682.759375</td>\n      <td>3454.213333</td>\n      <td>3549.460833</td>\n    </tr>\n    <tr>\n      <th>7</th>\n      <td>103709.9</td>\n      <td>120206.6</td>\n      <td>126196.5</td>\n      <td>102481.9</td>\n      <td>102255.1</td>\n      <td>59825.4</td>\n      <td>54971.8</td>\n      <td>864.249167</td>\n      <td>1001.721667</td>\n      <td>1051.637500</td>\n      <td>...</td>\n      <td>315439.9</td>\n      <td>438007.4</td>\n      <td>383020.7</td>\n      <td>5041.106667</td>\n      <td>4705.435833</td>\n      <td>4125.745000</td>\n      <td>3559.652083</td>\n      <td>3285.832292</td>\n      <td>4562.577083</td>\n      <td>3989.798958</td>\n    </tr>\n    <tr>\n      <th>8</th>\n      <td>39654.1</td>\n      <td>47677.5</td>\n      <td>49256.2</td>\n      <td>68909.5</td>\n      <td>68596.1</td>\n      <td>54148.6</td>\n      <td>35596.5</td>\n      <td>413.063542</td>\n      <td>496.640625</td>\n      <td>513.085417</td>\n      <td>...</td>\n      <td>437170.9</td>\n      <td>334951.0</td>\n      <td>385160.3</td>\n      <td>4416.210417</td>\n      <td>3737.441667</td>\n      <td>3280.898958</td>\n      <td>3903.412500</td>\n      <td>3643.090833</td>\n      <td>2791.258333</td>\n      <td>4012.086458</td>\n    </tr>\n    <tr>\n      <th>9</th>\n      <td>87533.4</td>\n      <td>74152.3</td>\n      <td>73621.4</td>\n      <td>63098.8</td>\n      <td>62168.6</td>\n      <td>42217.6</td>\n      <td>57211.7</td>\n      <td>729.445000</td>\n      <td>772.419792</td>\n      <td>766.889583</td>\n      <td>...</td>\n      <td>577429.3</td>\n      <td>548192.7</td>\n      <td>590555.9</td>\n      <td>4250.530833</td>\n      <td>5994.954167</td>\n      <td>5176.195833</td>\n      <td>5125.916667</td>\n      <td>6014.888542</td>\n      <td>5710.340625</td>\n      <td>4921.299167</td>\n    </tr>\n    <tr>\n      <th>10</th>\n      <td>100779.0</td>\n      <td>133426.4</td>\n      <td>127907.2</td>\n      <td>116723.8</td>\n      <td>78866.9</td>\n      <td>64727.8</td>\n      <td>65093.0</td>\n      <td>1049.781250</td>\n      <td>1111.886667</td>\n      <td>1065.893333</td>\n      <td>...</td>\n      <td>397112.2</td>\n      <td>492724.4</td>\n      <td>444821.8</td>\n      <td>4660.223958</td>\n      <td>5447.506667</td>\n      <td>5343.123333</td>\n      <td>5583.927500</td>\n      <td>4136.585417</td>\n      <td>5132.545833</td>\n      <td>4633.560417</td>\n    </tr>\n    <tr>\n      <th>11</th>\n      <td>70592.7</td>\n      <td>85964.6</td>\n      <td>101457.7</td>\n      <td>103385.3</td>\n      <td>82449.8</td>\n      <td>69183.2</td>\n      <td>50649.2</td>\n      <td>735.340625</td>\n      <td>895.464583</td>\n      <td>1056.851042</td>\n      <td>...</td>\n      <td>1222601.3</td>\n      <td>1281275.4</td>\n      <td>1143600.5</td>\n      <td>10425.447917</td>\n      <td>9691.090625</td>\n      <td>9423.719792</td>\n      <td>9903.391667</td>\n      <td>10188.344167</td>\n      <td>10677.295000</td>\n      <td>11912.505208</td>\n    </tr>\n    <tr>\n      <th>12</th>\n      <td>78784.7</td>\n      <td>66524.0</td>\n      <td>57690.3</td>\n      <td>60719.6</td>\n      <td>49367.6</td>\n      <td>31480.4</td>\n      <td>51225.7</td>\n      <td>667.666949</td>\n      <td>923.944444</td>\n      <td>801.254167</td>\n      <td>...</td>\n      <td>843487.3</td>\n      <td>675993.2</td>\n      <td>759838.7</td>\n      <td>7981.160331</td>\n      <td>5662.886458</td>\n      <td>7162.379167</td>\n      <td>10069.765625</td>\n      <td>8786.326042</td>\n      <td>7041.595833</td>\n      <td>6331.989167</td>\n    </tr>\n  </tbody>\n</table>\n<p>12 rows × 28 columns</p>\n</div>"
     },
     "execution_count": 13,
     "metadata": {},
     "output_type": "execute_result"
    }
   ],
   "source": [
    "# move `weekday` from rows to columns: unstack weekday\n",
    "energy.groupby([\"month\", \"weekday\"]).agg({\n",
    "    \"coal\": [\"sum\", \"mean\"],\n",
    "    \"wind\": [\"sum\", \"mean\"]\n",
    "}).unstack(level=\"weekday\")"
   ]
  },
  {
   "cell_type": "code",
   "execution_count": 14,
   "id": "4c81bbc8",
   "metadata": {
    "ExecuteTime": {
     "end_time": "2023-06-29T14:13:54.257361Z",
     "start_time": "2023-06-29T14:13:54.225132Z"
    }
   },
   "outputs": [
    {
     "data": {
      "text/plain": "                           mean       sum\nmonth weekday                            \n1     0       coal  4388.227083  421269.8\n              wind  8583.479167  824014.0\n      1       coal  4230.085833  507610.3\n              wind  7054.790833  846574.9\n      2       coal  4266.684167  512002.1\n...                         ...       ...\n12    4       wind  8786.326042  843487.3\n      5       coal   655.841667   31480.4\n              wind  7041.595833  675993.2\n      6       coal   683.009333   51225.7\n              wind  6331.989167  759838.7\n\n[168 rows x 2 columns]",
      "text/html": "<div>\n<style scoped>\n    .dataframe tbody tr th:only-of-type {\n        vertical-align: middle;\n    }\n\n    .dataframe tbody tr th {\n        vertical-align: top;\n    }\n\n    .dataframe thead th {\n        text-align: right;\n    }\n</style>\n<table border=\"1\" class=\"dataframe\">\n  <thead>\n    <tr style=\"text-align: right;\">\n      <th></th>\n      <th></th>\n      <th></th>\n      <th>mean</th>\n      <th>sum</th>\n    </tr>\n    <tr>\n      <th>month</th>\n      <th>weekday</th>\n      <th></th>\n      <th></th>\n      <th></th>\n    </tr>\n  </thead>\n  <tbody>\n    <tr>\n      <th rowspan=\"5\" valign=\"top\">1</th>\n      <th rowspan=\"2\" valign=\"top\">0</th>\n      <th>coal</th>\n      <td>4388.227083</td>\n      <td>421269.8</td>\n    </tr>\n    <tr>\n      <th>wind</th>\n      <td>8583.479167</td>\n      <td>824014.0</td>\n    </tr>\n    <tr>\n      <th rowspan=\"2\" valign=\"top\">1</th>\n      <th>coal</th>\n      <td>4230.085833</td>\n      <td>507610.3</td>\n    </tr>\n    <tr>\n      <th>wind</th>\n      <td>7054.790833</td>\n      <td>846574.9</td>\n    </tr>\n    <tr>\n      <th>2</th>\n      <th>coal</th>\n      <td>4266.684167</td>\n      <td>512002.1</td>\n    </tr>\n    <tr>\n      <th>...</th>\n      <th>...</th>\n      <th>...</th>\n      <td>...</td>\n      <td>...</td>\n    </tr>\n    <tr>\n      <th rowspan=\"5\" valign=\"top\">12</th>\n      <th>4</th>\n      <th>wind</th>\n      <td>8786.326042</td>\n      <td>843487.3</td>\n    </tr>\n    <tr>\n      <th rowspan=\"2\" valign=\"top\">5</th>\n      <th>coal</th>\n      <td>655.841667</td>\n      <td>31480.4</td>\n    </tr>\n    <tr>\n      <th>wind</th>\n      <td>7041.595833</td>\n      <td>675993.2</td>\n    </tr>\n    <tr>\n      <th rowspan=\"2\" valign=\"top\">6</th>\n      <th>coal</th>\n      <td>683.009333</td>\n      <td>51225.7</td>\n    </tr>\n    <tr>\n      <th>wind</th>\n      <td>6331.989167</td>\n      <td>759838.7</td>\n    </tr>\n  </tbody>\n</table>\n<p>168 rows × 2 columns</p>\n</div>"
     },
     "execution_count": 14,
     "metadata": {},
     "output_type": "execute_result"
    }
   ],
   "source": [
    "# move (\"coal\", \"wind\") from columns labels to rows: stack 0\n",
    "energy.groupby([\"month\", \"weekday\"]).agg({\n",
    "    \"coal\": [\"sum\", \"mean\"],\n",
    "    \"wind\": [\"sum\", \"mean\"]\n",
    "}).stack(0)"
   ]
  },
  {
   "attachments": {},
   "cell_type": "markdown",
   "id": "19fae8c8-353c-45e0-96d5-63065ea60db6",
   "metadata": {},
   "source": [
    "## Merge, join and concat.\n",
    "\n",
    "* `pd.join`: database-style join operation on the `index` labels of both dataframes\n",
    "* `pd.merge`: like `pd.join` but extending functionalities\n",
    "* `pd.concat`: puts together dataframes on the vertical (axis=0) or horizontal (axis=1)"
   ]
  },
  {
   "attachments": {},
   "cell_type": "markdown",
   "id": "be8a526e-4a6a-4ba1-a487-b54995dfafec",
   "metadata": {},
   "source": [
    "### Merge"
   ]
  },
  {
   "cell_type": "code",
   "execution_count": 15,
   "id": "87a3bf62-025c-4786-a337-7229f39d3e76",
   "metadata": {
    "ExecuteTime": {
     "end_time": "2023-06-29T14:15:01.113381Z",
     "start_time": "2023-06-29T14:15:01.105915Z"
    }
   },
   "outputs": [],
   "source": [
    "df_left = pd.DataFrame({\n",
    "    \"date\": [\"2020-01-01\", \"2020-01-01\", \"2020-01-02\", \"2020-01-02\"],\n",
    "    \"hour\": [1, 2, 1, 3],\n",
    "    \"price\": [50, 51, 45, 47]\n",
    "})\n",
    "\n",
    "df_right = pd.DataFrame({\n",
    "    \"date\": [\"2020-01-01\", \"2020-01-01\", \"2020-01-02\", \"2020-01-02\"],\n",
    "    \"hour\": [3, 2, 1, 2],\n",
    "    \"sales\": [46, 45, 15, 16]\n",
    "})"
   ]
  },
  {
   "cell_type": "code",
   "execution_count": 16,
   "id": "8618ff2b-0e9c-4fe1-9a67-3dba1bb55c6f",
   "metadata": {
    "ExecuteTime": {
     "end_time": "2023-06-29T14:15:03.960468Z",
     "start_time": "2023-06-29T14:15:03.946274Z"
    }
   },
   "outputs": [
    {
     "data": {
      "text/plain": "         date  hour  price\n0  2020-01-01     1     50\n1  2020-01-01     2     51\n2  2020-01-02     1     45\n3  2020-01-02     3     47",
      "text/html": "<div>\n<style scoped>\n    .dataframe tbody tr th:only-of-type {\n        vertical-align: middle;\n    }\n\n    .dataframe tbody tr th {\n        vertical-align: top;\n    }\n\n    .dataframe thead th {\n        text-align: right;\n    }\n</style>\n<table border=\"1\" class=\"dataframe\">\n  <thead>\n    <tr style=\"text-align: right;\">\n      <th></th>\n      <th>date</th>\n      <th>hour</th>\n      <th>price</th>\n    </tr>\n  </thead>\n  <tbody>\n    <tr>\n      <th>0</th>\n      <td>2020-01-01</td>\n      <td>1</td>\n      <td>50</td>\n    </tr>\n    <tr>\n      <th>1</th>\n      <td>2020-01-01</td>\n      <td>2</td>\n      <td>51</td>\n    </tr>\n    <tr>\n      <th>2</th>\n      <td>2020-01-02</td>\n      <td>1</td>\n      <td>45</td>\n    </tr>\n    <tr>\n      <th>3</th>\n      <td>2020-01-02</td>\n      <td>3</td>\n      <td>47</td>\n    </tr>\n  </tbody>\n</table>\n</div>"
     },
     "execution_count": 16,
     "metadata": {},
     "output_type": "execute_result"
    }
   ],
   "source": [
    "df_left"
   ]
  },
  {
   "cell_type": "code",
   "execution_count": 17,
   "id": "62bb1b8b-d021-4a7e-93c3-119cacda55e5",
   "metadata": {
    "ExecuteTime": {
     "end_time": "2023-06-29T14:15:06.589655Z",
     "start_time": "2023-06-29T14:15:06.574283Z"
    }
   },
   "outputs": [
    {
     "data": {
      "text/plain": "         date  hour  sales\n0  2020-01-01     3     46\n1  2020-01-01     2     45\n2  2020-01-02     1     15\n3  2020-01-02     2     16",
      "text/html": "<div>\n<style scoped>\n    .dataframe tbody tr th:only-of-type {\n        vertical-align: middle;\n    }\n\n    .dataframe tbody tr th {\n        vertical-align: top;\n    }\n\n    .dataframe thead th {\n        text-align: right;\n    }\n</style>\n<table border=\"1\" class=\"dataframe\">\n  <thead>\n    <tr style=\"text-align: right;\">\n      <th></th>\n      <th>date</th>\n      <th>hour</th>\n      <th>sales</th>\n    </tr>\n  </thead>\n  <tbody>\n    <tr>\n      <th>0</th>\n      <td>2020-01-01</td>\n      <td>3</td>\n      <td>46</td>\n    </tr>\n    <tr>\n      <th>1</th>\n      <td>2020-01-01</td>\n      <td>2</td>\n      <td>45</td>\n    </tr>\n    <tr>\n      <th>2</th>\n      <td>2020-01-02</td>\n      <td>1</td>\n      <td>15</td>\n    </tr>\n    <tr>\n      <th>3</th>\n      <td>2020-01-02</td>\n      <td>2</td>\n      <td>16</td>\n    </tr>\n  </tbody>\n</table>\n</div>"
     },
     "execution_count": 17,
     "metadata": {},
     "output_type": "execute_result"
    }
   ],
   "source": [
    "df_right"
   ]
  },
  {
   "cell_type": "code",
   "execution_count": 18,
   "id": "eb8ebfce-6361-4349-a432-7877d1ff5188",
   "metadata": {
    "ExecuteTime": {
     "end_time": "2023-06-29T14:15:13.924643Z",
     "start_time": "2023-06-29T14:15:13.904707Z"
    }
   },
   "outputs": [
    {
     "data": {
      "text/plain": "         date  hour  price  sales\n0  2020-01-01     1   50.0    NaN\n1  2020-01-01     2   51.0   45.0\n2  2020-01-02     1   45.0   15.0\n3  2020-01-02     3   47.0    NaN\n4  2020-01-01     3    NaN   46.0\n5  2020-01-02     2    NaN   16.0",
      "text/html": "<div>\n<style scoped>\n    .dataframe tbody tr th:only-of-type {\n        vertical-align: middle;\n    }\n\n    .dataframe tbody tr th {\n        vertical-align: top;\n    }\n\n    .dataframe thead th {\n        text-align: right;\n    }\n</style>\n<table border=\"1\" class=\"dataframe\">\n  <thead>\n    <tr style=\"text-align: right;\">\n      <th></th>\n      <th>date</th>\n      <th>hour</th>\n      <th>price</th>\n      <th>sales</th>\n    </tr>\n  </thead>\n  <tbody>\n    <tr>\n      <th>0</th>\n      <td>2020-01-01</td>\n      <td>1</td>\n      <td>50.0</td>\n      <td>NaN</td>\n    </tr>\n    <tr>\n      <th>1</th>\n      <td>2020-01-01</td>\n      <td>2</td>\n      <td>51.0</td>\n      <td>45.0</td>\n    </tr>\n    <tr>\n      <th>2</th>\n      <td>2020-01-02</td>\n      <td>1</td>\n      <td>45.0</td>\n      <td>15.0</td>\n    </tr>\n    <tr>\n      <th>3</th>\n      <td>2020-01-02</td>\n      <td>3</td>\n      <td>47.0</td>\n      <td>NaN</td>\n    </tr>\n    <tr>\n      <th>4</th>\n      <td>2020-01-01</td>\n      <td>3</td>\n      <td>NaN</td>\n      <td>46.0</td>\n    </tr>\n    <tr>\n      <th>5</th>\n      <td>2020-01-02</td>\n      <td>2</td>\n      <td>NaN</td>\n      <td>16.0</td>\n    </tr>\n  </tbody>\n</table>\n</div>"
     },
     "execution_count": 18,
     "metadata": {},
     "output_type": "execute_result"
    }
   ],
   "source": [
    "\"\"\"\n",
    "select\n",
    "    df_left.date,\n",
    "    df_left.hour,\n",
    "    df_left.price,\n",
    "    df_right.sales\n",
    "from df_left\n",
    "outer join on\n",
    "    df_left.date=df_right.date and df_left.hour=df_right.hour\n",
    "\"\"\"\n",
    "\n",
    "\n",
    "# outer join\n",
    "pd.merge(df_left, df_right, on=[\"date\", \"hour\"], how=\"outer\")"
   ]
  },
  {
   "cell_type": "code",
   "execution_count": 19,
   "id": "8abf0d88-1307-4940-99be-92d95a66717f",
   "metadata": {
    "ExecuteTime": {
     "end_time": "2023-06-29T14:15:50.157365Z",
     "start_time": "2023-06-29T14:15:50.148901Z"
    }
   },
   "outputs": [
    {
     "data": {
      "text/plain": "         date  hour  price  sales\n0  2020-01-01     1     50    NaN\n1  2020-01-01     2     51   45.0\n2  2020-01-02     1     45   15.0\n3  2020-01-02     3     47    NaN",
      "text/html": "<div>\n<style scoped>\n    .dataframe tbody tr th:only-of-type {\n        vertical-align: middle;\n    }\n\n    .dataframe tbody tr th {\n        vertical-align: top;\n    }\n\n    .dataframe thead th {\n        text-align: right;\n    }\n</style>\n<table border=\"1\" class=\"dataframe\">\n  <thead>\n    <tr style=\"text-align: right;\">\n      <th></th>\n      <th>date</th>\n      <th>hour</th>\n      <th>price</th>\n      <th>sales</th>\n    </tr>\n  </thead>\n  <tbody>\n    <tr>\n      <th>0</th>\n      <td>2020-01-01</td>\n      <td>1</td>\n      <td>50</td>\n      <td>NaN</td>\n    </tr>\n    <tr>\n      <th>1</th>\n      <td>2020-01-01</td>\n      <td>2</td>\n      <td>51</td>\n      <td>45.0</td>\n    </tr>\n    <tr>\n      <th>2</th>\n      <td>2020-01-02</td>\n      <td>1</td>\n      <td>45</td>\n      <td>15.0</td>\n    </tr>\n    <tr>\n      <th>3</th>\n      <td>2020-01-02</td>\n      <td>3</td>\n      <td>47</td>\n      <td>NaN</td>\n    </tr>\n  </tbody>\n</table>\n</div>"
     },
     "execution_count": 19,
     "metadata": {},
     "output_type": "execute_result"
    }
   ],
   "source": [
    "\"\"\"\n",
    "select\n",
    "    df_left.date,\n",
    "    df_left.hour,\n",
    "    df_left.price,\n",
    "    df_right.sales\n",
    "from df_left\n",
    "left join on\n",
    "    df_left.date=df_right.date and df_left.hour=df_right.hour\n",
    "\"\"\"\n",
    "\n",
    "# left join\n",
    "pd.merge(df_left, df_right, on=[\"date\", \"hour\"], how=\"left\")"
   ]
  },
  {
   "cell_type": "code",
   "execution_count": 20,
   "id": "586f83dd-5af3-4b25-b91d-d269f1b9f1ef",
   "metadata": {
    "ExecuteTime": {
     "end_time": "2023-06-29T14:15:53.479217Z",
     "start_time": "2023-06-29T14:15:53.474006Z"
    }
   },
   "outputs": [
    {
     "data": {
      "text/plain": "         date  hour  price  sales\n0  2020-01-01     3    NaN     46\n1  2020-01-01     2   51.0     45\n2  2020-01-02     1   45.0     15\n3  2020-01-02     2    NaN     16",
      "text/html": "<div>\n<style scoped>\n    .dataframe tbody tr th:only-of-type {\n        vertical-align: middle;\n    }\n\n    .dataframe tbody tr th {\n        vertical-align: top;\n    }\n\n    .dataframe thead th {\n        text-align: right;\n    }\n</style>\n<table border=\"1\" class=\"dataframe\">\n  <thead>\n    <tr style=\"text-align: right;\">\n      <th></th>\n      <th>date</th>\n      <th>hour</th>\n      <th>price</th>\n      <th>sales</th>\n    </tr>\n  </thead>\n  <tbody>\n    <tr>\n      <th>0</th>\n      <td>2020-01-01</td>\n      <td>3</td>\n      <td>NaN</td>\n      <td>46</td>\n    </tr>\n    <tr>\n      <th>1</th>\n      <td>2020-01-01</td>\n      <td>2</td>\n      <td>51.0</td>\n      <td>45</td>\n    </tr>\n    <tr>\n      <th>2</th>\n      <td>2020-01-02</td>\n      <td>1</td>\n      <td>45.0</td>\n      <td>15</td>\n    </tr>\n    <tr>\n      <th>3</th>\n      <td>2020-01-02</td>\n      <td>2</td>\n      <td>NaN</td>\n      <td>16</td>\n    </tr>\n  </tbody>\n</table>\n</div>"
     },
     "execution_count": 20,
     "metadata": {},
     "output_type": "execute_result"
    }
   ],
   "source": [
    "\"\"\"\n",
    "select\n",
    "    df_left.date,\n",
    "    df_left.hour,\n",
    "    df_left.price,\n",
    "    df_right.sales\n",
    "from df_left\n",
    "right join on\n",
    "    df_left.date=df_right.date and df_left.hour=df_right.hour\n",
    "\"\"\"\n",
    "\n",
    "# right join\n",
    "pd.merge(df_left, df_right, on=[\"date\", \"hour\"], how=\"right\")"
   ]
  },
  {
   "cell_type": "code",
   "execution_count": 21,
   "id": "b7d5a45c-e7cf-4883-b8cb-13238e00ac6b",
   "metadata": {
    "ExecuteTime": {
     "end_time": "2023-06-29T14:15:56.156530Z",
     "start_time": "2023-06-29T14:15:56.148493Z"
    }
   },
   "outputs": [
    {
     "data": {
      "text/plain": "         date  hour  price  sales\n0  2020-01-01     2     51     45\n1  2020-01-02     1     45     15",
      "text/html": "<div>\n<style scoped>\n    .dataframe tbody tr th:only-of-type {\n        vertical-align: middle;\n    }\n\n    .dataframe tbody tr th {\n        vertical-align: top;\n    }\n\n    .dataframe thead th {\n        text-align: right;\n    }\n</style>\n<table border=\"1\" class=\"dataframe\">\n  <thead>\n    <tr style=\"text-align: right;\">\n      <th></th>\n      <th>date</th>\n      <th>hour</th>\n      <th>price</th>\n      <th>sales</th>\n    </tr>\n  </thead>\n  <tbody>\n    <tr>\n      <th>0</th>\n      <td>2020-01-01</td>\n      <td>2</td>\n      <td>51</td>\n      <td>45</td>\n    </tr>\n    <tr>\n      <th>1</th>\n      <td>2020-01-02</td>\n      <td>1</td>\n      <td>45</td>\n      <td>15</td>\n    </tr>\n  </tbody>\n</table>\n</div>"
     },
     "execution_count": 21,
     "metadata": {},
     "output_type": "execute_result"
    }
   ],
   "source": [
    "\"\"\"\n",
    "select\n",
    "    df_left.date,\n",
    "    df_left.hour,\n",
    "    df_left.price,\n",
    "    df_right.sales\n",
    "from df_left\n",
    "inner join on\n",
    "    df_left.date=df_right.date and df_left.hour=df_right.hour\n",
    "\"\"\"\n",
    "\n",
    "# inner join\n",
    "pd.merge(df_left, df_right, on=[\"date\", \"hour\"], how=\"inner\")"
   ]
  },
  {
   "cell_type": "code",
   "execution_count": 22,
   "id": "ba13784d-277a-4403-99fd-dfbbe446b74e",
   "metadata": {
    "ExecuteTime": {
     "end_time": "2023-06-29T14:16:07.207978Z",
     "start_time": "2023-06-29T14:16:07.186976Z"
    }
   },
   "outputs": [
    {
     "data": {
      "text/plain": "         date  hour  price  sales  temp\n0  2020-01-01     1     50    NaN    17\n1  2020-01-01     2     51   45.0    28\n2  2020-01-02     1     45   15.0     4\n3  2020-01-02     3     47    NaN    16",
      "text/html": "<div>\n<style scoped>\n    .dataframe tbody tr th:only-of-type {\n        vertical-align: middle;\n    }\n\n    .dataframe tbody tr th {\n        vertical-align: top;\n    }\n\n    .dataframe thead th {\n        text-align: right;\n    }\n</style>\n<table border=\"1\" class=\"dataframe\">\n  <thead>\n    <tr style=\"text-align: right;\">\n      <th></th>\n      <th>date</th>\n      <th>hour</th>\n      <th>price</th>\n      <th>sales</th>\n      <th>temp</th>\n    </tr>\n  </thead>\n  <tbody>\n    <tr>\n      <th>0</th>\n      <td>2020-01-01</td>\n      <td>1</td>\n      <td>50</td>\n      <td>NaN</td>\n      <td>17</td>\n    </tr>\n    <tr>\n      <th>1</th>\n      <td>2020-01-01</td>\n      <td>2</td>\n      <td>51</td>\n      <td>45.0</td>\n      <td>28</td>\n    </tr>\n    <tr>\n      <th>2</th>\n      <td>2020-01-02</td>\n      <td>1</td>\n      <td>45</td>\n      <td>15.0</td>\n      <td>4</td>\n    </tr>\n    <tr>\n      <th>3</th>\n      <td>2020-01-02</td>\n      <td>3</td>\n      <td>47</td>\n      <td>NaN</td>\n      <td>16</td>\n    </tr>\n  </tbody>\n</table>\n</div>"
     },
     "execution_count": 22,
     "metadata": {},
     "output_type": "execute_result"
    }
   ],
   "source": [
    "# performing merge on several dataframes\n",
    "df_extra = pd.DataFrame({\n",
    "    \"date\": [\"2020-01-01\", \"2020-01-01\", \"2020-01-02\", \"2020-01-02\"],\n",
    "    \"hour\": [1, 2, 1, 3],\n",
    "    \"temp\": [17, 28, 4, 16]\n",
    "})\n",
    "\n",
    "# create list of dataframes to merge\n",
    "dfs = [df_left, df_right, df_extra]\n",
    "\n",
    "# using reduce from functools\n",
    "from functools import reduce\n",
    "\n",
    "reduce(\n",
    "    lambda left, right: pd.merge(left, right, on=[\"date\", \"hour\"], how=\"left\"), \n",
    "    dfs\n",
    ")"
   ]
  },
  {
   "attachments": {},
   "cell_type": "markdown",
   "id": "06f6167b-136d-4134-86aa-ecd4c7bb9fbc",
   "metadata": {},
   "source": [
    "### Concat"
   ]
  },
  {
   "cell_type": "code",
   "execution_count": 23,
   "id": "bd8a457e-8510-443c-bd74-caf3e5dbb1b1",
   "metadata": {
    "ExecuteTime": {
     "end_time": "2023-06-29T14:16:27.134108Z",
     "start_time": "2023-06-29T14:16:27.123010Z"
    }
   },
   "outputs": [],
   "source": [
    "df1 = pd.DataFrame(\n",
    "    data={\n",
    "        \"val1\": [1, 2, 3],\n",
    "        \"val2\": [\"H\", \"J\", \"K\"]\n",
    "    },\n",
    "    index=[\"a\", \"b\", \"c\"]\n",
    ")\n",
    "\n",
    "df2 = pd.DataFrame(\n",
    "    data={\n",
    "        \"val1\": [5, 6, 7],\n",
    "        \"val2\": [\"L\", \"M\", \"N\"]\n",
    "    },\n",
    "    index=[\"e\", \"g\", \"i\"]\n",
    ")\n",
    "\n",
    "df3 = pd.DataFrame(\n",
    "    data={\n",
    "        \"val3\": [5, 6, 7],\n",
    "        \"val4\": [\"L\", \"M\", \"N\"]\n",
    "    },\n",
    "    index=[\"a\", \"b\", \"c\"]\n",
    ")"
   ]
  },
  {
   "cell_type": "code",
   "execution_count": 24,
   "id": "c518eaad-2d68-4f0c-8978-6412f9df7e57",
   "metadata": {
    "ExecuteTime": {
     "end_time": "2023-06-29T14:16:29.798159Z",
     "start_time": "2023-06-29T14:16:29.783237Z"
    }
   },
   "outputs": [
    {
     "data": {
      "text/plain": "   val1 val2\na     1    H\nb     2    J\nc     3    K",
      "text/html": "<div>\n<style scoped>\n    .dataframe tbody tr th:only-of-type {\n        vertical-align: middle;\n    }\n\n    .dataframe tbody tr th {\n        vertical-align: top;\n    }\n\n    .dataframe thead th {\n        text-align: right;\n    }\n</style>\n<table border=\"1\" class=\"dataframe\">\n  <thead>\n    <tr style=\"text-align: right;\">\n      <th></th>\n      <th>val1</th>\n      <th>val2</th>\n    </tr>\n  </thead>\n  <tbody>\n    <tr>\n      <th>a</th>\n      <td>1</td>\n      <td>H</td>\n    </tr>\n    <tr>\n      <th>b</th>\n      <td>2</td>\n      <td>J</td>\n    </tr>\n    <tr>\n      <th>c</th>\n      <td>3</td>\n      <td>K</td>\n    </tr>\n  </tbody>\n</table>\n</div>"
     },
     "execution_count": 24,
     "metadata": {},
     "output_type": "execute_result"
    }
   ],
   "source": [
    "df1"
   ]
  },
  {
   "cell_type": "code",
   "execution_count": 25,
   "id": "3afbbb53-701d-484d-9f69-a5bb4d053bb2",
   "metadata": {
    "ExecuteTime": {
     "end_time": "2023-06-29T14:16:31.994626Z",
     "start_time": "2023-06-29T14:16:31.979141Z"
    }
   },
   "outputs": [
    {
     "data": {
      "text/plain": "   val1 val2\ne     5    L\ng     6    M\ni     7    N",
      "text/html": "<div>\n<style scoped>\n    .dataframe tbody tr th:only-of-type {\n        vertical-align: middle;\n    }\n\n    .dataframe tbody tr th {\n        vertical-align: top;\n    }\n\n    .dataframe thead th {\n        text-align: right;\n    }\n</style>\n<table border=\"1\" class=\"dataframe\">\n  <thead>\n    <tr style=\"text-align: right;\">\n      <th></th>\n      <th>val1</th>\n      <th>val2</th>\n    </tr>\n  </thead>\n  <tbody>\n    <tr>\n      <th>e</th>\n      <td>5</td>\n      <td>L</td>\n    </tr>\n    <tr>\n      <th>g</th>\n      <td>6</td>\n      <td>M</td>\n    </tr>\n    <tr>\n      <th>i</th>\n      <td>7</td>\n      <td>N</td>\n    </tr>\n  </tbody>\n</table>\n</div>"
     },
     "execution_count": 25,
     "metadata": {},
     "output_type": "execute_result"
    }
   ],
   "source": [
    "df2"
   ]
  },
  {
   "cell_type": "code",
   "execution_count": 26,
   "id": "dc119bb0-65b9-488d-8d5b-e3864d24c3a3",
   "metadata": {
    "ExecuteTime": {
     "end_time": "2023-06-29T14:16:34.378017Z",
     "start_time": "2023-06-29T14:16:34.362108Z"
    }
   },
   "outputs": [
    {
     "data": {
      "text/plain": "   val3 val4\na     5    L\nb     6    M\nc     7    N",
      "text/html": "<div>\n<style scoped>\n    .dataframe tbody tr th:only-of-type {\n        vertical-align: middle;\n    }\n\n    .dataframe tbody tr th {\n        vertical-align: top;\n    }\n\n    .dataframe thead th {\n        text-align: right;\n    }\n</style>\n<table border=\"1\" class=\"dataframe\">\n  <thead>\n    <tr style=\"text-align: right;\">\n      <th></th>\n      <th>val3</th>\n      <th>val4</th>\n    </tr>\n  </thead>\n  <tbody>\n    <tr>\n      <th>a</th>\n      <td>5</td>\n      <td>L</td>\n    </tr>\n    <tr>\n      <th>b</th>\n      <td>6</td>\n      <td>M</td>\n    </tr>\n    <tr>\n      <th>c</th>\n      <td>7</td>\n      <td>N</td>\n    </tr>\n  </tbody>\n</table>\n</div>"
     },
     "execution_count": 26,
     "metadata": {},
     "output_type": "execute_result"
    }
   ],
   "source": [
    "df3"
   ]
  },
  {
   "cell_type": "code",
   "execution_count": 27,
   "id": "9a6a5697-8635-46c3-bb1e-1411ca6866b8",
   "metadata": {
    "ExecuteTime": {
     "end_time": "2023-06-29T14:16:36.182417Z",
     "start_time": "2023-06-29T14:16:36.170387Z"
    }
   },
   "outputs": [
    {
     "data": {
      "text/plain": "   val1 val2\na     1    H\nb     2    J\nc     3    K\ne     5    L\ng     6    M\ni     7    N",
      "text/html": "<div>\n<style scoped>\n    .dataframe tbody tr th:only-of-type {\n        vertical-align: middle;\n    }\n\n    .dataframe tbody tr th {\n        vertical-align: top;\n    }\n\n    .dataframe thead th {\n        text-align: right;\n    }\n</style>\n<table border=\"1\" class=\"dataframe\">\n  <thead>\n    <tr style=\"text-align: right;\">\n      <th></th>\n      <th>val1</th>\n      <th>val2</th>\n    </tr>\n  </thead>\n  <tbody>\n    <tr>\n      <th>a</th>\n      <td>1</td>\n      <td>H</td>\n    </tr>\n    <tr>\n      <th>b</th>\n      <td>2</td>\n      <td>J</td>\n    </tr>\n    <tr>\n      <th>c</th>\n      <td>3</td>\n      <td>K</td>\n    </tr>\n    <tr>\n      <th>e</th>\n      <td>5</td>\n      <td>L</td>\n    </tr>\n    <tr>\n      <th>g</th>\n      <td>6</td>\n      <td>M</td>\n    </tr>\n    <tr>\n      <th>i</th>\n      <td>7</td>\n      <td>N</td>\n    </tr>\n  </tbody>\n</table>\n</div>"
     },
     "execution_count": 27,
     "metadata": {},
     "output_type": "execute_result"
    }
   ],
   "source": [
    "# with same names of columns\n",
    "pd.concat([df1, df2])"
   ]
  },
  {
   "attachments": {},
   "cell_type": "markdown",
   "id": "423aed2d-1e0a-4083-8de9-2c090660a9a5",
   "metadata": {},
   "source": [
    "# by default, axis=0\n",
    "pd.concat([df1, df3])"
   ]
  },
  {
   "cell_type": "code",
   "execution_count": 28,
   "id": "f03f0d4f-8336-4799-b68d-45893b9998c1",
   "metadata": {
    "ExecuteTime": {
     "end_time": "2023-06-29T14:16:38.627779Z",
     "start_time": "2023-06-29T14:16:38.615617Z"
    }
   },
   "outputs": [
    {
     "data": {
      "text/plain": "   val1 val2  val3 val4\na     1    H     5    L\nb     2    J     6    M\nc     3    K     7    N",
      "text/html": "<div>\n<style scoped>\n    .dataframe tbody tr th:only-of-type {\n        vertical-align: middle;\n    }\n\n    .dataframe tbody tr th {\n        vertical-align: top;\n    }\n\n    .dataframe thead th {\n        text-align: right;\n    }\n</style>\n<table border=\"1\" class=\"dataframe\">\n  <thead>\n    <tr style=\"text-align: right;\">\n      <th></th>\n      <th>val1</th>\n      <th>val2</th>\n      <th>val3</th>\n      <th>val4</th>\n    </tr>\n  </thead>\n  <tbody>\n    <tr>\n      <th>a</th>\n      <td>1</td>\n      <td>H</td>\n      <td>5</td>\n      <td>L</td>\n    </tr>\n    <tr>\n      <th>b</th>\n      <td>2</td>\n      <td>J</td>\n      <td>6</td>\n      <td>M</td>\n    </tr>\n    <tr>\n      <th>c</th>\n      <td>3</td>\n      <td>K</td>\n      <td>7</td>\n      <td>N</td>\n    </tr>\n  </tbody>\n</table>\n</div>"
     },
     "execution_count": 28,
     "metadata": {},
     "output_type": "execute_result"
    }
   ],
   "source": [
    "# concat on axis=1 (horizontally) \n",
    "\n",
    "# with same index\n",
    "pd.concat([df1, df3], axis=1)"
   ]
  },
  {
   "cell_type": "code",
   "execution_count": 30,
   "id": "8d1e73f1-2334-47c9-9f72-7dc324f9cc18",
   "metadata": {
    "ExecuteTime": {
     "end_time": "2023-06-29T14:16:49.421336Z",
     "start_time": "2023-06-29T14:16:49.391713Z"
    }
   },
   "outputs": [
    {
     "data": {
      "text/plain": "   val1 val2  val1 val2\na   1.0    H   NaN  NaN\nb   2.0    J   NaN  NaN\nc   3.0    K   NaN  NaN\nx   NaN  NaN   5.0    L\ny   NaN  NaN   6.0    M\nz   NaN  NaN   7.0    N",
      "text/html": "<div>\n<style scoped>\n    .dataframe tbody tr th:only-of-type {\n        vertical-align: middle;\n    }\n\n    .dataframe tbody tr th {\n        vertical-align: top;\n    }\n\n    .dataframe thead th {\n        text-align: right;\n    }\n</style>\n<table border=\"1\" class=\"dataframe\">\n  <thead>\n    <tr style=\"text-align: right;\">\n      <th></th>\n      <th>val1</th>\n      <th>val2</th>\n      <th>val1</th>\n      <th>val2</th>\n    </tr>\n  </thead>\n  <tbody>\n    <tr>\n      <th>a</th>\n      <td>1.0</td>\n      <td>H</td>\n      <td>NaN</td>\n      <td>NaN</td>\n    </tr>\n    <tr>\n      <th>b</th>\n      <td>2.0</td>\n      <td>J</td>\n      <td>NaN</td>\n      <td>NaN</td>\n    </tr>\n    <tr>\n      <th>c</th>\n      <td>3.0</td>\n      <td>K</td>\n      <td>NaN</td>\n      <td>NaN</td>\n    </tr>\n    <tr>\n      <th>x</th>\n      <td>NaN</td>\n      <td>NaN</td>\n      <td>5.0</td>\n      <td>L</td>\n    </tr>\n    <tr>\n      <th>y</th>\n      <td>NaN</td>\n      <td>NaN</td>\n      <td>6.0</td>\n      <td>M</td>\n    </tr>\n    <tr>\n      <th>z</th>\n      <td>NaN</td>\n      <td>NaN</td>\n      <td>7.0</td>\n      <td>N</td>\n    </tr>\n  </tbody>\n</table>\n</div>"
     },
     "execution_count": 30,
     "metadata": {},
     "output_type": "execute_result"
    }
   ],
   "source": [
    "# with different index\n",
    "df2.index = [\"x\", \"y\", \"z\"]\n",
    "\n",
    "pd.concat([df1, df2], axis=1, sort=False)"
   ]
  },
  {
   "attachments": {},
   "cell_type": "markdown",
   "id": "6a781165-faa6-4340-a353-ab25553c71b0",
   "metadata": {},
   "source": [
    "## Practice"
   ]
  },
  {
   "attachments": {},
   "cell_type": "markdown",
   "id": "05cc4a20-ee1b-4e82-a54f-fd08e78bdd00",
   "metadata": {},
   "source": [
    "### Exercise 1:\n",
    "Load all the `animals_YYYY.csv` datasets into a single dataframe called `animals`.\n",
    "\n",
    "Create an extra column on each DF representing the year from the name."
   ]
  },
  {
   "cell_type": "code",
   "execution_count": null,
   "id": "2a325f7a-d49c-471f-b13d-232be962021e",
   "metadata": {},
   "outputs": [],
   "source": []
  },
  {
   "cell_type": "code",
   "execution_count": 32,
   "id": "7411f05e-44f7-4316-8636-92e44ab7ae79",
   "metadata": {
    "ExecuteTime": {
     "end_time": "2023-06-29T14:17:45.512390Z",
     "start_time": "2023-06-29T14:17:45.474214Z"
    }
   },
   "outputs": [
    {
     "data": {
      "text/plain": "    year               area   dogs  cats\n0   2016         ARGANZUELA  10591  3202\n1   2016            BARAJAS   5173   981\n2   2016        CARABANCHEL  19275  3728\n3   2016             CENTRO  15470  6164\n4   2016          CHAMARTÍN  11759  2809\n..   ...                ...    ...   ...\n16  2018             TETUÁN  12478  4763\n17  2018              USERA  12475  2419\n18  2018          VICÁLVARO   5393  1279\n19  2018  VILLA DE VALLECAS   9857  2467\n20  2018         VILLAVERDE  12699  2307\n\n[105 rows x 4 columns]",
      "text/html": "<div>\n<style scoped>\n    .dataframe tbody tr th:only-of-type {\n        vertical-align: middle;\n    }\n\n    .dataframe tbody tr th {\n        vertical-align: top;\n    }\n\n    .dataframe thead th {\n        text-align: right;\n    }\n</style>\n<table border=\"1\" class=\"dataframe\">\n  <thead>\n    <tr style=\"text-align: right;\">\n      <th></th>\n      <th>year</th>\n      <th>area</th>\n      <th>dogs</th>\n      <th>cats</th>\n    </tr>\n  </thead>\n  <tbody>\n    <tr>\n      <th>0</th>\n      <td>2016</td>\n      <td>ARGANZUELA</td>\n      <td>10591</td>\n      <td>3202</td>\n    </tr>\n    <tr>\n      <th>1</th>\n      <td>2016</td>\n      <td>BARAJAS</td>\n      <td>5173</td>\n      <td>981</td>\n    </tr>\n    <tr>\n      <th>2</th>\n      <td>2016</td>\n      <td>CARABANCHEL</td>\n      <td>19275</td>\n      <td>3728</td>\n    </tr>\n    <tr>\n      <th>3</th>\n      <td>2016</td>\n      <td>CENTRO</td>\n      <td>15470</td>\n      <td>6164</td>\n    </tr>\n    <tr>\n      <th>4</th>\n      <td>2016</td>\n      <td>CHAMARTÍN</td>\n      <td>11759</td>\n      <td>2809</td>\n    </tr>\n    <tr>\n      <th>...</th>\n      <td>...</td>\n      <td>...</td>\n      <td>...</td>\n      <td>...</td>\n    </tr>\n    <tr>\n      <th>16</th>\n      <td>2018</td>\n      <td>TETUÁN</td>\n      <td>12478</td>\n      <td>4763</td>\n    </tr>\n    <tr>\n      <th>17</th>\n      <td>2018</td>\n      <td>USERA</td>\n      <td>12475</td>\n      <td>2419</td>\n    </tr>\n    <tr>\n      <th>18</th>\n      <td>2018</td>\n      <td>VICÁLVARO</td>\n      <td>5393</td>\n      <td>1279</td>\n    </tr>\n    <tr>\n      <th>19</th>\n      <td>2018</td>\n      <td>VILLA DE VALLECAS</td>\n      <td>9857</td>\n      <td>2467</td>\n    </tr>\n    <tr>\n      <th>20</th>\n      <td>2018</td>\n      <td>VILLAVERDE</td>\n      <td>12699</td>\n      <td>2307</td>\n    </tr>\n  </tbody>\n</table>\n<p>105 rows × 4 columns</p>\n</div>"
     },
     "execution_count": 32,
     "metadata": {},
     "output_type": "execute_result"
    }
   ],
   "source": [
    "import os\n",
    "\n",
    "animals_files = []\n",
    "\n",
    "for file in os.listdir(\"../files\"):\n",
    "    if \"animals_\" in file:\n",
    "        df = pd.read_csv(f\"../files/{file}\")\n",
    "        df[\"year\"] = int(file.split(\"_\")[1].split(\".\")[0])\n",
    "        animals_files.append(df)\n",
    "    \n",
    "animals = pd.concat(animals_files)\n",
    "\n",
    "animals\n",
    "    \n"
   ]
  },
  {
   "attachments": {},
   "cell_type": "markdown",
   "id": "c2f782df-a6da-47e5-ad2b-0576911f377c",
   "metadata": {},
   "source": [
    "### Exercise 2:\n",
    "Create a table with average number of dogs and cats per area for the period 2015-2017"
   ]
  },
  {
   "cell_type": "code",
   "execution_count": 99,
   "id": "a0e97ab7-0ca3-421e-9bc6-70634235d141",
   "metadata": {},
   "outputs": [
    {
     "data": {
      "text/html": [
       "<div>\n",
       "<style scoped>\n",
       "    .dataframe tbody tr th:only-of-type {\n",
       "        vertical-align: middle;\n",
       "    }\n",
       "\n",
       "    .dataframe tbody tr th {\n",
       "        vertical-align: top;\n",
       "    }\n",
       "\n",
       "    .dataframe thead th {\n",
       "        text-align: right;\n",
       "    }\n",
       "</style>\n",
       "<table border=\"1\" class=\"dataframe\">\n",
       "  <thead>\n",
       "    <tr style=\"text-align: right;\">\n",
       "      <th></th>\n",
       "      <th>cats</th>\n",
       "      <th>dogs</th>\n",
       "    </tr>\n",
       "    <tr>\n",
       "      <th>area</th>\n",
       "      <th></th>\n",
       "      <th></th>\n",
       "    </tr>\n",
       "  </thead>\n",
       "  <tbody>\n",
       "    <tr>\n",
       "      <th>ARGANZUELA</th>\n",
       "      <td>2936.333333</td>\n",
       "      <td>10396.000000</td>\n",
       "    </tr>\n",
       "    <tr>\n",
       "      <th>BARAJAS</th>\n",
       "      <td>902.666667</td>\n",
       "      <td>5220.000000</td>\n",
       "    </tr>\n",
       "    <tr>\n",
       "      <th>CARABANCHEL</th>\n",
       "      <td>3462.666667</td>\n",
       "      <td>19090.000000</td>\n",
       "    </tr>\n",
       "    <tr>\n",
       "      <th>CENTRO</th>\n",
       "      <td>5485.333333</td>\n",
       "      <td>14916.666667</td>\n",
       "    </tr>\n",
       "    <tr>\n",
       "      <th>CHAMARTÍN</th>\n",
       "      <td>2597.333333</td>\n",
       "      <td>12270.666667</td>\n",
       "    </tr>\n",
       "    <tr>\n",
       "      <th>CHAMBERÍ</th>\n",
       "      <td>2780.666667</td>\n",
       "      <td>13813.666667</td>\n",
       "    </tr>\n",
       "    <tr>\n",
       "      <th>CIUDAD LINEAL</th>\n",
       "      <td>5413.000000</td>\n",
       "      <td>17746.333333</td>\n",
       "    </tr>\n",
       "    <tr>\n",
       "      <th>FUENCARRAL-EL PARDO</th>\n",
       "      <td>3954.333333</td>\n",
       "      <td>18194.000000</td>\n",
       "    </tr>\n",
       "    <tr>\n",
       "      <th>HORTALEZA</th>\n",
       "      <td>5958.333333</td>\n",
       "      <td>16632.333333</td>\n",
       "    </tr>\n",
       "    <tr>\n",
       "      <th>LATINA</th>\n",
       "      <td>3722.000000</td>\n",
       "      <td>18620.333333</td>\n",
       "    </tr>\n",
       "    <tr>\n",
       "      <th>MONCLOA-ARAVACA</th>\n",
       "      <td>2240.666667</td>\n",
       "      <td>12676.666667</td>\n",
       "    </tr>\n",
       "    <tr>\n",
       "      <th>MORATALAZ</th>\n",
       "      <td>1612.666667</td>\n",
       "      <td>6896.000000</td>\n",
       "    </tr>\n",
       "    <tr>\n",
       "      <th>PUENTE DE VALLECAS</th>\n",
       "      <td>3177.666667</td>\n",
       "      <td>23377.333333</td>\n",
       "    </tr>\n",
       "    <tr>\n",
       "      <th>RETIRO</th>\n",
       "      <td>1921.666667</td>\n",
       "      <td>8458.333333</td>\n",
       "    </tr>\n",
       "    <tr>\n",
       "      <th>SALAMANCA</th>\n",
       "      <td>3027.000000</td>\n",
       "      <td>13024.333333</td>\n",
       "    </tr>\n",
       "    <tr>\n",
       "      <th>SAN BLAS</th>\n",
       "      <td>2976.666667</td>\n",
       "      <td>13593.666667</td>\n",
       "    </tr>\n",
       "    <tr>\n",
       "      <th>TETUÁN</th>\n",
       "      <td>3159.666667</td>\n",
       "      <td>12504.000000</td>\n",
       "    </tr>\n",
       "    <tr>\n",
       "      <th>USERA</th>\n",
       "      <td>1482.000000</td>\n",
       "      <td>12231.333333</td>\n",
       "    </tr>\n",
       "    <tr>\n",
       "      <th>VICÁLVARO</th>\n",
       "      <td>814.666667</td>\n",
       "      <td>5201.666667</td>\n",
       "    </tr>\n",
       "    <tr>\n",
       "      <th>VILLA DE VALLECAS</th>\n",
       "      <td>1475.000000</td>\n",
       "      <td>8728.666667</td>\n",
       "    </tr>\n",
       "    <tr>\n",
       "      <th>VILLAVERDE</th>\n",
       "      <td>1360.000000</td>\n",
       "      <td>11871.333333</td>\n",
       "    </tr>\n",
       "  </tbody>\n",
       "</table>\n",
       "</div>"
      ],
      "text/plain": [
       "                            cats          dogs\n",
       "area                                          \n",
       "ARGANZUELA           2936.333333  10396.000000\n",
       "BARAJAS               902.666667   5220.000000\n",
       "CARABANCHEL          3462.666667  19090.000000\n",
       "CENTRO               5485.333333  14916.666667\n",
       "CHAMARTÍN            2597.333333  12270.666667\n",
       "CHAMBERÍ             2780.666667  13813.666667\n",
       "CIUDAD LINEAL        5413.000000  17746.333333\n",
       "FUENCARRAL-EL PARDO  3954.333333  18194.000000\n",
       "HORTALEZA            5958.333333  16632.333333\n",
       "LATINA               3722.000000  18620.333333\n",
       "MONCLOA-ARAVACA      2240.666667  12676.666667\n",
       "MORATALAZ            1612.666667   6896.000000\n",
       "PUENTE DE VALLECAS   3177.666667  23377.333333\n",
       "RETIRO               1921.666667   8458.333333\n",
       "SALAMANCA            3027.000000  13024.333333\n",
       "SAN BLAS             2976.666667  13593.666667\n",
       "TETUÁN               3159.666667  12504.000000\n",
       "USERA                1482.000000  12231.333333\n",
       "VICÁLVARO             814.666667   5201.666667\n",
       "VILLA DE VALLECAS    1475.000000   8728.666667\n",
       "VILLAVERDE           1360.000000  11871.333333"
      ]
     },
     "execution_count": 99,
     "metadata": {},
     "output_type": "execute_result"
    }
   ],
   "source": [
    "pd.pivot_table(\n",
    "    data=animals[(animals[\"year\"]>=2015) & (animals[\"year\"]<=2017)],\n",
    "    index=\"area\",\n",
    "    values=[\"dogs\", \"cats\"],    \n",
    "    aggfunc=\"mean\"\n",
    ")"
   ]
  },
  {
   "attachments": {},
   "cell_type": "markdown",
   "id": "b97c1e20-a39b-426d-b5c3-06534cc3b849",
   "metadata": {},
   "source": [
    "### Exercise 3:\n",
    "With the dataset `parks_and_extension.csv`, \n",
    "calculate the total extension of parks per area and sort them from highest to lowest.\n",
    "* Check the formats!"
   ]
  },
  {
   "cell_type": "code",
   "execution_count": 101,
   "id": "5ed9e9bf-bde5-4786-9a11-e91035f4fb0a",
   "metadata": {},
   "outputs": [
    {
     "data": {
      "text/html": [
       "<div>\n",
       "<style scoped>\n",
       "    .dataframe tbody tr th:only-of-type {\n",
       "        vertical-align: middle;\n",
       "    }\n",
       "\n",
       "    .dataframe tbody tr th {\n",
       "        vertical-align: top;\n",
       "    }\n",
       "\n",
       "    .dataframe thead th {\n",
       "        text-align: right;\n",
       "    }\n",
       "</style>\n",
       "<table border=\"1\" class=\"dataframe\">\n",
       "  <thead>\n",
       "    <tr style=\"text-align: right;\">\n",
       "      <th></th>\n",
       "      <th>area_code</th>\n",
       "      <th>area</th>\n",
       "      <th>park_name</th>\n",
       "      <th>extension</th>\n",
       "    </tr>\n",
       "  </thead>\n",
       "  <tbody>\n",
       "    <tr>\n",
       "      <th>44</th>\n",
       "      <td>12</td>\n",
       "      <td>USERA</td>\n",
       "      <td>PARQUE DE PRADOLONGO</td>\n",
       "      <td>59.51</td>\n",
       "    </tr>\n",
       "    <tr>\n",
       "      <th>41</th>\n",
       "      <td>10</td>\n",
       "      <td>LATINA</td>\n",
       "      <td>PARQUE DE LAS CRUCES</td>\n",
       "      <td>45.15</td>\n",
       "    </tr>\n",
       "    <tr>\n",
       "      <th>6</th>\n",
       "      <td>2</td>\n",
       "      <td>ARGANZUELA</td>\n",
       "      <td>PARQUE ENRIQUE TIERNO GALVÁN</td>\n",
       "      <td>40.06</td>\n",
       "    </tr>\n",
       "    <tr>\n",
       "      <th>46</th>\n",
       "      <td>13</td>\n",
       "      <td>PUENTE DE VALLECAS</td>\n",
       "      <td>PARQUE LINEAL DE PALOMERAS</td>\n",
       "      <td>39.55</td>\n",
       "    </tr>\n",
       "    <tr>\n",
       "      <th>68</th>\n",
       "      <td>19</td>\n",
       "      <td>VICÁLVARO</td>\n",
       "      <td>Z.F. ANILLO VERDE DE VICÁLVARO</td>\n",
       "      <td>31.31</td>\n",
       "    </tr>\n",
       "    <tr>\n",
       "      <th>...</th>\n",
       "      <td>...</td>\n",
       "      <td>...</td>\n",
       "      <td>...</td>\n",
       "      <td>...</td>\n",
       "    </tr>\n",
       "    <tr>\n",
       "      <th>4</th>\n",
       "      <td>1</td>\n",
       "      <td>CENTRO</td>\n",
       "      <td>PARQUE DE LA DALIEDA DE S.FCO EL GRANDE</td>\n",
       "      <td>0.43</td>\n",
       "    </tr>\n",
       "    <tr>\n",
       "      <th>17</th>\n",
       "      <td>4</td>\n",
       "      <td>SALAMANCA</td>\n",
       "      <td>BULEVAR DE JUAN BRAVO</td>\n",
       "      <td>0.38</td>\n",
       "    </tr>\n",
       "    <tr>\n",
       "      <th>13</th>\n",
       "      <td>4</td>\n",
       "      <td>SALAMANCA</td>\n",
       "      <td>PLAZA DE LA INDEPENDENCIA-PUERTA DE ALCALÁ</td>\n",
       "      <td>0.31</td>\n",
       "    </tr>\n",
       "    <tr>\n",
       "      <th>63</th>\n",
       "      <td>18</td>\n",
       "      <td>VILLA DE VALLECAS</td>\n",
       "      <td>PASEO FEDERICO GARCÍA LORCA</td>\n",
       "      <td>0.24</td>\n",
       "    </tr>\n",
       "    <tr>\n",
       "      <th>79</th>\n",
       "      <td>21</td>\n",
       "      <td>BARAJAS</td>\n",
       "      <td>PLAZA DE LOS HERMANOS FALCÓ</td>\n",
       "      <td>0.18</td>\n",
       "    </tr>\n",
       "  </tbody>\n",
       "</table>\n",
       "<p>80 rows × 4 columns</p>\n",
       "</div>"
      ],
      "text/plain": [
       "    area_code                area                                   park_name  \\\n",
       "44         12               USERA                        PARQUE DE PRADOLONGO   \n",
       "41         10              LATINA                        PARQUE DE LAS CRUCES   \n",
       "6           2          ARGANZUELA                PARQUE ENRIQUE TIERNO GALVÁN   \n",
       "46         13  PUENTE DE VALLECAS                  PARQUE LINEAL DE PALOMERAS   \n",
       "68         19           VICÁLVARO              Z.F. ANILLO VERDE DE VICÁLVARO   \n",
       "..        ...                 ...                                         ...   \n",
       "4           1              CENTRO     PARQUE DE LA DALIEDA DE S.FCO EL GRANDE   \n",
       "17          4           SALAMANCA                       BULEVAR DE JUAN BRAVO   \n",
       "13          4           SALAMANCA  PLAZA DE LA INDEPENDENCIA-PUERTA DE ALCALÁ   \n",
       "63         18   VILLA DE VALLECAS                 PASEO FEDERICO GARCÍA LORCA   \n",
       "79         21             BARAJAS                 PLAZA DE LOS HERMANOS FALCÓ   \n",
       "\n",
       "    extension  \n",
       "44      59.51  \n",
       "41      45.15  \n",
       "6       40.06  \n",
       "46      39.55  \n",
       "68      31.31  \n",
       "..        ...  \n",
       "4        0.43  \n",
       "17       0.38  \n",
       "13       0.31  \n",
       "63       0.24  \n",
       "79       0.18  \n",
       "\n",
       "[80 rows x 4 columns]"
      ]
     },
     "execution_count": 101,
     "metadata": {},
     "output_type": "execute_result"
    }
   ],
   "source": [
    "parks = pd.read_csv(\"../files/parks_and_extension.csv\", decimal=\",\")       \n",
    "parks.sort_values(\"extension\", ascending=False)"
   ]
  },
  {
   "cell_type": "code",
   "execution_count": 102,
   "id": "739349b3-579a-41fc-859a-0a6e6efb11cc",
   "metadata": {},
   "outputs": [
    {
     "data": {
      "text/html": [
       "<div>\n",
       "<style scoped>\n",
       "    .dataframe tbody tr th:only-of-type {\n",
       "        vertical-align: middle;\n",
       "    }\n",
       "\n",
       "    .dataframe tbody tr th {\n",
       "        vertical-align: top;\n",
       "    }\n",
       "\n",
       "    .dataframe thead th {\n",
       "        text-align: right;\n",
       "    }\n",
       "</style>\n",
       "<table border=\"1\" class=\"dataframe\">\n",
       "  <thead>\n",
       "    <tr style=\"text-align: right;\">\n",
       "      <th></th>\n",
       "      <th>extension</th>\n",
       "    </tr>\n",
       "    <tr>\n",
       "      <th>area</th>\n",
       "      <th></th>\n",
       "    </tr>\n",
       "  </thead>\n",
       "  <tbody>\n",
       "    <tr>\n",
       "      <th>LATINA</th>\n",
       "      <td>79.04</td>\n",
       "    </tr>\n",
       "    <tr>\n",
       "      <th>VICÁLVARO</th>\n",
       "      <td>72.55</td>\n",
       "    </tr>\n",
       "    <tr>\n",
       "      <th>PUENTE DE VALLECAS</th>\n",
       "      <td>72.31</td>\n",
       "    </tr>\n",
       "    <tr>\n",
       "      <th>USERA</th>\n",
       "      <td>63.99</td>\n",
       "    </tr>\n",
       "    <tr>\n",
       "      <th>ARGANZUELA</th>\n",
       "      <td>44.84</td>\n",
       "    </tr>\n",
       "    <tr>\n",
       "      <th>HORTALEZA</th>\n",
       "      <td>42.30</td>\n",
       "    </tr>\n",
       "    <tr>\n",
       "      <th>FUENCARRAL - EL PARDO</th>\n",
       "      <td>39.94</td>\n",
       "    </tr>\n",
       "    <tr>\n",
       "      <th>TETUÁN</th>\n",
       "      <td>37.65</td>\n",
       "    </tr>\n",
       "    <tr>\n",
       "      <th>CIUDAD LINEAL</th>\n",
       "      <td>33.10</td>\n",
       "    </tr>\n",
       "    <tr>\n",
       "      <th>SAN BLAS - CANILLEJAS</th>\n",
       "      <td>29.41</td>\n",
       "    </tr>\n",
       "    <tr>\n",
       "      <th>CARABANCHEL</th>\n",
       "      <td>26.06</td>\n",
       "    </tr>\n",
       "    <tr>\n",
       "      <th>VILLAVERDE</th>\n",
       "      <td>16.35</td>\n",
       "    </tr>\n",
       "    <tr>\n",
       "      <th>RETIRO</th>\n",
       "      <td>13.92</td>\n",
       "    </tr>\n",
       "    <tr>\n",
       "      <th>MONCLOA-ARAVACA</th>\n",
       "      <td>13.26</td>\n",
       "    </tr>\n",
       "    <tr>\n",
       "      <th>SALAMANCA</th>\n",
       "      <td>12.65</td>\n",
       "    </tr>\n",
       "    <tr>\n",
       "      <th>CHAMARTÍN</th>\n",
       "      <td>12.19</td>\n",
       "    </tr>\n",
       "    <tr>\n",
       "      <th>CENTRO</th>\n",
       "      <td>11.80</td>\n",
       "    </tr>\n",
       "    <tr>\n",
       "      <th>BARAJAS</th>\n",
       "      <td>7.42</td>\n",
       "    </tr>\n",
       "    <tr>\n",
       "      <th>MORATALAZ</th>\n",
       "      <td>6.42</td>\n",
       "    </tr>\n",
       "    <tr>\n",
       "      <th>VILLA DE VALLECAS</th>\n",
       "      <td>6.16</td>\n",
       "    </tr>\n",
       "    <tr>\n",
       "      <th>CHAMBERÍ</th>\n",
       "      <td>4.85</td>\n",
       "    </tr>\n",
       "  </tbody>\n",
       "</table>\n",
       "</div>"
      ],
      "text/plain": [
       "                       extension\n",
       "area                            \n",
       "LATINA                     79.04\n",
       "VICÁLVARO                  72.55\n",
       "PUENTE DE VALLECAS         72.31\n",
       "USERA                      63.99\n",
       "ARGANZUELA                 44.84\n",
       "HORTALEZA                  42.30\n",
       "FUENCARRAL - EL PARDO      39.94\n",
       "TETUÁN                     37.65\n",
       "CIUDAD LINEAL              33.10\n",
       "SAN BLAS - CANILLEJAS      29.41\n",
       "CARABANCHEL                26.06\n",
       "VILLAVERDE                 16.35\n",
       "RETIRO                     13.92\n",
       "MONCLOA-ARAVACA            13.26\n",
       "SALAMANCA                  12.65\n",
       "CHAMARTÍN                  12.19\n",
       "CENTRO                     11.80\n",
       "BARAJAS                     7.42\n",
       "MORATALAZ                   6.42\n",
       "VILLA DE VALLECAS           6.16\n",
       "CHAMBERÍ                    4.85"
      ]
     },
     "execution_count": 102,
     "metadata": {},
     "output_type": "execute_result"
    }
   ],
   "source": [
    "\n",
    "total_extension_per_area = pd.pivot_table(\n",
    "    parks,\n",
    "    index=\"area\",\n",
    "    values=\"extension\",\n",
    "    aggfunc=\"sum\"\n",
    ").sort_values(by=\"extension\", ascending=False)\n",
    "\n",
    "total_extension_per_area"
   ]
  },
  {
   "attachments": {},
   "cell_type": "markdown",
   "id": "7177e8f7-ba8d-46be-9c6e-a8916cd93686",
   "metadata": {},
   "source": [
    "### Exercise 4:\n",
    "What's the area with the most parks?"
   ]
  },
  {
   "cell_type": "code",
   "execution_count": 107,
   "id": "5ee8e917-689c-42c5-9b23-a41797cdbc04",
   "metadata": {},
   "outputs": [
    {
     "data": {
      "text/html": [
       "<div>\n",
       "<style scoped>\n",
       "    .dataframe tbody tr th:only-of-type {\n",
       "        vertical-align: middle;\n",
       "    }\n",
       "\n",
       "    .dataframe tbody tr th {\n",
       "        vertical-align: top;\n",
       "    }\n",
       "\n",
       "    .dataframe thead th {\n",
       "        text-align: right;\n",
       "    }\n",
       "</style>\n",
       "<table border=\"1\" class=\"dataframe\">\n",
       "  <thead>\n",
       "    <tr style=\"text-align: right;\">\n",
       "      <th></th>\n",
       "      <th>extension</th>\n",
       "    </tr>\n",
       "    <tr>\n",
       "      <th>area</th>\n",
       "      <th></th>\n",
       "    </tr>\n",
       "  </thead>\n",
       "  <tbody>\n",
       "    <tr>\n",
       "      <th>SALAMANCA</th>\n",
       "      <td>7</td>\n",
       "    </tr>\n",
       "    <tr>\n",
       "      <th>HORTALEZA</th>\n",
       "      <td>5</td>\n",
       "    </tr>\n",
       "    <tr>\n",
       "      <th>CHAMBERÍ</th>\n",
       "      <td>5</td>\n",
       "    </tr>\n",
       "    <tr>\n",
       "      <th>SAN BLAS - CANILLEJAS</th>\n",
       "      <td>5</td>\n",
       "    </tr>\n",
       "    <tr>\n",
       "      <th>VICÁLVARO</th>\n",
       "      <td>5</td>\n",
       "    </tr>\n",
       "    <tr>\n",
       "      <th>TETUÁN</th>\n",
       "      <td>5</td>\n",
       "    </tr>\n",
       "    <tr>\n",
       "      <th>CENTRO</th>\n",
       "      <td>5</td>\n",
       "    </tr>\n",
       "    <tr>\n",
       "      <th>CIUDAD LINEAL</th>\n",
       "      <td>4</td>\n",
       "    </tr>\n",
       "    <tr>\n",
       "      <th>FUENCARRAL - EL PARDO</th>\n",
       "      <td>4</td>\n",
       "    </tr>\n",
       "    <tr>\n",
       "      <th>LATINA</th>\n",
       "      <td>4</td>\n",
       "    </tr>\n",
       "    <tr>\n",
       "      <th>CHAMARTÍN</th>\n",
       "      <td>4</td>\n",
       "    </tr>\n",
       "    <tr>\n",
       "      <th>PUENTE DE VALLECAS</th>\n",
       "      <td>4</td>\n",
       "    </tr>\n",
       "    <tr>\n",
       "      <th>RETIRO</th>\n",
       "      <td>4</td>\n",
       "    </tr>\n",
       "    <tr>\n",
       "      <th>VILLA DE VALLECAS</th>\n",
       "      <td>4</td>\n",
       "    </tr>\n",
       "    <tr>\n",
       "      <th>BARAJAS</th>\n",
       "      <td>3</td>\n",
       "    </tr>\n",
       "    <tr>\n",
       "      <th>ARGANZUELA</th>\n",
       "      <td>3</td>\n",
       "    </tr>\n",
       "    <tr>\n",
       "      <th>USERA</th>\n",
       "      <td>2</td>\n",
       "    </tr>\n",
       "    <tr>\n",
       "      <th>MONCLOA-ARAVACA</th>\n",
       "      <td>2</td>\n",
       "    </tr>\n",
       "    <tr>\n",
       "      <th>MORATALAZ</th>\n",
       "      <td>2</td>\n",
       "    </tr>\n",
       "    <tr>\n",
       "      <th>VILLAVERDE</th>\n",
       "      <td>2</td>\n",
       "    </tr>\n",
       "    <tr>\n",
       "      <th>CARABANCHEL</th>\n",
       "      <td>1</td>\n",
       "    </tr>\n",
       "  </tbody>\n",
       "</table>\n",
       "</div>"
      ],
      "text/plain": [
       "                       extension\n",
       "area                            \n",
       "SALAMANCA                      7\n",
       "HORTALEZA                      5\n",
       "CHAMBERÍ                       5\n",
       "SAN BLAS - CANILLEJAS          5\n",
       "VICÁLVARO                      5\n",
       "TETUÁN                         5\n",
       "CENTRO                         5\n",
       "CIUDAD LINEAL                  4\n",
       "FUENCARRAL - EL PARDO          4\n",
       "LATINA                         4\n",
       "CHAMARTÍN                      4\n",
       "PUENTE DE VALLECAS             4\n",
       "RETIRO                         4\n",
       "VILLA DE VALLECAS              4\n",
       "BARAJAS                        3\n",
       "ARGANZUELA                     3\n",
       "USERA                          2\n",
       "MONCLOA-ARAVACA                2\n",
       "MORATALAZ                      2\n",
       "VILLAVERDE                     2\n",
       "CARABANCHEL                    1"
      ]
     },
     "execution_count": 107,
     "metadata": {},
     "output_type": "execute_result"
    }
   ],
   "source": [
    "pd.pivot_table(\n",
    "    parks,\n",
    "    index=\"area\",\n",
    "    values=\"extension\",\n",
    "    aggfunc=\"count\"\n",
    ").sort_values(by=\"extension\", ascending=False)"
   ]
  },
  {
   "attachments": {},
   "cell_type": "markdown",
   "id": "276d9268-031a-48fa-bdb5-7d6f65596893",
   "metadata": {},
   "source": [
    "### Exercise 5:\n",
    "What's the area with the biggest parks (on average)?"
   ]
  },
  {
   "cell_type": "code",
   "execution_count": 106,
   "id": "2bb13efd-4c12-46cd-af3a-28d88561e6c3",
   "metadata": {},
   "outputs": [
    {
     "data": {
      "text/html": [
       "<div>\n",
       "<style scoped>\n",
       "    .dataframe tbody tr th:only-of-type {\n",
       "        vertical-align: middle;\n",
       "    }\n",
       "\n",
       "    .dataframe tbody tr th {\n",
       "        vertical-align: top;\n",
       "    }\n",
       "\n",
       "    .dataframe thead th {\n",
       "        text-align: right;\n",
       "    }\n",
       "</style>\n",
       "<table border=\"1\" class=\"dataframe\">\n",
       "  <thead>\n",
       "    <tr style=\"text-align: right;\">\n",
       "      <th></th>\n",
       "      <th>extension</th>\n",
       "    </tr>\n",
       "    <tr>\n",
       "      <th>area</th>\n",
       "      <th></th>\n",
       "    </tr>\n",
       "  </thead>\n",
       "  <tbody>\n",
       "    <tr>\n",
       "      <th>USERA</th>\n",
       "      <td>31.995000</td>\n",
       "    </tr>\n",
       "    <tr>\n",
       "      <th>CARABANCHEL</th>\n",
       "      <td>26.060000</td>\n",
       "    </tr>\n",
       "    <tr>\n",
       "      <th>LATINA</th>\n",
       "      <td>19.760000</td>\n",
       "    </tr>\n",
       "    <tr>\n",
       "      <th>PUENTE DE VALLECAS</th>\n",
       "      <td>18.077500</td>\n",
       "    </tr>\n",
       "    <tr>\n",
       "      <th>ARGANZUELA</th>\n",
       "      <td>14.946667</td>\n",
       "    </tr>\n",
       "    <tr>\n",
       "      <th>VICÁLVARO</th>\n",
       "      <td>14.510000</td>\n",
       "    </tr>\n",
       "    <tr>\n",
       "      <th>FUENCARRAL - EL PARDO</th>\n",
       "      <td>9.985000</td>\n",
       "    </tr>\n",
       "    <tr>\n",
       "      <th>HORTALEZA</th>\n",
       "      <td>8.460000</td>\n",
       "    </tr>\n",
       "    <tr>\n",
       "      <th>CIUDAD LINEAL</th>\n",
       "      <td>8.275000</td>\n",
       "    </tr>\n",
       "    <tr>\n",
       "      <th>VILLAVERDE</th>\n",
       "      <td>8.175000</td>\n",
       "    </tr>\n",
       "    <tr>\n",
       "      <th>TETUÁN</th>\n",
       "      <td>7.530000</td>\n",
       "    </tr>\n",
       "    <tr>\n",
       "      <th>MONCLOA-ARAVACA</th>\n",
       "      <td>6.630000</td>\n",
       "    </tr>\n",
       "    <tr>\n",
       "      <th>SAN BLAS - CANILLEJAS</th>\n",
       "      <td>5.882000</td>\n",
       "    </tr>\n",
       "    <tr>\n",
       "      <th>RETIRO</th>\n",
       "      <td>3.480000</td>\n",
       "    </tr>\n",
       "    <tr>\n",
       "      <th>MORATALAZ</th>\n",
       "      <td>3.210000</td>\n",
       "    </tr>\n",
       "    <tr>\n",
       "      <th>CHAMARTÍN</th>\n",
       "      <td>3.047500</td>\n",
       "    </tr>\n",
       "    <tr>\n",
       "      <th>BARAJAS</th>\n",
       "      <td>2.473333</td>\n",
       "    </tr>\n",
       "    <tr>\n",
       "      <th>CENTRO</th>\n",
       "      <td>2.360000</td>\n",
       "    </tr>\n",
       "    <tr>\n",
       "      <th>SALAMANCA</th>\n",
       "      <td>1.807143</td>\n",
       "    </tr>\n",
       "    <tr>\n",
       "      <th>VILLA DE VALLECAS</th>\n",
       "      <td>1.540000</td>\n",
       "    </tr>\n",
       "    <tr>\n",
       "      <th>CHAMBERÍ</th>\n",
       "      <td>0.970000</td>\n",
       "    </tr>\n",
       "  </tbody>\n",
       "</table>\n",
       "</div>"
      ],
      "text/plain": [
       "                       extension\n",
       "area                            \n",
       "USERA                  31.995000\n",
       "CARABANCHEL            26.060000\n",
       "LATINA                 19.760000\n",
       "PUENTE DE VALLECAS     18.077500\n",
       "ARGANZUELA             14.946667\n",
       "VICÁLVARO              14.510000\n",
       "FUENCARRAL - EL PARDO   9.985000\n",
       "HORTALEZA               8.460000\n",
       "CIUDAD LINEAL           8.275000\n",
       "VILLAVERDE              8.175000\n",
       "TETUÁN                  7.530000\n",
       "MONCLOA-ARAVACA         6.630000\n",
       "SAN BLAS - CANILLEJAS   5.882000\n",
       "RETIRO                  3.480000\n",
       "MORATALAZ               3.210000\n",
       "CHAMARTÍN               3.047500\n",
       "BARAJAS                 2.473333\n",
       "CENTRO                  2.360000\n",
       "SALAMANCA               1.807143\n",
       "VILLA DE VALLECAS       1.540000\n",
       "CHAMBERÍ                0.970000"
      ]
     },
     "execution_count": 106,
     "metadata": {},
     "output_type": "execute_result"
    }
   ],
   "source": [
    "avg_extension_per_area = pd.pivot_table(\n",
    "    parks,\n",
    "    index=\"area\",\n",
    "    values=\"extension\",\n",
    "    aggfunc=\"mean\"\n",
    ").sort_values(by=\"extension\", ascending=False)\n",
    "\n",
    "avg_extension_per_area#[\"extension\"].idxmax()"
   ]
  }
 ],
 "metadata": {
  "interpreter": {
   "hash": "a9f295c814a5ce7ff0b0a20f2b13117bfaf008fc7980e281f2c2bfa8e9ec0fbf"
  },
  "kernelspec": {
   "display_name": "Python 3 (ipykernel)",
   "language": "python",
   "name": "python3"
  },
  "language_info": {
   "codemirror_mode": {
    "name": "ipython",
    "version": 3
   },
   "file_extension": ".py",
   "mimetype": "text/x-python",
   "name": "python",
   "nbconvert_exporter": "python",
   "pygments_lexer": "ipython3",
   "version": "3.8.12"
  }
 },
 "nbformat": 4,
 "nbformat_minor": 5
}
