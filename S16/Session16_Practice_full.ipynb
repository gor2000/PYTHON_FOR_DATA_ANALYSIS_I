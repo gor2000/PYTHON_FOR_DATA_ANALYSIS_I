{
 "cells": [
  {
   "attachments": {},
   "cell_type": "markdown",
   "metadata": {},
   "source": [
    "## Session 16 Homework\n",
    "\n",
    "Use PANDAS"
   ]
  },
  {
   "attachments": {},
   "cell_type": "markdown",
   "metadata": {},
   "source": [
    "### 0. Load the data as a Python object and print the first item"
   ]
  },
  {
   "cell_type": "code",
   "execution_count": 15,
   "metadata": {
    "ExecuteTime": {
     "end_time": "2023-06-30T20:59:22.473097900Z",
     "start_time": "2023-06-30T20:59:21.307237600Z"
    }
   },
   "outputs": [
    {
     "data": {
      "text/plain": "  points                                              title  \\\n0     87                  Nicosia 2013 Vulkà Bianco  (Etna)   \n1     87      Quinta dos Avidagos 2011 Avidagos Red (Douro)   \n2     87      Rainstorm 2013 Pinot Gris (Willamette Valley)   \n3     87  St. Julian 2013 Reserve Late Harvest Riesling ...   \n4     87  Sweet Cheeks 2012 Vintner's Reserve Wild Child...   \n\n                                         description         taster_name  \\\n0  Aromas include tropical fruit, broom, brimston...       Kerin O’Keefe   \n1  This is ripe and fruity, a wine that is smooth...          Roger Voss   \n2  Tart and snappy, the flavors of lime flesh and...        Paul Gregutt   \n3  Pineapple rind, lemon pith and orange blossom ...  Alexander Peartree   \n4  Much like the regular bottling from 2012, this...        Paul Gregutt   \n\n  taster_twitter_handle  price                         designation  \\\n0          @kerinokeefe    NaN                        Vulkà Bianco   \n1            @vossroger   15.0                            Avidagos   \n2           @paulgwine    14.0                                None   \n3                  None   13.0                Reserve Late Harvest   \n4           @paulgwine    65.0  Vintner's Reserve Wild Child Block   \n\n          variety             region_1           region_2           province  \\\n0     White Blend                 Etna               None  Sicily & Sardinia   \n1  Portuguese Red                 None               None              Douro   \n2      Pinot Gris    Willamette Valley  Willamette Valley             Oregon   \n3        Riesling  Lake Michigan Shore               None           Michigan   \n4      Pinot Noir    Willamette Valley  Willamette Valley             Oregon   \n\n    country               winery  \n0     Italy              Nicosia  \n1  Portugal  Quinta dos Avidagos  \n2        US            Rainstorm  \n3        US           St. Julian  \n4        US         Sweet Cheeks  ",
      "text/html": "<div>\n<style scoped>\n    .dataframe tbody tr th:only-of-type {\n        vertical-align: middle;\n    }\n\n    .dataframe tbody tr th {\n        vertical-align: top;\n    }\n\n    .dataframe thead th {\n        text-align: right;\n    }\n</style>\n<table border=\"1\" class=\"dataframe\">\n  <thead>\n    <tr style=\"text-align: right;\">\n      <th></th>\n      <th>points</th>\n      <th>title</th>\n      <th>description</th>\n      <th>taster_name</th>\n      <th>taster_twitter_handle</th>\n      <th>price</th>\n      <th>designation</th>\n      <th>variety</th>\n      <th>region_1</th>\n      <th>region_2</th>\n      <th>province</th>\n      <th>country</th>\n      <th>winery</th>\n    </tr>\n  </thead>\n  <tbody>\n    <tr>\n      <th>0</th>\n      <td>87</td>\n      <td>Nicosia 2013 Vulkà Bianco  (Etna)</td>\n      <td>Aromas include tropical fruit, broom, brimston...</td>\n      <td>Kerin O’Keefe</td>\n      <td>@kerinokeefe</td>\n      <td>NaN</td>\n      <td>Vulkà Bianco</td>\n      <td>White Blend</td>\n      <td>Etna</td>\n      <td>None</td>\n      <td>Sicily &amp; Sardinia</td>\n      <td>Italy</td>\n      <td>Nicosia</td>\n    </tr>\n    <tr>\n      <th>1</th>\n      <td>87</td>\n      <td>Quinta dos Avidagos 2011 Avidagos Red (Douro)</td>\n      <td>This is ripe and fruity, a wine that is smooth...</td>\n      <td>Roger Voss</td>\n      <td>@vossroger</td>\n      <td>15.0</td>\n      <td>Avidagos</td>\n      <td>Portuguese Red</td>\n      <td>None</td>\n      <td>None</td>\n      <td>Douro</td>\n      <td>Portugal</td>\n      <td>Quinta dos Avidagos</td>\n    </tr>\n    <tr>\n      <th>2</th>\n      <td>87</td>\n      <td>Rainstorm 2013 Pinot Gris (Willamette Valley)</td>\n      <td>Tart and snappy, the flavors of lime flesh and...</td>\n      <td>Paul Gregutt</td>\n      <td>@paulgwine</td>\n      <td>14.0</td>\n      <td>None</td>\n      <td>Pinot Gris</td>\n      <td>Willamette Valley</td>\n      <td>Willamette Valley</td>\n      <td>Oregon</td>\n      <td>US</td>\n      <td>Rainstorm</td>\n    </tr>\n    <tr>\n      <th>3</th>\n      <td>87</td>\n      <td>St. Julian 2013 Reserve Late Harvest Riesling ...</td>\n      <td>Pineapple rind, lemon pith and orange blossom ...</td>\n      <td>Alexander Peartree</td>\n      <td>None</td>\n      <td>13.0</td>\n      <td>Reserve Late Harvest</td>\n      <td>Riesling</td>\n      <td>Lake Michigan Shore</td>\n      <td>None</td>\n      <td>Michigan</td>\n      <td>US</td>\n      <td>St. Julian</td>\n    </tr>\n    <tr>\n      <th>4</th>\n      <td>87</td>\n      <td>Sweet Cheeks 2012 Vintner's Reserve Wild Child...</td>\n      <td>Much like the regular bottling from 2012, this...</td>\n      <td>Paul Gregutt</td>\n      <td>@paulgwine</td>\n      <td>65.0</td>\n      <td>Vintner's Reserve Wild Child Block</td>\n      <td>Pinot Noir</td>\n      <td>Willamette Valley</td>\n      <td>Willamette Valley</td>\n      <td>Oregon</td>\n      <td>US</td>\n      <td>Sweet Cheeks</td>\n    </tr>\n  </tbody>\n</table>\n</div>"
     },
     "execution_count": 15,
     "metadata": {},
     "output_type": "execute_result"
    }
   ],
   "source": [
    "import json\n",
    "import pandas as pd\n",
    "\n",
    "with open('wine.json', 'r') as f:\n",
    "    data = json.load(f)\n",
    "\n",
    "df = pd.DataFrame(data)\n",
    "df.head()"
   ]
  },
  {
   "attachments": {},
   "cell_type": "markdown",
   "metadata": {},
   "source": [
    "### 1. How many wine reviews are included in the dataset? (1 point)"
   ]
  },
  {
   "cell_type": "code",
   "execution_count": 16,
   "metadata": {
    "ExecuteTime": {
     "end_time": "2023-06-30T20:59:23.926112100Z",
     "start_time": "2023-06-30T20:59:23.908769600Z"
    }
   },
   "outputs": [
    {
     "data": {
      "text/plain": "129971"
     },
     "execution_count": 16,
     "metadata": {},
     "output_type": "execute_result"
    }
   ],
   "source": [
    "df.shape[0]"
   ]
  },
  {
   "attachments": {},
   "cell_type": "markdown",
   "metadata": {},
   "source": [
    "### 2. Add a new {key:value} pair in each item in the list (1 point)\n",
    "\n",
    "The new key should be called *length* and it should indicate the amount of words in the *description* value.\n",
    "\n",
    "For example, the following description:\n",
    "* \"Very strong taste like apple and cinnamon\"\n",
    "\n",
    "should have a *length* value of **7** "
   ]
  },
  {
   "cell_type": "code",
   "execution_count": 17,
   "metadata": {
    "ExecuteTime": {
     "end_time": "2023-06-30T20:59:25.865490300Z",
     "start_time": "2023-06-30T20:59:25.550040Z"
    }
   },
   "outputs": [],
   "source": [
    "df['length'] = df['description'].apply(lambda x: len(x.split()))"
   ]
  },
  {
   "attachments": {},
   "cell_type": "markdown",
   "metadata": {},
   "source": [
    "### 3. How many different countries have wines reviewed in the dataset? (1 point)"
   ]
  },
  {
   "cell_type": "code",
   "execution_count": 18,
   "metadata": {
    "ExecuteTime": {
     "end_time": "2023-06-30T20:59:27.033295600Z",
     "start_time": "2023-06-30T20:59:26.998893500Z"
    }
   },
   "outputs": [
    {
     "data": {
      "text/plain": "43"
     },
     "execution_count": 18,
     "metadata": {},
     "output_type": "execute_result"
    }
   ],
   "source": [
    "df.groupby('country')['country'].size().shape[0]"
   ]
  },
  {
   "attachments": {},
   "cell_type": "markdown",
   "metadata": {},
   "source": [
    "### 4. Build a dictionary with the following structure: (1 point)\n",
    "\n",
    "{country: number of wines reviewed coming from that country}"
   ]
  },
  {
   "cell_type": "code",
   "execution_count": 19,
   "outputs": [
    {
     "data": {
      "text/plain": "country\nArgentina                  3543\nArmenia                       2\nAustralia                  2183\nAustria                    3022\nBosnia and Herzegovina        2\nBrazil                       49\nBulgaria                    132\nCanada                      226\nChile                      4178\nChina                         1\nCroatia                      70\nCyprus                       10\nCzech Republic               11\nEgypt                         1\nEngland                      63\nFrance                    19739\nGeorgia                      76\nGermany                    1990\nGreece                      429\nHungary                     129\nIndia                         8\nIsrael                      466\nItaly                     17805\nLebanon                      32\nLuxembourg                    5\nMacedonia                    11\nMexico                       68\nMoldova                      56\nMorocco                      24\nNew Zealand                1276\nPeru                         16\nPortugal                   5222\nRomania                     101\nSerbia                        8\nSlovakia                      1\nSlovenia                     77\nSouth Africa               1301\nSpain                      6021\nSwitzerland                   6\nTurkey                       80\nUS                        50229\nUkraine                      14\nUruguay                      98\nName: title, dtype: int64"
     },
     "execution_count": 19,
     "metadata": {},
     "output_type": "execute_result"
    }
   ],
   "source": [
    "df.groupby('country')['title'].nunique()"
   ],
   "metadata": {
    "collapsed": false,
    "ExecuteTime": {
     "end_time": "2023-06-30T20:59:28.374844500Z",
     "start_time": "2023-06-30T20:59:28.269186200Z"
    }
   }
  },
  {
   "attachments": {},
   "cell_type": "markdown",
   "metadata": {},
   "source": [
    "### 5. Build a dictionary with the following structure (1 point)\n",
    "{country: average points of wines coming from that country]"
   ]
  },
  {
   "cell_type": "code",
   "execution_count": 20,
   "metadata": {
    "ExecuteTime": {
     "end_time": "2023-06-30T20:59:30.029425400Z",
     "start_time": "2023-06-30T20:59:29.912049700Z"
    }
   },
   "outputs": [
    {
     "data": {
      "text/plain": "country\nArgentina                 86.710263\nArmenia                   87.500000\nAustralia                 88.580507\nAustria                   90.101345\nBosnia and Herzegovina    86.500000\nBrazil                    84.673077\nBulgaria                  87.936170\nCanada                    89.369650\nChile                     86.493515\nChina                     89.000000\nCroatia                   87.219178\nCyprus                    87.181818\nCzech Republic            87.250000\nEgypt                     84.000000\nEngland                   91.581081\nFrance                    88.845109\nGeorgia                   87.686047\nGermany                   89.851732\nGreece                    87.283262\nHungary                   89.191781\nIndia                     90.222222\nIsrael                    88.471287\nItaly                     88.562231\nLebanon                   87.685714\nLuxembourg                88.666667\nMacedonia                 86.833333\nMexico                    85.257143\nMoldova                   87.203390\nMorocco                   88.571429\nNew Zealand               88.303030\nPeru                      83.562500\nPortugal                  88.250220\nRomania                   86.400000\nSerbia                    87.500000\nSlovakia                  87.000000\nSlovenia                  88.068966\nSouth Africa              88.056388\nSpain                     87.288337\nSwitzerland               88.571429\nTurkey                    88.088889\nUS                        88.563720\nUkraine                   84.071429\nUruguay                   86.752294\nName: points, dtype: float64"
     },
     "execution_count": 20,
     "metadata": {},
     "output_type": "execute_result"
    }
   ],
   "source": [
    "df['points'] = pd.to_numeric(df['points'])\n",
    "df.groupby('country')['points'].mean()"
   ]
  },
  {
   "attachments": {},
   "cell_type": "markdown",
   "metadata": {},
   "source": [
    "### 6. What's the province that produces the wines with the highest rating? (1 point)"
   ]
  },
  {
   "cell_type": "code",
   "execution_count": 21,
   "metadata": {
    "ExecuteTime": {
     "end_time": "2023-06-30T20:59:31.612874200Z",
     "start_time": "2023-06-30T20:59:31.566235800Z"
    }
   },
   "outputs": [
    {
     "data": {
      "text/plain": "province\nSüdburgenland    94.0\nName: points, dtype: float64"
     },
     "execution_count": 21,
     "metadata": {},
     "output_type": "execute_result"
    }
   ],
   "source": [
    "grouped = df.groupby('province')['points'].mean()\n",
    "grouped[grouped == grouped.max()]"
   ]
  },
  {
   "attachments": {},
   "cell_type": "markdown",
   "metadata": {},
   "source": [
    "### 7. Update each wine's description by adding at the end of each description the following piece of text (1 point):\n",
    "\n",
    "\"This is a {designation} from {country} that scored {points} points\""
   ]
  },
  {
   "cell_type": "code",
   "execution_count": 24,
   "metadata": {
    "ExecuteTime": {
     "end_time": "2023-06-30T21:00:00.427561800Z",
     "start_time": "2023-06-30T21:00:00.285574500Z"
    }
   },
   "outputs": [
    {
     "data": {
      "text/plain": "[{'points': '87',\n  'title': 'Nicosia 2013 Vulkà Bianco  (Etna)',\n  'description': \"Aromas include tropical fruit, broom, brimstone and dried herb. The palate isn't overly expressive, offering unripened apple, citrus and dried sage alongside brisk acidity. This is a Vulkà Bianco from Italy that scored 87 points This is a Vulkà Bianco from Italy that scored 87 points This is a Vulkà Bianco from Italy that scored 87 points\",\n  'taster_name': 'Kerin O’Keefe',\n  'taster_twitter_handle': '@kerinokeefe',\n  'price': None,\n  'designation': 'Vulkà Bianco',\n  'variety': 'White Blend',\n  'region_1': 'Etna',\n  'region_2': None,\n  'province': 'Sicily & Sardinia',\n  'country': 'Italy',\n  'winery': 'Nicosia'},\n {'points': '87',\n  'title': 'Quinta dos Avidagos 2011 Avidagos Red (Douro)',\n  'description': \"This is ripe and fruity, a wine that is smooth while still structured. Firm tannins are filled out with juicy red berry fruits and freshened with acidity. It's  already drinkable, although it will certainly be better from 2016. This is a Avidagos from Portugal that scored 87 points This is a Avidagos from Portugal that scored 87 points This is a Avidagos from Portugal that scored 87 points\",\n  'taster_name': 'Roger Voss',\n  'taster_twitter_handle': '@vossroger',\n  'price': 15,\n  'designation': 'Avidagos',\n  'variety': 'Portuguese Red',\n  'region_1': None,\n  'region_2': None,\n  'province': 'Douro',\n  'country': 'Portugal',\n  'winery': 'Quinta dos Avidagos'},\n {'points': '87',\n  'title': 'Rainstorm 2013 Pinot Gris (Willamette Valley)',\n  'description': 'Tart and snappy, the flavors of lime flesh and rind dominate. Some green pineapple pokes through, with crisp acidity underscoring the flavors. The wine was all stainless-steel fermented. This is a None from US that scored 87 points This is a None from US that scored 87 points This is a None from US that scored 87 points',\n  'taster_name': 'Paul Gregutt',\n  'taster_twitter_handle': '@paulgwine\\xa0',\n  'price': 14,\n  'designation': None,\n  'variety': 'Pinot Gris',\n  'region_1': 'Willamette Valley',\n  'region_2': 'Willamette Valley',\n  'province': 'Oregon',\n  'country': 'US',\n  'winery': 'Rainstorm'},\n {'points': '87',\n  'title': 'St. Julian 2013 Reserve Late Harvest Riesling (Lake Michigan Shore)',\n  'description': 'Pineapple rind, lemon pith and orange blossom start off the aromas. The palate is a bit more opulent, with notes of honey-drizzled guava and mango giving way to a slightly astringent, semidry finish. This is a Reserve Late Harvest from US that scored 87 points This is a Reserve Late Harvest from US that scored 87 points This is a Reserve Late Harvest from US that scored 87 points',\n  'taster_name': 'Alexander Peartree',\n  'taster_twitter_handle': None,\n  'price': 13,\n  'designation': 'Reserve Late Harvest',\n  'variety': 'Riesling',\n  'region_1': 'Lake Michigan Shore',\n  'region_2': None,\n  'province': 'Michigan',\n  'country': 'US',\n  'winery': 'St. Julian'},\n {'points': '87',\n  'title': \"Sweet Cheeks 2012 Vintner's Reserve Wild Child Block Pinot Noir (Willamette Valley)\",\n  'description': \"Much like the regular bottling from 2012, this comes across as rather rough and tannic, with rustic, earthy, herbal characteristics. Nonetheless, if you think of it as a pleasantly unfussy country wine, it's a good companion to a hearty winter stew. This is a Vintner's Reserve Wild Child Block from US that scored 87 points This is a Vintner's Reserve Wild Child Block from US that scored 87 points This is a Vintner's Reserve Wild Child Block from US that scored 87 points\",\n  'taster_name': 'Paul Gregutt',\n  'taster_twitter_handle': '@paulgwine\\xa0',\n  'price': 65,\n  'designation': \"Vintner's Reserve Wild Child Block\",\n  'variety': 'Pinot Noir',\n  'region_1': 'Willamette Valley',\n  'region_2': 'Willamette Valley',\n  'province': 'Oregon',\n  'country': 'US',\n  'winery': 'Sweet Cheeks'},\n {'points': '87',\n  'title': 'Tandem 2011 Ars In Vitro Tempranillo-Merlot (Navarra)',\n  'description': 'Blackberry and raspberry aromas show a typical Navarran whiff of green herbs and, in this case, horseradish. In the mouth, this is fairly full bodied, with tomatoey acidity. Spicy, herbal flavors complement dark plum fruit, while the finish is fresh but grabby. This is a Ars In Vitro from Spain that scored 87 points This is a Ars In Vitro from Spain that scored 87 points This is a Ars In Vitro from Spain that scored 87 points',\n  'taster_name': 'Michael Schachner',\n  'taster_twitter_handle': '@wineschach',\n  'price': 15,\n  'designation': 'Ars In Vitro',\n  'variety': 'Tempranillo-Merlot',\n  'region_1': 'Navarra',\n  'region_2': None,\n  'province': 'Northern Spain',\n  'country': 'Spain',\n  'winery': 'Tandem'},\n {'points': '87',\n  'title': 'Terre di Giurfo 2013 Belsito Frappato (Vittoria)',\n  'description': \"Here's a bright, informal red that opens with aromas of candied berry, white pepper and savory herb that carry over to the palate. It's balanced with fresh acidity and soft tannins. This is a Belsito from Italy that scored 87 points This is a Belsito from Italy that scored 87 points This is a Belsito from Italy that scored 87 points\",\n  'taster_name': 'Kerin O’Keefe',\n  'taster_twitter_handle': '@kerinokeefe',\n  'price': 16,\n  'designation': 'Belsito',\n  'variety': 'Frappato',\n  'region_1': 'Vittoria',\n  'region_2': None,\n  'province': 'Sicily & Sardinia',\n  'country': 'Italy',\n  'winery': 'Terre di Giurfo'},\n {'points': '87',\n  'title': 'Trimbach 2012 Gewurztraminer (Alsace)',\n  'description': \"This dry and restrained wine offers spice in profusion. Balanced with acidity and a firm texture, it's very much for food. This is a None from France that scored 87 points This is a None from France that scored 87 points This is a None from France that scored 87 points\",\n  'taster_name': 'Roger Voss',\n  'taster_twitter_handle': '@vossroger',\n  'price': 24,\n  'designation': None,\n  'variety': 'Gewürztraminer',\n  'region_1': 'Alsace',\n  'region_2': None,\n  'province': 'Alsace',\n  'country': 'France',\n  'winery': 'Trimbach'},\n {'points': '87',\n  'title': 'Heinz Eifel 2013 Shine Gewürztraminer (Rheinhessen)',\n  'description': \"Savory dried thyme notes accent sunnier flavors of preserved peach in this brisk, off-dry wine. It's fruity and fresh, with an elegant, sprightly footprint. This is a Shine from Germany that scored 87 points This is a Shine from Germany that scored 87 points This is a Shine from Germany that scored 87 points\",\n  'taster_name': 'Anna Lee C. Iijima',\n  'taster_twitter_handle': None,\n  'price': 12,\n  'designation': 'Shine',\n  'variety': 'Gewürztraminer',\n  'region_1': None,\n  'region_2': None,\n  'province': 'Rheinhessen',\n  'country': 'Germany',\n  'winery': 'Heinz Eifel'},\n {'points': '87',\n  'title': 'Jean-Baptiste Adam 2012 Les Natures Pinot Gris (Alsace)',\n  'description': \"This has great depth of flavor with its fresh apple and pear fruits and touch of spice. It's off dry while balanced with acidity and a crisp texture. Drink now. This is a Les Natures from France that scored 87 points This is a Les Natures from France that scored 87 points This is a Les Natures from France that scored 87 points\",\n  'taster_name': 'Roger Voss',\n  'taster_twitter_handle': '@vossroger',\n  'price': 27,\n  'designation': 'Les Natures',\n  'variety': 'Pinot Gris',\n  'region_1': 'Alsace',\n  'region_2': None,\n  'province': 'Alsace',\n  'country': 'France',\n  'winery': 'Jean-Baptiste Adam'}]"
     },
     "execution_count": 24,
     "metadata": {},
     "output_type": "execute_result"
    }
   ],
   "source": [
    "for item in data:\n",
    "    item['description'] = item['description'] + f\" This is a {item['designation']} from {item['country']} that scored {item['points']} points\"\n",
    "\n",
    "data[0:10]"
   ]
  },
  {
   "attachments": {},
   "cell_type": "markdown",
   "metadata": {},
   "source": [
    "### 8. What's the proportion of wine tasters that have a Twitter account? (1 point)"
   ]
  },
  {
   "cell_type": "code",
   "execution_count": 12,
   "metadata": {
    "ExecuteTime": {
     "end_time": "2023-06-30T20:29:37.991378200Z",
     "start_time": "2023-06-30T20:29:37.921010Z"
    }
   },
   "outputs": [
    {
     "name": "stdout",
     "output_type": "stream",
     "text": [
      "The proportion of wine taster that have a Twitter account is: 0.76\n"
     ]
    }
   ],
   "source": [
    "twitter = df[~df['taster_twitter_handle'].isnull()].shape[0]\n",
    "print(f'The proportion of wine taster that have a Twitter account is: {round(twitter / df.shape[0], 2)}')"
   ]
  }
 ],
 "metadata": {
  "kernelspec": {
   "name": "python3",
   "language": "python",
   "display_name": "Python 3 (ipykernel)"
  },
  "language_info": {
   "codemirror_mode": {
    "name": "ipython",
    "version": 3
   },
   "file_extension": ".py",
   "mimetype": "text/x-python",
   "name": "python",
   "nbconvert_exporter": "python",
   "pygments_lexer": "ipython3",
   "version": "3.8.12"
  }
 },
 "nbformat": 4,
 "nbformat_minor": 4
}
