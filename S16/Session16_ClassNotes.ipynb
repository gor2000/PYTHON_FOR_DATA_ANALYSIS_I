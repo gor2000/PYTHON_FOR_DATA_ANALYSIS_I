{
 "cells": [
  {
   "attachments": {},
   "cell_type": "markdown",
   "id": "d8dbf60f-a775-4102-a87a-542afc0e5da2",
   "metadata": {},
   "source": [
    "# Session 18: Handling duplicates, missing data, interpolation and filling strategies"
   ]
  },
  {
   "attachments": {},
   "cell_type": "markdown",
   "id": "639adbb3",
   "metadata": {},
   "source": [
    "## Handling duplicates\n",
    "\n",
    "With real life data we will face duplicates in our tabular data quite often. Maybe it was an error of the data input, a wrong join operation or just a coincidence. In any case we need to handle them.\n",
    "\n",
    "### Detecting duplicates\n",
    "\n",
    "In pandas, we can use the `duplicated()` method to detect duplicates. It returns a boolean Series where True indicates a duplicate.\n",
    "\n",
    "```python\n",
    "df.duplicated()\n",
    "```"
   ]
  },
  {
   "cell_type": "code",
   "execution_count": 6,
   "id": "3f531724",
   "metadata": {
    "ExecuteTime": {
     "end_time": "2023-06-30T12:52:15.163185Z",
     "start_time": "2023-06-30T12:52:15.151998Z"
    }
   },
   "outputs": [
    {
     "data": {
      "text/plain": "   A  B  C\n0  1  2  1\n1  1  2  1\n2  2  2  2\n3  2  2  2\n4  3  4  3\n5  3  4  3",
      "text/html": "<div>\n<style scoped>\n    .dataframe tbody tr th:only-of-type {\n        vertical-align: middle;\n    }\n\n    .dataframe tbody tr th {\n        vertical-align: top;\n    }\n\n    .dataframe thead th {\n        text-align: right;\n    }\n</style>\n<table border=\"1\" class=\"dataframe\">\n  <thead>\n    <tr style=\"text-align: right;\">\n      <th></th>\n      <th>A</th>\n      <th>B</th>\n      <th>C</th>\n    </tr>\n  </thead>\n  <tbody>\n    <tr>\n      <th>0</th>\n      <td>1</td>\n      <td>2</td>\n      <td>1</td>\n    </tr>\n    <tr>\n      <th>1</th>\n      <td>1</td>\n      <td>2</td>\n      <td>1</td>\n    </tr>\n    <tr>\n      <th>2</th>\n      <td>2</td>\n      <td>2</td>\n      <td>2</td>\n    </tr>\n    <tr>\n      <th>3</th>\n      <td>2</td>\n      <td>2</td>\n      <td>2</td>\n    </tr>\n    <tr>\n      <th>4</th>\n      <td>3</td>\n      <td>4</td>\n      <td>3</td>\n    </tr>\n    <tr>\n      <th>5</th>\n      <td>3</td>\n      <td>4</td>\n      <td>3</td>\n    </tr>\n  </tbody>\n</table>\n</div>"
     },
     "execution_count": 6,
     "metadata": {},
     "output_type": "execute_result"
    }
   ],
   "source": [
    "import pandas as pd\n",
    "import numpy as np\n",
    "\n",
    "# build dataframe with duplicates across columns\n",
    "df = pd.DataFrame({\n",
    "    'A': [1, 1, 2, 2, 3, 3],\n",
    "    'B': [2, 2, 2, 2, 4, 4],\n",
    "    'C': [1, 1, 2, 2, 3, 3],\n",
    "})\n",
    "\n",
    "df"
   ]
  },
  {
   "cell_type": "code",
   "execution_count": 7,
   "id": "d4164352",
   "metadata": {
    "ExecuteTime": {
     "end_time": "2023-06-30T12:52:17.130514Z",
     "start_time": "2023-06-30T12:52:17.117713Z"
    }
   },
   "outputs": [
    {
     "data": {
      "text/plain": "0    False\n1     True\n2    False\n3     True\n4    False\n5     True\ndtype: bool"
     },
     "execution_count": 7,
     "metadata": {},
     "output_type": "execute_result"
    }
   ],
   "source": [
    "df.duplicated()"
   ]
  },
  {
   "attachments": {},
   "cell_type": "markdown",
   "id": "9b91dc5d",
   "metadata": {},
   "source": [
    "By default, the first occurrence of the duplicate is marked as False and all following ones as True. We can change this behavior by passing the `keep` parameter. If we set it to `first`, the first occurrence is marked as False, if we set it to `last`, the last occurrence is marked as False and if we set it to `False`, all occurrences are marked as True.\n",
    "\n",
    "```python\n",
    "df.duplicated(keep='first')\n",
    "```"
   ]
  },
  {
   "cell_type": "code",
   "execution_count": 8,
   "id": "3518c51b",
   "metadata": {
    "ExecuteTime": {
     "end_time": "2023-06-30T12:52:18.666140Z",
     "start_time": "2023-06-30T12:52:18.649179Z"
    }
   },
   "outputs": [
    {
     "data": {
      "text/plain": "0     True\n1    False\n2     True\n3    False\n4     True\n5    False\ndtype: bool"
     },
     "execution_count": 8,
     "metadata": {},
     "output_type": "execute_result"
    }
   ],
   "source": [
    "df.duplicated(keep=\"last\")"
   ]
  },
  {
   "cell_type": "code",
   "execution_count": 5,
   "id": "a7a80b43",
   "metadata": {
    "ExecuteTime": {
     "end_time": "2023-06-30T12:39:27.735678Z",
     "start_time": "2023-06-30T12:39:27.723712Z"
    }
   },
   "outputs": [
    {
     "data": {
      "text/plain": "0    True\n1    True\n2    True\n3    True\n4    True\n5    True\ndtype: bool"
     },
     "execution_count": 5,
     "metadata": {},
     "output_type": "execute_result"
    }
   ],
   "source": [
    "df.duplicated(keep=False)"
   ]
  },
  {
   "attachments": {},
   "cell_type": "markdown",
   "id": "9f5a8a45",
   "metadata": {},
   "source": [
    "### Dropping duplicates"
   ]
  },
  {
   "attachments": {},
   "cell_type": "markdown",
   "id": "c33cd017",
   "metadata": {},
   "source": [
    "If we don't specify, `duplicated()` will search across ALL columns. If want to find duplicates only in a subset of columns, we can pass a list of column names to the `subset` parameter.\n",
    "\n",
    "```python\n",
    "df.duplicated(subset=['col1', 'col2'])\n",
    "```"
   ]
  },
  {
   "cell_type": "code",
   "execution_count": 7,
   "id": "d9007052",
   "metadata": {
    "ExecuteTime": {
     "end_time": "2023-06-30T12:39:45.240081Z",
     "start_time": "2023-06-30T12:39:45.223334Z"
    }
   },
   "outputs": [
    {
     "data": {
      "text/plain": "0    False\n1     True\n2    False\n3     True\n4    False\n5     True\ndtype: bool"
     },
     "execution_count": 7,
     "metadata": {},
     "output_type": "execute_result"
    }
   ],
   "source": [
    "df.duplicated(subset=[\"A\", \"C\"])"
   ]
  },
  {
   "attachments": {},
   "cell_type": "markdown",
   "id": "dd2a55e6",
   "metadata": {},
   "source": [
    "And now, how can we get the actual duplicate rows? We can use the `loc` indexer and pass the boolean Series returned by `duplicated()`.\n",
    "\n",
    "```python\n",
    "df.loc[df.duplicated()]\n",
    "```\n",
    "\n",
    "Remember that what is a duplicate will be based on the `keep` parameter."
   ]
  },
  {
   "cell_type": "code",
   "execution_count": 8,
   "id": "4c2ff3f2",
   "metadata": {
    "ExecuteTime": {
     "end_time": "2023-06-30T12:39:59.853280Z",
     "start_time": "2023-06-30T12:39:59.823778Z"
    }
   },
   "outputs": [
    {
     "data": {
      "text/plain": "   A  B  C\n1  1  2  1\n3  2  2  2\n5  3  4  3",
      "text/html": "<div>\n<style scoped>\n    .dataframe tbody tr th:only-of-type {\n        vertical-align: middle;\n    }\n\n    .dataframe tbody tr th {\n        vertical-align: top;\n    }\n\n    .dataframe thead th {\n        text-align: right;\n    }\n</style>\n<table border=\"1\" class=\"dataframe\">\n  <thead>\n    <tr style=\"text-align: right;\">\n      <th></th>\n      <th>A</th>\n      <th>B</th>\n      <th>C</th>\n    </tr>\n  </thead>\n  <tbody>\n    <tr>\n      <th>1</th>\n      <td>1</td>\n      <td>2</td>\n      <td>1</td>\n    </tr>\n    <tr>\n      <th>3</th>\n      <td>2</td>\n      <td>2</td>\n      <td>2</td>\n    </tr>\n    <tr>\n      <th>5</th>\n      <td>3</td>\n      <td>4</td>\n      <td>3</td>\n    </tr>\n  </tbody>\n</table>\n</div>"
     },
     "execution_count": 8,
     "metadata": {},
     "output_type": "execute_result"
    }
   ],
   "source": [
    "df.loc[df.duplicated()] # keeping the duplicates"
   ]
  },
  {
   "cell_type": "code",
   "execution_count": 9,
   "id": "c096df67",
   "metadata": {
    "ExecuteTime": {
     "end_time": "2023-06-30T12:40:11.912334Z",
     "start_time": "2023-06-30T12:40:11.905059Z"
    }
   },
   "outputs": [
    {
     "data": {
      "text/plain": "   A  B  C\n0  1  2  1\n2  2  2  2\n4  3  4  3",
      "text/html": "<div>\n<style scoped>\n    .dataframe tbody tr th:only-of-type {\n        vertical-align: middle;\n    }\n\n    .dataframe tbody tr th {\n        vertical-align: top;\n    }\n\n    .dataframe thead th {\n        text-align: right;\n    }\n</style>\n<table border=\"1\" class=\"dataframe\">\n  <thead>\n    <tr style=\"text-align: right;\">\n      <th></th>\n      <th>A</th>\n      <th>B</th>\n      <th>C</th>\n    </tr>\n  </thead>\n  <tbody>\n    <tr>\n      <th>0</th>\n      <td>1</td>\n      <td>2</td>\n      <td>1</td>\n    </tr>\n    <tr>\n      <th>2</th>\n      <td>2</td>\n      <td>2</td>\n      <td>2</td>\n    </tr>\n    <tr>\n      <th>4</th>\n      <td>3</td>\n      <td>4</td>\n      <td>3</td>\n    </tr>\n  </tbody>\n</table>\n</div>"
     },
     "execution_count": 9,
     "metadata": {},
     "output_type": "execute_result"
    }
   ],
   "source": [
    "df.loc[~df.duplicated()] # removing the duplicates"
   ]
  },
  {
   "attachments": {},
   "cell_type": "markdown",
   "id": "defa11c2-ff49-4c8b-9497-e6f38a3c57b1",
   "metadata": {},
   "source": [
    "## Missing data\n",
    "\n",
    "When dealing with `pandas` object's methods, we found `df.isna()` and `df.isnull()`. These two methods perform the same task, even in the documentation it's described as such. \n",
    "\n",
    "`pandas` converts both `None` and `np.isnan` into the same thing: `NaN`. It's this object that `isna` and `isnull` detect.\n",
    "\n",
    "Let's create a DF to compare the methods."
   ]
  },
  {
   "cell_type": "code",
   "execution_count": 9,
   "id": "bddf6048-53b1-4da0-9ca3-272f22152af0",
   "metadata": {
    "ExecuteTime": {
     "end_time": "2023-06-30T12:52:23.748214Z",
     "start_time": "2023-06-30T12:52:23.736808Z"
    }
   },
   "outputs": [
    {
     "data": {
      "text/plain": "bool"
     },
     "execution_count": 9,
     "metadata": {},
     "output_type": "execute_result"
    }
   ],
   "source": [
    "import numpy as np\n",
    "import pandas as pd\n",
    "\n",
    "df = pd.DataFrame({\n",
    "    \"A\": [1, 2, 3, None],\n",
    "    \"B\": [\"x\", \"y\", np.nan, \"z\"],\n",
    "    \"C\": [True, True, False, None]\n",
    "})\n",
    "\n",
    "type(df[\"C\"].values[1])"
   ]
  },
  {
   "cell_type": "code",
   "execution_count": 10,
   "id": "eea9200a-b7d7-4ee9-a86c-a333eebfaf27",
   "metadata": {
    "ExecuteTime": {
     "end_time": "2023-06-30T12:52:28.173935Z",
     "start_time": "2023-06-30T12:52:28.165551Z"
    }
   },
   "outputs": [
    {
     "data": {
      "text/plain": "       A      B      C\n0  False  False  False\n1  False  False  False\n2  False   True  False\n3   True  False   True",
      "text/html": "<div>\n<style scoped>\n    .dataframe tbody tr th:only-of-type {\n        vertical-align: middle;\n    }\n\n    .dataframe tbody tr th {\n        vertical-align: top;\n    }\n\n    .dataframe thead th {\n        text-align: right;\n    }\n</style>\n<table border=\"1\" class=\"dataframe\">\n  <thead>\n    <tr style=\"text-align: right;\">\n      <th></th>\n      <th>A</th>\n      <th>B</th>\n      <th>C</th>\n    </tr>\n  </thead>\n  <tbody>\n    <tr>\n      <th>0</th>\n      <td>False</td>\n      <td>False</td>\n      <td>False</td>\n    </tr>\n    <tr>\n      <th>1</th>\n      <td>False</td>\n      <td>False</td>\n      <td>False</td>\n    </tr>\n    <tr>\n      <th>2</th>\n      <td>False</td>\n      <td>True</td>\n      <td>False</td>\n    </tr>\n    <tr>\n      <th>3</th>\n      <td>True</td>\n      <td>False</td>\n      <td>True</td>\n    </tr>\n  </tbody>\n</table>\n</div>"
     },
     "execution_count": 10,
     "metadata": {},
     "output_type": "execute_result"
    }
   ],
   "source": [
    "# the behavior is the same, because of the under-the-hood conversion from pandas\n",
    "df.isna()# == df.isnull()\n",
    "\n",
    "df.isnull()"
   ]
  },
  {
   "cell_type": "code",
   "execution_count": 11,
   "id": "e45e3f6d-321f-462c-a58b-86a5705b205f",
   "metadata": {
    "ExecuteTime": {
     "end_time": "2023-06-30T12:52:48.226591Z",
     "start_time": "2023-06-30T12:52:48.202081Z"
    }
   },
   "outputs": [
    {
     "data": {
      "text/plain": "    A    B     C\n0 NaN  NaN   NaN\n1 NaN  NaN   NaN\n2 NaN  NaN   NaN\n3 NaN  NaN  None",
      "text/html": "<div>\n<style scoped>\n    .dataframe tbody tr th:only-of-type {\n        vertical-align: middle;\n    }\n\n    .dataframe tbody tr th {\n        vertical-align: top;\n    }\n\n    .dataframe thead th {\n        text-align: right;\n    }\n</style>\n<table border=\"1\" class=\"dataframe\">\n  <thead>\n    <tr style=\"text-align: right;\">\n      <th></th>\n      <th>A</th>\n      <th>B</th>\n      <th>C</th>\n    </tr>\n  </thead>\n  <tbody>\n    <tr>\n      <th>0</th>\n      <td>NaN</td>\n      <td>NaN</td>\n      <td>NaN</td>\n    </tr>\n    <tr>\n      <th>1</th>\n      <td>NaN</td>\n      <td>NaN</td>\n      <td>NaN</td>\n    </tr>\n    <tr>\n      <th>2</th>\n      <td>NaN</td>\n      <td>NaN</td>\n      <td>NaN</td>\n    </tr>\n    <tr>\n      <th>3</th>\n      <td>NaN</td>\n      <td>NaN</td>\n      <td>None</td>\n    </tr>\n  </tbody>\n</table>\n</div>"
     },
     "execution_count": 11,
     "metadata": {},
     "output_type": "execute_result"
    }
   ],
   "source": [
    "df[df.isna()]"
   ]
  },
  {
   "cell_type": "code",
   "execution_count": 12,
   "id": "ecfe752a-1d00-45d3-aa5b-b9ec4bafdf37",
   "metadata": {
    "ExecuteTime": {
     "end_time": "2023-06-30T12:52:51.256992Z",
     "start_time": "2023-06-30T12:52:51.228910Z"
    }
   },
   "outputs": [
    {
     "data": {
      "text/plain": "A    0.25\nB    0.25\nC    0.25\ndtype: float64"
     },
     "execution_count": 12,
     "metadata": {},
     "output_type": "execute_result"
    }
   ],
   "source": [
    "df.isna().mean()"
   ]
  },
  {
   "attachments": {},
   "cell_type": "markdown",
   "id": "a36cd0c7-0a1b-40bb-acc1-e86d06b226d9",
   "metadata": {},
   "source": [
    "## Handling `NaN`\n",
    "\n",
    "Let's think of a `pd.DataFrame` with _n_ rows and _m_ columns\n",
    "\n",
    "`df.isna()` returns a _mask_ consisting of a matrix of _m_ rows and _n_ columns filled with `True` and `False`:\n",
    "* True represents a position in which there's a `None` or `NaN`\n",
    "* False represents a position without `None` or `NaN`\n"
   ]
  },
  {
   "cell_type": "code",
   "execution_count": 13,
   "id": "2dce8125-dda7-4c8e-a512-dce6809f6c02",
   "metadata": {
    "ExecuteTime": {
     "end_time": "2023-06-30T12:53:00.711373Z",
     "start_time": "2023-06-30T12:53:00.704200Z"
    }
   },
   "outputs": [
    {
     "data": {
      "text/plain": "A    0.25\nB    0.25\nC    0.25\ndtype: float64"
     },
     "execution_count": 13,
     "metadata": {},
     "output_type": "execute_result"
    }
   ],
   "source": [
    "# checking NaN per column: \n",
    "\n",
    "df.isna().mean()"
   ]
  },
  {
   "cell_type": "code",
   "execution_count": 5,
   "id": "9b269fa8-19ee-4e22-8a01-e2aa9715a4fb",
   "metadata": {},
   "outputs": [
    {
     "data": {
      "text/plain": [
       "0.25"
      ]
     },
     "execution_count": 5,
     "metadata": {},
     "output_type": "execute_result"
    }
   ],
   "source": [
    "# NaN in the whole dataset \n",
    "df.isna().mean().mean()"
   ]
  },
  {
   "cell_type": "code",
   "execution_count": 6,
   "id": "fa2fb6c5-37aa-4242-975a-34974a070fb8",
   "metadata": {},
   "outputs": [
    {
     "data": {
      "text/html": [
       "<div>\n",
       "<style scoped>\n",
       "    .dataframe tbody tr th:only-of-type {\n",
       "        vertical-align: middle;\n",
       "    }\n",
       "\n",
       "    .dataframe tbody tr th {\n",
       "        vertical-align: top;\n",
       "    }\n",
       "\n",
       "    .dataframe thead th {\n",
       "        text-align: right;\n",
       "    }\n",
       "</style>\n",
       "<table border=\"1\" class=\"dataframe\">\n",
       "  <thead>\n",
       "    <tr style=\"text-align: right;\">\n",
       "      <th></th>\n",
       "      <th>A</th>\n",
       "      <th>B</th>\n",
       "      <th>C</th>\n",
       "    </tr>\n",
       "  </thead>\n",
       "  <tbody>\n",
       "    <tr>\n",
       "      <th>0</th>\n",
       "      <td>1.0</td>\n",
       "      <td>x</td>\n",
       "      <td>True</td>\n",
       "    </tr>\n",
       "    <tr>\n",
       "      <th>1</th>\n",
       "      <td>2.0</td>\n",
       "      <td>y</td>\n",
       "      <td>True</td>\n",
       "    </tr>\n",
       "    <tr>\n",
       "      <th>2</th>\n",
       "      <td>3.0</td>\n",
       "      <td>NaN</td>\n",
       "      <td>False</td>\n",
       "    </tr>\n",
       "    <tr>\n",
       "      <th>3</th>\n",
       "      <td>NaN</td>\n",
       "      <td>z</td>\n",
       "      <td>None</td>\n",
       "    </tr>\n",
       "  </tbody>\n",
       "</table>\n",
       "</div>"
      ],
      "text/plain": [
       "     A    B      C\n",
       "0  1.0    x   True\n",
       "1  2.0    y   True\n",
       "2  3.0  NaN  False\n",
       "3  NaN    z   None"
      ]
     },
     "execution_count": 6,
     "metadata": {},
     "output_type": "execute_result"
    }
   ],
   "source": [
    "df"
   ]
  },
  {
   "cell_type": "code",
   "execution_count": 7,
   "id": "1f9d81fa-94be-43a2-ab8c-249537fd4606",
   "metadata": {},
   "outputs": [
    {
     "data": {
      "text/plain": [
       "0    False\n",
       "1    False\n",
       "2    False\n",
       "3     True\n",
       "Name: A, dtype: bool"
      ]
     },
     "execution_count": 7,
     "metadata": {},
     "output_type": "execute_result"
    }
   ],
   "source": [
    "df[\"A\"].isna()"
   ]
  },
  {
   "attachments": {},
   "cell_type": "markdown",
   "id": "87c28a97-02fa-4e2d-9a79-cd8e277b80dd",
   "metadata": {},
   "source": [
    "### In pandas, the logical operators are different than Python\n",
    "\n",
    "* `not` is `~`\n",
    "* `and` is `&`\n",
    "* `or` is `|`"
   ]
  },
  {
   "cell_type": "code",
   "execution_count": 15,
   "id": "d8308e0f-426b-4b18-8d25-5fbcd893a23a",
   "metadata": {},
   "outputs": [
    {
     "data": {
      "text/html": [
       "<div>\n",
       "<style scoped>\n",
       "    .dataframe tbody tr th:only-of-type {\n",
       "        vertical-align: middle;\n",
       "    }\n",
       "\n",
       "    .dataframe tbody tr th {\n",
       "        vertical-align: top;\n",
       "    }\n",
       "\n",
       "    .dataframe thead th {\n",
       "        text-align: right;\n",
       "    }\n",
       "</style>\n",
       "<table border=\"1\" class=\"dataframe\">\n",
       "  <thead>\n",
       "    <tr style=\"text-align: right;\">\n",
       "      <th></th>\n",
       "      <th>A</th>\n",
       "      <th>B</th>\n",
       "      <th>C</th>\n",
       "    </tr>\n",
       "  </thead>\n",
       "  <tbody>\n",
       "    <tr>\n",
       "      <th>0</th>\n",
       "      <td>1.0</td>\n",
       "      <td>x</td>\n",
       "      <td>1</td>\n",
       "    </tr>\n",
       "    <tr>\n",
       "      <th>1</th>\n",
       "      <td>2.0</td>\n",
       "      <td>y</td>\n",
       "      <td>True</td>\n",
       "    </tr>\n",
       "  </tbody>\n",
       "</table>\n",
       "</div>"
      ],
      "text/plain": [
       "     A  B     C\n",
       "0  1.0  x     1\n",
       "1  2.0  y  True"
      ]
     },
     "execution_count": 15,
     "metadata": {},
     "output_type": "execute_result"
    }
   ],
   "source": [
    "# filtering a series with Nan:\n",
    "# only NaN values\n",
    "\n",
    "df[\n",
    "    (~df[\"B\"].isna())\n",
    "    & (df[\"C\"]==1)\n",
    "]"
   ]
  },
  {
   "cell_type": "code",
   "execution_count": 10,
   "id": "aaaddf61-c2b7-4d1c-8abe-7bb377d5afde",
   "metadata": {},
   "outputs": [
    {
     "data": {
      "text/html": [
       "<div>\n",
       "<style scoped>\n",
       "    .dataframe tbody tr th:only-of-type {\n",
       "        vertical-align: middle;\n",
       "    }\n",
       "\n",
       "    .dataframe tbody tr th {\n",
       "        vertical-align: top;\n",
       "    }\n",
       "\n",
       "    .dataframe thead th {\n",
       "        text-align: right;\n",
       "    }\n",
       "</style>\n",
       "<table border=\"1\" class=\"dataframe\">\n",
       "  <thead>\n",
       "    <tr style=\"text-align: right;\">\n",
       "      <th></th>\n",
       "      <th>A</th>\n",
       "      <th>B</th>\n",
       "      <th>C</th>\n",
       "    </tr>\n",
       "  </thead>\n",
       "  <tbody>\n",
       "    <tr>\n",
       "      <th>0</th>\n",
       "      <td>1.0</td>\n",
       "      <td>x</td>\n",
       "      <td>True</td>\n",
       "    </tr>\n",
       "    <tr>\n",
       "      <th>1</th>\n",
       "      <td>2.0</td>\n",
       "      <td>y</td>\n",
       "      <td>True</td>\n",
       "    </tr>\n",
       "    <tr>\n",
       "      <th>2</th>\n",
       "      <td>3.0</td>\n",
       "      <td>NaN</td>\n",
       "      <td>False</td>\n",
       "    </tr>\n",
       "  </tbody>\n",
       "</table>\n",
       "</div>"
      ],
      "text/plain": [
       "     A    B      C\n",
       "0  1.0    x   True\n",
       "1  2.0    y   True\n",
       "2  3.0  NaN  False"
      ]
     },
     "execution_count": 10,
     "metadata": {},
     "output_type": "execute_result"
    }
   ],
   "source": [
    "# filtering a series with Nan:\n",
    "# excluding NaN values\n",
    "\n",
    "df[~df[\"A\"].isna()] # with not"
   ]
  },
  {
   "cell_type": "code",
   "execution_count": 11,
   "id": "b4111ff5-48a4-4793-a028-2a7a28640b2c",
   "metadata": {},
   "outputs": [
    {
     "data": {
      "text/html": [
       "<div>\n",
       "<style scoped>\n",
       "    .dataframe tbody tr th:only-of-type {\n",
       "        vertical-align: middle;\n",
       "    }\n",
       "\n",
       "    .dataframe tbody tr th {\n",
       "        vertical-align: top;\n",
       "    }\n",
       "\n",
       "    .dataframe thead th {\n",
       "        text-align: right;\n",
       "    }\n",
       "</style>\n",
       "<table border=\"1\" class=\"dataframe\">\n",
       "  <thead>\n",
       "    <tr style=\"text-align: right;\">\n",
       "      <th></th>\n",
       "      <th>A</th>\n",
       "      <th>B</th>\n",
       "      <th>C</th>\n",
       "    </tr>\n",
       "  </thead>\n",
       "  <tbody>\n",
       "    <tr>\n",
       "      <th>0</th>\n",
       "      <td>True</td>\n",
       "      <td>True</td>\n",
       "      <td>True</td>\n",
       "    </tr>\n",
       "    <tr>\n",
       "      <th>1</th>\n",
       "      <td>True</td>\n",
       "      <td>True</td>\n",
       "      <td>True</td>\n",
       "    </tr>\n",
       "    <tr>\n",
       "      <th>2</th>\n",
       "      <td>True</td>\n",
       "      <td>False</td>\n",
       "      <td>True</td>\n",
       "    </tr>\n",
       "    <tr>\n",
       "      <th>3</th>\n",
       "      <td>False</td>\n",
       "      <td>True</td>\n",
       "      <td>False</td>\n",
       "    </tr>\n",
       "  </tbody>\n",
       "</table>\n",
       "</div>"
      ],
      "text/plain": [
       "       A      B      C\n",
       "0   True   True   True\n",
       "1   True   True   True\n",
       "2   True  False   True\n",
       "3  False   True  False"
      ]
     },
     "execution_count": 11,
     "metadata": {},
     "output_type": "execute_result"
    }
   ],
   "source": [
    "# the opposite of `pd.isna()` is `pd.notna()`\n",
    "df.notna()"
   ]
  },
  {
   "attachments": {},
   "cell_type": "markdown",
   "id": "ae450f43-9b6f-457e-9f66-618fdb2bae74",
   "metadata": {},
   "source": [
    "### Removing `NaN` values\n",
    "\n",
    "In `pandas` we have the `df.dropna()` method to remove all null values.\n",
    "\n",
    "By default, `pd.dropna()` will remove **all** rows with an NaN.\n",
    "* if we pass the `axis=1` argument, we change the behavior so that it removes columns with NaN"
   ]
  },
  {
   "cell_type": "code",
   "execution_count": 14,
   "id": "9f566b4f-f7e7-47fe-b8a4-28074476f3a2",
   "metadata": {
    "ExecuteTime": {
     "end_time": "2023-06-30T12:43:29.682813Z",
     "start_time": "2023-06-30T12:43:29.672775Z"
    }
   },
   "outputs": [
    {
     "data": {
      "text/plain": "     A  B     C\n0  1.0  x  True\n1  2.0  y  True",
      "text/html": "<div>\n<style scoped>\n    .dataframe tbody tr th:only-of-type {\n        vertical-align: middle;\n    }\n\n    .dataframe tbody tr th {\n        vertical-align: top;\n    }\n\n    .dataframe thead th {\n        text-align: right;\n    }\n</style>\n<table border=\"1\" class=\"dataframe\">\n  <thead>\n    <tr style=\"text-align: right;\">\n      <th></th>\n      <th>A</th>\n      <th>B</th>\n      <th>C</th>\n    </tr>\n  </thead>\n  <tbody>\n    <tr>\n      <th>0</th>\n      <td>1.0</td>\n      <td>x</td>\n      <td>True</td>\n    </tr>\n    <tr>\n      <th>1</th>\n      <td>2.0</td>\n      <td>y</td>\n      <td>True</td>\n    </tr>\n  </tbody>\n</table>\n</div>"
     },
     "execution_count": 14,
     "metadata": {},
     "output_type": "execute_result"
    }
   ],
   "source": [
    "df.dropna(axis=0)"
   ]
  },
  {
   "cell_type": "code",
   "execution_count": 15,
   "id": "f6d6d004-08b1-49f1-b232-a95a59557b44",
   "metadata": {
    "ExecuteTime": {
     "end_time": "2023-06-30T12:43:32.896160Z",
     "start_time": "2023-06-30T12:43:32.886396Z"
    }
   },
   "outputs": [
    {
     "data": {
      "text/plain": "Empty DataFrame\nColumns: []\nIndex: [0, 1, 2, 3]",
      "text/html": "<div>\n<style scoped>\n    .dataframe tbody tr th:only-of-type {\n        vertical-align: middle;\n    }\n\n    .dataframe tbody tr th {\n        vertical-align: top;\n    }\n\n    .dataframe thead th {\n        text-align: right;\n    }\n</style>\n<table border=\"1\" class=\"dataframe\">\n  <thead>\n    <tr style=\"text-align: right;\">\n      <th></th>\n    </tr>\n  </thead>\n  <tbody>\n    <tr>\n      <th>0</th>\n    </tr>\n    <tr>\n      <th>1</th>\n    </tr>\n    <tr>\n      <th>2</th>\n    </tr>\n    <tr>\n      <th>3</th>\n    </tr>\n  </tbody>\n</table>\n</div>"
     },
     "execution_count": 15,
     "metadata": {},
     "output_type": "execute_result"
    }
   ],
   "source": [
    "df.dropna(axis=1)"
   ]
  },
  {
   "cell_type": "code",
   "execution_count": 16,
   "id": "2b029b3f-0709-4c80-b6d5-21f49bfe9417",
   "metadata": {
    "ExecuteTime": {
     "end_time": "2023-06-30T12:43:37.981039Z",
     "start_time": "2023-06-30T12:43:37.966798Z"
    }
   },
   "outputs": [
    {
     "data": {
      "text/plain": "0    1.0\n1    2.0\n2    3.0\nName: A, dtype: float64"
     },
     "execution_count": 16,
     "metadata": {},
     "output_type": "execute_result"
    }
   ],
   "source": [
    "df[\"A\"].dropna()"
   ]
  },
  {
   "attachments": {},
   "cell_type": "markdown",
   "id": "8140f620-7a3d-463a-98bc-39f1c9a839c9",
   "metadata": {},
   "source": [
    "With the argument `how` we can control a bit more this removal of NaN:\n",
    "* `how=\"any\"` if any NaN value is found, that row/column is removed\n",
    "* `how=\"all\"` only if **all** values are NaN, that row/column is removed"
   ]
  },
  {
   "cell_type": "code",
   "execution_count": 25,
   "id": "51efce8a-1052-4950-90ee-6386c64ffa69",
   "metadata": {},
   "outputs": [
    {
     "data": {
      "text/html": [
       "<div>\n",
       "<style scoped>\n",
       "    .dataframe tbody tr th:only-of-type {\n",
       "        vertical-align: middle;\n",
       "    }\n",
       "\n",
       "    .dataframe tbody tr th {\n",
       "        vertical-align: top;\n",
       "    }\n",
       "\n",
       "    .dataframe thead th {\n",
       "        text-align: right;\n",
       "    }\n",
       "</style>\n",
       "<table border=\"1\" class=\"dataframe\">\n",
       "  <thead>\n",
       "    <tr style=\"text-align: right;\">\n",
       "      <th></th>\n",
       "      <th>A</th>\n",
       "      <th>B</th>\n",
       "      <th>C</th>\n",
       "    </tr>\n",
       "  </thead>\n",
       "  <tbody>\n",
       "    <tr>\n",
       "      <th>0</th>\n",
       "      <td>1.0</td>\n",
       "      <td>x</td>\n",
       "      <td>1</td>\n",
       "    </tr>\n",
       "    <tr>\n",
       "      <th>1</th>\n",
       "      <td>2.0</td>\n",
       "      <td>y</td>\n",
       "      <td>True</td>\n",
       "    </tr>\n",
       "  </tbody>\n",
       "</table>\n",
       "</div>"
      ],
      "text/plain": [
       "     A  B     C\n",
       "0  1.0  x     1\n",
       "1  2.0  y  True"
      ]
     },
     "execution_count": 25,
     "metadata": {},
     "output_type": "execute_result"
    }
   ],
   "source": [
    "df.dropna(how=\"any\")"
   ]
  },
  {
   "cell_type": "code",
   "execution_count": 17,
   "id": "8466de3e-6069-49ae-a4e2-52c2d4fd6ba5",
   "metadata": {
    "ExecuteTime": {
     "end_time": "2023-06-30T12:43:43.994970Z",
     "start_time": "2023-06-30T12:43:43.983913Z"
    }
   },
   "outputs": [
    {
     "data": {
      "text/plain": "     A    B      C\n0  1.0    x   True\n1  2.0    y   True\n2  3.0  NaN  False\n3  NaN    z   None",
      "text/html": "<div>\n<style scoped>\n    .dataframe tbody tr th:only-of-type {\n        vertical-align: middle;\n    }\n\n    .dataframe tbody tr th {\n        vertical-align: top;\n    }\n\n    .dataframe thead th {\n        text-align: right;\n    }\n</style>\n<table border=\"1\" class=\"dataframe\">\n  <thead>\n    <tr style=\"text-align: right;\">\n      <th></th>\n      <th>A</th>\n      <th>B</th>\n      <th>C</th>\n    </tr>\n  </thead>\n  <tbody>\n    <tr>\n      <th>0</th>\n      <td>1.0</td>\n      <td>x</td>\n      <td>True</td>\n    </tr>\n    <tr>\n      <th>1</th>\n      <td>2.0</td>\n      <td>y</td>\n      <td>True</td>\n    </tr>\n    <tr>\n      <th>2</th>\n      <td>3.0</td>\n      <td>NaN</td>\n      <td>False</td>\n    </tr>\n    <tr>\n      <th>3</th>\n      <td>NaN</td>\n      <td>z</td>\n      <td>None</td>\n    </tr>\n  </tbody>\n</table>\n</div>"
     },
     "execution_count": 17,
     "metadata": {},
     "output_type": "execute_result"
    }
   ],
   "source": [
    "df.dropna(how=\"all\")"
   ]
  },
  {
   "attachments": {},
   "cell_type": "markdown",
   "id": "b7622232-f67a-4ad1-8ed2-f6f08c86e2fd",
   "metadata": {},
   "source": [
    "## Filling `NaN`\n",
    "\n",
    "We have several approaches for filling missing values:\n",
    "* Fill NaN with a constant value\n",
    "* Forward Fill or Backward Fill NaN\n",
    "* Fill NaN with Mean, Median or Mode of the data\n",
    "* Interpolate Data and Fill NaN\n",
    "\n",
    "In `pandas` we can fill the missing values in our DFs with `df.fillna()`. This method has several arguments we can tweak in our operation depending on the approach:\n",
    "* `value`: with what we want the `NaN` to be replaced with\n",
    "* `method`: \n",
    "    * `bfill`: use next valid observation to fill gap \n",
    "    * `ffill`: propagate last valid observation forward to next valid\n",
    "* `axis`: 0 (default, rows) or 1 (columns)"
   ]
  },
  {
   "attachments": {},
   "cell_type": "markdown",
   "id": "9c6578dd-cf5f-4641-afcb-debf64b7fedc",
   "metadata": {},
   "source": [
    "### Fill NaN with a constant value"
   ]
  },
  {
   "cell_type": "code",
   "execution_count": 27,
   "id": "0c863f8c-f290-4f52-9473-676da94464af",
   "metadata": {},
   "outputs": [
    {
     "data": {
      "text/html": [
       "<div>\n",
       "<style scoped>\n",
       "    .dataframe tbody tr th:only-of-type {\n",
       "        vertical-align: middle;\n",
       "    }\n",
       "\n",
       "    .dataframe tbody tr th {\n",
       "        vertical-align: top;\n",
       "    }\n",
       "\n",
       "    .dataframe thead th {\n",
       "        text-align: right;\n",
       "    }\n",
       "</style>\n",
       "<table border=\"1\" class=\"dataframe\">\n",
       "  <thead>\n",
       "    <tr style=\"text-align: right;\">\n",
       "      <th></th>\n",
       "      <th>A</th>\n",
       "      <th>B</th>\n",
       "      <th>C</th>\n",
       "    </tr>\n",
       "  </thead>\n",
       "  <tbody>\n",
       "    <tr>\n",
       "      <th>0</th>\n",
       "      <td>1.0</td>\n",
       "      <td>x</td>\n",
       "      <td>1</td>\n",
       "    </tr>\n",
       "    <tr>\n",
       "      <th>1</th>\n",
       "      <td>2.0</td>\n",
       "      <td>y</td>\n",
       "      <td>True</td>\n",
       "    </tr>\n",
       "    <tr>\n",
       "      <th>2</th>\n",
       "      <td>3.0</td>\n",
       "      <td>NaN</td>\n",
       "      <td>False</td>\n",
       "    </tr>\n",
       "    <tr>\n",
       "      <th>3</th>\n",
       "      <td>NaN</td>\n",
       "      <td>z</td>\n",
       "      <td>None</td>\n",
       "    </tr>\n",
       "  </tbody>\n",
       "</table>\n",
       "</div>"
      ],
      "text/plain": [
       "     A    B      C\n",
       "0  1.0    x      1\n",
       "1  2.0    y   True\n",
       "2  3.0  NaN  False\n",
       "3  NaN    z   None"
      ]
     },
     "execution_count": 27,
     "metadata": {},
     "output_type": "execute_result"
    }
   ],
   "source": [
    "df"
   ]
  },
  {
   "cell_type": "code",
   "execution_count": 28,
   "id": "2f5f80cc-41e4-498a-b64f-147ba15011d7",
   "metadata": {},
   "outputs": [
    {
     "data": {
      "text/html": [
       "<div>\n",
       "<style scoped>\n",
       "    .dataframe tbody tr th:only-of-type {\n",
       "        vertical-align: middle;\n",
       "    }\n",
       "\n",
       "    .dataframe tbody tr th {\n",
       "        vertical-align: top;\n",
       "    }\n",
       "\n",
       "    .dataframe thead th {\n",
       "        text-align: right;\n",
       "    }\n",
       "</style>\n",
       "<table border=\"1\" class=\"dataframe\">\n",
       "  <thead>\n",
       "    <tr style=\"text-align: right;\">\n",
       "      <th></th>\n",
       "      <th>A</th>\n",
       "      <th>B</th>\n",
       "      <th>C</th>\n",
       "    </tr>\n",
       "  </thead>\n",
       "  <tbody>\n",
       "    <tr>\n",
       "      <th>0</th>\n",
       "      <td>1.0</td>\n",
       "      <td>x</td>\n",
       "      <td>1</td>\n",
       "    </tr>\n",
       "    <tr>\n",
       "      <th>1</th>\n",
       "      <td>2.0</td>\n",
       "      <td>y</td>\n",
       "      <td>True</td>\n",
       "    </tr>\n",
       "    <tr>\n",
       "      <th>2</th>\n",
       "      <td>3.0</td>\n",
       "      <td>3</td>\n",
       "      <td>False</td>\n",
       "    </tr>\n",
       "    <tr>\n",
       "      <th>3</th>\n",
       "      <td>3.0</td>\n",
       "      <td>z</td>\n",
       "      <td>3</td>\n",
       "    </tr>\n",
       "  </tbody>\n",
       "</table>\n",
       "</div>"
      ],
      "text/plain": [
       "     A  B      C\n",
       "0  1.0  x      1\n",
       "1  2.0  y   True\n",
       "2  3.0  3  False\n",
       "3  3.0  z      3"
      ]
     },
     "execution_count": 28,
     "metadata": {},
     "output_type": "execute_result"
    }
   ],
   "source": [
    "value_to_fill = 3\n",
    "df.fillna(value_to_fill)"
   ]
  },
  {
   "attachments": {},
   "cell_type": "markdown",
   "id": "29e722bb-a392-4b75-bbca-1a2bdffbaada",
   "metadata": {},
   "source": [
    "### Fill NaN with `bfill` or `ffill`"
   ]
  },
  {
   "cell_type": "code",
   "execution_count": 19,
   "id": "7f586228-15cf-4d2e-8b29-5717016b7311",
   "metadata": {},
   "outputs": [
    {
     "data": {
      "text/html": [
       "<div>\n",
       "<style scoped>\n",
       "    .dataframe tbody tr th:only-of-type {\n",
       "        vertical-align: middle;\n",
       "    }\n",
       "\n",
       "    .dataframe tbody tr th {\n",
       "        vertical-align: top;\n",
       "    }\n",
       "\n",
       "    .dataframe thead th {\n",
       "        text-align: right;\n",
       "    }\n",
       "</style>\n",
       "<table border=\"1\" class=\"dataframe\">\n",
       "  <thead>\n",
       "    <tr style=\"text-align: right;\">\n",
       "      <th></th>\n",
       "      <th>A</th>\n",
       "      <th>B</th>\n",
       "      <th>C</th>\n",
       "    </tr>\n",
       "  </thead>\n",
       "  <tbody>\n",
       "    <tr>\n",
       "      <th>0</th>\n",
       "      <td>1.0</td>\n",
       "      <td>x</td>\n",
       "      <td>True</td>\n",
       "    </tr>\n",
       "    <tr>\n",
       "      <th>1</th>\n",
       "      <td>2.0</td>\n",
       "      <td>y</td>\n",
       "      <td>True</td>\n",
       "    </tr>\n",
       "    <tr>\n",
       "      <th>2</th>\n",
       "      <td>3.0</td>\n",
       "      <td>NaN</td>\n",
       "      <td>False</td>\n",
       "    </tr>\n",
       "    <tr>\n",
       "      <th>3</th>\n",
       "      <td>NaN</td>\n",
       "      <td>z</td>\n",
       "      <td>None</td>\n",
       "    </tr>\n",
       "  </tbody>\n",
       "</table>\n",
       "</div>"
      ],
      "text/plain": [
       "     A    B      C\n",
       "0  1.0    x   True\n",
       "1  2.0    y   True\n",
       "2  3.0  NaN  False\n",
       "3  NaN    z   None"
      ]
     },
     "execution_count": 19,
     "metadata": {},
     "output_type": "execute_result"
    }
   ],
   "source": [
    "df"
   ]
  },
  {
   "cell_type": "code",
   "execution_count": 20,
   "id": "61b4b17c-ba6b-412c-8b1a-50a7009d80c3",
   "metadata": {},
   "outputs": [
    {
     "data": {
      "text/html": [
       "<div>\n",
       "<style scoped>\n",
       "    .dataframe tbody tr th:only-of-type {\n",
       "        vertical-align: middle;\n",
       "    }\n",
       "\n",
       "    .dataframe tbody tr th {\n",
       "        vertical-align: top;\n",
       "    }\n",
       "\n",
       "    .dataframe thead th {\n",
       "        text-align: right;\n",
       "    }\n",
       "</style>\n",
       "<table border=\"1\" class=\"dataframe\">\n",
       "  <thead>\n",
       "    <tr style=\"text-align: right;\">\n",
       "      <th></th>\n",
       "      <th>A</th>\n",
       "      <th>B</th>\n",
       "      <th>C</th>\n",
       "    </tr>\n",
       "  </thead>\n",
       "  <tbody>\n",
       "    <tr>\n",
       "      <th>0</th>\n",
       "      <td>1.0</td>\n",
       "      <td>x</td>\n",
       "      <td>True</td>\n",
       "    </tr>\n",
       "    <tr>\n",
       "      <th>1</th>\n",
       "      <td>2.0</td>\n",
       "      <td>y</td>\n",
       "      <td>True</td>\n",
       "    </tr>\n",
       "    <tr>\n",
       "      <th>2</th>\n",
       "      <td>3.0</td>\n",
       "      <td>y</td>\n",
       "      <td>False</td>\n",
       "    </tr>\n",
       "    <tr>\n",
       "      <th>3</th>\n",
       "      <td>3.0</td>\n",
       "      <td>z</td>\n",
       "      <td>False</td>\n",
       "    </tr>\n",
       "  </tbody>\n",
       "</table>\n",
       "</div>"
      ],
      "text/plain": [
       "     A  B      C\n",
       "0  1.0  x   True\n",
       "1  2.0  y   True\n",
       "2  3.0  y  False\n",
       "3  3.0  z  False"
      ]
     },
     "execution_count": 20,
     "metadata": {},
     "output_type": "execute_result"
    }
   ],
   "source": [
    "# using `ffill`\n",
    "df.fillna(method=\"ffill\")"
   ]
  },
  {
   "cell_type": "code",
   "execution_count": 14,
   "id": "986dc0d3-536e-40d1-b1b4-8030ec356bf0",
   "metadata": {
    "ExecuteTime": {
     "end_time": "2023-06-30T12:53:19.341756Z",
     "start_time": "2023-06-30T12:53:19.327033Z"
    }
   },
   "outputs": [
    {
     "data": {
      "text/plain": "     A  B      C\n0  1.0  x   True\n1  2.0  y   True\n2  3.0  z  False\n3  NaN  z   None",
      "text/html": "<div>\n<style scoped>\n    .dataframe tbody tr th:only-of-type {\n        vertical-align: middle;\n    }\n\n    .dataframe tbody tr th {\n        vertical-align: top;\n    }\n\n    .dataframe thead th {\n        text-align: right;\n    }\n</style>\n<table border=\"1\" class=\"dataframe\">\n  <thead>\n    <tr style=\"text-align: right;\">\n      <th></th>\n      <th>A</th>\n      <th>B</th>\n      <th>C</th>\n    </tr>\n  </thead>\n  <tbody>\n    <tr>\n      <th>0</th>\n      <td>1.0</td>\n      <td>x</td>\n      <td>True</td>\n    </tr>\n    <tr>\n      <th>1</th>\n      <td>2.0</td>\n      <td>y</td>\n      <td>True</td>\n    </tr>\n    <tr>\n      <th>2</th>\n      <td>3.0</td>\n      <td>z</td>\n      <td>False</td>\n    </tr>\n    <tr>\n      <th>3</th>\n      <td>NaN</td>\n      <td>z</td>\n      <td>None</td>\n    </tr>\n  </tbody>\n</table>\n</div>"
     },
     "execution_count": 14,
     "metadata": {},
     "output_type": "execute_result"
    }
   ],
   "source": [
    "# using `bfill`\n",
    "df.fillna(method=\"bfill\")"
   ]
  },
  {
   "attachments": {},
   "cell_type": "markdown",
   "id": "42ff1472-08eb-4d41-86db-156a6366f54e",
   "metadata": {},
   "source": [
    "### Fill NaN with Mean, Median or Mode of the data"
   ]
  },
  {
   "cell_type": "code",
   "execution_count": 15,
   "id": "3fd89796-2131-4000-bb1b-aa351a067a4a",
   "metadata": {
    "ExecuteTime": {
     "end_time": "2023-06-30T12:53:33.013452Z",
     "start_time": "2023-06-30T12:53:33.000864Z"
    }
   },
   "outputs": [
    {
     "data": {
      "text/plain": "     A    B      C\n0  1.0    x   True\n1  2.0    y   True\n2  3.0  NaN  False\n3  NaN    z   None",
      "text/html": "<div>\n<style scoped>\n    .dataframe tbody tr th:only-of-type {\n        vertical-align: middle;\n    }\n\n    .dataframe tbody tr th {\n        vertical-align: top;\n    }\n\n    .dataframe thead th {\n        text-align: right;\n    }\n</style>\n<table border=\"1\" class=\"dataframe\">\n  <thead>\n    <tr style=\"text-align: right;\">\n      <th></th>\n      <th>A</th>\n      <th>B</th>\n      <th>C</th>\n    </tr>\n  </thead>\n  <tbody>\n    <tr>\n      <th>0</th>\n      <td>1.0</td>\n      <td>x</td>\n      <td>True</td>\n    </tr>\n    <tr>\n      <th>1</th>\n      <td>2.0</td>\n      <td>y</td>\n      <td>True</td>\n    </tr>\n    <tr>\n      <th>2</th>\n      <td>3.0</td>\n      <td>NaN</td>\n      <td>False</td>\n    </tr>\n    <tr>\n      <th>3</th>\n      <td>NaN</td>\n      <td>z</td>\n      <td>None</td>\n    </tr>\n  </tbody>\n</table>\n</div>"
     },
     "execution_count": 15,
     "metadata": {},
     "output_type": "execute_result"
    }
   ],
   "source": [
    "df"
   ]
  },
  {
   "cell_type": "code",
   "execution_count": 31,
   "id": "84340fc8-8158-4e8f-9e8f-c73b6fe24418",
   "metadata": {},
   "outputs": [
    {
     "data": {
      "text/plain": [
       "A    2.000000\n",
       "C    0.666667\n",
       "dtype: float64"
      ]
     },
     "execution_count": 31,
     "metadata": {},
     "output_type": "execute_result"
    }
   ],
   "source": [
    "df.mean()"
   ]
  },
  {
   "cell_type": "code",
   "execution_count": 24,
   "id": "bc71d8e1-e9b0-4b3a-bb67-b7377fb74e89",
   "metadata": {},
   "outputs": [
    {
     "data": {
      "text/html": [
       "<div>\n",
       "<style scoped>\n",
       "    .dataframe tbody tr th:only-of-type {\n",
       "        vertical-align: middle;\n",
       "    }\n",
       "\n",
       "    .dataframe tbody tr th {\n",
       "        vertical-align: top;\n",
       "    }\n",
       "\n",
       "    .dataframe thead th {\n",
       "        text-align: right;\n",
       "    }\n",
       "</style>\n",
       "<table border=\"1\" class=\"dataframe\">\n",
       "  <thead>\n",
       "    <tr style=\"text-align: right;\">\n",
       "      <th></th>\n",
       "      <th>A</th>\n",
       "      <th>B</th>\n",
       "      <th>C</th>\n",
       "    </tr>\n",
       "  </thead>\n",
       "  <tbody>\n",
       "    <tr>\n",
       "      <th>0</th>\n",
       "      <td>1.0</td>\n",
       "      <td>x</td>\n",
       "      <td>True</td>\n",
       "    </tr>\n",
       "    <tr>\n",
       "      <th>1</th>\n",
       "      <td>2.0</td>\n",
       "      <td>y</td>\n",
       "      <td>True</td>\n",
       "    </tr>\n",
       "    <tr>\n",
       "      <th>2</th>\n",
       "      <td>3.0</td>\n",
       "      <td>NaN</td>\n",
       "      <td>False</td>\n",
       "    </tr>\n",
       "    <tr>\n",
       "      <th>3</th>\n",
       "      <td>2.0</td>\n",
       "      <td>z</td>\n",
       "      <td>0.666667</td>\n",
       "    </tr>\n",
       "  </tbody>\n",
       "</table>\n",
       "</div>"
      ],
      "text/plain": [
       "     A    B         C\n",
       "0  1.0    x      True\n",
       "1  2.0    y      True\n",
       "2  3.0  NaN     False\n",
       "3  2.0    z  0.666667"
      ]
     },
     "execution_count": 24,
     "metadata": {},
     "output_type": "execute_result"
    }
   ],
   "source": [
    "df.fillna(df.mean())"
   ]
  },
  {
   "cell_type": "code",
   "execution_count": 25,
   "id": "fadb12e9-de91-404a-8169-e3252d309e06",
   "metadata": {},
   "outputs": [
    {
     "data": {
      "text/plain": [
       "A    2.0\n",
       "C    1.0\n",
       "dtype: float64"
      ]
     },
     "execution_count": 25,
     "metadata": {},
     "output_type": "execute_result"
    }
   ],
   "source": [
    "df.median()"
   ]
  },
  {
   "cell_type": "code",
   "execution_count": 26,
   "id": "3a27e3d4-ff93-49b5-bf72-ed11cd05ed64",
   "metadata": {},
   "outputs": [
    {
     "data": {
      "text/html": [
       "<div>\n",
       "<style scoped>\n",
       "    .dataframe tbody tr th:only-of-type {\n",
       "        vertical-align: middle;\n",
       "    }\n",
       "\n",
       "    .dataframe tbody tr th {\n",
       "        vertical-align: top;\n",
       "    }\n",
       "\n",
       "    .dataframe thead th {\n",
       "        text-align: right;\n",
       "    }\n",
       "</style>\n",
       "<table border=\"1\" class=\"dataframe\">\n",
       "  <thead>\n",
       "    <tr style=\"text-align: right;\">\n",
       "      <th></th>\n",
       "      <th>A</th>\n",
       "      <th>B</th>\n",
       "      <th>C</th>\n",
       "    </tr>\n",
       "  </thead>\n",
       "  <tbody>\n",
       "    <tr>\n",
       "      <th>0</th>\n",
       "      <td>1.0</td>\n",
       "      <td>x</td>\n",
       "      <td>True</td>\n",
       "    </tr>\n",
       "    <tr>\n",
       "      <th>1</th>\n",
       "      <td>2.0</td>\n",
       "      <td>y</td>\n",
       "      <td>True</td>\n",
       "    </tr>\n",
       "    <tr>\n",
       "      <th>2</th>\n",
       "      <td>3.0</td>\n",
       "      <td>NaN</td>\n",
       "      <td>False</td>\n",
       "    </tr>\n",
       "    <tr>\n",
       "      <th>3</th>\n",
       "      <td>2.0</td>\n",
       "      <td>z</td>\n",
       "      <td>1</td>\n",
       "    </tr>\n",
       "  </tbody>\n",
       "</table>\n",
       "</div>"
      ],
      "text/plain": [
       "     A    B      C\n",
       "0  1.0    x   True\n",
       "1  2.0    y   True\n",
       "2  3.0  NaN  False\n",
       "3  2.0    z      1"
      ]
     },
     "execution_count": 26,
     "metadata": {},
     "output_type": "execute_result"
    }
   ],
   "source": [
    "df.fillna(df.median())"
   ]
  },
  {
   "cell_type": "code",
   "execution_count": 27,
   "id": "dfaa010a-0785-40fe-9752-f2392eac90dd",
   "metadata": {},
   "outputs": [
    {
     "data": {
      "text/plain": [
       "A    float64\n",
       "B     object\n",
       "C     object\n",
       "dtype: object"
      ]
     },
     "execution_count": 27,
     "metadata": {},
     "output_type": "execute_result"
    }
   ],
   "source": [
    "df.dtypes"
   ]
  },
  {
   "cell_type": "code",
   "execution_count": 28,
   "id": "996e4be9-7249-4f55-b5f3-31d009f8446c",
   "metadata": {},
   "outputs": [
    {
     "data": {
      "text/html": [
       "<div>\n",
       "<style scoped>\n",
       "    .dataframe tbody tr th:only-of-type {\n",
       "        vertical-align: middle;\n",
       "    }\n",
       "\n",
       "    .dataframe tbody tr th {\n",
       "        vertical-align: top;\n",
       "    }\n",
       "\n",
       "    .dataframe thead th {\n",
       "        text-align: right;\n",
       "    }\n",
       "</style>\n",
       "<table border=\"1\" class=\"dataframe\">\n",
       "  <thead>\n",
       "    <tr style=\"text-align: right;\">\n",
       "      <th></th>\n",
       "      <th>A</th>\n",
       "    </tr>\n",
       "  </thead>\n",
       "  <tbody>\n",
       "    <tr>\n",
       "      <th>0</th>\n",
       "      <td>1.0</td>\n",
       "    </tr>\n",
       "    <tr>\n",
       "      <th>1</th>\n",
       "      <td>2.0</td>\n",
       "    </tr>\n",
       "    <tr>\n",
       "      <th>2</th>\n",
       "      <td>3.0</td>\n",
       "    </tr>\n",
       "  </tbody>\n",
       "</table>\n",
       "</div>"
      ],
      "text/plain": [
       "     A\n",
       "0  1.0\n",
       "1  2.0\n",
       "2  3.0"
      ]
     },
     "execution_count": 28,
     "metadata": {},
     "output_type": "execute_result"
    }
   ],
   "source": [
    "df.mode(numeric_only=True)"
   ]
  },
  {
   "cell_type": "code",
   "execution_count": 39,
   "id": "ad919515-c710-4f5b-88e8-000dfe641753",
   "metadata": {},
   "outputs": [
    {
     "data": {
      "text/plain": [
       "0        1\n",
       "1     True\n",
       "2    False\n",
       "3     None\n",
       "Name: C, dtype: object"
      ]
     },
     "execution_count": 39,
     "metadata": {},
     "output_type": "execute_result"
    }
   ],
   "source": [
    "df.fillna(df.mode())\n",
    "\n",
    "# check mode for strings\n",
    "df[\"C\"]"
   ]
  },
  {
   "attachments": {},
   "cell_type": "markdown",
   "id": "24f25040-a1cc-4211-8903-05b1601e9987",
   "metadata": {},
   "source": [
    "### Interpolate Data\n",
    "\n",
    "In pandas we can fill the NaN with interpolated values according to multiple methods:\n",
    "* https://pandas.pydata.org/pandas-docs/stable/reference/api/pandas.DataFrame.interpolate.html#pandas.DataFrame.interpolate\n",
    "\n",
    "The main argument in `df.interpolate()` is `method`:\n",
    "* By default, the method is `linear` -- linear interpolation\n",
    "* Other methods, from docs:\n",
    "    * ‘time’: Works on daily and higher resolution data to interpolate given length of interval.\n",
    "    * ‘index’, ‘values’: use the actual numerical values of the index.\n",
    "    * ‘pad’: Fill in NaNs using existing values.\n",
    "    * ‘nearest’, ‘zero’, ‘slinear’, ‘quadratic’, ‘cubic’, ‘spline’, ‘barycentric’, ‘polynomial’: Passed to scipy.interpolate.interp1d. These methods use the numerical values of the index. Both ‘polynomial’ and ‘spline’ require that you also specify an order (int), e.g. df.interpolate(method='polynomial', order=5).\n",
    "    * ‘krogh’, ‘piecewise_polynomial’, ‘spline’, ‘pchip’, ‘akima’, ‘cubicspline’: Wrappers around the SciPy interpolation methods of similar names. See Notes.\n",
    "    * ‘from_derivatives’: Refers to scipy.interpolate.BPoly.from_derivatives which replaces ‘piecewise_polynomial’ interpolation method in scipy 0.18."
   ]
  },
  {
   "cell_type": "code",
   "execution_count": 16,
   "id": "5ef3a3ab-4a35-45d2-901c-0a27aabcad8a",
   "metadata": {
    "ExecuteTime": {
     "end_time": "2023-06-30T12:53:39.723878Z",
     "start_time": "2023-06-30T12:53:39.715621Z"
    }
   },
   "outputs": [],
   "source": [
    "import pandas as pd\n",
    "import numpy as np"
   ]
  },
  {
   "cell_type": "code",
   "execution_count": 17,
   "id": "f4575f40-8655-46ca-a6eb-83aa714c9e60",
   "metadata": {
    "ExecuteTime": {
     "end_time": "2023-06-30T12:53:41.257950Z",
     "start_time": "2023-06-30T12:53:41.245476Z"
    }
   },
   "outputs": [],
   "source": [
    "df = pd.DataFrame({\n",
    "    \"col_a\": [np.log(i) for i in range(1, 26)],\n",
    "    \"col_b\": [i**2 for i in range(26, 51)],\n",
    "    \"col_c\": [i*2 for i in range(51, 76)]\n",
    "})"
   ]
  },
  {
   "cell_type": "code",
   "execution_count": 18,
   "id": "94f0e6f1-b900-4048-9b22-2f8e9e461ae9",
   "metadata": {
    "ExecuteTime": {
     "end_time": "2023-06-30T12:53:43.184116Z",
     "start_time": "2023-06-30T12:53:43.176351Z"
    }
   },
   "outputs": [
    {
     "data": {
      "text/plain": "      col_a  col_b  col_c\n0  0.000000    676    102\n1  0.693147    729    104\n2  1.098612    784    106\n3  1.386294    841    108\n4  1.609438    900    110",
      "text/html": "<div>\n<style scoped>\n    .dataframe tbody tr th:only-of-type {\n        vertical-align: middle;\n    }\n\n    .dataframe tbody tr th {\n        vertical-align: top;\n    }\n\n    .dataframe thead th {\n        text-align: right;\n    }\n</style>\n<table border=\"1\" class=\"dataframe\">\n  <thead>\n    <tr style=\"text-align: right;\">\n      <th></th>\n      <th>col_a</th>\n      <th>col_b</th>\n      <th>col_c</th>\n    </tr>\n  </thead>\n  <tbody>\n    <tr>\n      <th>0</th>\n      <td>0.000000</td>\n      <td>676</td>\n      <td>102</td>\n    </tr>\n    <tr>\n      <th>1</th>\n      <td>0.693147</td>\n      <td>729</td>\n      <td>104</td>\n    </tr>\n    <tr>\n      <th>2</th>\n      <td>1.098612</td>\n      <td>784</td>\n      <td>106</td>\n    </tr>\n    <tr>\n      <th>3</th>\n      <td>1.386294</td>\n      <td>841</td>\n      <td>108</td>\n    </tr>\n    <tr>\n      <th>4</th>\n      <td>1.609438</td>\n      <td>900</td>\n      <td>110</td>\n    </tr>\n  </tbody>\n</table>\n</div>"
     },
     "execution_count": 18,
     "metadata": {},
     "output_type": "execute_result"
    }
   ],
   "source": [
    "df.head()"
   ]
  },
  {
   "cell_type": "code",
   "execution_count": 19,
   "id": "4bd17c2e-f870-4ba9-9ae2-5f82aebfebdb",
   "metadata": {
    "ExecuteTime": {
     "end_time": "2023-06-30T12:53:47.712076Z",
     "start_time": "2023-06-30T12:53:47.702875Z"
    }
   },
   "outputs": [
    {
     "data": {
      "text/plain": "      col_a  col_b  col_c\n0  0.000000  676.0    NaN\n1       NaN  729.0  104.0\n2  1.098612  784.0  106.0\n3       NaN  841.0    NaN\n4  1.609438    NaN  110.0",
      "text/html": "<div>\n<style scoped>\n    .dataframe tbody tr th:only-of-type {\n        vertical-align: middle;\n    }\n\n    .dataframe tbody tr th {\n        vertical-align: top;\n    }\n\n    .dataframe thead th {\n        text-align: right;\n    }\n</style>\n<table border=\"1\" class=\"dataframe\">\n  <thead>\n    <tr style=\"text-align: right;\">\n      <th></th>\n      <th>col_a</th>\n      <th>col_b</th>\n      <th>col_c</th>\n    </tr>\n  </thead>\n  <tbody>\n    <tr>\n      <th>0</th>\n      <td>0.000000</td>\n      <td>676.0</td>\n      <td>NaN</td>\n    </tr>\n    <tr>\n      <th>1</th>\n      <td>NaN</td>\n      <td>729.0</td>\n      <td>104.0</td>\n    </tr>\n    <tr>\n      <th>2</th>\n      <td>1.098612</td>\n      <td>784.0</td>\n      <td>106.0</td>\n    </tr>\n    <tr>\n      <th>3</th>\n      <td>NaN</td>\n      <td>841.0</td>\n      <td>NaN</td>\n    </tr>\n    <tr>\n      <th>4</th>\n      <td>1.609438</td>\n      <td>NaN</td>\n      <td>110.0</td>\n    </tr>\n  </tbody>\n</table>\n</div>"
     },
     "execution_count": 19,
     "metadata": {},
     "output_type": "execute_result"
    }
   ],
   "source": [
    "df_nan = pd.DataFrame({\n",
    "    \"col_a\": [None if i%2==0 else np.log(i) for i in range(1, 26)],\n",
    "    \"col_b\": [None if i%10==0 else i**2 for i in range(26, 51)],\n",
    "    \"col_c\": [None if i%3==0 else i*2 for i in range(51, 76)]\n",
    "})\n",
    "\n",
    "df_nan.head()"
   ]
  },
  {
   "cell_type": "code",
   "execution_count": 20,
   "id": "cac241cd-d05a-4b28-905d-a883aa650327",
   "metadata": {
    "ExecuteTime": {
     "end_time": "2023-06-30T12:53:50.821997Z",
     "start_time": "2023-06-30T12:53:50.811926Z"
    }
   },
   "outputs": [
    {
     "data": {
      "text/plain": "(25, 3)"
     },
     "execution_count": 20,
     "metadata": {},
     "output_type": "execute_result"
    }
   ],
   "source": [
    "df.shape"
   ]
  },
  {
   "cell_type": "code",
   "execution_count": 21,
   "id": "1b701fca-7a6a-4f6f-8e9f-2e468764cdfd",
   "metadata": {
    "ExecuteTime": {
     "end_time": "2023-06-30T12:53:52.497023Z",
     "start_time": "2023-06-30T12:53:52.478279Z"
    }
   },
   "outputs": [
    {
     "data": {
      "text/plain": "col_a    0.48\ncol_b    0.12\ncol_c    0.36\ndtype: float64"
     },
     "execution_count": 21,
     "metadata": {},
     "output_type": "execute_result"
    }
   ],
   "source": [
    "df_nan.isna().mean()"
   ]
  },
  {
   "cell_type": "code",
   "execution_count": 22,
   "id": "ffe9d9d9-6ed1-43ab-aaa7-46110d0c71dd",
   "metadata": {
    "ExecuteTime": {
     "end_time": "2023-06-30T12:53:54.418108Z",
     "start_time": "2023-06-30T12:53:54.386409Z"
    }
   },
   "outputs": [
    {
     "data": {
      "text/plain": "       col_a   col_b  col_c\n0   0.000000   676.0    NaN\n1   0.549306   729.0  104.0\n2   1.098612   784.0  106.0\n3   1.354025   841.0  108.0\n4   1.609438   901.0  110.0\n5   1.777674   961.0  112.0\n6   1.945910  1024.0  114.0\n7   2.071567  1089.0  116.0\n8   2.197225  1156.0  118.0\n9   2.297560  1225.0  120.0\n10  2.397895  1296.0  122.0\n11  2.481422  1369.0  124.0\n12  2.564949  1444.0  126.0\n13  2.636500  1521.0  128.0\n14  2.708050  1601.0  130.0\n15  2.770632  1681.0  132.0\n16  2.833213  1764.0  134.0\n17  2.888826  1849.0  136.0\n18  2.944439  1936.0  138.0\n19  2.994481  2025.0  140.0\n20  3.044522  2116.0  142.0\n21  3.090008  2209.0  144.0\n22  3.135494  2304.0  146.0\n23  3.177185  2401.0  148.0\n24  3.218876  2401.0  148.0",
      "text/html": "<div>\n<style scoped>\n    .dataframe tbody tr th:only-of-type {\n        vertical-align: middle;\n    }\n\n    .dataframe tbody tr th {\n        vertical-align: top;\n    }\n\n    .dataframe thead th {\n        text-align: right;\n    }\n</style>\n<table border=\"1\" class=\"dataframe\">\n  <thead>\n    <tr style=\"text-align: right;\">\n      <th></th>\n      <th>col_a</th>\n      <th>col_b</th>\n      <th>col_c</th>\n    </tr>\n  </thead>\n  <tbody>\n    <tr>\n      <th>0</th>\n      <td>0.000000</td>\n      <td>676.0</td>\n      <td>NaN</td>\n    </tr>\n    <tr>\n      <th>1</th>\n      <td>0.549306</td>\n      <td>729.0</td>\n      <td>104.0</td>\n    </tr>\n    <tr>\n      <th>2</th>\n      <td>1.098612</td>\n      <td>784.0</td>\n      <td>106.0</td>\n    </tr>\n    <tr>\n      <th>3</th>\n      <td>1.354025</td>\n      <td>841.0</td>\n      <td>108.0</td>\n    </tr>\n    <tr>\n      <th>4</th>\n      <td>1.609438</td>\n      <td>901.0</td>\n      <td>110.0</td>\n    </tr>\n    <tr>\n      <th>5</th>\n      <td>1.777674</td>\n      <td>961.0</td>\n      <td>112.0</td>\n    </tr>\n    <tr>\n      <th>6</th>\n      <td>1.945910</td>\n      <td>1024.0</td>\n      <td>114.0</td>\n    </tr>\n    <tr>\n      <th>7</th>\n      <td>2.071567</td>\n      <td>1089.0</td>\n      <td>116.0</td>\n    </tr>\n    <tr>\n      <th>8</th>\n      <td>2.197225</td>\n      <td>1156.0</td>\n      <td>118.0</td>\n    </tr>\n    <tr>\n      <th>9</th>\n      <td>2.297560</td>\n      <td>1225.0</td>\n      <td>120.0</td>\n    </tr>\n    <tr>\n      <th>10</th>\n      <td>2.397895</td>\n      <td>1296.0</td>\n      <td>122.0</td>\n    </tr>\n    <tr>\n      <th>11</th>\n      <td>2.481422</td>\n      <td>1369.0</td>\n      <td>124.0</td>\n    </tr>\n    <tr>\n      <th>12</th>\n      <td>2.564949</td>\n      <td>1444.0</td>\n      <td>126.0</td>\n    </tr>\n    <tr>\n      <th>13</th>\n      <td>2.636500</td>\n      <td>1521.0</td>\n      <td>128.0</td>\n    </tr>\n    <tr>\n      <th>14</th>\n      <td>2.708050</td>\n      <td>1601.0</td>\n      <td>130.0</td>\n    </tr>\n    <tr>\n      <th>15</th>\n      <td>2.770632</td>\n      <td>1681.0</td>\n      <td>132.0</td>\n    </tr>\n    <tr>\n      <th>16</th>\n      <td>2.833213</td>\n      <td>1764.0</td>\n      <td>134.0</td>\n    </tr>\n    <tr>\n      <th>17</th>\n      <td>2.888826</td>\n      <td>1849.0</td>\n      <td>136.0</td>\n    </tr>\n    <tr>\n      <th>18</th>\n      <td>2.944439</td>\n      <td>1936.0</td>\n      <td>138.0</td>\n    </tr>\n    <tr>\n      <th>19</th>\n      <td>2.994481</td>\n      <td>2025.0</td>\n      <td>140.0</td>\n    </tr>\n    <tr>\n      <th>20</th>\n      <td>3.044522</td>\n      <td>2116.0</td>\n      <td>142.0</td>\n    </tr>\n    <tr>\n      <th>21</th>\n      <td>3.090008</td>\n      <td>2209.0</td>\n      <td>144.0</td>\n    </tr>\n    <tr>\n      <th>22</th>\n      <td>3.135494</td>\n      <td>2304.0</td>\n      <td>146.0</td>\n    </tr>\n    <tr>\n      <th>23</th>\n      <td>3.177185</td>\n      <td>2401.0</td>\n      <td>148.0</td>\n    </tr>\n    <tr>\n      <th>24</th>\n      <td>3.218876</td>\n      <td>2401.0</td>\n      <td>148.0</td>\n    </tr>\n  </tbody>\n</table>\n</div>"
     },
     "execution_count": 22,
     "metadata": {},
     "output_type": "execute_result"
    }
   ],
   "source": [
    "df_interpolate = df_nan.interpolate() # default is linear\n",
    "\n",
    "df_interpolate"
   ]
  },
  {
   "cell_type": "code",
   "execution_count": 23,
   "id": "2664a1d4-6077-4431-bda4-cff228a68fb7",
   "metadata": {
    "ExecuteTime": {
     "end_time": "2023-06-30T12:53:57.050905Z",
     "start_time": "2023-06-30T12:53:57.044899Z"
    }
   },
   "outputs": [
    {
     "data": {
      "text/plain": "       col_a  col_b  col_c\n0   0.000000    0.0    NaN\n1   0.143841    0.0    0.0\n2   0.000000    0.0    0.0\n3   0.032269    0.0    0.0\n4   0.000000   -1.0    0.0\n5   0.014085    0.0    0.0\n6   0.000000    0.0    0.0\n7   0.007874    0.0    0.0\n8   0.000000    0.0    0.0\n9   0.005025    0.0    0.0\n10  0.000000    0.0    0.0\n11  0.003484    0.0    0.0\n12  0.000000    0.0    0.0\n13  0.002558    0.0    0.0\n14  0.000000   -1.0    0.0\n15  0.001957    0.0    0.0\n16  0.000000    0.0    0.0\n17  0.001546    0.0    0.0\n18  0.000000    0.0    0.0\n19  0.001252    0.0    0.0\n20  0.000000    0.0    0.0\n21  0.001034    0.0    0.0\n22  0.000000    0.0    0.0\n23  0.000869    0.0    0.0\n24  0.000000   99.0    2.0",
      "text/html": "<div>\n<style scoped>\n    .dataframe tbody tr th:only-of-type {\n        vertical-align: middle;\n    }\n\n    .dataframe tbody tr th {\n        vertical-align: top;\n    }\n\n    .dataframe thead th {\n        text-align: right;\n    }\n</style>\n<table border=\"1\" class=\"dataframe\">\n  <thead>\n    <tr style=\"text-align: right;\">\n      <th></th>\n      <th>col_a</th>\n      <th>col_b</th>\n      <th>col_c</th>\n    </tr>\n  </thead>\n  <tbody>\n    <tr>\n      <th>0</th>\n      <td>0.000000</td>\n      <td>0.0</td>\n      <td>NaN</td>\n    </tr>\n    <tr>\n      <th>1</th>\n      <td>0.143841</td>\n      <td>0.0</td>\n      <td>0.0</td>\n    </tr>\n    <tr>\n      <th>2</th>\n      <td>0.000000</td>\n      <td>0.0</td>\n      <td>0.0</td>\n    </tr>\n    <tr>\n      <th>3</th>\n      <td>0.032269</td>\n      <td>0.0</td>\n      <td>0.0</td>\n    </tr>\n    <tr>\n      <th>4</th>\n      <td>0.000000</td>\n      <td>-1.0</td>\n      <td>0.0</td>\n    </tr>\n    <tr>\n      <th>5</th>\n      <td>0.014085</td>\n      <td>0.0</td>\n      <td>0.0</td>\n    </tr>\n    <tr>\n      <th>6</th>\n      <td>0.000000</td>\n      <td>0.0</td>\n      <td>0.0</td>\n    </tr>\n    <tr>\n      <th>7</th>\n      <td>0.007874</td>\n      <td>0.0</td>\n      <td>0.0</td>\n    </tr>\n    <tr>\n      <th>8</th>\n      <td>0.000000</td>\n      <td>0.0</td>\n      <td>0.0</td>\n    </tr>\n    <tr>\n      <th>9</th>\n      <td>0.005025</td>\n      <td>0.0</td>\n      <td>0.0</td>\n    </tr>\n    <tr>\n      <th>10</th>\n      <td>0.000000</td>\n      <td>0.0</td>\n      <td>0.0</td>\n    </tr>\n    <tr>\n      <th>11</th>\n      <td>0.003484</td>\n      <td>0.0</td>\n      <td>0.0</td>\n    </tr>\n    <tr>\n      <th>12</th>\n      <td>0.000000</td>\n      <td>0.0</td>\n      <td>0.0</td>\n    </tr>\n    <tr>\n      <th>13</th>\n      <td>0.002558</td>\n      <td>0.0</td>\n      <td>0.0</td>\n    </tr>\n    <tr>\n      <th>14</th>\n      <td>0.000000</td>\n      <td>-1.0</td>\n      <td>0.0</td>\n    </tr>\n    <tr>\n      <th>15</th>\n      <td>0.001957</td>\n      <td>0.0</td>\n      <td>0.0</td>\n    </tr>\n    <tr>\n      <th>16</th>\n      <td>0.000000</td>\n      <td>0.0</td>\n      <td>0.0</td>\n    </tr>\n    <tr>\n      <th>17</th>\n      <td>0.001546</td>\n      <td>0.0</td>\n      <td>0.0</td>\n    </tr>\n    <tr>\n      <th>18</th>\n      <td>0.000000</td>\n      <td>0.0</td>\n      <td>0.0</td>\n    </tr>\n    <tr>\n      <th>19</th>\n      <td>0.001252</td>\n      <td>0.0</td>\n      <td>0.0</td>\n    </tr>\n    <tr>\n      <th>20</th>\n      <td>0.000000</td>\n      <td>0.0</td>\n      <td>0.0</td>\n    </tr>\n    <tr>\n      <th>21</th>\n      <td>0.001034</td>\n      <td>0.0</td>\n      <td>0.0</td>\n    </tr>\n    <tr>\n      <th>22</th>\n      <td>0.000000</td>\n      <td>0.0</td>\n      <td>0.0</td>\n    </tr>\n    <tr>\n      <th>23</th>\n      <td>0.000869</td>\n      <td>0.0</td>\n      <td>0.0</td>\n    </tr>\n    <tr>\n      <th>24</th>\n      <td>0.000000</td>\n      <td>99.0</td>\n      <td>2.0</td>\n    </tr>\n  </tbody>\n</table>\n</div>"
     },
     "execution_count": 23,
     "metadata": {},
     "output_type": "execute_result"
    }
   ],
   "source": [
    "df - df_interpolate"
   ]
  },
  {
   "attachments": {},
   "cell_type": "markdown",
   "id": "5e452942-f352-4f43-935c-c8e70b433849",
   "metadata": {},
   "source": [
    "As we can see, the linear interpolation on simple distributions works quite well."
   ]
  },
  {
   "cell_type": "code",
   "execution_count": 24,
   "id": "bfab6cab-b980-468f-a4c4-2ebe6a2b3c87",
   "metadata": {
    "ExecuteTime": {
     "end_time": "2023-06-30T12:53:58.984711Z",
     "start_time": "2023-06-30T12:53:58.976244Z"
    }
   },
   "outputs": [
    {
     "data": {
      "text/plain": "       col_a  col_b  col_c\n0   0.000000    676    102\n1   0.693147    729    104\n2   1.098612    784    106\n3   1.386294    841    108\n4   1.609438    900    110\n5   1.791759    961    112\n6   1.945910   1024    114\n7   2.079442   1089    116\n8   2.197225   1156    118\n9   2.302585   1225    120\n10  2.397895   1296    122\n11  2.484907   1369    124\n12  2.564949   1444    126\n13  2.639057   1521    128\n14  2.708050   1600    130\n15  2.772589   1681    132\n16  2.833213   1764    134\n17  2.890372   1849    136\n18  2.944439   1936    138\n19  2.995732   2025    140\n20  3.044522   2116    142\n21  3.091042   2209    144\n22  3.135494   2304    146\n23  3.178054   2401    148\n24  3.218876   2500    150",
      "text/html": "<div>\n<style scoped>\n    .dataframe tbody tr th:only-of-type {\n        vertical-align: middle;\n    }\n\n    .dataframe tbody tr th {\n        vertical-align: top;\n    }\n\n    .dataframe thead th {\n        text-align: right;\n    }\n</style>\n<table border=\"1\" class=\"dataframe\">\n  <thead>\n    <tr style=\"text-align: right;\">\n      <th></th>\n      <th>col_a</th>\n      <th>col_b</th>\n      <th>col_c</th>\n    </tr>\n  </thead>\n  <tbody>\n    <tr>\n      <th>0</th>\n      <td>0.000000</td>\n      <td>676</td>\n      <td>102</td>\n    </tr>\n    <tr>\n      <th>1</th>\n      <td>0.693147</td>\n      <td>729</td>\n      <td>104</td>\n    </tr>\n    <tr>\n      <th>2</th>\n      <td>1.098612</td>\n      <td>784</td>\n      <td>106</td>\n    </tr>\n    <tr>\n      <th>3</th>\n      <td>1.386294</td>\n      <td>841</td>\n      <td>108</td>\n    </tr>\n    <tr>\n      <th>4</th>\n      <td>1.609438</td>\n      <td>900</td>\n      <td>110</td>\n    </tr>\n    <tr>\n      <th>5</th>\n      <td>1.791759</td>\n      <td>961</td>\n      <td>112</td>\n    </tr>\n    <tr>\n      <th>6</th>\n      <td>1.945910</td>\n      <td>1024</td>\n      <td>114</td>\n    </tr>\n    <tr>\n      <th>7</th>\n      <td>2.079442</td>\n      <td>1089</td>\n      <td>116</td>\n    </tr>\n    <tr>\n      <th>8</th>\n      <td>2.197225</td>\n      <td>1156</td>\n      <td>118</td>\n    </tr>\n    <tr>\n      <th>9</th>\n      <td>2.302585</td>\n      <td>1225</td>\n      <td>120</td>\n    </tr>\n    <tr>\n      <th>10</th>\n      <td>2.397895</td>\n      <td>1296</td>\n      <td>122</td>\n    </tr>\n    <tr>\n      <th>11</th>\n      <td>2.484907</td>\n      <td>1369</td>\n      <td>124</td>\n    </tr>\n    <tr>\n      <th>12</th>\n      <td>2.564949</td>\n      <td>1444</td>\n      <td>126</td>\n    </tr>\n    <tr>\n      <th>13</th>\n      <td>2.639057</td>\n      <td>1521</td>\n      <td>128</td>\n    </tr>\n    <tr>\n      <th>14</th>\n      <td>2.708050</td>\n      <td>1600</td>\n      <td>130</td>\n    </tr>\n    <tr>\n      <th>15</th>\n      <td>2.772589</td>\n      <td>1681</td>\n      <td>132</td>\n    </tr>\n    <tr>\n      <th>16</th>\n      <td>2.833213</td>\n      <td>1764</td>\n      <td>134</td>\n    </tr>\n    <tr>\n      <th>17</th>\n      <td>2.890372</td>\n      <td>1849</td>\n      <td>136</td>\n    </tr>\n    <tr>\n      <th>18</th>\n      <td>2.944439</td>\n      <td>1936</td>\n      <td>138</td>\n    </tr>\n    <tr>\n      <th>19</th>\n      <td>2.995732</td>\n      <td>2025</td>\n      <td>140</td>\n    </tr>\n    <tr>\n      <th>20</th>\n      <td>3.044522</td>\n      <td>2116</td>\n      <td>142</td>\n    </tr>\n    <tr>\n      <th>21</th>\n      <td>3.091042</td>\n      <td>2209</td>\n      <td>144</td>\n    </tr>\n    <tr>\n      <th>22</th>\n      <td>3.135494</td>\n      <td>2304</td>\n      <td>146</td>\n    </tr>\n    <tr>\n      <th>23</th>\n      <td>3.178054</td>\n      <td>2401</td>\n      <td>148</td>\n    </tr>\n    <tr>\n      <th>24</th>\n      <td>3.218876</td>\n      <td>2500</td>\n      <td>150</td>\n    </tr>\n  </tbody>\n</table>\n</div>"
     },
     "execution_count": 24,
     "metadata": {},
     "output_type": "execute_result"
    }
   ],
   "source": [
    "df.interpolate()"
   ]
  },
  {
   "attachments": {},
   "cell_type": "markdown",
   "id": "c4ed7d41",
   "metadata": {},
   "source": [
    "A nice video of a very handsome youtuber explaining more about interpolation:\n",
    "\n",
    "https://www.youtube.com/watch?v=HUvKbMvLxVY"
   ]
  }
 ],
 "metadata": {
  "interpreter": {
   "hash": "a9f295c814a5ce7ff0b0a20f2b13117bfaf008fc7980e281f2c2bfa8e9ec0fbf"
  },
  "kernelspec": {
   "display_name": "Python 3 (ipykernel)",
   "language": "python",
   "name": "python3"
  },
  "language_info": {
   "codemirror_mode": {
    "name": "ipython",
    "version": 3
   },
   "file_extension": ".py",
   "mimetype": "text/x-python",
   "name": "python",
   "nbconvert_exporter": "python",
   "pygments_lexer": "ipython3",
   "version": "3.10.9"
  }
 },
 "nbformat": 4,
 "nbformat_minor": 5
}
