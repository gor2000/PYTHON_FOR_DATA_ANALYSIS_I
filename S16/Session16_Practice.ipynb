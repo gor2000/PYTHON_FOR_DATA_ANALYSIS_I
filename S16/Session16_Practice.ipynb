{
 "cells": [
  {
   "attachments": {},
   "cell_type": "markdown",
   "metadata": {},
   "source": [
    "# Practice: wine dataset\n"
   ]
  },
  {
   "attachments": {},
   "cell_type": "markdown",
   "metadata": {},
   "source": [
    "## Read the data into a dataframe"
   ]
  },
  {
   "cell_type": "code",
   "execution_count": 46,
   "metadata": {
    "ExecuteTime": {
     "end_time": "2023-06-30T13:21:39.319060Z",
     "start_time": "2023-06-30T13:21:38.459161Z"
    }
   },
   "outputs": [
    {
     "data": {
      "text/plain": "   points                                              title  \\\n0      87                  Nicosia 2013 Vulkà Bianco  (Etna)   \n1      87      Quinta dos Avidagos 2011 Avidagos Red (Douro)   \n2      87      Rainstorm 2013 Pinot Gris (Willamette Valley)   \n3      87  St. Julian 2013 Reserve Late Harvest Riesling ...   \n4      87  Sweet Cheeks 2012 Vintner's Reserve Wild Child...   \n\n                                         description         taster_name  \\\n0  Aromas include tropical fruit, broom, brimston...       Kerin O’Keefe   \n1  This is ripe and fruity, a wine that is smooth...          Roger Voss   \n2  Tart and snappy, the flavors of lime flesh and...        Paul Gregutt   \n3  Pineapple rind, lemon pith and orange blossom ...  Alexander Peartree   \n4  Much like the regular bottling from 2012, this...        Paul Gregutt   \n\n  taster_twitter_handle  price                         designation  \\\n0          @kerinokeefe    NaN                        Vulkà Bianco   \n1            @vossroger   15.0                            Avidagos   \n2           @paulgwine    14.0                                None   \n3                  None   13.0                Reserve Late Harvest   \n4           @paulgwine    65.0  Vintner's Reserve Wild Child Block   \n\n          variety             region_1           region_2           province  \\\n0     White Blend                 Etna               None  Sicily & Sardinia   \n1  Portuguese Red                 None               None              Douro   \n2      Pinot Gris    Willamette Valley  Willamette Valley             Oregon   \n3        Riesling  Lake Michigan Shore               None           Michigan   \n4      Pinot Noir    Willamette Valley  Willamette Valley             Oregon   \n\n    country               winery  \n0     Italy              Nicosia  \n1  Portugal  Quinta dos Avidagos  \n2        US            Rainstorm  \n3        US           St. Julian  \n4        US         Sweet Cheeks  ",
      "text/html": "<div>\n<style scoped>\n    .dataframe tbody tr th:only-of-type {\n        vertical-align: middle;\n    }\n\n    .dataframe tbody tr th {\n        vertical-align: top;\n    }\n\n    .dataframe thead th {\n        text-align: right;\n    }\n</style>\n<table border=\"1\" class=\"dataframe\">\n  <thead>\n    <tr style=\"text-align: right;\">\n      <th></th>\n      <th>points</th>\n      <th>title</th>\n      <th>description</th>\n      <th>taster_name</th>\n      <th>taster_twitter_handle</th>\n      <th>price</th>\n      <th>designation</th>\n      <th>variety</th>\n      <th>region_1</th>\n      <th>region_2</th>\n      <th>province</th>\n      <th>country</th>\n      <th>winery</th>\n    </tr>\n  </thead>\n  <tbody>\n    <tr>\n      <th>0</th>\n      <td>87</td>\n      <td>Nicosia 2013 Vulkà Bianco  (Etna)</td>\n      <td>Aromas include tropical fruit, broom, brimston...</td>\n      <td>Kerin O’Keefe</td>\n      <td>@kerinokeefe</td>\n      <td>NaN</td>\n      <td>Vulkà Bianco</td>\n      <td>White Blend</td>\n      <td>Etna</td>\n      <td>None</td>\n      <td>Sicily &amp; Sardinia</td>\n      <td>Italy</td>\n      <td>Nicosia</td>\n    </tr>\n    <tr>\n      <th>1</th>\n      <td>87</td>\n      <td>Quinta dos Avidagos 2011 Avidagos Red (Douro)</td>\n      <td>This is ripe and fruity, a wine that is smooth...</td>\n      <td>Roger Voss</td>\n      <td>@vossroger</td>\n      <td>15.0</td>\n      <td>Avidagos</td>\n      <td>Portuguese Red</td>\n      <td>None</td>\n      <td>None</td>\n      <td>Douro</td>\n      <td>Portugal</td>\n      <td>Quinta dos Avidagos</td>\n    </tr>\n    <tr>\n      <th>2</th>\n      <td>87</td>\n      <td>Rainstorm 2013 Pinot Gris (Willamette Valley)</td>\n      <td>Tart and snappy, the flavors of lime flesh and...</td>\n      <td>Paul Gregutt</td>\n      <td>@paulgwine</td>\n      <td>14.0</td>\n      <td>None</td>\n      <td>Pinot Gris</td>\n      <td>Willamette Valley</td>\n      <td>Willamette Valley</td>\n      <td>Oregon</td>\n      <td>US</td>\n      <td>Rainstorm</td>\n    </tr>\n    <tr>\n      <th>3</th>\n      <td>87</td>\n      <td>St. Julian 2013 Reserve Late Harvest Riesling ...</td>\n      <td>Pineapple rind, lemon pith and orange blossom ...</td>\n      <td>Alexander Peartree</td>\n      <td>None</td>\n      <td>13.0</td>\n      <td>Reserve Late Harvest</td>\n      <td>Riesling</td>\n      <td>Lake Michigan Shore</td>\n      <td>None</td>\n      <td>Michigan</td>\n      <td>US</td>\n      <td>St. Julian</td>\n    </tr>\n    <tr>\n      <th>4</th>\n      <td>87</td>\n      <td>Sweet Cheeks 2012 Vintner's Reserve Wild Child...</td>\n      <td>Much like the regular bottling from 2012, this...</td>\n      <td>Paul Gregutt</td>\n      <td>@paulgwine</td>\n      <td>65.0</td>\n      <td>Vintner's Reserve Wild Child Block</td>\n      <td>Pinot Noir</td>\n      <td>Willamette Valley</td>\n      <td>Willamette Valley</td>\n      <td>Oregon</td>\n      <td>US</td>\n      <td>Sweet Cheeks</td>\n    </tr>\n  </tbody>\n</table>\n</div>"
     },
     "execution_count": 46,
     "metadata": {},
     "output_type": "execute_result"
    }
   ],
   "source": [
    "import json\n",
    "\n",
    "import numpy as np\n",
    "import pandas as pd\n",
    "\n",
    "df = pd.read_json('wine.json')\n",
    "df.head()"
   ]
  },
  {
   "attachments": {},
   "cell_type": "markdown",
   "metadata": {},
   "source": [
    "### 1. How many wine reviews are included in the dataset? (1 point)"
   ]
  },
  {
   "cell_type": "code",
   "execution_count": 5,
   "metadata": {
    "ExecuteTime": {
     "end_time": "2023-06-30T12:58:39.158924Z",
     "start_time": "2023-06-30T12:58:39.153498Z"
    }
   },
   "outputs": [
    {
     "data": {
      "text/plain": "129971"
     },
     "execution_count": 5,
     "metadata": {},
     "output_type": "execute_result"
    }
   ],
   "source": [
    "df['title'].count()"
   ]
  },
  {
   "attachments": {},
   "cell_type": "markdown",
   "metadata": {},
   "source": [
    "### 2. How many different countries have wines reviewed in the dataset? (1 point)"
   ]
  },
  {
   "cell_type": "code",
   "execution_count": 26,
   "metadata": {
    "ExecuteTime": {
     "end_time": "2023-06-30T13:06:35.492316Z",
     "start_time": "2023-06-30T13:06:35.467118Z"
    }
   },
   "outputs": [
    {
     "name": "stdout",
     "output_type": "stream",
     "text": [
      "Option 1: 43 countries\n",
      "Option 2: 43 countries\n"
     ]
    }
   ],
   "source": [
    "opt1 = df.groupby('country')['country'].size().shape[0]\n",
    "opt2 = df.groupby('country').ngroups\n",
    "print(f'Option 1: {opt1} countries')\n",
    "print(f'Option 2: {opt2} countries')"
   ]
  },
  {
   "attachments": {},
   "cell_type": "markdown",
   "metadata": {},
   "source": [
    "### 3. Build a dictionary with the following structure: (1 point)"
   ]
  },
  {
   "cell_type": "code",
   "execution_count": 35,
   "metadata": {
    "ExecuteTime": {
     "end_time": "2023-06-30T13:13:18.590929Z",
     "start_time": "2023-06-30T13:13:18.580374Z"
    }
   },
   "outputs": [
    {
     "data": {
      "text/plain": "        points    province\n345        100    Victoria\n7335       100     Tuscany\n36528      100   Champagne\n39286      100     Tuscany\n42197      100       Douro\n45781      100     Tuscany\n45798      100  California\n58352      100    Bordeaux\n89728      100   Champagne\n89729      100   Champagne\n111753     100    Bordeaux\n111754     100     Tuscany\n111755     100    Bordeaux\n111756     100    Bordeaux\n113929     100  Washington\n114972     100        Port\n118058     100  California\n122935     100    Bordeaux\n123545     100  Washington",
      "text/html": "<div>\n<style scoped>\n    .dataframe tbody tr th:only-of-type {\n        vertical-align: middle;\n    }\n\n    .dataframe tbody tr th {\n        vertical-align: top;\n    }\n\n    .dataframe thead th {\n        text-align: right;\n    }\n</style>\n<table border=\"1\" class=\"dataframe\">\n  <thead>\n    <tr style=\"text-align: right;\">\n      <th></th>\n      <th>points</th>\n      <th>province</th>\n    </tr>\n  </thead>\n  <tbody>\n    <tr>\n      <th>345</th>\n      <td>100</td>\n      <td>Victoria</td>\n    </tr>\n    <tr>\n      <th>7335</th>\n      <td>100</td>\n      <td>Tuscany</td>\n    </tr>\n    <tr>\n      <th>36528</th>\n      <td>100</td>\n      <td>Champagne</td>\n    </tr>\n    <tr>\n      <th>39286</th>\n      <td>100</td>\n      <td>Tuscany</td>\n    </tr>\n    <tr>\n      <th>42197</th>\n      <td>100</td>\n      <td>Douro</td>\n    </tr>\n    <tr>\n      <th>45781</th>\n      <td>100</td>\n      <td>Tuscany</td>\n    </tr>\n    <tr>\n      <th>45798</th>\n      <td>100</td>\n      <td>California</td>\n    </tr>\n    <tr>\n      <th>58352</th>\n      <td>100</td>\n      <td>Bordeaux</td>\n    </tr>\n    <tr>\n      <th>89728</th>\n      <td>100</td>\n      <td>Champagne</td>\n    </tr>\n    <tr>\n      <th>89729</th>\n      <td>100</td>\n      <td>Champagne</td>\n    </tr>\n    <tr>\n      <th>111753</th>\n      <td>100</td>\n      <td>Bordeaux</td>\n    </tr>\n    <tr>\n      <th>111754</th>\n      <td>100</td>\n      <td>Tuscany</td>\n    </tr>\n    <tr>\n      <th>111755</th>\n      <td>100</td>\n      <td>Bordeaux</td>\n    </tr>\n    <tr>\n      <th>111756</th>\n      <td>100</td>\n      <td>Bordeaux</td>\n    </tr>\n    <tr>\n      <th>113929</th>\n      <td>100</td>\n      <td>Washington</td>\n    </tr>\n    <tr>\n      <th>114972</th>\n      <td>100</td>\n      <td>Port</td>\n    </tr>\n    <tr>\n      <th>118058</th>\n      <td>100</td>\n      <td>California</td>\n    </tr>\n    <tr>\n      <th>122935</th>\n      <td>100</td>\n      <td>Bordeaux</td>\n    </tr>\n    <tr>\n      <th>123545</th>\n      <td>100</td>\n      <td>Washington</td>\n    </tr>\n  </tbody>\n</table>\n</div>"
     },
     "execution_count": 35,
     "metadata": {},
     "output_type": "execute_result"
    }
   ],
   "source": []
  },
  {
   "attachments": {},
   "cell_type": "markdown",
   "metadata": {},
   "source": [
    "### 4. What's the province that produces the wines with the highest rating? (1 point)"
   ]
  },
  {
   "cell_type": "code",
   "execution_count": 41,
   "metadata": {
    "ExecuteTime": {
     "end_time": "2023-06-30T13:16:23.470003Z",
     "start_time": "2023-06-30T13:16:23.464828Z"
    }
   },
   "outputs": [
    {
     "data": {
      "text/plain": "province\nBordeaux      100\nCalifornia    100\nChampagne     100\nDouro         100\nPort          100\nTuscany       100\nVictoria      100\nWashington    100\nName: points, dtype: int64"
     },
     "execution_count": 41,
     "metadata": {},
     "output_type": "execute_result"
    }
   ],
   "source": [
    "grouped = df.groupby('province')['points'].max()\n",
    "grouped[grouped == grouped.max()]"
   ]
  },
  {
   "attachments": {},
   "cell_type": "markdown",
   "metadata": {},
   "source": [
    "### 5. Update each wine's description by adding at the end of each description the following piece of text (1 point)"
   ]
  },
  {
   "cell_type": "code",
   "execution_count": null,
   "metadata": {},
   "outputs": [],
   "source": []
  },
  {
   "attachments": {},
   "cell_type": "markdown",
   "metadata": {},
   "source": [
    "### 6. What's the proportion of wine tasters that have a Twitter account? (1 point)"
   ]
  },
  {
   "cell_type": "code",
   "execution_count": 61,
   "metadata": {
    "ExecuteTime": {
     "end_time": "2023-06-30T13:28:46.369325Z",
     "start_time": "2023-06-30T13:28:46.336171Z"
    }
   },
   "outputs": [
    {
     "name": "stdout",
     "output_type": "stream",
     "text": [
      "The proportion of wine taster that have a Twitter account is: 0.76\n"
     ]
    }
   ],
   "source": [
    "twitter = df[~df['taster_twitter_handle'].isnull()].shape[0]\n",
    "print(f'The proportion of wine taster that have a Twitter account is: {round(twitter / df.shape[0], 2)}')"
   ]
  }
 ],
 "metadata": {
  "kernelspec": {
   "display_name": "base",
   "language": "python",
   "name": "python3"
  },
  "language_info": {
   "codemirror_mode": {
    "name": "ipython",
    "version": 3
   },
   "file_extension": ".py",
   "mimetype": "text/x-python",
   "name": "python",
   "nbconvert_exporter": "python",
   "pygments_lexer": "ipython3",
   "version": "3.10.9"
  },
  "orig_nbformat": 4
 },
 "nbformat": 4,
 "nbformat_minor": 2
}
