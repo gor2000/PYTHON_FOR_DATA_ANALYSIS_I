{
 "cells": [
  {
   "cell_type": "markdown",
   "id": "c4df6768-938c-40f1-aaed-647b4dc92126",
   "metadata": {},
   "source": [
    "<table border=\"0\" style=\"width:100%\">\n",
    " <tr>\n",
    "    <td>\n",
    "        <img src=\"https://static-frm.ie.edu/university/wp-content/uploads/sites/6/2022/06/IE-University-logo.png\" width=150>\n",
    "     </td>\n",
    "    <td><div style=\"font-family:'Courier New'\">\n",
    "            <div style=\"font-size:25px\">\n",
    "                <div style=\"text-align: right\"> \n",
    "                    <b> MASTER IN BIG DATA</b>\n",
    "                    <br>\n",
    "                    Python for Data Analysis I\n",
    "                    <br><br>\n",
    "                    <em> Daniel Sierra Ramos </em>\n",
    "                </div>\n",
    "            </div>\n",
    "        </div>\n",
    "    </td>\n",
    " </tr>\n",
    "</table>"
   ]
  },
  {
   "cell_type": "markdown",
   "id": "3256b90b-50f8-4762-b6b1-355af36255a3",
   "metadata": {
    "tags": []
   },
   "source": [
    "# **SESSION 01: GETTING STARTED**"
   ]
  },
  {
   "cell_type": "markdown",
   "id": "8fbb1e1c-272a-4b17-80c3-d8967e6cea40",
   "metadata": {},
   "source": [
    "## **The Anaconda Distribution**\n",
    "\n",
    "Anaconda is a **software distribution for Python developers in Data Science**.\n",
    " - It contains a Python interpreter and a huge collection of Python libraries for data science. Some of the most relevant libraries are `jupyter`, `pandas` or `scikit-learn`\n",
    " - It also contains a package manager called `conda` to manage (install, uninstall, ...) new libraries, create environments, etc.\n",
    " - Anaconda is *de facto* option for almost all beginners (and advanced) Python developers in Data Science"
   ]
  },
  {
   "cell_type": "markdown",
   "id": "acc5375a-88b3-46ef-8f72-ac89e1760d55",
   "metadata": {},
   "source": [
    "### **Installing Anaconda**\n",
    " - Go to [Anaconda Website](https://www.anaconda.com/download/) to download the latest version of the Anaconda distribution\n",
    " - Install the Anaconda distribution on your computer"
   ]
  },
  {
   "cell_type": "markdown",
   "id": "571a5264-6dc2-46e9-a90f-f469bccd2765",
   "metadata": {},
   "source": [
    "### **Environments with `conda`**\n",
    "\n",
    "An **environment** is an isolated space where different Python packages reside.\n",
    " - The default environment is called called `base`. This environment contains *all* libraries that comes with the Anaconda distribution.\n",
    " - If we want to install new libraries, we can do it directly in the `base` environment, I don't recommend it.\n",
    " - The **typical setting in Python** is creating **new environments for different projects**. Reasons:\n",
    "    - *To avoid conflicts with Python version* - Sometimes the library you want to use in not compatible with your current Python version, so we need to create an environment with the proper Python version.\n",
    "    - *To avoid conflicts between libraries* - Sometimes, at the installation of new libraries, some conflicts can arise with dependencies. That is, one library requieres a specific version of other library to work, but we also have a third library that requieres a different version of the second library to work. This can be mitigated isolating JUST the libraries we need in a separated environment.\n",
    "    - *To reduce the size of the workspace* - Just install what you need. This is specially important if you want to export your environment to another computer."
   ]
  },
  {
   "cell_type": "markdown",
   "id": "26a69daf-0b15-4c52-8c55-f7aafad0f822",
   "metadata": {},
   "source": [
    "<div class=\"alert alert-info\">\n",
    "\n",
    "***EXERCISE 1: Create a new environment for the course***\n",
    "\n",
    " - **Option 1: From the Anaconda Navigator**\n",
    "    - Open anaconda Navigator\n",
    "    - Go to \"Environments\"\n",
    "    - Create a new environment (with Python 3.10)\n",
    "    - The environment will be activate automatically\n",
    " - **Option 2: From the terminal**\n",
    "    - Open the terminal of your computer.\n",
    "        - Note on Windows: Instead of the terminal (Powershell), open the \"Anaconda Powershell Prompt\"\n",
    "    - Write the following command\n",
    "       - `conda create -n <yourenvname> python=3.10`\n",
    "    - To activate the new environment:\n",
    "       - `conda activate <yourenvname>`\n",
    "       \n",
    "**Notes about the terminal:**\n",
    " - The terminal can look intimidating, but it's the best option to operate with conda as a developer.\n",
    " - The anaconda Navigator is just an interface operating with the terminal under the hood.\n",
    " - I encourage you to use the terminal, it will be more productive in the future.\n",
    " - Find here a brief cheat sheet with typical `conda` commands: [EnvsWithconda](EnvironmentsWithConda.md)\n",
    "    \n",
    "</div>"
   ]
  },
  {
   "cell_type": "markdown",
   "id": "dee3bab4-d0c1-4406-a44a-790140386612",
   "metadata": {},
   "source": [
    "+++"
   ]
  },
  {
   "cell_type": "markdown",
   "id": "86718abd-c25e-4edf-9ccd-3a1f4fdcf779",
   "metadata": {},
   "source": [
    "## **Getting Started with Jupyter Lab**\n",
    "\n",
    "**JupyterLab** is an open-source IDE (Integrated Development Environment) (https://github.com/jupyterlab/jupyterlab) from the Project Jupyter (https://jupyter.org/). It is the successor of the Jupyter Notebook.\n",
    "\n",
    "It offers a variety of tools to work with Notebooks. A Notebook is a web interface connected with the Python interpreter that allow the user to **execute code interactively**. "
   ]
  },
  {
   "cell_type": "markdown",
   "id": "bc98b812-65ef-44e3-b256-49b9c32db3d3",
   "metadata": {},
   "source": [
    "The basic element in a Jupyter notebook is the **cell**. By default, a cell can be of three types:\n",
    " - A code cell - The cell contains code to be executed with Python interpreter\n",
    " - A Markdown cell - The cell contains Markdown code\n",
    " - A raw cell - The cell content will be treated as raw text"
   ]
  },
  {
   "cell_type": "markdown",
   "id": "fc2cd212-4ca9-425f-a1f3-d59eea2cb602",
   "metadata": {
    "tags": []
   },
   "source": [
    "### **Typical shortcuts**\n",
    "\n",
    "Referenced to a cell but keeping the context outside the cell \n",
    "\n",
    " - Outlide or inside the selected cell \n",
    "    - Run cell: `Shift` + `Enter`\n",
    " - Outside the selected cell\n",
    "    - New cell below: `b`\n",
    "    - New cell above: `a`\n",
    "    - Remove cell: `dd`\n",
    " \n",
    "To check all the shortcuts, go to https://gist.github.com/discdiver/9e00618756d120a8c9fa344ac1c375ac"
   ]
  },
  {
   "cell_type": "markdown",
   "id": "32d0582e-7061-45a8-844e-cf24628401bd",
   "metadata": {},
   "source": [
    "### **Writting Markdown in notebooks**\n",
    "\n",
    "The `Markdown` is a text-to-HTML tool integrated in JupyterLab notebooks. It's a very basic language to **generate documentation**.\n",
    "\n",
    "Check the basic Markdown cheat sheet at ***Help > Markdown Reference***"
   ]
  },
  {
   "cell_type": "markdown",
   "id": "97791870-1d55-41d2-9a23-b33d840ac49c",
   "metadata": {},
   "source": [
    "<div class=\"alert alert-info\">\n",
    "\n",
    "***EXERCISE 2: Markdown Example***\n",
    "    \n",
    "Try to replicate this with Markdown\n",
    "    \n",
    "![](img/example2_md.png)\n",
    "    \n",
    "</div>"
   ]
  },
  {
   "cell_type": "markdown",
   "id": "37db6c0c-8be1-4f5b-9182-416078e5a613",
   "metadata": {},
   "source": [
    "### **Writing code in the notebook**\n",
    "\n",
    "To write code, simply create a new code cell and write code"
   ]
  },
  {
   "cell_type": "code",
   "execution_count": 7,
   "id": "d2064b9b-2843-47b0-a7b7-bc34942d93e5",
   "metadata": {},
   "outputs": [
    {
     "name": "stdout",
     "output_type": "stream",
     "text": [
      "My fist math operation in Python: 5+10=15\n"
     ]
    }
   ],
   "source": [
    "# This is Python code\n",
    "var1 = 5\n",
    "var2 = 10\n",
    "\n",
    "var3 = var1 + var2\n",
    "print(f\"My fist math operation in Python: {var1}+{var2}={var3}\")"
   ]
  },
  {
   "cell_type": "markdown",
   "id": "d254752d-0ae5-4c61-942d-9aaa05166eaa",
   "metadata": {},
   "source": [
    "## **Recommendations**\n",
    " - **Use Markdown** to document all the code you write, especially in class. I will provide you everyday with a new notebook for the session. I recommend you to **take notes directly on the notebook** at the same time I explain the concepts for the session\n",
    " - Keep your notebooks clean. Use headers, subheaders and lists available in Markdown to generate the best documentation in class.\n",
    " - About folder organization. My recommendation is:\n",
    "    - Create a folder for the course\n",
    "    - Inside the course folder, create a new folder for every session. (ex. Session 03)\n",
    "    - Include all the materials for the session in the session folder\n",
    "    - open the notebooks and start coding!"
   ]
  }
 ],
 "metadata": {
  "kernelspec": {
   "display_name": "Python 3 (ipykernel)",
   "language": "python",
   "name": "python3"
  },
  "language_info": {
   "codemirror_mode": {
    "name": "ipython",
    "version": 3
   },
   "file_extension": ".py",
   "mimetype": "text/x-python",
   "name": "python",
   "nbconvert_exporter": "python",
   "pygments_lexer": "ipython3",
   "version": "3.8.13"
  },
  "toc-autonumbering": true,
  "toc-showtags": false
 },
 "nbformat": 4,
 "nbformat_minor": 5
}
