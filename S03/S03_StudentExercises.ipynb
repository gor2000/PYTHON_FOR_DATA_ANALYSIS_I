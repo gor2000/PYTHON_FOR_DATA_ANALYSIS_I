{
 "cells": [
  {
   "cell_type": "markdown",
   "id": "877b812f-4ca1-47bc-8b8a-ba32902fd12e",
   "metadata": {},
   "source": [
    "# Exercise 1"
   ]
  },
  {
   "cell_type": "markdown",
   "id": "69935eff-cdc3-42d6-84a5-c960974463a7",
   "metadata": {},
   "source": [
    "Get the transformed version of each string, and store it in a new column with the provided list:\n",
    "\n",
    "| Original | Transformed |\n",
    "| --- | --- |\n",
    "| `\"Tim O'Reilly\"` | `\"tim o'reilly\"` |\n",
    "| `\"Tim O'Reilly\"` | `\"Tom O'Reolly\"` |\n",
    "| `\"Tim O'Reilly\"` | `\"T1m 0'R31lly\"` |\n",
    "| `\"Tim O'Reilly\"` | `\"tIM o'rEILLY\"` |\n",
    "| `\"Tim O'Reilly\"` | `\"----Tim O'Reilly----\"` (20 chars) |\n",
    "| `\"Tim O'Reilly\"` | `\"TIM O'REILLY        \"` (20 chars) |"
   ]
  },
  {
   "cell_type": "code",
   "execution_count": 23,
   "id": "289d3987-65e9-4e61-81a8-4ed32b08d94d",
   "metadata": {
    "ExecuteTime": {
     "end_time": "2023-05-18T17:14:14.142955Z",
     "start_time": "2023-05-18T17:14:14.140093Z"
    }
   },
   "outputs": [
    {
     "name": "stdout",
     "output_type": "stream",
     "text": [
      "[\"tim o'reilly\", \"Tim O'Reolly\", \"T1m 0'R31lly\"]\n"
     ]
    }
   ],
   "source": [
    "var = \"Tim O'Reilly\"\n",
    "transformed = []\n",
    "# First\n",
    "var1 = var.lower()\n",
    "transformed.append(var1)\n",
    "# Second\n",
    "var2 = list(var)\n",
    "var2[8] = 'o'\n",
    "var2 = ''.join(var2)\n",
    "transformed.append(var2)\n",
    "# Third\n",
    "var3_1 = var.split()\n",
    "var3_1[0] = list(var3_1[0])\n",
    "var3_1[1] = list(var3_1[1])\n",
    "var3_1[0][1] = '1'\n",
    "var3_1[1][0] = '0'\n",
    "var3_1[1][3] = '3'\n",
    "var3_1[1][4] = '1'\n",
    "var3 = ''.join(var3_1[0]) + ' ' + ''.join(var3_1[1])\n",
    "transformed.append(var3)\n",
    "print(transformed)"
   ]
  },
  {
   "cell_type": "markdown",
   "id": "c694c989-de48-4aed-9b25-556a0e10e8c8",
   "metadata": {},
   "source": [
    "# Exercise 2\n",
    "Give the following text `b=\"Batman!\"` obtain the following substrings only with slicing operations\n",
    "\n",
    "1. `atman`\n",
    "2. `!`\n",
    "3. `Bta`\n",
    "3. `!namtaB`\n",
    "4. `!mB`"
   ]
  },
  {
   "cell_type": "code",
   "execution_count": null,
   "id": "fda7155d-689f-40f4-8a88-ef041b891107",
   "metadata": {},
   "outputs": [],
   "source": []
  },
  {
   "cell_type": "markdown",
   "id": "56a177f8-c37f-4cf3-9e62-229e06c15d5c",
   "metadata": {
    "tags": []
   },
   "source": [
    "# Exercise 3\n",
    "\n",
    "Create this list without conditionals, loops, or hardcoding the values:\n",
    "\n",
    "```\n",
    "[49, 0, 47, 0, 45, 0, 43, 0, 41, 0, 39, 0, 37, 0, 35, 0, 33, 0, 31, 0, 29, 0, 27, 0, 25, 0, 23, 0, 21, 0, 19, 0, 17, 0, 15, 0, 13, 0, 11, 0, 9, 0, 7, 0, 5, 0, 3, 0, 1, 0]\n",
    "```"
   ]
  },
  {
   "cell_type": "code",
   "execution_count": null,
   "id": "b8971b2a-e095-43f8-b7c7-31ed81516872",
   "metadata": {},
   "outputs": [],
   "source": []
  },
  {
   "cell_type": "markdown",
   "id": "9127fec9-ac65-4fe8-81dd-9ac5d4ff7edf",
   "metadata": {},
   "source": [
    "# Exercise 4\n",
    "Given the following string variables with data:\n",
    "```python\n",
    "names = 'Braund, Mr. Owen Harris;Cumings, Mrs. John Bradley (Florence Briggs Thayer);Heikkinen, Miss. Laina;Futrelle, Mrs. Jacques Heath (Lily May Peel);Allen, Mr. William Henry;Moran, Mr. James;McCarthy, Mr. Timothy J;Palsson, Master. Gosta Leonard;Johnson, Mrs. Oscar W (Elisabeth Vilhelmina Berg);Nasser, Mrs. Nicholas (Adele Achem);Sandstrom, Miss. Marguerite Rut;Bonnell, Miss. Elizabeth;Saundercock, Mr. William Henry;Andersson, Mr. Anders Johan;Vestrom, Miss. Hulda Amanda Adolfina;Hewlett, Mrs. (Mary D Kingcome) ;Rice, Master. Eugene;Williams, Mr. Charles Eugene;Vander Planke, Mrs. Julius (Emelia Maria Vandemoortele);Masselmani, Mrs. Fatima'\n",
    "sex = 'male;female;female;female;male;male;male;male;female;female;female;female;male;male;female;female;male;male;female;female'\n",
    "ticket = 'A/5 21171;PC 17599;STON/O2. 3101282;113803;373450;330877;17463;349909;347742;237736;PP 9549;113783;A/5. 2151;347082;350406;248706;382652;244373;345763;2649'\n",
    "```\n",
    "\n",
    "Create a new data structure with the following format\n",
    "```python\n",
    "[('id', 'name', 'sex', 'ticket'),\n",
    " (0, 'Braund, Mr. Owen Harris', 'male', 'A/5 21171'),\n",
    " (1, 'Cumings, Mrs. John Bradley (Florence Briggs Thayer)', 'female', 'PC 17599'),\n",
    " (2, 'Heikkinen, Miss. Laina', 'female', 'STON/O2. 3101282'),\n",
    " (3, 'Futrelle, Mrs. Jacques Heath (Lily May Peel)', 'female', '113803'),\n",
    " (4, 'Allen, Mr. William Henry', 'male', '373450'),\n",
    " (5, 'Moran, Mr. James', 'male', '330877'),\n",
    " (6, 'McCarthy, Mr. Timothy J', 'male', '17463'),\n",
    " (7, 'Palsson, Master. Gosta Leonard', 'male', '349909'),\n",
    " (8, 'Johnson, Mrs. Oscar W (Elisabeth Vilhelmina Berg)', 'female', '347742'),\n",
    " (9, 'Nasser, Mrs. Nicholas (Adele Achem)', 'female', '237736'),\n",
    " (10, 'Sandstrom, Miss. Marguerite Rut', 'female', 'PP 9549'),\n",
    " (11, 'Bonnell, Miss. Elizabeth', 'female', '113783'),\n",
    " (12, 'Saundercock, Mr. William Henry', 'male', 'A/5. 2151'),\n",
    " (13, 'Andersson, Mr. Anders Johan', 'male', '347082'),\n",
    " (14, 'Vestrom, Miss. Hulda Amanda Adolfina', 'female', '350406'),\n",
    " (15, 'Hewlett, Mrs. (Mary D Kingcome) ', 'female', '248706'),\n",
    " (16, 'Rice, Master. Eugene', 'male', '382652'),\n",
    " (17, 'Williams, Mr. Charles Eugene', 'male', '244373'),\n",
    " (18, 'Vander Planke, Mrs. Julius (Emelia Maria Vandemoortele)', 'female', '345763'),\n",
    " (19, 'Masselmani, Mrs. Fatima', 'female', '2649')]\n",
    "```"
   ]
  },
  {
   "cell_type": "code",
   "execution_count": null,
   "id": "4412820d-60dc-4710-bd7d-6addc527ca7e",
   "metadata": {},
   "outputs": [],
   "source": []
  }
 ],
 "metadata": {
  "kernelspec": {
   "display_name": "Python 3 (ipykernel)",
   "language": "python",
   "name": "python3"
  },
  "language_info": {
   "codemirror_mode": {
    "name": "ipython",
    "version": 3
   },
   "file_extension": ".py",
   "mimetype": "text/x-python",
   "name": "python",
   "nbconvert_exporter": "python",
   "pygments_lexer": "ipython3",
   "version": "3.9.16"
  },
  "toc-autonumbering": false,
  "toc-showmarkdowntxt": false
 },
 "nbformat": 4,
 "nbformat_minor": 5
}
