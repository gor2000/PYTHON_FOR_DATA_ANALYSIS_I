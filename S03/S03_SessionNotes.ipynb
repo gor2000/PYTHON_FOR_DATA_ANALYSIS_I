{
 "cells": [
  {
   "cell_type": "markdown",
   "id": "db42c097-51fa-4f0d-b0e6-8f9c5365cd13",
   "metadata": {},
   "source": [
    "# Strings and Operations"
   ]
  },
  {
   "cell_type": "markdown",
   "id": "8932438f-5826-446e-a268-5b58cb8e13a1",
   "metadata": {},
   "source": [
    "Strings in Python are created with single or double quotes:"
   ]
  },
  {
   "cell_type": "markdown",
   "id": "d204b001-b161-4be9-beff-54a7bed7ebaa",
   "metadata": {},
   "source": [
    "## Overview"
   ]
  },
  {
   "cell_type": "code",
   "execution_count": 7,
   "id": "3eebea05-3473-4337-a449-cc695ef54ade",
   "metadata": {
    "collapsed": false,
    "jupyter": {
     "outputs_hidden": false
    }
   },
   "outputs": [],
   "source": [
    "message = \"Do you like Batman?\"\n",
    "response = 'Yes'"
   ]
  },
  {
   "cell_type": "markdown",
   "id": "ef7e2fde-a38a-4698-a738-210602cae80f",
   "metadata": {},
   "source": [
    "Python has many extremely useful string functions and methods; here are a few of them:"
   ]
  },
  {
   "cell_type": "code",
   "execution_count": 8,
   "id": "ecd59c3a-d55a-44f8-8af0-37f4e934a3a8",
   "metadata": {
    "collapsed": false,
    "jupyter": {
     "outputs_hidden": false
    }
   },
   "outputs": [
    {
     "data": {
      "text/plain": [
       "3"
      ]
     },
     "execution_count": 8,
     "metadata": {},
     "output_type": "execute_result"
    }
   ],
   "source": [
    "# length of string\n",
    "len(response)"
   ]
  },
  {
   "cell_type": "code",
   "execution_count": 9,
   "id": "a562366d-fc26-4dfe-ad77-08ab8b0d0e44",
   "metadata": {
    "collapsed": false,
    "jupyter": {
     "outputs_hidden": false
    }
   },
   "outputs": [
    {
     "data": {
      "text/plain": [
       "'Do you like Batman? Yes'"
      ]
     },
     "execution_count": 9,
     "metadata": {},
     "output_type": "execute_result"
    }
   ],
   "source": [
    "# concatenation with +\n",
    "message + \" \" + response"
   ]
  },
  {
   "cell_type": "code",
   "execution_count": 10,
   "id": "510db1fc-7fe2-43ed-a843-b7ada8584e27",
   "metadata": {
    "collapsed": false,
    "jupyter": {
     "outputs_hidden": false
    }
   },
   "outputs": [
    {
     "data": {
      "text/plain": [
       "'Batman! NaNaNaNaNaNaNaNaNaNaNaNaNaNaNaNaNaNaNaNaNaNaNaNaNaNaNaNaNaNa'"
      ]
     },
     "execution_count": 10,
     "metadata": {},
     "output_type": "execute_result"
    }
   ],
   "source": [
    "# multiplication is multiple concatenation\n",
    "\"Batman! \" + \"Na\"*30"
   ]
  },
  {
   "cell_type": "markdown",
   "id": "cc13eaed-f9f3-4a20-99c2-ef9c245ec597",
   "metadata": {},
   "source": [
    "### String formatting\n",
    "\n",
    "Strings can be formatted in several ways in Python. Here is a summary\n",
    "\n",
    "| Formatting option | Description                      | Comments                            |\n",
    "|-------------------|----------------------------------|-------------------------------------|\n",
    "| % operator        | \"Old Style\" String Formatting    | Totally discouraged                 |\n",
    "| str.format()      | \"New Style\" String Formatting    | Recommended in Python 3.5 and below |\n",
    "| f-strings         | String Interpolation / f-Strings | Recommended in Python 3.6+          |"
   ]
  },
  {
   "cell_type": "code",
   "execution_count": 11,
   "id": "b4e1fde8-2c26-4e1d-b221-6784f2b05238",
   "metadata": {},
   "outputs": [],
   "source": [
    "name = \"Daniel\""
   ]
  },
  {
   "cell_type": "markdown",
   "id": "8591f147-872b-4838-b551-471b8d0b9f17",
   "metadata": {},
   "source": [
    "### \"Old Style\" String Formatting"
   ]
  },
  {
   "cell_type": "code",
   "execution_count": 12,
   "id": "4e90f740-ee65-4b85-9f40-d724afae5475",
   "metadata": {},
   "outputs": [
    {
     "data": {
      "text/plain": [
       "'My name is Daniel'"
      ]
     },
     "execution_count": 12,
     "metadata": {},
     "output_type": "execute_result"
    }
   ],
   "source": [
    "# check the % operator\n",
    "\"My name is %s\" % name"
   ]
  },
  {
   "cell_type": "markdown",
   "id": "2298a15c-7fcc-4b98-88ab-a416d01ac62c",
   "metadata": {},
   "source": [
    "### \"New Style\" String Formatting"
   ]
  },
  {
   "cell_type": "code",
   "execution_count": 13,
   "id": "26cf2a0b-516e-4197-95c6-190813cd65c5",
   "metadata": {},
   "outputs": [
    {
     "data": {
      "text/plain": [
       "'My name is Daniel'"
      ]
     },
     "execution_count": 13,
     "metadata": {},
     "output_type": "execute_result"
    }
   ],
   "source": [
    "# check the str.format option\n",
    "\"My name is {}\".format(name)"
   ]
  },
  {
   "cell_type": "code",
   "execution_count": 14,
   "id": "b6d85731-5ca4-4bfc-8ebf-fa3190699eb4",
   "metadata": {},
   "outputs": [
    {
     "data": {
      "text/plain": [
       "'My name is Daniel and I live in Madrid'"
      ]
     },
     "execution_count": 14,
     "metadata": {},
     "output_type": "execute_result"
    }
   ],
   "source": [
    "\"My name is {name} and I live in {place}\".format(name=name, place=\"Madrid\")"
   ]
  },
  {
   "cell_type": "markdown",
   "id": "1a255e91-8f1c-4db4-bb6f-bf9c6761774c",
   "metadata": {},
   "source": [
    "### String Interpolation / f-Strings"
   ]
  },
  {
   "cell_type": "code",
   "execution_count": 15,
   "id": "88ab473e-6b71-4075-ad4e-35738ce865cf",
   "metadata": {},
   "outputs": [
    {
     "data": {
      "text/plain": [
       "'My name is Daniel'"
      ]
     },
     "execution_count": 15,
     "metadata": {},
     "output_type": "execute_result"
    }
   ],
   "source": [
    "# check the f-strings option\n",
    "f\"My name is {name}\""
   ]
  },
  {
   "cell_type": "markdown",
   "id": "ed62440d-2777-4f21-b193-9f4010de62c9",
   "metadata": {},
   "source": [
    "> ***EXAMPLE 1***\n",
    ">\n",
    "> Calculate the output of the following formula $A=\\frac{3^5-4}{2\\pi}$ and $B=4A$ and print the result within the following sentence with f-Strings\n",
    ">\n",
    "> $$\\text{The result of A is --- and the result of B is ---}$$\n"
   ]
  },
  {
   "cell_type": "code",
   "execution_count": 22,
   "id": "797b9e05-c5dc-4422-b311-f95bdece2219",
   "metadata": {},
   "outputs": [
    {
     "name": "stdout",
     "output_type": "stream",
     "text": [
      "The result of A is 38.04 and the result of B is 152.15\n"
     ]
    }
   ],
   "source": [
    "import math\n",
    "\n",
    "A = (3**5-4)/(2*math.pi)\n",
    "B = 4*A\n",
    "\n",
    "print(f\"The result of A is {round(A, ndigits=2)} and the result of B is {round(B, ndigits=2)}\")"
   ]
  },
  {
   "cell_type": "code",
   "execution_count": 20,
   "id": "c331fca8-24a1-4dd5-a6f7-404754239107",
   "metadata": {},
   "outputs": [
    {
     "name": "stdout",
     "output_type": "stream",
     "text": [
      "Help on built-in function round in module builtins:\n",
      "\n",
      "round(number, ndigits=None)\n",
      "    Round a number to a given precision in decimal digits.\n",
      "    \n",
      "    The return value is an integer if ndigits is omitted or None.  Otherwise\n",
      "    the return value has the same type as the number.  ndigits may be negative.\n",
      "\n"
     ]
    }
   ],
   "source": [
    "help(round)"
   ]
  },
  {
   "cell_type": "markdown",
   "id": "65ab88f8-44a9-4928-952b-95a07f3e6038",
   "metadata": {},
   "source": [
    "## Slicing strings"
   ]
  },
  {
   "cell_type": "markdown",
   "id": "21513f61-e29a-4c0a-a49d-3294bd400585",
   "metadata": {},
   "source": [
    "In order to slice a string, we can use `[]` taking into account that Python is ZBI (Zero-based index)\n",
    "\n",
    "| Slicing      | Outcome                                                                                           |\n",
    "|--------------|---------------------------------------------------------------------------------------------------|\n",
    "| `str[0]`     | First character                                                                                   |\n",
    "| `str[-1]`    | Last character                                                                                    |\n",
    "| `str[n:]`    | Substring from the n-th character (included) till the end                                         |\n",
    "| `str[:m]`    | Substring from the beginning to the m-th character (not included)                                 |\n",
    "| `str[n:m]`   | Substring between the n-th character (included) and the m-th character (not included)             |\n",
    "| `str[n:m:h]` | Substring between the n-th character (included) and the m-th character (not included), but h by h |"
   ]
  },
  {
   "cell_type": "code",
   "execution_count": 1,
   "id": "975791f6-dc52-47c8-91d6-9ecde03ad63d",
   "metadata": {
    "ExecuteTime": {
     "end_time": "2023-05-18T16:28:01.681007Z",
     "start_time": "2023-05-18T16:28:01.665840Z"
    }
   },
   "outputs": [
    {
     "data": {
      "text/plain": "'p'"
     },
     "execution_count": 1,
     "metadata": {},
     "output_type": "execute_result"
    }
   ],
   "source": [
    "# In Python, all structures are indexed starting by 0 (Zero-Based index)\n",
    "\n",
    "\"philippe\"[0]"
   ]
  },
  {
   "cell_type": "code",
   "execution_count": 2,
   "id": "40664ebb-fed1-4f5a-bb94-22f2beff7c83",
   "metadata": {
    "ExecuteTime": {
     "end_time": "2023-05-18T16:28:07.977584Z",
     "start_time": "2023-05-18T16:28:07.950967Z"
    }
   },
   "outputs": [
    {
     "data": {
      "text/plain": "'p'"
     },
     "execution_count": 2,
     "metadata": {},
     "output_type": "execute_result"
    }
   ],
   "source": [
    "# If we use a negative index, we are indexing in reverse order\n",
    "\n",
    "\"philippe\"[-3]"
   ]
  },
  {
   "cell_type": "code",
   "execution_count": 3,
   "id": "9e912a99-9454-41d3-8a6c-5df9e7d617e2",
   "metadata": {
    "ExecuteTime": {
     "end_time": "2023-05-18T16:28:12.042054Z",
     "start_time": "2023-05-18T16:28:12.031986Z"
    }
   },
   "outputs": [
    {
     "data": {
      "text/plain": "'e'"
     },
     "execution_count": 3,
     "metadata": {},
     "output_type": "execute_result"
    }
   ],
   "source": [
    "\"philippe\"[-1]"
   ]
  },
  {
   "cell_type": "code",
   "execution_count": 4,
   "id": "667059a9-67fe-4984-8935-e033cc5b6a94",
   "metadata": {
    "ExecuteTime": {
     "end_time": "2023-05-18T16:28:14.150759Z",
     "start_time": "2023-05-18T16:28:14.136298Z"
    }
   },
   "outputs": [
    {
     "data": {
      "text/plain": "'dan'"
     },
     "execution_count": 4,
     "metadata": {},
     "output_type": "execute_result"
    }
   ],
   "source": [
    "# Slicing in Python is done with \":\"\n",
    "\n",
    "\"daniel\"[:3]  # This means \"From the begining (from position 0) to 3 (not included)\""
   ]
  },
  {
   "cell_type": "code",
   "execution_count": 5,
   "id": "aeb1627e-28ca-4327-a9bb-06f5634b33d5",
   "metadata": {
    "ExecuteTime": {
     "end_time": "2023-05-18T16:28:22.592008Z",
     "start_time": "2023-05-18T16:28:22.579468Z"
    }
   },
   "outputs": [
    {
     "data": {
      "text/plain": "'iel'"
     },
     "execution_count": 5,
     "metadata": {},
     "output_type": "execute_result"
    }
   ],
   "source": [
    "\"daniel\"[-3:] # This means \"From position 3 (starting at the end) to the end\""
   ]
  },
  {
   "cell_type": "code",
   "execution_count": 28,
   "id": "44ecb478-0877-4bc1-8a56-59723fa81c78",
   "metadata": {},
   "outputs": [
    {
     "data": {
      "text/plain": [
       "'ail'"
      ]
     },
     "execution_count": 28,
     "metadata": {},
     "output_type": "execute_result"
    }
   ],
   "source": [
    "\"daniel\"[1:6:2] # This means \"From position 1 position 6, in twos\""
   ]
  },
  {
   "cell_type": "markdown",
   "id": "a21f6458-832f-40ad-9a97-c068fbe733ec",
   "metadata": {},
   "source": [
    "> ***EXAMPLE 2***\n",
    ">\n",
    "> ```\n",
    "> name = \"Daniel\" (6 characters)\n",
    ">\n",
    "> -> name[4:6]\n",
    "> -> name[1:10]\n",
    "> -> name[-3:-1]\n",
    "> -> name[-3:1]\n",
    "> -> name[1:6:2]\n",
    "> -> name[1::2]\n",
    "> -> name[-1:-6:-2]\n",
    "> -> name[::2]\n",
    "> -> name[::-1]\n",
    "> ```\n",
    " "
   ]
  },
  {
   "cell_type": "code",
   "execution_count": 7,
   "id": "8ced683a-41f0-42bc-8221-aaa9c11e4a5c",
   "metadata": {
    "ExecuteTime": {
     "end_time": "2023-05-18T16:29:20.718237Z",
     "start_time": "2023-05-18T16:29:20.674325Z"
    }
   },
   "outputs": [
    {
     "name": "stdout",
     "output_type": "stream",
     "text": [
      "el\n",
      "aniel\n",
      "ie\n",
      "\n",
      "ail\n",
      "ail\n",
      "lia\n",
      "Dne\n",
      "leinaD\n"
     ]
    }
   ],
   "source": [
    "name = \"Daniel\"\n",
    "print(name[4:6])\n",
    "print(name[1:10])\n",
    "print(name[-3:-1])\n",
    "print(name[-3:1])\n",
    "print(name[1:6:2])\n",
    "print(name[1::2])\n",
    "print(name[-1:-6:-2])\n",
    "print(name[::2])\n",
    "print(name[::-1])"
   ]
  },
  {
   "cell_type": "markdown",
   "id": "93cc5c30-7be5-40bc-8cfb-ba29c506c8df",
   "metadata": {},
   "source": [
    "## Built-In Methods\n",
    "\n",
    "Python language is plenty of powerful built-in methods to ease our life\n",
    "\n",
    "| Method           | Description                                                                                   |\n",
    "|------------------|-----------------------------------------------------------------------------------------------|\n",
    "| `str.capitalize` | Converts the first character to upper case                                                    |\n",
    "| `str.center`     | Returns a centered string                                                                     |\n",
    "| `str.count`      | Returns the number of times a specified value occurs in a string                              |\n",
    "| `str.endswith`   | Returns true if the string ends with the specified value                                      |\n",
    "| `str.find`       | Searches the string for a specified value and returns the position of where it was found      |\n",
    "| `str.isalnum`    | Returns True if all characters in the string are alphanumeric                                 |\n",
    "| `str.isalpha`    | Returns True if all characters in the string are in the alphabet                              |\n",
    "| `str.isascii`    | Returns True if all characters in the string are ascii characters                             |\n",
    "| `str.isdecimal`  | Returns True if all characters in the string are decimals                                     |\n",
    "| `str.isdigit`    | Returns True if all characters in the string are digits                                       |\n",
    "| `str.islower`    | Returns True if all characters in the string are lower case                                   |\n",
    "| `str.isnumeric`  | Returns True if all characters in the string are numeric                                      |\n",
    "| `str.isspace`    | Returns True if all characters in the string are whitespaces                                  |\n",
    "| `str.istitle`    | Returns True if the string follows the rules of a title                                       |\n",
    "| `str.isupper`    | Returns True if all characters in the string are upper case                                   |\n",
    "| `str.join`       | Converts the elements of an iterable into a string                                            |\n",
    "| `str.ljust`      | Returns a left justified version of the string                                                |\n",
    "| `str.lower`      | Converts a string into lower case                                                             |\n",
    "| `str.lstrip`     | Returns a left trim version of the string                                                     |\n",
    "| `str.replace`    | Returns a string where a specified value is replaced with a specified value                   |\n",
    "| `str.rfind`      | Searches the string for a specified value and returns the last position of where it was found |\n",
    "| `str.rjust`      | Returns a right justified version of the string                                               |\n",
    "| `str.rstrip`     | Returns a right trim version of the string                                                    |\n",
    "| `str.split`      | Splits the string at the specified separator, and returns a list                              |\n",
    "| `str.splitlines` | Splits the string at line breaks and returns a list                                           |\n",
    "| `str.startswith` | Returns true if the string starts with the specified value                                    |\n",
    "| `str.strip`      | Returns a trimmed version of the string                                                       |\n",
    "| `str.swapcase`   | Swaps cases, lower case becomes upper case and vice versa                                     |\n",
    "| `str.title`      | Converts the first character of each word to upper case                                       |\n",
    "| `str.upper`      | Converts a string into upper case                                                             |\n",
    "| `str.zfill`      | Fills the string with a specified number of 0 values at the beginning                         |"
   ]
  },
  {
   "cell_type": "code",
   "execution_count": 41,
   "id": "74d2102c-3c21-41d4-ab99-0713364a10fb",
   "metadata": {},
   "outputs": [
    {
     "data": {
      "text/plain": [
       "['Daniel', 'Sierra', 'Ramos']"
      ]
     },
     "execution_count": 41,
     "metadata": {},
     "output_type": "execute_result"
    }
   ],
   "source": [
    "# the split method\n",
    "\n",
    "name = \"Daniel Sierra Ramos\"\n",
    "name.split()"
   ]
  },
  {
   "cell_type": "code",
   "execution_count": 42,
   "id": "3e6b1c85-60ad-40a1-900d-aee1d581fb19",
   "metadata": {},
   "outputs": [
    {
     "name": "stdout",
     "output_type": "stream",
     "text": [
      "Help on built-in function split:\n",
      "\n",
      "split(sep=None, maxsplit=-1) method of builtins.str instance\n",
      "    Return a list of the words in the string, using sep as the delimiter string.\n",
      "    \n",
      "    sep\n",
      "      The delimiter according which to split the string.\n",
      "      None (the default value) means split according to any whitespace,\n",
      "      and discard empty strings from the result.\n",
      "    maxsplit\n",
      "      Maximum number of splits to do.\n",
      "      -1 (the default value) means no limit.\n",
      "\n"
     ]
    }
   ],
   "source": [
    "help(name.split)"
   ]
  },
  {
   "cell_type": "code",
   "execution_count": 43,
   "id": "af094464-eb57-49cc-a27e-4e1f7d338ded",
   "metadata": {},
   "outputs": [
    {
     "data": {
      "text/plain": [
       "'Daniel Sierra Ramos'"
      ]
     },
     "execution_count": 43,
     "metadata": {},
     "output_type": "execute_result"
    }
   ],
   "source": [
    "# the join method\n",
    "\n",
    "name = [\"Daniel\", \"Sierra\", \"Ramos\"]\n",
    "\" \".join(name)"
   ]
  },
  {
   "cell_type": "code",
   "execution_count": 44,
   "id": "ba6a499a-3eda-4f13-8cf0-363a893b8ce7",
   "metadata": {},
   "outputs": [
    {
     "name": "stdout",
     "output_type": "stream",
     "text": [
      "Daniel Sierra\n",
      "Daniel Sierra         \n",
      "      Daniel Sierra\n"
     ]
    }
   ],
   "source": [
    "# the strip method\n",
    "\n",
    "name = \"      Daniel Sierra         \"\n",
    "print(name.strip())\n",
    "print(name.lstrip())\n",
    "print(name.rstrip())"
   ]
  },
  {
   "cell_type": "code",
   "execution_count": 45,
   "id": "6e062f40-6b1e-48a6-83a1-9613763c5af0",
   "metadata": {},
   "outputs": [
    {
     "name": "stdout",
     "output_type": "stream",
     "text": [
      "Daniel sierra\n",
      "Daniel Sierra\n"
     ]
    }
   ],
   "source": [
    "# tha capitalize and title methods\n",
    "\n",
    "name = \"daniel sierra\"\n",
    "print(name.capitalize())\n",
    "print(name.title())"
   ]
  },
  {
   "cell_type": "code",
   "execution_count": 46,
   "id": "54df1ec5-1980-44a4-b0e7-36fa5e2c93c0",
   "metadata": {},
   "outputs": [
    {
     "name": "stdout",
     "output_type": "stream",
     "text": [
      "DANIEL SIERRA\n",
      "daniel sierra\n",
      "dAnIeL SiErRa\n"
     ]
    }
   ],
   "source": [
    "# the upper, lower and swapcase\n",
    "\n",
    "name = \"DaNiEl sIeRrA\"\n",
    "print(name.upper())\n",
    "print(name.lower())\n",
    "print(name.swapcase())"
   ]
  },
  {
   "cell_type": "code",
   "execution_count": 47,
   "id": "1f86f382-8f6f-4b1d-bb1c-7aa109b5a761",
   "metadata": {},
   "outputs": [
    {
     "name": "stdout",
     "output_type": "stream",
     "text": [
      " Daniel Sierra \n",
      " Daniel Sierra ---------------\n",
      "--------------- Daniel Sierra \n",
      "******* Daniel Sierra ********\n"
     ]
    }
   ],
   "source": [
    "# the justification methods\n",
    "\n",
    "name = \" Daniel Sierra \"\n",
    "\n",
    "print(name.ljust(10, \"-\"))\n",
    "print(name.ljust(30, \"-\"))\n",
    "print(name.rjust(30, \"-\"))\n",
    "print(name.center(30, \"*\"))"
   ]
  },
  {
   "cell_type": "code",
   "execution_count": 48,
   "id": "9f383926-cd79-4e6b-a2dc-83f5e600496b",
   "metadata": {},
   "outputs": [
    {
     "name": "stdout",
     "output_type": "stream",
     "text": [
      "Daniel Sierra\n",
      "00000000000000000Daniel Sierra\n"
     ]
    }
   ],
   "source": [
    "# the zfill method\n",
    "\n",
    "name = \"Daniel Sierra\"\n",
    "\n",
    "print(name.zfill(10))\n",
    "print(name.zfill(30))"
   ]
  },
  {
   "cell_type": "code",
   "execution_count": 49,
   "id": "5e18f83f-6224-4560-a2d0-133ffce07419",
   "metadata": {},
   "outputs": [
    {
     "data": {
      "text/plain": [
       "7"
      ]
     },
     "execution_count": 49,
     "metadata": {},
     "output_type": "execute_result"
    }
   ],
   "source": [
    "# the find method\n",
    "\n",
    "name = \"Daniel Sierra\"\n",
    "\n",
    "name.find(\"Sierra\")"
   ]
  },
  {
   "cell_type": "code",
   "execution_count": 50,
   "id": "5e5e10e6-2c67-4836-9518-b1499e2d22ef",
   "metadata": {},
   "outputs": [
    {
     "data": {
      "text/plain": [
       "1"
      ]
     },
     "execution_count": 50,
     "metadata": {},
     "output_type": "execute_result"
    }
   ],
   "source": [
    "# the count method\n",
    "\n",
    "name = \"Daniel Sierra\"\n",
    "\n",
    "name.count(\"Sie\")"
   ]
  },
  {
   "cell_type": "markdown",
   "id": "87fc0e86-e23f-4083-a621-cba9151557aa",
   "metadata": {},
   "source": [
    "> ***EXAMPLE 3***\n",
    ">\n",
    "> 1. Create a new variable `full_name` with your full name\n",
    "> 2. Transform your full name to lower case\n",
    "> 3. Reverse the order of the characters\n",
    "> 4. Print the following sentence: `Hello, my reversed order name is <your full name>`"
   ]
  },
  {
   "cell_type": "code",
   "execution_count": 57,
   "id": "892237c0-8a21-49d0-ad8e-c68312c71266",
   "metadata": {},
   "outputs": [
    {
     "name": "stdout",
     "output_type": "stream",
     "text": [
      "Hello, my reversed order name is arreis leinad\n"
     ]
    }
   ],
   "source": [
    "print(f\"Hello, my reversed order name is {'Daniel Sierra'.lower()[::-1]}\")"
   ]
  },
  {
   "cell_type": "markdown",
   "id": "4bafd366-fb48-4398-86c3-3200ccc48e1f",
   "metadata": {},
   "source": [
    "# Built-In Data Structures"
   ]
  },
  {
   "cell_type": "markdown",
   "id": "dc4d004d-94c1-44dc-8753-341b6c81a9ce",
   "metadata": {},
   "source": [
    "We have seen Python's simple types: ``int``, ``float``, ``complex``, ``bool``, ``str``, and so on.\n",
    "Python also has several built-in compound types, which act as containers for other types.\n",
    "These compound types are:\n",
    "\n",
    "| Type Name | Example                   |Description                            |\n",
    "|-----------|---------------------------|---------------------------------------|\n",
    "| ``list``  | ``[1, 2, 3]``             | Ordered collection                    |\n",
    "| ``tuple`` | ``(1, 2, 3)``             | Immutable ordered collection          |\n",
    "| ``dict``  | ``{'a':1, 'b':2, 'c':3}`` | Unordered (key,value) mapping         |\n",
    "| ``set``   | ``{1, 2, 3}``             | Unordered collection of unique values |\n",
    "| ``frozenset``   | ``frozenset({1, 2, 3})``             | Unordered immutable collection of unique values |\n",
    "\n",
    "As you can see, round, square, and curly brackets have distinct meanings when it comes to the type of collection produced.\n",
    "We'll take a quick tour of these data structures here."
   ]
  },
  {
   "cell_type": "markdown",
   "id": "5057582b-5c0c-4ccd-a54b-a77498d30116",
   "metadata": {},
   "source": [
    "## Lists\n",
    "Lists are the basic *ordered* and *mutable* data collection type in Python.\n",
    "They can be defined with comma-separated values between square brackets; for example, here is a list of the first several prime numbers:"
   ]
  },
  {
   "cell_type": "code",
   "execution_count": 58,
   "id": "fef602fc-751b-445b-aaee-90f5c3a2c98d",
   "metadata": {
    "collapsed": false,
    "jupyter": {
     "outputs_hidden": false
    }
   },
   "outputs": [
    {
     "name": "stdout",
     "output_type": "stream",
     "text": [
      "[2, 3, 5, 7]\n"
     ]
    }
   ],
   "source": [
    "L = [2, 3, 5, 7]\n",
    "\n",
    "# but also\n",
    "L = list((2, 3, 5, 7))\n",
    "print(L)"
   ]
  },
  {
   "cell_type": "code",
   "execution_count": 59,
   "id": "de6937fb-972d-4d52-afdb-21dc66537191",
   "metadata": {},
   "outputs": [
    {
     "data": {
      "text/plain": [
       "list"
      ]
     },
     "execution_count": 59,
     "metadata": {},
     "output_type": "execute_result"
    }
   ],
   "source": [
    "type(L)"
   ]
  },
  {
   "cell_type": "code",
   "execution_count": 60,
   "id": "77fd4c81-d16f-435c-bf43-919bb7142694",
   "metadata": {},
   "outputs": [
    {
     "data": {
      "text/plain": [
       "[2, 3, 5, 7, 4, 5]"
      ]
     },
     "execution_count": 60,
     "metadata": {},
     "output_type": "execute_result"
    }
   ],
   "source": [
    "# joining several list\n",
    "\n",
    "I = [4, 5]\n",
    "L+I"
   ]
  },
  {
   "cell_type": "code",
   "execution_count": 61,
   "id": "f1f548cf-05b0-4950-9952-bb005d2786a4",
   "metadata": {},
   "outputs": [
    {
     "data": {
      "text/plain": [
       "[2, 3, 5, 7, 2, 3, 5, 7, 2, 3, 5, 7]"
      ]
     },
     "execution_count": 61,
     "metadata": {},
     "output_type": "execute_result"
    }
   ],
   "source": [
    "# replicating a list\n",
    "L*3"
   ]
  },
  {
   "cell_type": "code",
   "execution_count": 62,
   "id": "4ccfd6b2-29a8-432e-b9c8-4a67c9f7b8c0",
   "metadata": {
    "collapsed": false,
    "jupyter": {
     "outputs_hidden": false
    }
   },
   "outputs": [],
   "source": [
    "# lists with mixed types\n",
    "\n",
    "L = [1, 'two', 3.14, [0, 3, 5]]"
   ]
  },
  {
   "cell_type": "markdown",
   "id": "cc907592-0c5b-43d8-9314-f28395b48efe",
   "metadata": {},
   "source": [
    "### List indexing and slicing\n",
    "Python provides access to elements in compound types through *indexing* for single elements, and *slicing* for multiple elements.\n",
    "As we'll see, both are indicated by a square-bracket syntax.\n",
    "Suppose we return to our list of the first several primes:"
   ]
  },
  {
   "cell_type": "code",
   "execution_count": 63,
   "id": "8d8e87ff-13e3-4b0d-ae84-f3fe6a40e051",
   "metadata": {
    "collapsed": false,
    "jupyter": {
     "outputs_hidden": false
    }
   },
   "outputs": [],
   "source": [
    "L = [2, 3, 5, 7, 11]"
   ]
  },
  {
   "cell_type": "markdown",
   "id": "4c805d0a-a983-4c2a-b1dc-a635a871e9e2",
   "metadata": {},
   "source": [
    "Python uses *zero-based* indexing, so we can access the first and second element in using the following syntax:"
   ]
  },
  {
   "cell_type": "code",
   "execution_count": 64,
   "id": "b16f22c1-0182-4250-9f31-0f195bc89ba1",
   "metadata": {
    "collapsed": false,
    "jupyter": {
     "outputs_hidden": false
    }
   },
   "outputs": [
    {
     "data": {
      "text/plain": [
       "2"
      ]
     },
     "execution_count": 64,
     "metadata": {},
     "output_type": "execute_result"
    }
   ],
   "source": [
    "L[0]"
   ]
  },
  {
   "cell_type": "code",
   "execution_count": 65,
   "id": "d24fef4c-2283-4914-b531-333a07cc5259",
   "metadata": {
    "collapsed": false,
    "jupyter": {
     "outputs_hidden": false
    }
   },
   "outputs": [
    {
     "data": {
      "text/plain": [
       "3"
      ]
     },
     "execution_count": 65,
     "metadata": {},
     "output_type": "execute_result"
    }
   ],
   "source": [
    "L[1]"
   ]
  },
  {
   "cell_type": "markdown",
   "id": "8b2cc260-c256-44ad-8ce7-5f44f31df1cf",
   "metadata": {},
   "source": [
    "Elements at the end of the list can be accessed with negative numbers, starting from -1:"
   ]
  },
  {
   "cell_type": "code",
   "execution_count": 66,
   "id": "26198158-434c-4fef-9411-81cf49531ee6",
   "metadata": {
    "collapsed": false,
    "jupyter": {
     "outputs_hidden": false
    }
   },
   "outputs": [
    {
     "data": {
      "text/plain": [
       "11"
      ]
     },
     "execution_count": 66,
     "metadata": {},
     "output_type": "execute_result"
    }
   ],
   "source": [
    "L[-1]"
   ]
  },
  {
   "cell_type": "code",
   "execution_count": 67,
   "id": "a679286f-66c2-4c57-8504-3a5e158e8b94",
   "metadata": {
    "collapsed": false,
    "jupyter": {
     "outputs_hidden": false
    }
   },
   "outputs": [
    {
     "data": {
      "text/plain": [
       "7"
      ]
     },
     "execution_count": 67,
     "metadata": {},
     "output_type": "execute_result"
    }
   ],
   "source": [
    "L[-2]"
   ]
  },
  {
   "cell_type": "markdown",
   "id": "801197cf-33ae-4d25-9e6b-a5128aa7a84b",
   "metadata": {},
   "source": [
    "You can visualize this indexing scheme this way:"
   ]
  },
  {
   "cell_type": "markdown",
   "id": "74ed6b58-9c54-42d1-ba3b-deff2de3c36e",
   "metadata": {},
   "source": [
    "Here values in the list are represented by large numbers in the squares; list indices are represented by small numbers above and below.\n",
    "In this case, ``L[2]`` returns ``5``, because that is the next value at index ``2``."
   ]
  },
  {
   "cell_type": "markdown",
   "id": "7f6eb374-706d-4405-91a1-329996ec5232",
   "metadata": {},
   "source": [
    "Where *indexing* is a means of fetching a single value from the list, *slicing* is a means of accessing multiple values in sub-lists.\n",
    "It uses a colon to indicate the start point (inclusive) and end point (non-inclusive) of the sub-array.\n",
    "For example, to get the first three elements of the list, we can write:"
   ]
  },
  {
   "cell_type": "code",
   "execution_count": 68,
   "id": "f3cabd8c-b7a0-411d-b67a-059a33477259",
   "metadata": {
    "collapsed": false,
    "jupyter": {
     "outputs_hidden": false
    }
   },
   "outputs": [
    {
     "data": {
      "text/plain": [
       "[2, 3, 5]"
      ]
     },
     "execution_count": 68,
     "metadata": {},
     "output_type": "execute_result"
    }
   ],
   "source": [
    "L[0:3]"
   ]
  },
  {
   "cell_type": "markdown",
   "id": "d3959a74-a486-459a-baf5-0ad2e6be48cc",
   "metadata": {},
   "source": [
    "Notice where ``0`` and ``3`` lie in the preceding diagram, and how the slice takes just the values between the indices.\n",
    "If we leave out the first index, ``0`` is assumed, so we can equivalently write:"
   ]
  },
  {
   "cell_type": "code",
   "execution_count": 69,
   "id": "a203f458-ddc4-4753-8a23-3d9b3f6f0cd3",
   "metadata": {
    "collapsed": false,
    "jupyter": {
     "outputs_hidden": false
    }
   },
   "outputs": [
    {
     "data": {
      "text/plain": [
       "[2, 3, 5]"
      ]
     },
     "execution_count": 69,
     "metadata": {},
     "output_type": "execute_result"
    }
   ],
   "source": [
    "L[:3]"
   ]
  },
  {
   "cell_type": "markdown",
   "id": "1dc3dfa1-108e-4875-913c-1a41b44182ae",
   "metadata": {},
   "source": [
    "Similarly, if we leave out the last index, it defaults to the length of the list.\n",
    "Thus, the last three elements can be accessed as follows:"
   ]
  },
  {
   "cell_type": "code",
   "execution_count": 70,
   "id": "47b67db8-9520-4d9b-9aa4-c30831b37c6d",
   "metadata": {
    "collapsed": false,
    "jupyter": {
     "outputs_hidden": false
    }
   },
   "outputs": [
    {
     "data": {
      "text/plain": [
       "[5, 7, 11]"
      ]
     },
     "execution_count": 70,
     "metadata": {},
     "output_type": "execute_result"
    }
   ],
   "source": [
    "L[-3:]"
   ]
  },
  {
   "cell_type": "markdown",
   "id": "b26cb802-bccb-4c21-bce3-eca492c20541",
   "metadata": {},
   "source": [
    "Finally, it is possible to specify a third integer that represents the step size; for example, to select every second element of the list, we can write:"
   ]
  },
  {
   "cell_type": "code",
   "execution_count": 71,
   "id": "4c907889-296b-4585-8fc3-0934d721593d",
   "metadata": {
    "collapsed": false,
    "jupyter": {
     "outputs_hidden": false
    }
   },
   "outputs": [
    {
     "data": {
      "text/plain": [
       "[2, 5, 11]"
      ]
     },
     "execution_count": 71,
     "metadata": {},
     "output_type": "execute_result"
    }
   ],
   "source": [
    "L[::2]  # equivalent to L[0:len(L):2]"
   ]
  },
  {
   "cell_type": "markdown",
   "id": "a3094d43-5de5-4a95-b524-3aa581eb3137",
   "metadata": {},
   "source": [
    "A particularly useful version of this is to specify a negative step, which will reverse the array:"
   ]
  },
  {
   "cell_type": "code",
   "execution_count": 72,
   "id": "a47b0121-47f7-4f75-a3c0-ec65a25cb5d4",
   "metadata": {
    "collapsed": false,
    "jupyter": {
     "outputs_hidden": false
    }
   },
   "outputs": [
    {
     "data": {
      "text/plain": [
       "[11, 7, 5, 3, 2]"
      ]
     },
     "execution_count": 72,
     "metadata": {},
     "output_type": "execute_result"
    }
   ],
   "source": [
    "L[::-1]"
   ]
  },
  {
   "cell_type": "markdown",
   "id": "f7fda87a-a555-464b-9f20-0bcfb85e448e",
   "metadata": {},
   "source": [
    "Both indexing and slicing can be used to set elements as well as access them.\n",
    "The syntax is as you would expect:"
   ]
  },
  {
   "cell_type": "code",
   "execution_count": 73,
   "id": "d2325e26-1ba9-464a-ba1a-427e89bfe60f",
   "metadata": {
    "collapsed": false,
    "jupyter": {
     "outputs_hidden": false
    }
   },
   "outputs": [
    {
     "name": "stdout",
     "output_type": "stream",
     "text": [
      "[100, 3, 5, 7, 11]\n"
     ]
    }
   ],
   "source": [
    "L[0] = 100\n",
    "print(L)"
   ]
  },
  {
   "cell_type": "code",
   "execution_count": 74,
   "id": "722253fc-1eec-47f6-a2b3-b09efd49785e",
   "metadata": {
    "collapsed": false,
    "jupyter": {
     "outputs_hidden": false
    }
   },
   "outputs": [
    {
     "name": "stdout",
     "output_type": "stream",
     "text": [
      "[100, 55, 56, 7, 11]\n"
     ]
    }
   ],
   "source": [
    "L[1:3] = [55, 56]\n",
    "print(L)"
   ]
  },
  {
   "cell_type": "markdown",
   "id": "a7d5a34f-89f8-4a01-9805-d0e11f1838ff",
   "metadata": {},
   "source": [
    "A very similar slicing syntax is also used in many data science-oriented packages, including NumPy and Pandas (mentioned in the introduction).\n",
    "\n",
    "Now that we have seen Python lists and how to access elements in ordered compound types, let's take a look at the other three standard compound data types mentioned earlier."
   ]
  },
  {
   "cell_type": "markdown",
   "id": "f179f37f-da6e-4e2a-bd40-362aec7311e4",
   "metadata": {},
   "source": [
    "### Built-In methods for lists"
   ]
  },
  {
   "cell_type": "markdown",
   "id": "4ceee36a-dfc9-403e-97cf-57ecd33520ad",
   "metadata": {},
   "source": [
    "| Method         | Description                                             |\n",
    "|----------------|---------------------------------------------------------|\n",
    "| `list.sort`    | Sorts the list in ascending order.                      |\n",
    "| `list.append`  | Adds one element to a list.                             |\n",
    "| `list.extend`  | Adds multiple elements to a list.                       |\n",
    "| `list.index`   | Returns the first appearance of a particular value.     |\n",
    "| `max(list)`    | It returns an item from the list with a max value.      |\n",
    "| `min(list)`    | It returns an item from the list with a min value.      |\n",
    "| `sum(list)`    | It returns the sum of the elements in the list.         |\n",
    "| `len(list)`    | It gives the overall length of the list.                |\n",
    "| `list.clear`   | Removes all the elements from the list.                 |\n",
    "| `list.insert`  | Adds a component at the required position.              |\n",
    "| `list.count`   | Returns the number of elements with the required value. |\n",
    "| `list.pop`     | Removes the element at the required position.           |\n",
    "| `list.remove`  | Removes the primary item with the desired value.        |\n",
    "| `list.reverse` | Reverses the order of the list.                         |\n",
    "| `list.copy`    | Returns a duplicate of the list.                        |"
   ]
  },
  {
   "cell_type": "code",
   "execution_count": 75,
   "id": "27121c68-b6c3-4f19-b50c-7b5abc23cb1b",
   "metadata": {},
   "outputs": [],
   "source": [
    "L = [11, 2, 45, 1, 0, 13]"
   ]
  },
  {
   "cell_type": "code",
   "execution_count": 76,
   "id": "6736c5c3-a663-492d-aa1c-af81594d9d5c",
   "metadata": {},
   "outputs": [
    {
     "data": {
      "text/plain": [
       "6"
      ]
     },
     "execution_count": 76,
     "metadata": {},
     "output_type": "execute_result"
    }
   ],
   "source": [
    "# get the number of elements in a list\n",
    "\n",
    "len(L)"
   ]
  },
  {
   "cell_type": "code",
   "execution_count": 80,
   "id": "b2a37e29-08fe-4634-aff9-e397d7dd5025",
   "metadata": {},
   "outputs": [],
   "source": [
    "L = [1,2,3,4]"
   ]
  },
  {
   "cell_type": "code",
   "execution_count": 81,
   "id": "ef83be5d-5884-493e-8227-d360baedc276",
   "metadata": {},
   "outputs": [
    {
     "name": "stdout",
     "output_type": "stream",
     "text": [
      "[1, 2, 3, 4]\n",
      "[4, 3, 2, 1]\n"
     ]
    }
   ],
   "source": [
    "# sorting a list\n",
    "\n",
    "L.sort()\n",
    "print(L)\n",
    "\n",
    "L.sort(reverse=True)\n",
    "print(L)"
   ]
  },
  {
   "cell_type": "code",
   "execution_count": 82,
   "id": "35fc5796-8911-4d75-9af0-a742782f3741",
   "metadata": {},
   "outputs": [
    {
     "data": {
      "text/plain": [
       "[4, 3, 2, 1]"
      ]
     },
     "execution_count": 82,
     "metadata": {},
     "output_type": "execute_result"
    }
   ],
   "source": []
  },
  {
   "cell_type": "code",
   "execution_count": 78,
   "id": "8f67db56-6b4f-445f-949d-db2b1927ae45",
   "metadata": {},
   "outputs": [],
   "source": [
    "h = L.sort()"
   ]
  },
  {
   "cell_type": "code",
   "execution_count": 83,
   "id": "09d5c046-6795-4d6f-b761-60803b834376",
   "metadata": {},
   "outputs": [
    {
     "data": {
      "text/plain": [
       "NoneType"
      ]
     },
     "execution_count": 83,
     "metadata": {},
     "output_type": "execute_result"
    }
   ],
   "source": [
    "type(h)"
   ]
  },
  {
   "cell_type": "code",
   "execution_count": null,
   "id": "e9a6d948-3043-42f3-aa68-ca95930a33dd",
   "metadata": {},
   "outputs": [],
   "source": [
    "type(h)"
   ]
  },
  {
   "cell_type": "markdown",
   "id": "90258447-516a-4059-a236-4b5e231e7de8",
   "metadata": {},
   "source": [
    "```{note}\n",
    "The `sort` method is in-place, that is, the list itself is modified. Alternatively, the `sorted` built-in method in Python can be used\n",
    "```"
   ]
  },
  {
   "cell_type": "code",
   "execution_count": null,
   "id": "b8d44de9-8437-491a-84a5-5161c476b4ab",
   "metadata": {},
   "outputs": [],
   "source": [
    "sorted(L)"
   ]
  },
  {
   "cell_type": "code",
   "execution_count": 84,
   "id": "252035ff-3625-45f6-86d6-7f17af09f6d8",
   "metadata": {},
   "outputs": [
    {
     "name": "stdout",
     "output_type": "stream",
     "text": [
      "This is the minimum value of L: 1\n",
      "This is the maximum value of L: 4\n",
      "This is the sum of L: 10\n"
     ]
    }
   ],
   "source": [
    "# min and max\n",
    "\n",
    "print(f\"This is the minimum value of L: {min(L)}\")\n",
    "print(f\"This is the maximum value of L: {max(L)}\")\n",
    "\n",
    "# and sum (just for numbers)\n",
    "print(f\"This is the sum of L: {sum(L)}\")  "
   ]
  },
  {
   "cell_type": "code",
   "execution_count": 85,
   "id": "2ac65904-6cd4-4bde-a11a-e5b729863ad7",
   "metadata": {},
   "outputs": [
    {
     "data": {
      "text/plain": [
       "'b'"
      ]
     },
     "execution_count": 85,
     "metadata": {},
     "output_type": "execute_result"
    }
   ],
   "source": [
    "# apply max to a strings list\n",
    "max([\"a\", \"b\", \"ar\"])"
   ]
  },
  {
   "cell_type": "markdown",
   "id": "8509ba17-cab6-4557-b222-4b9442ca4ee2",
   "metadata": {},
   "source": [
    "````{warning}\n",
    "Be careful with mixed types lists like `L = [1, 'two', 3.14, [0, 3, 5]]`.\n",
    "\n",
    "Obviously, they cannot be sorted!\n",
    "```trace\n",
    "---------------------------------------------------------------------------\n",
    "TypeError                                 Traceback (most recent call last)\n",
    "Input In [18], in <cell line: 1>()\n",
    "----> 1 L.sort()\n",
    "\n",
    "TypeError: '<' not supported between instances of 'str' and 'int'\n",
    "```\n",
    "````"
   ]
  },
  {
   "cell_type": "code",
   "execution_count": 86,
   "id": "176a7940-0882-495e-8228-f5d1fbcc71a2",
   "metadata": {},
   "outputs": [
    {
     "name": "stdout",
     "output_type": "stream",
     "text": [
      "[11, 2, 45, 1, 0, 13, 34]\n",
      "[11, 2, 45, 1, 0, 13, 34, 4, 9, 2]\n",
      "[11, 2, 45, 'A', 1, 0, 13, 34, 4, 9, 2]\n"
     ]
    }
   ],
   "source": [
    "# dynamically changing a list\n",
    "\n",
    "L = [11, 2, 45, 1, 0, 13]\n",
    "\n",
    "# append just one element\n",
    "L.append(34)\n",
    "print(L)\n",
    "\n",
    "# append several element\n",
    "L.extend([4, 9, 2])\n",
    "print(L)\n",
    "\n",
    "# insert a value in determined position\n",
    "L.insert(3, \"A\")\n",
    "print(L)"
   ]
  },
  {
   "cell_type": "code",
   "execution_count": 87,
   "id": "5ac2116f-b0b4-4833-bea1-7dea4ace3cc6",
   "metadata": {},
   "outputs": [
    {
     "data": {
      "text/plain": [
       "'A'"
      ]
     },
     "execution_count": 87,
     "metadata": {},
     "output_type": "execute_result"
    }
   ],
   "source": [
    "# remove values by position\n",
    "L.pop(3)"
   ]
  },
  {
   "cell_type": "code",
   "execution_count": 88,
   "id": "c22c98d2-e34b-4168-9156-8b6305bd68a5",
   "metadata": {},
   "outputs": [
    {
     "name": "stdout",
     "output_type": "stream",
     "text": [
      "[11, 2, 45, 1, 0, 13, 4, 9, 2]\n"
     ]
    }
   ],
   "source": [
    "# remove all occurrences of a value\n",
    "L.remove(34)\n",
    "print(L)"
   ]
  },
  {
   "cell_type": "markdown",
   "id": "44aa8045-b736-4600-bf98-f213b12fb48b",
   "metadata": {},
   "source": [
    "```{note}\n",
    "All these method to dinamically change a list are in-place\n",
    "```"
   ]
  },
  {
   "cell_type": "markdown",
   "id": "04796e6b-f725-4155-9d03-f19641926113",
   "metadata": {},
   "source": [
    "## Tuples\n",
    "Tuples are in many ways similar to lists, but they are defined with parentheses rather than square brackets:"
   ]
  },
  {
   "cell_type": "code",
   "execution_count": 89,
   "id": "6524719f-a6b4-46a5-806c-fbc4699bda11",
   "metadata": {
    "collapsed": false,
    "jupyter": {
     "outputs_hidden": false
    }
   },
   "outputs": [],
   "source": [
    "t = (1, 2, 3)\n",
    "\n",
    "# but also\n",
    "t = tuple([1,2,3])"
   ]
  },
  {
   "cell_type": "markdown",
   "id": "da158a1f-edda-411f-b6bb-9c376791f852",
   "metadata": {},
   "source": [
    "They can also be defined without any brackets at all:"
   ]
  },
  {
   "cell_type": "code",
   "execution_count": 90,
   "id": "2f090b76-af6b-4f3a-b96a-348206a8d51c",
   "metadata": {
    "collapsed": false,
    "jupyter": {
     "outputs_hidden": false
    }
   },
   "outputs": [
    {
     "name": "stdout",
     "output_type": "stream",
     "text": [
      "(1, 2, 3)\n"
     ]
    }
   ],
   "source": [
    "t = 1, 2, 3\n",
    "print(t)"
   ]
  },
  {
   "cell_type": "markdown",
   "id": "e1810fde-6d36-42d7-aaa3-d1a2f911cdc1",
   "metadata": {},
   "source": [
    "Like the lists discussed before, tuples have a length, and individual elements can be extracted using square-bracket indexing:"
   ]
  },
  {
   "cell_type": "code",
   "execution_count": 91,
   "id": "c33c88c2-b63c-4bc5-ab77-8b5d474abe9c",
   "metadata": {
    "collapsed": false,
    "jupyter": {
     "outputs_hidden": false
    }
   },
   "outputs": [
    {
     "data": {
      "text/plain": [
       "3"
      ]
     },
     "execution_count": 91,
     "metadata": {},
     "output_type": "execute_result"
    }
   ],
   "source": [
    "len(t)"
   ]
  },
  {
   "cell_type": "code",
   "execution_count": 92,
   "id": "0f5663d1-5413-4f19-af56-bfc14d728bf8",
   "metadata": {
    "collapsed": false,
    "jupyter": {
     "outputs_hidden": false
    }
   },
   "outputs": [
    {
     "data": {
      "text/plain": [
       "1"
      ]
     },
     "execution_count": 92,
     "metadata": {},
     "output_type": "execute_result"
    }
   ],
   "source": [
    "t[0]"
   ]
  },
  {
   "cell_type": "markdown",
   "id": "a9b79aa8-9412-4867-a5a1-6416d6730075",
   "metadata": {},
   "source": [
    "The main distinguishing feature of tuples is that they are *immutable*: this means that once they are created, their size and contents cannot be changed:"
   ]
  },
  {
   "cell_type": "code",
   "execution_count": 93,
   "id": "c79ef98e-7e73-4397-9b5c-7599e6df728a",
   "metadata": {
    "collapsed": false,
    "jupyter": {
     "outputs_hidden": false
    }
   },
   "outputs": [
    {
     "ename": "TypeError",
     "evalue": "'tuple' object does not support item assignment",
     "output_type": "error",
     "traceback": [
      "\u001B[1;31m---------------------------------------------------------------------------\u001B[0m",
      "\u001B[1;31mTypeError\u001B[0m                                 Traceback (most recent call last)",
      "Input \u001B[1;32mIn [93]\u001B[0m, in \u001B[0;36m<cell line: 1>\u001B[1;34m()\u001B[0m\n\u001B[1;32m----> 1\u001B[0m t[\u001B[38;5;241m1\u001B[39m] \u001B[38;5;241m=\u001B[39m \u001B[38;5;241m4\u001B[39m\n",
      "\u001B[1;31mTypeError\u001B[0m: 'tuple' object does not support item assignment"
     ]
    }
   ],
   "source": [
    "t[1] = 4"
   ]
  },
  {
   "cell_type": "code",
   "execution_count": 94,
   "id": "fe823055-f466-497f-8c63-0874fbcb6d55",
   "metadata": {
    "collapsed": false,
    "jupyter": {
     "outputs_hidden": false
    }
   },
   "outputs": [
    {
     "ename": "AttributeError",
     "evalue": "'tuple' object has no attribute 'append'",
     "output_type": "error",
     "traceback": [
      "\u001B[1;31m---------------------------------------------------------------------------\u001B[0m",
      "\u001B[1;31mAttributeError\u001B[0m                            Traceback (most recent call last)",
      "Input \u001B[1;32mIn [94]\u001B[0m, in \u001B[0;36m<cell line: 1>\u001B[1;34m()\u001B[0m\n\u001B[1;32m----> 1\u001B[0m \u001B[43mt\u001B[49m\u001B[38;5;241;43m.\u001B[39;49m\u001B[43mappend\u001B[49m(\u001B[38;5;241m4\u001B[39m)\n",
      "\u001B[1;31mAttributeError\u001B[0m: 'tuple' object has no attribute 'append'"
     ]
    }
   ],
   "source": [
    "t.append(4)"
   ]
  },
  {
   "cell_type": "markdown",
   "id": "4bde089c-0348-43fe-9e40-6c56c2b1062f",
   "metadata": {},
   "source": [
    "Tuples are often used in a Python program; a particularly common case is in functions that have multiple return values.\n",
    "For example, the ``as_integer_ratio()`` method of floating-point objects returns a numerator and a denominator; this dual return value comes in the form of a tuple:"
   ]
  },
  {
   "cell_type": "code",
   "execution_count": 95,
   "id": "be1f019b-1e65-419e-a19d-f79df9a80595",
   "metadata": {
    "collapsed": false,
    "jupyter": {
     "outputs_hidden": false
    }
   },
   "outputs": [
    {
     "data": {
      "text/plain": [
       "(1, 8)"
      ]
     },
     "execution_count": 95,
     "metadata": {},
     "output_type": "execute_result"
    }
   ],
   "source": [
    "x = 0.125\n",
    "x.as_integer_ratio()"
   ]
  },
  {
   "cell_type": "markdown",
   "id": "bdcbb4c9-7dcd-4ad6-b592-fcce8b91a305",
   "metadata": {},
   "source": [
    "These multiple return values can be individually assigned as follows:"
   ]
  },
  {
   "cell_type": "code",
   "execution_count": 97,
   "id": "68444c6f-06d9-404e-b755-3d2620527fdb",
   "metadata": {
    "collapsed": false,
    "jupyter": {
     "outputs_hidden": false
    }
   },
   "outputs": [
    {
     "name": "stdout",
     "output_type": "stream",
     "text": [
      "0.125\n"
     ]
    }
   ],
   "source": [
    "# unpacking tuples\n",
    "\n",
    "numerator, denominator = x.as_integer_ratio()\n",
    "print(numerator / denominator)"
   ]
  },
  {
   "cell_type": "markdown",
   "id": "0d02e3a9-ea8e-4a35-9753-438e19cdb5d7",
   "metadata": {},
   "source": [
    "## Built-in iterator functions: `range`, `zip` and `enumerate`"
   ]
  },
  {
   "cell_type": "markdown",
   "id": "529e64bd-5e17-4838-a68c-fbf497dbaa15",
   "metadata": {},
   "source": [
    "### `range`"
   ]
  },
  {
   "cell_type": "markdown",
   "id": "2f62cbad-ce0c-4cc8-b425-781ff82be39c",
   "metadata": {},
   "source": [
    "The `range` function allow to build lists of numbers very quickly and flexibly"
   ]
  },
  {
   "cell_type": "code",
   "execution_count": 98,
   "id": "753591f3-e7e4-4717-aac5-29ebb8b04863",
   "metadata": {},
   "outputs": [
    {
     "name": "stdout",
     "output_type": "stream",
     "text": [
      "range(0, 10)\n"
     ]
    }
   ],
   "source": [
    "seq = range(10)\n",
    "\n",
    "# returns and object of type range\n",
    "print(seq)"
   ]
  },
  {
   "cell_type": "code",
   "execution_count": null,
   "id": "11dc7117-c482-4c09-8ead-235c37fd765e",
   "metadata": {},
   "outputs": [],
   "source": [
    "# IMPORTANT: The result of the range function is no a list nor tuple, but a range (it's an iterator)\n",
    "\n",
    "type(seq)"
   ]
  },
  {
   "cell_type": "code",
   "execution_count": 99,
   "id": "e973b6d1-2416-41a8-b1f9-2ea27be34eaa",
   "metadata": {},
   "outputs": [
    {
     "name": "stdout",
     "output_type": "stream",
     "text": [
      "[0, 1, 2, 3, 4, 5, 6, 7, 8, 9]\n"
     ]
    }
   ],
   "source": [
    "# to print the result of range, just transform it to a list\n",
    "seq = list(seq)\n",
    "\n",
    "print(seq)"
   ]
  },
  {
   "cell_type": "code",
   "execution_count": 100,
   "id": "b1196f04-4c71-41ff-be23-b8c712cb1bf8",
   "metadata": {},
   "outputs": [],
   "source": [
    "seq = list(range(1, 100, 2)) # \"stop\" value is not included"
   ]
  },
  {
   "cell_type": "code",
   "execution_count": 101,
   "id": "d81cbaec-a05a-4138-9742-a0b4297010de",
   "metadata": {},
   "outputs": [
    {
     "name": "stdout",
     "output_type": "stream",
     "text": [
      "[1, 3, 5, 7, 9, 11, 13, 15, 17, 19, 21, 23, 25, 27, 29, 31, 33, 35, 37, 39, 41, 43, 45, 47, 49, 51, 53, 55, 57, 59, 61, 63, 65, 67, 69, 71, 73, 75, 77, 79, 81, 83, 85, 87, 89, 91, 93, 95, 97, 99]\n"
     ]
    }
   ],
   "source": [
    "print(seq)"
   ]
  },
  {
   "cell_type": "markdown",
   "id": "e990b88f-2058-43dc-b4bc-65d3ccf6b80b",
   "metadata": {},
   "source": [
    "### `enumerate`\n",
    "The `enumerate` allow us to and incremental number to a given iterator (a list, for example). The result is another iterator."
   ]
  },
  {
   "cell_type": "code",
   "execution_count": 102,
   "id": "9cc8530b-b39c-4db5-b948-15bcd3ee9395",
   "metadata": {},
   "outputs": [
    {
     "name": "stdout",
     "output_type": "stream",
     "text": [
      "['zero', 'one', 'two', 'three', 'four']\n"
     ]
    }
   ],
   "source": [
    "seq = [\"zero\", \"one\", \"two\", \"three\", \"four\"]\n",
    "print(seq)"
   ]
  },
  {
   "cell_type": "code",
   "execution_count": 103,
   "id": "de7bfca7-1f4e-4e49-95e7-c42ab3cf05d8",
   "metadata": {},
   "outputs": [
    {
     "name": "stdout",
     "output_type": "stream",
     "text": [
      "[(0, 'zero'), (1, 'one'), (2, 'two'), (3, 'three'), (4, 'four')]\n"
     ]
    }
   ],
   "source": [
    "enum_seq = enumerate(seq)\n",
    "print(list(enum_seq))"
   ]
  },
  {
   "cell_type": "markdown",
   "id": "97ae371f-da43-480a-b4bc-e50bda6be975",
   "metadata": {},
   "source": [
    "### `zip`\n",
    "The `zip` function concatenates two or more lists elementwise"
   ]
  },
  {
   "cell_type": "code",
   "execution_count": 106,
   "id": "1488592b-c867-496a-8cdb-e6bf19b0ec1a",
   "metadata": {},
   "outputs": [
    {
     "name": "stdout",
     "output_type": "stream",
     "text": [
      "['Madrid', 'Berlin', 'Lisbon', 'London', 'A']\n",
      "['Spain', 'Germany', 'Portugal', 'UK']\n"
     ]
    }
   ],
   "source": [
    "seq1 = [\"Madrid\", \"Berlin\", \"Lisbon\", \"London\",\"A\"]\n",
    "seq2 = [\"Spain\", \"Germany\", \"Portugal\", \"UK\"]\n",
    "print(seq1)\n",
    "print(seq2)"
   ]
  },
  {
   "cell_type": "code",
   "execution_count": 107,
   "id": "5fc291c5-ed71-4bd2-a263-df7506842c46",
   "metadata": {},
   "outputs": [
    {
     "name": "stdout",
     "output_type": "stream",
     "text": [
      "[('Madrid', 'Spain'), ('Berlin', 'Germany'), ('Lisbon', 'Portugal'), ('London', 'UK')]\n"
     ]
    }
   ],
   "source": [
    "joint = zip(seq1, seq2)\n",
    "print(list(joint))"
   ]
  }
 ],
 "metadata": {
  "kernelspec": {
   "display_name": "Python 3 (ipykernel)",
   "language": "python",
   "name": "python3"
  },
  "language_info": {
   "codemirror_mode": {
    "name": "ipython",
    "version": 3
   },
   "file_extension": ".py",
   "mimetype": "text/x-python",
   "name": "python",
   "nbconvert_exporter": "python",
   "pygments_lexer": "ipython3",
   "version": "3.9.16"
  }
 },
 "nbformat": 4,
 "nbformat_minor": 5
}
