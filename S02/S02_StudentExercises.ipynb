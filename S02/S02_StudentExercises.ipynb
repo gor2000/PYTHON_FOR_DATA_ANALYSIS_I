{
 "cells": [
  {
   "cell_type": "markdown",
   "id": "1bd04a5d-bb48-47c0-91d6-0d808ab9eba4",
   "metadata": {
    "tags": []
   },
   "source": [
    "# Exercise 1\n",
    "Remember the factorial of a number $n$ is calculated as $n! = n \\times (n - 1) \\times \\dots \\times 2 \\times 1$.\n",
    "\n",
    "Compute $6!$, assigning the result to a variable name."
   ]
  },
  {
   "cell_type": "code",
   "execution_count": 1,
   "id": "add0d472-6c41-4c1e-a8f1-b9f682fd780e",
   "metadata": {
    "ExecuteTime": {
     "start_time": "2023-05-11T21:13:34.310437Z",
     "end_time": "2023-05-11T21:13:34.396769Z"
    }
   },
   "outputs": [
    {
     "name": "stdout",
     "output_type": "stream",
     "text": [
      "720\n"
     ]
    }
   ],
   "source": [
    "result = 1*2*3*4*5*6\n",
    "print(result)"
   ]
  },
  {
   "cell_type": "markdown",
   "id": "b008ebb1-36be-4a05-8e48-25555bf456b0",
   "metadata": {},
   "source": [
    "# Exercise 2"
   ]
  },
  {
   "cell_type": "markdown",
   "id": "38463ec5-7bd6-42e5-8be6-d5c39c10c2dc",
   "metadata": {},
   "source": [
    "A Python module is contains additional functions that those provided in the Python core. Usually modules are organized in Python packages, and can be imported in our program with the `import` command\n",
    "\n",
    "The `math` module is included in Python by default (it is a built-in module) and contains a lot of math functions to perform more complex operations than those with the built-in operators. You can use the `math` module as follows:\n",
    "```python\n",
    "import math\n",
    "\n",
    "a = 100\n",
    "\n",
    "# compute the logarithm of \"a\"\n",
    "la = math.log(a) \n",
    "```\n",
    "\n",
    "Using the `math` module, check your result for $6!$. You can find the docs here: https://docs.python.org/3/library/math.html (*Hint: Look for the function `math.factorial`*)"
   ]
  },
  {
   "cell_type": "code",
   "execution_count": 9,
   "id": "17845167-795c-4d6f-a47d-859ca56090ef",
   "metadata": {
    "ExecuteTime": {
     "start_time": "2023-05-11T21:18:58.149438Z",
     "end_time": "2023-05-11T21:18:58.168170Z"
    }
   },
   "outputs": [
    {
     "name": "stdout",
     "output_type": "stream",
     "text": [
      "4.605170185988092\n",
      "f6: 720, result: 720, True\n"
     ]
    }
   ],
   "source": [
    "import math\n",
    "a = 100\n",
    "la = math.log(a)\n",
    "print(la)\n",
    "f6 = math.factorial(6)\n",
    "print(f\"f6: {f6}, result: {result}, {result == f6}\")"
   ]
  },
  {
   "cell_type": "markdown",
   "id": "84e4b62e-9ab5-4d13-93bc-1e7547c90e79",
   "metadata": {},
   "source": [
    "# Exercise 3"
   ]
  },
  {
   "cell_type": "markdown",
   "id": "5c33a918-da5d-4f49-b99a-66f7c9c52ecf",
   "metadata": {},
   "source": [
    "Stirling’s approximation gives that, for large enough $n$ $$n! \\simeq \\sqrt{2 \\pi} n^{n + 1/2} e^{-n}$$\n",
    "\n",
    " 1. Using functions and constants from the `math` library, get the results of $n!$ and Stirling’s approximation for `n = 5, 10, 15, 20`\n",
    " 2. For each $n$, calculate the ratio between the exact solution and the approximated one. Round the results to three decimals (*Hint: look for the `round` function*)"
   ]
  },
  {
   "cell_type": "code",
   "execution_count": 48,
   "id": "61694a51-3dcb-4b7d-8294-dbc9116921be",
   "metadata": {
    "ExecuteTime": {
     "start_time": "2023-05-11T21:59:52.727550Z",
     "end_time": "2023-05-11T21:59:52.748598Z"
    }
   },
   "outputs": [
    {
     "name": "stdout",
     "output_type": "stream",
     "text": [
      "Results with Stirling's function vs math.factorial:\n",
      "- n = 5  -> 118.0191679575901 vs 120\n",
      "- n = 10 -> 3598695.6187410373 vs 3628800\n",
      "- n = 15 -> 1300430722199.467 vs 1307674368000\n",
      "- n = 20 -> 2.4227868467611356e+18 vs 2432902008176640000\n",
      "-----------------------------------------------------\n",
      "Results in absolute value with 3 decimals:\n",
      "- Ratio n = 5  -> 1.981\n",
      "- Ratio n = 10 -> 30104.381\n",
      "- Ratio n = 15 -> 7243645800.533\n",
      "- Ratio n = 20 -> 1.0115161415504384e+16\n"
     ]
    }
   ],
   "source": [
    "# Exercise 1\n",
    "def stirlings(n):\n",
    "    pi = math.pi\n",
    "    e = math.e\n",
    "    return math.sqrt(2*pi)*n**(n + 1/2)*e**-n\n",
    "\n",
    "# Results for n = 5, 10, 15, 20\n",
    "n5 = stirlings(5)\n",
    "n10 = stirlings(10)\n",
    "n15 = stirlings(15)\n",
    "n20 = stirlings(20)\n",
    "\n",
    "n5_2 = math.factorial(5)\n",
    "n10_2 = math.factorial(10)\n",
    "n15_2 = math.factorial(15)\n",
    "n20_2 =  math.factorial(20)\n",
    "\n",
    "print(f\"Results with Stirling's function vs math.factorial:\\n\"\n",
    "      f\"- n = 5  -> {n5} vs {n5_2}\\n\"\n",
    "      f\"- n = 10 -> {n10} vs {n10_2}\\n\"\n",
    "      f\"- n = 15 -> {n15} vs {n15_2}\\n\"\n",
    "      f\"- n = 20 -> {n20} vs {n20_2}\")\n",
    "\n",
    "# Exercise 2\n",
    "def difference(n1, n2):\n",
    "    return round(abs(n1 - n2), 3)\n",
    "print(\"-----------------------------------------------------\")\n",
    "print(f\"Results in absolute value with 3 decimals:\\n\"\n",
    "      f\"- Ratio n = 5  -> {difference(n5, n5_2)}\\n\"\n",
    "      f\"- Ratio n = 10 -> {difference(n10, n10_2)}\\n\"\n",
    "      f\"- Ratio n = 15 -> {difference(n15, n15_2)}\\n\"\n",
    "      f\"- Ratio n = 20 -> {difference(n20, n20_2)}\")"
   ]
  },
  {
   "cell_type": "code",
   "execution_count": null,
   "outputs": [],
   "source": [],
   "metadata": {
    "collapsed": false
   }
  }
 ],
 "metadata": {
  "kernelspec": {
   "display_name": "Python 3 (ipykernel)",
   "language": "python",
   "name": "python3"
  },
  "language_info": {
   "codemirror_mode": {
    "name": "ipython",
    "version": 3
   },
   "file_extension": ".py",
   "mimetype": "text/x-python",
   "name": "python",
   "nbconvert_exporter": "python",
   "pygments_lexer": "ipython3",
   "version": "3.8.12"
  },
  "toc-autonumbering": false,
  "toc-showmarkdowntxt": false
 },
 "nbformat": 4,
 "nbformat_minor": 5
}
