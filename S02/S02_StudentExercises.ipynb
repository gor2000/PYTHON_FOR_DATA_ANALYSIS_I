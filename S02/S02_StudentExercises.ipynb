{
 "cells": [
  {
   "cell_type": "markdown",
   "id": "1bd04a5d-bb48-47c0-91d6-0d808ab9eba4",
   "metadata": {
    "tags": []
   },
   "source": [
    "# Exercise 1\n",
    "Remember the factorial of a number $n$ is calculated as $n! = n \\times (n - 1) \\times \\dots \\times 2 \\times 1$.\n",
    "\n",
    "Compute $6!$, assigning the result to a variable name."
   ]
  },
  {
   "cell_type": "code",
   "execution_count": 1,
   "id": "add0d472-6c41-4c1e-a8f1-b9f682fd780e",
   "metadata": {
    "ExecuteTime": {
     "end_time": "2023-05-11T17:02:40.489889Z",
     "start_time": "2023-05-11T17:02:40.483944Z"
    }
   },
   "outputs": [
    {
     "name": "stdout",
     "output_type": "stream",
     "text": [
      "720\n"
     ]
    }
   ],
   "source": [
    "result = 1*2*3*4*5*6\n",
    "print(result)"
   ]
  },
  {
   "cell_type": "markdown",
   "id": "b008ebb1-36be-4a05-8e48-25555bf456b0",
   "metadata": {},
   "source": [
    "# Exercise 2"
   ]
  },
  {
   "cell_type": "markdown",
   "id": "38463ec5-7bd6-42e5-8be6-d5c39c10c2dc",
   "metadata": {},
   "source": [
    "A Python module is contains additional functions that those provided in the Python core. Usually modules are organized in Python packages, and can be imported in our program with the `import` command\n",
    "\n",
    "The `math` module is included in Python by default (it is a built-in module) and contains a lot of math functions to perform more complex operations than those with the built-in operators. You can use the `math` module as follows:\n",
    "```python\n",
    "import math\n",
    "\n",
    "a = 100\n",
    "\n",
    "# compute the logarithm of \"a\"\n",
    "la = math.log(a) \n",
    "```\n",
    "\n",
    "Using the `math` module, check your result for $6!$. You can find the docs here: https://docs.python.org/3/library/math.html (*Hint: Look for the function `math.factorial`*)"
   ]
  },
  {
   "cell_type": "code",
   "execution_count": 2,
   "id": "17845167-795c-4d6f-a47d-859ca56090ef",
   "metadata": {},
   "outputs": [
    {
     "name": "stdout",
     "output_type": "stream",
     "text": [
      "720\n"
     ]
    }
   ],
   "source": [
    "import math\n",
    "\n",
    "print(math.factorial(6))"
   ]
  },
  {
   "cell_type": "markdown",
   "id": "84e4b62e-9ab5-4d13-93bc-1e7547c90e79",
   "metadata": {},
   "source": [
    "# Exercise 3"
   ]
  },
  {
   "cell_type": "markdown",
   "id": "5c33a918-da5d-4f49-b99a-66f7c9c52ecf",
   "metadata": {},
   "source": [
    "Stirling’s approximation gives that, for large enough $n$ $$n! \\simeq \\sqrt{2 \\pi} n^{n + 1/2} e^{-n}$$\n",
    "\n",
    " 1. Using functions and constants from the `math` library, get the results of $n!$ and Stirling’s approximation for `n = 5, 10, 15, 20`\n",
    " 2. For each $n$, calculate the ratio between the exact solution and the approximated one. Round the results to three decimals (*Hint: look for the `round` function*)"
   ]
  },
  {
   "cell_type": "code",
   "execution_count": null,
   "id": "61694a51-3dcb-4b7d-8294-dbc9116921be",
   "metadata": {},
   "outputs": [],
   "source": []
  }
 ],
 "metadata": {
  "kernelspec": {
   "display_name": "Python 3 (ipykernel)",
   "language": "python",
   "name": "python3"
  },
  "language_info": {
   "codemirror_mode": {
    "name": "ipython",
    "version": 3
   },
   "file_extension": ".py",
   "mimetype": "text/x-python",
   "name": "python",
   "nbconvert_exporter": "python",
   "pygments_lexer": "ipython3",
   "version": "3.8.12"
  },
  "toc-autonumbering": false,
  "toc-showmarkdowntxt": false
 },
 "nbformat": 4,
 "nbformat_minor": 5
}
