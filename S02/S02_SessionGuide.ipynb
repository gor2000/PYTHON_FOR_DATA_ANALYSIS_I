{
 "cells": [
  {
   "cell_type": "markdown",
   "id": "cc91efcc-6af2-42ed-bd6a-9f853d287bf0",
   "metadata": {
    "tags": []
   },
   "source": [
    "# A Quick Tour of Python Language Syntax"
   ]
  },
  {
   "cell_type": "markdown",
   "id": "bad8dcb2-f911-4a95-b28a-2147182703c5",
   "metadata": {},
   "source": [
    "## Comments Are Marked by ``#``"
   ]
  },
  {
   "cell_type": "code",
   "execution_count": 1,
   "id": "1c9207e6-e841-4196-8f23-9b793d0f4720",
   "metadata": {},
   "outputs": [],
   "source": [
    "# this is a comment in Python"
   ]
  },
  {
   "cell_type": "code",
   "execution_count": 2,
   "id": "11dd79db-bf54-414d-8e4a-5c882954bf44",
   "metadata": {},
   "outputs": [],
   "source": [
    "variable = 5  # and this is also a comment"
   ]
  },
  {
   "cell_type": "markdown",
   "id": "a1a444c9-79ff-4990-b060-702e217ac0e0",
   "metadata": {},
   "source": [
    "## End-of-Line Terminates a Statement\n",
    "Every line of code is executed sequentially by the virtual machine"
   ]
  },
  {
   "cell_type": "code",
   "execution_count": 3,
   "id": "aee10725-2513-4d28-b1a0-f876969f1b48",
   "metadata": {},
   "outputs": [],
   "source": [
    "# code is executed sequentially and the end of the line terminates a statement\n",
    "variable1 = 12\n",
    "variable2 = 24"
   ]
  },
  {
   "cell_type": "code",
   "execution_count": 4,
   "id": "5789c406-80c7-4c70-86f0-71e58bd0ce45",
   "metadata": {
    "collapsed": false,
    "jupyter": {
     "outputs_hidden": false
    }
   },
   "outputs": [],
   "source": [
    "x = 1 + 2 + 3 + 4 +\\\n",
    "    5 + 6 + 7 + 8"
   ]
  },
  {
   "cell_type": "markdown",
   "id": "e9503124-5c95-4d57-b571-d689af21f3d5",
   "metadata": {},
   "source": [
    "It is also possible to continue expressions on the next line within parentheses, without using the \"``\\``\" marker:"
   ]
  },
  {
   "cell_type": "code",
   "execution_count": 5,
   "id": "26fb251e-a5f7-4e6a-83a1-4aff830324c6",
   "metadata": {
    "collapsed": false,
    "jupyter": {
     "outputs_hidden": false
    }
   },
   "outputs": [],
   "source": [
    "x = (1 + 2 + 3 + 4 +\n",
    "     5 + 6 + 7 + 8)"
   ]
  },
  {
   "cell_type": "markdown",
   "id": "1cf4f141-c779-4723-aebc-9339204115b2",
   "metadata": {},
   "source": [
    "Most Python style guides recommend the second version of line continuation (within parentheses) to the first (use of the \"``\\``\" marker)."
   ]
  },
  {
   "cell_type": "code",
   "execution_count": 6,
   "id": "b6a97494-7ce5-4d3e-a3de-96893e3edf17",
   "metadata": {},
   "outputs": [],
   "source": [
    "# the ; character also terminates the statement, but is not recommended\n",
    "variable = 5; "
   ]
  },
  {
   "cell_type": "markdown",
   "id": "e94a384e-0e8a-4529-9305-f05e4a1e0022",
   "metadata": {},
   "source": [
    "## Whitespace *Within* Lines Does Not Matter"
   ]
  },
  {
   "cell_type": "code",
   "execution_count": 7,
   "id": "117fcfaa-c085-4dd8-a899-7da9ef6efa0e",
   "metadata": {
    "collapsed": false,
    "jupyter": {
     "outputs_hidden": false
    }
   },
   "outputs": [],
   "source": [
    "# whitespaces in the same line don't matter\n",
    "x=1+2\n",
    "x = 1 + 2\n",
    "x             =        1    +                2"
   ]
  },
  {
   "cell_type": "markdown",
   "id": "fb4cabad-04b5-4c41-9c26-07627137f9f5",
   "metadata": {},
   "source": [
    "## Parentheses for Grouping or Calling (functions)\n"
   ]
  },
  {
   "cell_type": "code",
   "execution_count": 8,
   "id": "b99b0e24-29fd-4b1e-818b-2f6d5e39b8bf",
   "metadata": {
    "collapsed": false,
    "jupyter": {
     "outputs_hidden": false
    }
   },
   "outputs": [
    {
     "data": {
      "text/plain": [
       "14"
      ]
     },
     "execution_count": 8,
     "metadata": {},
     "output_type": "execute_result"
    }
   ],
   "source": [
    "# using parenthesis for grouping\n",
    "2 * (3 + 4)"
   ]
  },
  {
   "cell_type": "code",
   "execution_count": 9,
   "id": "78240a72-fa69-43c2-bbb1-7e65f187fdfb",
   "metadata": {
    "collapsed": false,
    "jupyter": {
     "outputs_hidden": false
    }
   },
   "outputs": [
    {
     "name": "stdout",
     "output_type": "stream",
     "text": [
      "first value: 1\n"
     ]
    }
   ],
   "source": [
    "# using parenthesis for calling functions\n",
    "print('first value:', 1)"
   ]
  },
  {
   "cell_type": "code",
   "execution_count": 10,
   "id": "cec18780-325d-44cf-8882-dcd7453dee23",
   "metadata": {
    "collapsed": false,
    "jupyter": {
     "outputs_hidden": false
    }
   },
   "outputs": [
    {
     "name": "stdout",
     "output_type": "stream",
     "text": [
      "second value: 2\n"
     ]
    }
   ],
   "source": [
    "print('second value:', 2)"
   ]
  },
  {
   "cell_type": "markdown",
   "id": "325389e4-717f-4825-baaa-2f9c8e63efdf",
   "metadata": {},
   "source": [
    "## The `print` and `input` built-in functions"
   ]
  },
  {
   "cell_type": "markdown",
   "id": "09e579f3-e4e9-4225-bc82-2a7911704f02",
   "metadata": {},
   "source": [
    "In Python there are several **built-in functions**. A function is a piece of already implemented code (in Python or even in other languages) that provides some defined functionality. The most simple ones are `print` and `input`.\n",
    "\n",
    "**Functions** are called (executed) with parenthesis and they can receive *parameters* as input. The input parameters of a function defines its behavior, for example, the `print` function needs the thing we want to print as the input parameter.\n",
    "\n",
    "To check how a function works you can use the function `help`"
   ]
  },
  {
   "cell_type": "code",
   "execution_count": 11,
   "id": "09a4dc37-3228-4d1a-be34-7d94984e21b5",
   "metadata": {},
   "outputs": [
    {
     "name": "stdout",
     "output_type": "stream",
     "text": [
      "Help on built-in function print in module builtins:\n",
      "\n",
      "print(...)\n",
      "    print(value, ..., sep=' ', end='\\n', file=sys.stdout, flush=False)\n",
      "    \n",
      "    Prints the values to a stream, or to sys.stdout by default.\n",
      "    Optional keyword arguments:\n",
      "    file:  a file-like object (stream); defaults to the current sys.stdout.\n",
      "    sep:   string inserted between values, default a space.\n",
      "    end:   string appended after the last value, default a newline.\n",
      "    flush: whether to forcibly flush the stream.\n",
      "\n"
     ]
    }
   ],
   "source": [
    "help(print)"
   ]
  },
  {
   "cell_type": "markdown",
   "id": "0a226990-d6d1-4b30-bb7c-3e369c0ee6e7",
   "metadata": {},
   "source": [
    "### The `print` function"
   ]
  },
  {
   "cell_type": "code",
   "execution_count": 12,
   "id": "3a229614-47c5-465b-a0a9-a139c018a35e",
   "metadata": {},
   "outputs": [
    {
     "name": "stdout",
     "output_type": "stream",
     "text": [
      "using the print function\n"
     ]
    }
   ],
   "source": [
    "# with \"print\" we can print the value of the variables and objects in Python\n",
    "print(\"using the print function\")"
   ]
  },
  {
   "cell_type": "code",
   "execution_count": 13,
   "id": "68bae998-d036-4505-9aed-d4552263991e",
   "metadata": {},
   "outputs": [
    {
     "name": "stdout",
     "output_type": "stream",
     "text": [
      "3\n"
     ]
    }
   ],
   "source": [
    "print(3)"
   ]
  },
  {
   "cell_type": "code",
   "execution_count": 14,
   "id": "7441943e-ccda-4f82-adb9-2cf5e0ff7b38",
   "metadata": {},
   "outputs": [
    {
     "name": "stdout",
     "output_type": "stream",
     "text": [
      "10\n"
     ]
    }
   ],
   "source": [
    "print(1+2+3+4)"
   ]
  },
  {
   "cell_type": "code",
   "execution_count": 15,
   "id": "8b3107fc-f5c5-4377-899d-a5790be3b5b9",
   "metadata": {},
   "outputs": [
    {
     "name": "stdout",
     "output_type": "stream",
     "text": [
      "3\n"
     ]
    }
   ],
   "source": [
    "variable = 3\n",
    "print(variable)"
   ]
  },
  {
   "cell_type": "code",
   "execution_count": 16,
   "id": "25522ce4-d8c8-4192-a151-f9f76dbdaf35",
   "metadata": {},
   "outputs": [
    {
     "name": "stdout",
     "output_type": "stream",
     "text": [
      "The value of 'variable' is 3\n"
     ]
    }
   ],
   "source": [
    "# I can simply concatenate several prints with \",\"\n",
    "print(\"The value of 'variable' is\", variable)"
   ]
  },
  {
   "cell_type": "markdown",
   "id": "876b679d-6b4f-4c73-b192-12a421e8e183",
   "metadata": {},
   "source": [
    "### The `input` function"
   ]
  },
  {
   "cell_type": "code",
   "execution_count": 17,
   "id": "ba304c79-a5ac-4a56-bd42-1b5c753c4493",
   "metadata": {},
   "outputs": [
    {
     "name": "stdin",
     "output_type": "stream",
     "text": [
      "Write your name: Daniel\n"
     ]
    },
    {
     "data": {
      "text/plain": [
       "'Daniel'"
      ]
     },
     "execution_count": 17,
     "metadata": {},
     "output_type": "execute_result"
    }
   ],
   "source": [
    "# with \"input\" I can register the user input interface\n",
    "input(\"Write your name:\")"
   ]
  },
  {
   "cell_type": "code",
   "execution_count": 18,
   "id": "72200d16-494a-4e7f-a4d1-ec50044ee2b2",
   "metadata": {},
   "outputs": [
    {
     "name": "stdin",
     "output_type": "stream",
     "text": [
      "Write your name: Daniel\n"
     ]
    }
   ],
   "source": [
    "# also, we can store the given input in a variable\n",
    "name = input(\"Write your name:\")"
   ]
  },
  {
   "cell_type": "code",
   "execution_count": 19,
   "id": "54aa7964-30f3-4f67-8de4-1a371305d05e",
   "metadata": {},
   "outputs": [
    {
     "name": "stdout",
     "output_type": "stream",
     "text": [
      "My name is Daniel\n"
     ]
    }
   ],
   "source": [
    "print(\"My name is\", name)"
   ]
  },
  {
   "cell_type": "markdown",
   "id": "b025c43e-4d78-41a7-9c98-ac66e9845dda",
   "metadata": {},
   "source": [
    "> ***EXAMPLE 1***\n",
    ">\n",
    "> Write a program that asks for your name and age and prints the result with the following format: \"My name is <> and I'm <>\""
   ]
  },
  {
   "cell_type": "code",
   "execution_count": 20,
   "id": "d8247f60-a256-4cad-8dfd-5edc84f75a5e",
   "metadata": {},
   "outputs": [
    {
     "name": "stdin",
     "output_type": "stream",
     "text": [
      "Give me your name Daniel\n",
      "Give me your age 31\n"
     ]
    },
    {
     "name": "stdout",
     "output_type": "stream",
     "text": [
      "My name is Daniel and I'm 31\n"
     ]
    }
   ],
   "source": [
    "name = input(\"Give me your name\")\n",
    "age = input(\"Give me your age\")\n",
    "print(\"My name is\", name, \"and I'm\", age)"
   ]
  },
  {
   "cell_type": "markdown",
   "id": "b1f6d43c-19fc-4195-aee7-e544146bdf21",
   "metadata": {},
   "source": [
    "# Variables in Python"
   ]
  },
  {
   "cell_type": "code",
   "execution_count": 21,
   "id": "26311205-89d1-42c3-91fc-c810135ee547",
   "metadata": {},
   "outputs": [],
   "source": [
    "# in Python we define new variables with the assingment operator \"=\"\n",
    "x = 5"
   ]
  },
  {
   "cell_type": "markdown",
   "id": "88fcfe6b-6f0d-476c-8849-b149168bf677",
   "metadata": {},
   "source": [
    "Variables are dinamically defined, that is, we don't have to \"declare\" the variable with the corresponding type (like in other languages)"
   ]
  },
  {
   "cell_type": "code",
   "execution_count": 22,
   "id": "62817342-f23b-476c-bb28-cbb9595989b1",
   "metadata": {
    "collapsed": false,
    "jupyter": {
     "outputs_hidden": false
    }
   },
   "outputs": [],
   "source": [
    "# variables are dinamically defined, that is, we don't have to \"declare\" the variable with the corresponding type (like in other languages)\n",
    "x = 1         # x is an integer\n",
    "x = 'hello'   # now x is a string\n",
    "x = [1, 2, 3] # now x is a list"
   ]
  },
  {
   "cell_type": "markdown",
   "id": "c9105ee6-63e0-47b1-90da-f11024f48c37",
   "metadata": {},
   "source": [
    "Variables in Python are **pointers**, that is, they don't contain the assigned value (a variable is not a container). Instead of that, they point to the bucket (a zone in memory) in which the value is stored"
   ]
  },
  {
   "cell_type": "code",
   "execution_count": 23,
   "id": "915d311c-4c8d-4fa8-9920-3ae43f54870f",
   "metadata": {
    "collapsed": false,
    "jupyter": {
     "outputs_hidden": false
    }
   },
   "outputs": [],
   "source": [
    "# Here we create two different variables with value 12 (two pointers to the value 12)\n",
    "a = [1,2,3]\n",
    "b = [1,2,3]"
   ]
  },
  {
   "cell_type": "code",
   "execution_count": 24,
   "id": "db1d8206-ef31-465e-8001-0dc657eb4e32",
   "metadata": {},
   "outputs": [
    {
     "name": "stdout",
     "output_type": "stream",
     "text": [
      "This is the identifier of 'a': 2404139593280\n",
      "This is the identifier of 'b': 2404139592128\n"
     ]
    }
   ],
   "source": [
    "print(\"This is the identifier of 'a':\", id(a))  # the \"id\" function gives a unique number representing the memory address the variable is pointing to\n",
    "print(\"This is the identifier of 'b':\", id(b))"
   ]
  },
  {
   "cell_type": "code",
   "execution_count": 25,
   "id": "c2aef375-4bbd-4154-a292-01b06b1208be",
   "metadata": {},
   "outputs": [],
   "source": [
    "# Here we create a variable \"a\" with value 12, and the copy the pointer to the variable \"b\"\n",
    "a = [1,2,3]\n",
    "b = a"
   ]
  },
  {
   "cell_type": "code",
   "execution_count": 26,
   "id": "612d66ac-217a-429d-b350-28e875fc1841",
   "metadata": {},
   "outputs": [
    {
     "name": "stdout",
     "output_type": "stream",
     "text": [
      "This is the identifier of 'a': 2404139420416\n",
      "This is the identifier of 'b': 2404139420416\n"
     ]
    }
   ],
   "source": [
    "print(\"This is the identifier of 'a':\", id(a))\n",
    "print(\"This is the identifier of 'b':\", id(b))"
   ]
  },
  {
   "cell_type": "code",
   "execution_count": 27,
   "id": "8d6b902b-bd73-44da-aed2-b50fe12ed213",
   "metadata": {
    "collapsed": false,
    "jupyter": {
     "outputs_hidden": false
    }
   },
   "outputs": [
    {
     "name": "stdout",
     "output_type": "stream",
     "text": [
      "x = 15\n",
      "y = 10\n"
     ]
    }
   ],
   "source": [
    "# Be careful with this!\n",
    "\n",
    "x = 10\n",
    "y = x\n",
    "x += 5  # we are just changing the value of x (the thing that x is pointing to)\n",
    "print(\"x =\", x)\n",
    "print(\"y =\", y)"
   ]
  },
  {
   "cell_type": "markdown",
   "id": "5a28a902-5793-46e4-ae06-432e7b02bc06",
   "metadata": {},
   "source": [
    "# Basic Python Semantics: Operators"
   ]
  },
  {
   "cell_type": "markdown",
   "id": "31a851db-eacd-47d2-9227-723a923609f7",
   "metadata": {},
   "source": [
    "In the previous section, we began to look at the semantics of Python variables and objects; here we'll dig into the semantics of the various *operators* included in the language.\n",
    "By the end of this section, you'll have the basic tools to begin comparing and operating on data in Python."
   ]
  },
  {
   "cell_type": "markdown",
   "id": "aff2dd88-9f2c-4934-aaf4-828f12aa738e",
   "metadata": {},
   "source": [
    "## Arithmetic Operations\n",
    "Python implements seven basic binary arithmetic operators, two of which can double as unary operators.\n",
    "They are summarized in the following table:\n",
    "\n",
    "| Operator     | Name           | Description                                            |\n",
    "|--------------|----------------|--------------------------------------------------------|\n",
    "| ``a + b``    | Addition       | Sum of ``a`` and ``b``                                 |\n",
    "| ``a - b``    | Subtraction    | Difference of ``a`` and ``b``                          |\n",
    "| ``a * b``    | Multiplication | Product of ``a`` and ``b``                             |\n",
    "| ``a / b``    | True division  | Quotient of ``a`` and ``b``                            |\n",
    "| ``a // b``   | Floor division | Quotient of ``a`` and ``b``, removing fractional parts |\n",
    "| ``a % b``    | Modulus        | Integer remainder after division of ``a`` by ``b``     |\n",
    "| ``a ** b``   | Exponentiation | ``a`` raised to the power of ``b``                     |\n",
    "| ``-a``       | Negation       | The negative of ``a``                                  |\n",
    "| ``+a``       | Unary plus     | ``a`` unchanged (rarely used)                          |\n",
    "| ``a @ b``       | Matrix product     | Introduced in Python 3.5                          |\n",
    "\n",
    "These operators can be used and combined in intuitive ways, using standard parentheses to group operations.\n",
    "For example:"
   ]
  },
  {
   "cell_type": "code",
   "execution_count": 28,
   "id": "33182881-dbbb-4561-a4a4-7d4c65675d25",
   "metadata": {
    "collapsed": false,
    "jupyter": {
     "outputs_hidden": false
    }
   },
   "outputs": [
    {
     "data": {
      "text/plain": [
       "42.0"
      ]
     },
     "execution_count": 28,
     "metadata": {},
     "output_type": "execute_result"
    }
   ],
   "source": [
    "# addition, subtraction, multiplication\n",
    "(4 + 8) * (6.5 - 3)"
   ]
  },
  {
   "cell_type": "markdown",
   "id": "d8eaa973-b783-426c-b9fd-1f3f402c53f5",
   "metadata": {},
   "source": [
    "Floor division is true division with fractional parts truncated:"
   ]
  },
  {
   "cell_type": "code",
   "execution_count": 29,
   "id": "c5016b3f-8fb0-4873-b94b-a416edfaefaf",
   "metadata": {
    "collapsed": false,
    "jupyter": {
     "outputs_hidden": false
    }
   },
   "outputs": [
    {
     "name": "stdout",
     "output_type": "stream",
     "text": [
      "5.5\n"
     ]
    }
   ],
   "source": [
    "# True division\n",
    "print(11 / 2)"
   ]
  },
  {
   "cell_type": "code",
   "execution_count": 30,
   "id": "3f6480b2-8a1f-4681-8df5-1d49d9404abb",
   "metadata": {
    "collapsed": false,
    "jupyter": {
     "outputs_hidden": false
    }
   },
   "outputs": [
    {
     "name": "stdout",
     "output_type": "stream",
     "text": [
      "5\n"
     ]
    }
   ],
   "source": [
    "# Floor division\n",
    "print(11 // 2)"
   ]
  },
  {
   "cell_type": "code",
   "execution_count": 31,
   "id": "41840d41-4977-4997-82f2-c21cdbb17e46",
   "metadata": {},
   "outputs": [
    {
     "name": "stdout",
     "output_type": "stream",
     "text": [
      "Even number remainder 0\n",
      "Odd number remainder 1\n"
     ]
    }
   ],
   "source": [
    "# the modulus operator\n",
    "print(\"Even number remainder\", 30 % 2)\n",
    "print(\"Odd number remainder\", 31 % 2)"
   ]
  },
  {
   "cell_type": "markdown",
   "id": "96c2c666-272b-492d-9103-fa04e033ab21",
   "metadata": {},
   "source": [
    "> ***EXAMPLE 2***\n",
    ">Find out the result of `c` and `f`:\n",
    ">\n",
    ">$a = 0.1,\\quad b = 0.2, \\quad d = \\frac{1}{3}, \\quad e = 1.25$\n",
    ">\n",
    ">$c=\\frac{a + b}{a - b}\\quad \\quad$\n",
    ">$f=\\frac{10c + \\frac{d}{2}}{3}$"
   ]
  },
  {
   "cell_type": "code",
   "execution_count": 32,
   "id": "68b79f76-6e4f-4848-a0f5-9146b8754351",
   "metadata": {},
   "outputs": [],
   "source": [
    "a = 0.1\n",
    "b = 0.2\n",
    "d = 1/3\n",
    "e = 1.25"
   ]
  },
  {
   "cell_type": "code",
   "execution_count": 33,
   "id": "cace641f-1f93-49ba-a3c8-fe162dbc185d",
   "metadata": {},
   "outputs": [
    {
     "name": "stdout",
     "output_type": "stream",
     "text": [
      "c =  -3.0000000000000004\n"
     ]
    }
   ],
   "source": [
    "c = (a+b)/(a-b)\n",
    "print(\"c = \", c)"
   ]
  },
  {
   "cell_type": "code",
   "execution_count": 34,
   "id": "45224195-d847-40a7-b329-5ef5e27ff7a0",
   "metadata": {},
   "outputs": [
    {
     "name": "stdout",
     "output_type": "stream",
     "text": [
      "f =  -9.944444444444445\n"
     ]
    }
   ],
   "source": [
    "f = (10*c+(d/2))/3\n",
    "print(\"f = \", f)"
   ]
  },
  {
   "cell_type": "markdown",
   "id": "84a547c9-c823-4df3-893b-47564e2ce325",
   "metadata": {},
   "source": [
    "## Assignment Operations"
   ]
  },
  {
   "cell_type": "code",
   "execution_count": 35,
   "id": "375543e5-0c35-4a0e-b1c0-c4097680dca7",
   "metadata": {
    "collapsed": false,
    "jupyter": {
     "outputs_hidden": false
    }
   },
   "outputs": [
    {
     "name": "stdout",
     "output_type": "stream",
     "text": [
      "24\n"
     ]
    }
   ],
   "source": [
    "a = 24\n",
    "print(a)"
   ]
  },
  {
   "cell_type": "code",
   "execution_count": 36,
   "id": "902c8c4e-c1b0-4b9f-87df-b1ecef9f6953",
   "metadata": {
    "collapsed": false,
    "jupyter": {
     "outputs_hidden": false
    }
   },
   "outputs": [
    {
     "data": {
      "text/plain": [
       "26"
      ]
     },
     "execution_count": 36,
     "metadata": {},
     "output_type": "execute_result"
    }
   ],
   "source": [
    "a + 2  # this don't make an assignment"
   ]
  },
  {
   "cell_type": "code",
   "execution_count": 37,
   "id": "4d39c2c5-0841-4c6d-901a-32d1fe844e6d",
   "metadata": {
    "collapsed": false,
    "jupyter": {
     "outputs_hidden": false
    }
   },
   "outputs": [
    {
     "name": "stdout",
     "output_type": "stream",
     "text": [
      "26\n"
     ]
    }
   ],
   "source": [
    "a += 2  # this is an \"augmented assignment\". it is equivalent to a = a + 2\n",
    "print(a)"
   ]
  },
  {
   "cell_type": "markdown",
   "id": "bc4d33e5-295f-4833-b9b0-41c5c1286361",
   "metadata": {},
   "source": [
    "There is an augmented assignment operator corresponding to each of the binary operators listed earlier; in brief, they are:\n",
    "\n",
    "|||||\n",
    "|-|-|-|-|\n",
    "|``a += b``| ``a -= b``|``a *= b``| ``a /= b``|\n",
    "|``a //= b``| ``a %= b``|``a **= b``|``a &= b``|"
   ]
  },
  {
   "cell_type": "markdown",
   "id": "664dea82-8fc9-4815-a175-96a0dd02bcb1",
   "metadata": {},
   "source": [
    "## Comparison Operations\n",
    "\n",
    "Another type of operation which can be very useful is comparison of different values.\n",
    "For this, Python implements standard comparison operators, which return Boolean values `True` and `False`.\n",
    "The comparison operations are listed in the following table:\n",
    "\n",
    "| Operation     | Description                       | Operation     | Description                          |\n",
    "|---------------|-----------------------------------|---------------|--------------------------------------|\n",
    "| `a == b`    | `a` equal to `b`              | `a != b`    | `a` not equal to `b`             |\n",
    "| `a < b`     | `a` less than `b`             | `a > b`     | `a` greater than `b`             |\n",
    "| `a <= b`    | `a` less than or equal to `b` | `a >= b`    | `a` greater than or equal to `b` |\n"
   ]
  },
  {
   "cell_type": "code",
   "execution_count": 38,
   "id": "9c16bbdd-0caa-4079-b6b0-ea09cdb6a878",
   "metadata": {},
   "outputs": [
    {
     "data": {
      "text/plain": [
       "False"
      ]
     },
     "execution_count": 38,
     "metadata": {},
     "output_type": "execute_result"
    }
   ],
   "source": [
    "a = 4\n",
    "a > 5"
   ]
  },
  {
   "cell_type": "code",
   "execution_count": 39,
   "id": "c1dbfdf1-b1e7-4f7b-ab75-00b73f3e774e",
   "metadata": {
    "collapsed": false,
    "jupyter": {
     "outputs_hidden": false
    }
   },
   "outputs": [
    {
     "data": {
      "text/plain": [
       "True"
      ]
     },
     "execution_count": 39,
     "metadata": {},
     "output_type": "execute_result"
    }
   ],
   "source": [
    "# 25 is odd\n",
    "25 % 2 == 1"
   ]
  },
  {
   "cell_type": "code",
   "execution_count": 40,
   "id": "885b1922-ec44-4683-a62b-9bb0a27b88d9",
   "metadata": {
    "collapsed": false,
    "jupyter": {
     "outputs_hidden": false
    }
   },
   "outputs": [
    {
     "data": {
      "text/plain": [
       "False"
      ]
     },
     "execution_count": 40,
     "metadata": {},
     "output_type": "execute_result"
    }
   ],
   "source": [
    "# 66 is odd\n",
    "66 % 2 == 1"
   ]
  },
  {
   "cell_type": "markdown",
   "id": "d12a92fc-7022-4c06-9e46-41693353ddfe",
   "metadata": {},
   "source": [
    "We can string-together multiple comparisons to check more complicated relationships:"
   ]
  },
  {
   "cell_type": "code",
   "execution_count": 41,
   "id": "4605ea8a-6028-4d41-a259-5b8e4883eb7d",
   "metadata": {
    "collapsed": false,
    "jupyter": {
     "outputs_hidden": false
    }
   },
   "outputs": [
    {
     "data": {
      "text/plain": [
       "True"
      ]
     },
     "execution_count": 41,
     "metadata": {},
     "output_type": "execute_result"
    }
   ],
   "source": [
    "# check if a is between 15 and 30\n",
    "a = 25\n",
    "15 < a < 30"
   ]
  },
  {
   "cell_type": "markdown",
   "id": "8c6a8ff2-f959-42bf-a010-6a19751b6b96",
   "metadata": {},
   "source": [
    "## Boolean Operations\n",
    "When working with Boolean values, Python provides operators to combine the values using the standard concepts of \"and\", \"or\", and \"not\".\n",
    "Predictably, these operators are expressed using the words ``and``, ``or``, and ``not``:"
   ]
  },
  {
   "cell_type": "markdown",
   "id": "4539b67d-8d3a-481f-945e-37a27538c29d",
   "metadata": {},
   "source": [
    "|Operator|Description|Syntax|\n",
    "|--------|-----------|------|\n",
    "|and|Logical AND: True if both the operands are true|`x and y`|\n",
    "|or|Logical OR: True if either of the operands is true|`x or y`|\n",
    "|not|Logical NOT: True if operand is false|`not x`|"
   ]
  },
  {
   "cell_type": "code",
   "execution_count": 42,
   "id": "4ff07168-6e51-475a-9b5d-5fcf56d4e8bf",
   "metadata": {
    "collapsed": false,
    "jupyter": {
     "outputs_hidden": false
    }
   },
   "outputs": [
    {
     "data": {
      "text/plain": [
       "True"
      ]
     },
     "execution_count": 42,
     "metadata": {},
     "output_type": "execute_result"
    }
   ],
   "source": [
    "x = 4\n",
    "(x < 6) and (x > 2)"
   ]
  },
  {
   "cell_type": "code",
   "execution_count": 43,
   "id": "b1665bf5-8ef6-43ab-a428-580539220e5c",
   "metadata": {
    "collapsed": false,
    "jupyter": {
     "outputs_hidden": false
    }
   },
   "outputs": [
    {
     "data": {
      "text/plain": [
       "True"
      ]
     },
     "execution_count": 43,
     "metadata": {},
     "output_type": "execute_result"
    }
   ],
   "source": [
    "(x > 10) or (x % 2 == 0)"
   ]
  },
  {
   "cell_type": "code",
   "execution_count": 44,
   "id": "fd7febc7-5cd5-4053-b312-8b415cb9ec07",
   "metadata": {
    "collapsed": false,
    "jupyter": {
     "outputs_hidden": false
    }
   },
   "outputs": [
    {
     "data": {
      "text/plain": [
       "False"
      ]
     },
     "execution_count": 44,
     "metadata": {},
     "output_type": "execute_result"
    }
   ],
   "source": [
    "not (x < 6)"
   ]
  },
  {
   "cell_type": "markdown",
   "id": "4d551e9b-fe4e-4ffc-99de-e403d41a4bae",
   "metadata": {},
   "source": [
    "Boolean algebra aficionados might notice that the XOR operator is not included; this can of course be constructed in several ways from a compound statement of the other operators.\n",
    "Otherwise, a clever trick you can use for XOR of Boolean values is the following:"
   ]
  },
  {
   "cell_type": "code",
   "execution_count": 45,
   "id": "1d4c3be1-2552-4ae1-ab55-968c52c8f137",
   "metadata": {
    "collapsed": false,
    "jupyter": {
     "outputs_hidden": false
    }
   },
   "outputs": [
    {
     "data": {
      "text/plain": [
       "False"
      ]
     },
     "execution_count": 45,
     "metadata": {},
     "output_type": "execute_result"
    }
   ],
   "source": [
    "# (x > 1) xor (x < 10)\n",
    "(x > 1) != (x < 10)"
   ]
  },
  {
   "cell_type": "markdown",
   "id": "9b8a4b24-ac97-47c6-8abc-e7a7f58003b8",
   "metadata": {},
   "source": [
    "These sorts of Boolean operations will become extremely useful when we begin discussing *control flow statements* such as conditionals and loops."
   ]
  },
  {
   "cell_type": "markdown",
   "id": "aee69c41-24a5-486c-8c5f-267ee1e79464",
   "metadata": {},
   "source": [
    "## Identity and Membership Operators\n",
    "\n",
    "Like ``and``, ``or``, and ``not``, Python also contains prose-like operators  to check for identity and membership.\n",
    "They are the following:\n",
    "\n",
    "| Operator      | Description                                       |\n",
    "|---------------|---------------------------------------------------|\n",
    "| ``a is b``    | True if ``a`` and ``b`` are identical objects     |\n",
    "| ``a is not b``| True if ``a`` and ``b`` are not identical objects |\n",
    "| ``a in b``    | True if ``a`` is a member of ``b``                |\n",
    "| ``a not in b``| True if ``a`` is not a member of ``b``            |"
   ]
  },
  {
   "cell_type": "markdown",
   "id": "52e4d87d-ae75-4117-a999-d747ab337972",
   "metadata": {},
   "source": [
    "### Identity Operators: \"``is``\" and \"``is not``\"\n",
    "\n",
    "The identity operators, \"``is``\" and \"``is not``\" check for *object identity*.\n",
    "Object identity is different than equality, as we can see here:"
   ]
  },
  {
   "cell_type": "code",
   "execution_count": 47,
   "id": "617fda44-870f-48d0-8aa6-15ae2b75057c",
   "metadata": {
    "collapsed": false,
    "jupyter": {
     "outputs_hidden": false
    }
   },
   "outputs": [],
   "source": [
    "a = [1, 2, 3]\n",
    "b = [1, 2, 3]"
   ]
  },
  {
   "cell_type": "code",
   "execution_count": 48,
   "id": "130588b8-c0e5-4a52-8350-917ad1271eaf",
   "metadata": {
    "collapsed": false,
    "jupyter": {
     "outputs_hidden": false
    }
   },
   "outputs": [
    {
     "data": {
      "text/plain": [
       "True"
      ]
     },
     "execution_count": 48,
     "metadata": {},
     "output_type": "execute_result"
    }
   ],
   "source": [
    "# this checks if the content is equal\n",
    "a == b"
   ]
  },
  {
   "cell_type": "code",
   "execution_count": 49,
   "id": "b2f17738-ea4c-4fb5-8839-b7495731cb1d",
   "metadata": {
    "collapsed": false,
    "jupyter": {
     "outputs_hidden": false
    }
   },
   "outputs": [
    {
     "data": {
      "text/plain": [
       "False"
      ]
     },
     "execution_count": 49,
     "metadata": {},
     "output_type": "execute_result"
    }
   ],
   "source": [
    "# this checks if the reference (the pointer) is the same\n",
    "a is b"
   ]
  },
  {
   "cell_type": "code",
   "execution_count": 50,
   "id": "ea638528-2c4e-4be5-99f0-75848250c6a8",
   "metadata": {
    "collapsed": false,
    "jupyter": {
     "outputs_hidden": false
    }
   },
   "outputs": [
    {
     "data": {
      "text/plain": [
       "True"
      ]
     },
     "execution_count": 50,
     "metadata": {},
     "output_type": "execute_result"
    }
   ],
   "source": [
    "a is not b"
   ]
  },
  {
   "cell_type": "markdown",
   "id": "b1dd3c8c-bcbc-47ec-98a7-c6d1fe5762ed",
   "metadata": {},
   "source": [
    "### Membership operators\n",
    "Membership operators check for membership within compound objects.\n",
    "So, for example, we can write:"
   ]
  },
  {
   "cell_type": "code",
   "execution_count": 51,
   "id": "54f65f15-2254-4767-8701-ae6dfa70f8c7",
   "metadata": {
    "collapsed": false,
    "jupyter": {
     "outputs_hidden": false
    }
   },
   "outputs": [
    {
     "data": {
      "text/plain": [
       "True"
      ]
     },
     "execution_count": 51,
     "metadata": {},
     "output_type": "execute_result"
    }
   ],
   "source": [
    "1 in [1, 2, 3]"
   ]
  },
  {
   "cell_type": "code",
   "execution_count": 52,
   "id": "fab217c0-fe26-4c45-af01-3c3c885e5b93",
   "metadata": {
    "collapsed": false,
    "jupyter": {
     "outputs_hidden": false
    }
   },
   "outputs": [
    {
     "data": {
      "text/plain": [
       "False"
      ]
     },
     "execution_count": 52,
     "metadata": {},
     "output_type": "execute_result"
    }
   ],
   "source": [
    "2 not in [1, 2, 3]"
   ]
  },
  {
   "cell_type": "markdown",
   "id": "4ab54d49-a874-4da8-b38e-45e84924cc42",
   "metadata": {},
   "source": [
    "> ***EXAMPLE 3***\n",
    ">\n",
    "> Given the results from the EXAMPLE 2, find out if `c > f`"
   ]
  },
  {
   "cell_type": "code",
   "execution_count": 54,
   "id": "b50a00e6-a742-41c4-9655-0ae162941605",
   "metadata": {},
   "outputs": [
    {
     "data": {
      "text/plain": [
       "True"
      ]
     },
     "execution_count": 54,
     "metadata": {},
     "output_type": "execute_result"
    }
   ],
   "source": [
    "c > f"
   ]
  },
  {
   "cell_type": "markdown",
   "id": "2e27c609-8e62-436c-97e3-d05c2a9029cc",
   "metadata": {},
   "source": [
    "***"
   ]
  },
  {
   "cell_type": "markdown",
   "id": "3a743666-50fd-451e-8e69-4d41bf87d493",
   "metadata": {},
   "source": [
    "# Built-In Types: Simple Values"
   ]
  },
  {
   "cell_type": "markdown",
   "id": "6e05040d-28da-4522-9574-e337415857a7",
   "metadata": {},
   "source": [
    "\n",
    "| Type        | Example        | Description                                                  |\n",
    "|-------------|----------------|--------------------------------------------------------------|\n",
    "| ``int``     | ``x = 1``      | integers (i.e., whole numbers)                               |\n",
    "| ``float``   | ``x = 1.0``    | floating-point numbers (i.e., real numbers)                  |\n",
    "| ``complex`` | ``x = 1 + 2j`` | Complex numbers (i.e., numbers with real and imaginary part) |\n",
    "| ``bool``    | ``x = True``   | Boolean: True/False values                                   |\n",
    "| ``str``     | ``x = 'abc'``  | String: characters or text                                   |\n",
    "| ``NoneType``| ``x = None``   | Special object indicating nulls                              |\n"
   ]
  },
  {
   "cell_type": "markdown",
   "id": "f4638570-cb44-4051-84e2-73d187b75344",
   "metadata": {},
   "source": [
    "## Integers\n",
    "The most basic numerical type is the integer.\n",
    "Any number without a decimal point is an integer:"
   ]
  },
  {
   "cell_type": "code",
   "execution_count": 55,
   "id": "9336ec86-3c3a-4ee1-a7d1-2e04de85b885",
   "metadata": {
    "collapsed": false,
    "jupyter": {
     "outputs_hidden": false
    }
   },
   "outputs": [
    {
     "data": {
      "text/plain": [
       "int"
      ]
     },
     "execution_count": 55,
     "metadata": {},
     "output_type": "execute_result"
    }
   ],
   "source": [
    "x = 1\n",
    "type(x)"
   ]
  },
  {
   "cell_type": "markdown",
   "id": "9796d5f7-bdb7-484b-981a-32f072f2cc70",
   "metadata": {},
   "source": [
    "In Python, the division up-casts to floating-point type"
   ]
  },
  {
   "cell_type": "code",
   "execution_count": 56,
   "id": "99d70bfc-a5f8-493b-a4ef-ee058a686e60",
   "metadata": {
    "collapsed": false,
    "jupyter": {
     "outputs_hidden": false
    }
   },
   "outputs": [
    {
     "data": {
      "text/plain": [
       "float"
      ]
     },
     "execution_count": 56,
     "metadata": {},
     "output_type": "execute_result"
    }
   ],
   "source": [
    "y = 5 / 2\n",
    "type(y)"
   ]
  },
  {
   "cell_type": "markdown",
   "id": "6fb0dc1d-b64c-4ee2-bc31-f6975e0879f3",
   "metadata": {},
   "source": [
    "The floor division do not up-casts to float"
   ]
  },
  {
   "cell_type": "code",
   "execution_count": 58,
   "id": "86e0f460-d96b-4c66-8828-8c2413ca8ae1",
   "metadata": {
    "collapsed": false,
    "jupyter": {
     "outputs_hidden": false
    }
   },
   "outputs": [
    {
     "data": {
      "text/plain": [
       "2"
      ]
     },
     "execution_count": 58,
     "metadata": {},
     "output_type": "execute_result"
    }
   ],
   "source": [
    "5 // 2"
   ]
  },
  {
   "cell_type": "markdown",
   "id": "82124a75-fc18-44c3-9222-fef137581989",
   "metadata": {
    "tags": []
   },
   "source": [
    "## Floating-Point Numbers\n",
    "The floating-point type can store fractional numbers.\n",
    "They can be defined either in standard decimal notation, or in exponential notation:"
   ]
  },
  {
   "cell_type": "code",
   "execution_count": 59,
   "id": "c9136426-6277-45f3-adad-1f20cb5b0342",
   "metadata": {
    "collapsed": false,
    "jupyter": {
     "outputs_hidden": false
    }
   },
   "outputs": [
    {
     "name": "stdout",
     "output_type": "stream",
     "text": [
      "True\n"
     ]
    }
   ],
   "source": [
    "x = 0.000005\n",
    "y = 5e-6\n",
    "print(x == y)"
   ]
  },
  {
   "cell_type": "code",
   "execution_count": 60,
   "id": "fef6bec2-7adc-446f-bc20-6abf8cb10e0d",
   "metadata": {
    "collapsed": false,
    "jupyter": {
     "outputs_hidden": false
    }
   },
   "outputs": [
    {
     "name": "stdout",
     "output_type": "stream",
     "text": [
      "True\n"
     ]
    }
   ],
   "source": [
    "x = 1400000.00\n",
    "y = 1.4e6\n",
    "print(x == y)"
   ]
  },
  {
   "cell_type": "code",
   "execution_count": null,
   "id": "1513256a-c410-489b-8a23-1fbdc545a672",
   "metadata": {
    "collapsed": false,
    "jupyter": {
     "outputs_hidden": false
    }
   },
   "outputs": [],
   "source": [
    "float(1)  # this transforms a integer value into a float value "
   ]
  },
  {
   "cell_type": "markdown",
   "id": "376a27a5-8fda-4144-bc20-e24a34bb597e",
   "metadata": {},
   "source": [
    "## String Type\n",
    "Strings in Python are created with single or double quotes:"
   ]
  },
  {
   "cell_type": "code",
   "execution_count": 61,
   "id": "f9f06f2e-c3a9-4a23-891b-e8394daee87b",
   "metadata": {
    "collapsed": false,
    "jupyter": {
     "outputs_hidden": false
    }
   },
   "outputs": [],
   "source": [
    "message = \"what do you like?\"\n",
    "response = 'spam'"
   ]
  },
  {
   "cell_type": "markdown",
   "id": "968e0317-8a0e-4a5c-b572-721e178046c2",
   "metadata": {},
   "source": [
    "Python has many extremely useful string functions and methods; here are a few of them:"
   ]
  },
  {
   "cell_type": "code",
   "execution_count": 62,
   "id": "6a3a6b4c-e658-4c2b-b1db-7dcbd653841b",
   "metadata": {
    "collapsed": false,
    "jupyter": {
     "outputs_hidden": false
    }
   },
   "outputs": [
    {
     "data": {
      "text/plain": [
       "4"
      ]
     },
     "execution_count": 62,
     "metadata": {},
     "output_type": "execute_result"
    }
   ],
   "source": [
    "# length of string\n",
    "len(response)"
   ]
  },
  {
   "cell_type": "code",
   "execution_count": 63,
   "id": "373bc831-467b-404f-8284-62f2580a5711",
   "metadata": {
    "collapsed": false,
    "jupyter": {
     "outputs_hidden": false
    }
   },
   "outputs": [
    {
     "data": {
      "text/plain": [
       "'SPAM'"
      ]
     },
     "execution_count": 63,
     "metadata": {},
     "output_type": "execute_result"
    }
   ],
   "source": [
    "# Make upper-case. See also str.lower()\n",
    "response.upper()"
   ]
  },
  {
   "cell_type": "code",
   "execution_count": 64,
   "id": "93884896-cafc-4baf-96bc-a415b1c372b0",
   "metadata": {
    "collapsed": false,
    "jupyter": {
     "outputs_hidden": false
    }
   },
   "outputs": [
    {
     "data": {
      "text/plain": [
       "'What do you like?'"
      ]
     },
     "execution_count": 64,
     "metadata": {},
     "output_type": "execute_result"
    }
   ],
   "source": [
    "# Capitalize. See also str.title()\n",
    "message.capitalize()"
   ]
  },
  {
   "cell_type": "code",
   "execution_count": 65,
   "id": "7e519b5f-99bd-4355-91e7-2cc2226388d8",
   "metadata": {
    "collapsed": false,
    "jupyter": {
     "outputs_hidden": false
    }
   },
   "outputs": [
    {
     "data": {
      "text/plain": [
       "'what do you like?spam'"
      ]
     },
     "execution_count": 65,
     "metadata": {},
     "output_type": "execute_result"
    }
   ],
   "source": [
    "# concatenation with +\n",
    "message + response"
   ]
  },
  {
   "cell_type": "code",
   "execution_count": 66,
   "id": "bdd39d5b-e21f-4c4e-b4b3-6eb0b0e63fad",
   "metadata": {
    "collapsed": false,
    "jupyter": {
     "outputs_hidden": false
    }
   },
   "outputs": [
    {
     "data": {
      "text/plain": [
       "'spamspamspamspamspam'"
      ]
     },
     "execution_count": 66,
     "metadata": {},
     "output_type": "execute_result"
    }
   ],
   "source": [
    "# multiplication is multiple concatenation\n",
    "5 * response"
   ]
  },
  {
   "cell_type": "code",
   "execution_count": 67,
   "id": "a5c6776d-8aee-4e3c-914d-50aa962e5ccc",
   "metadata": {
    "collapsed": false,
    "jupyter": {
     "outputs_hidden": false
    }
   },
   "outputs": [
    {
     "data": {
      "text/plain": [
       "'w'"
      ]
     },
     "execution_count": 67,
     "metadata": {},
     "output_type": "execute_result"
    }
   ],
   "source": [
    "# Access individual characters (zero-based indexing)\n",
    "message[0]"
   ]
  },
  {
   "cell_type": "markdown",
   "id": "8aad1386-ad99-493b-83cc-cd1e3bd46d6b",
   "metadata": {},
   "source": [
    "For more discussion of indexing in Python, see [\"Lists\"](06-Built-in-Data-Structures.ipynb#Lists)."
   ]
  },
  {
   "cell_type": "markdown",
   "id": "e6b281d0-28ee-40da-8528-ae9707fc1a44",
   "metadata": {},
   "source": [
    "## None Type\n",
    "Python includes a special type, the ``NoneType``, which has only a single possible value: ``None``. For example:"
   ]
  },
  {
   "cell_type": "code",
   "execution_count": 68,
   "id": "9696b448-a24e-49b0-bfa5-f4916ec71356",
   "metadata": {
    "collapsed": false,
    "jupyter": {
     "outputs_hidden": false
    }
   },
   "outputs": [
    {
     "data": {
      "text/plain": [
       "NoneType"
      ]
     },
     "execution_count": 68,
     "metadata": {},
     "output_type": "execute_result"
    }
   ],
   "source": [
    "type(None)"
   ]
  },
  {
   "cell_type": "code",
   "execution_count": 69,
   "id": "f9ba3c27-7d2d-493e-94eb-f5810c309968",
   "metadata": {
    "collapsed": false,
    "jupyter": {
     "outputs_hidden": false
    }
   },
   "outputs": [
    {
     "name": "stdout",
     "output_type": "stream",
     "text": [
      "abc\n"
     ]
    }
   ],
   "source": [
    "# the print value do not retunr anything\n",
    "return_value = print('abc')"
   ]
  },
  {
   "cell_type": "code",
   "execution_count": 70,
   "id": "caa44b8a-510e-4ffd-bdd4-41812d62f993",
   "metadata": {
    "collapsed": false,
    "jupyter": {
     "outputs_hidden": false
    }
   },
   "outputs": [
    {
     "name": "stdout",
     "output_type": "stream",
     "text": [
      "None\n"
     ]
    }
   ],
   "source": [
    "print(return_value)"
   ]
  },
  {
   "cell_type": "markdown",
   "id": "b9dc17a0-9d83-489c-96b2-640789ea3395",
   "metadata": {},
   "source": [
    "## Boolean Type\n",
    "The Boolean type is a simple type with two possible values: ``True`` and ``False``, and is returned by comparison operators discussed previously:"
   ]
  },
  {
   "cell_type": "code",
   "execution_count": 71,
   "id": "b7449be0-7a0a-4a6e-b67e-6ce054b93106",
   "metadata": {
    "collapsed": false,
    "jupyter": {
     "outputs_hidden": false
    }
   },
   "outputs": [
    {
     "data": {
      "text/plain": [
       "True"
      ]
     },
     "execution_count": 71,
     "metadata": {},
     "output_type": "execute_result"
    }
   ],
   "source": [
    "result = (4 < 5)\n",
    "result"
   ]
  },
  {
   "cell_type": "code",
   "execution_count": 72,
   "id": "84816650-d4d8-47c7-abf9-25e215fed1e7",
   "metadata": {
    "collapsed": false,
    "jupyter": {
     "outputs_hidden": false
    }
   },
   "outputs": [
    {
     "data": {
      "text/plain": [
       "bool"
      ]
     },
     "execution_count": 72,
     "metadata": {},
     "output_type": "execute_result"
    }
   ],
   "source": [
    "type(result)"
   ]
  },
  {
   "cell_type": "markdown",
   "id": "cd5031d4-9b7f-491b-b4ec-d9873e7ee27c",
   "metadata": {},
   "source": [
    "Keep in mind that the Boolean values are case-sensitive: unlike some other languages, ``True`` and ``False`` must be capitalized!"
   ]
  },
  {
   "cell_type": "code",
   "execution_count": 73,
   "id": "c3b96cd5-3910-4650-885d-cce1ed1e2828",
   "metadata": {
    "collapsed": false,
    "jupyter": {
     "outputs_hidden": false
    }
   },
   "outputs": [
    {
     "name": "stdout",
     "output_type": "stream",
     "text": [
      "True False\n"
     ]
    }
   ],
   "source": [
    "print(True, False)"
   ]
  },
  {
   "cell_type": "markdown",
   "id": "d0c239d5-dfe5-43df-acb0-5ab210092004",
   "metadata": {},
   "source": [
    "Booleans can also be constructed using the ``bool()`` object constructor: values of any other type can be converted to Boolean via predictable rules.\n",
    "For example, any numeric type is False if equal to zero, and True otherwise:"
   ]
  },
  {
   "cell_type": "code",
   "execution_count": 74,
   "id": "6efeca01-72c5-4ec8-bfad-17e738f51df1",
   "metadata": {
    "collapsed": false,
    "jupyter": {
     "outputs_hidden": false
    }
   },
   "outputs": [
    {
     "data": {
      "text/plain": [
       "True"
      ]
     },
     "execution_count": 74,
     "metadata": {},
     "output_type": "execute_result"
    }
   ],
   "source": [
    "bool(2014)"
   ]
  },
  {
   "cell_type": "code",
   "execution_count": 75,
   "id": "35d1e793-8054-4cc9-94d9-eb599f80f842",
   "metadata": {
    "collapsed": false,
    "jupyter": {
     "outputs_hidden": false
    }
   },
   "outputs": [
    {
     "data": {
      "text/plain": [
       "False"
      ]
     },
     "execution_count": 75,
     "metadata": {},
     "output_type": "execute_result"
    }
   ],
   "source": [
    "bool(0)"
   ]
  },
  {
   "cell_type": "code",
   "execution_count": 76,
   "id": "7ee1cb55-b30d-49b4-b177-8e5ac1cdb9e4",
   "metadata": {
    "collapsed": false,
    "jupyter": {
     "outputs_hidden": false
    }
   },
   "outputs": [
    {
     "data": {
      "text/plain": [
       "True"
      ]
     },
     "execution_count": 76,
     "metadata": {},
     "output_type": "execute_result"
    }
   ],
   "source": [
    "bool(3.1415)"
   ]
  },
  {
   "cell_type": "markdown",
   "id": "453f9a89-3ae5-44ec-b21e-7900803c4daa",
   "metadata": {},
   "source": [
    "The Boolean conversion of ``None`` is always False:"
   ]
  },
  {
   "cell_type": "code",
   "execution_count": 77,
   "id": "a9f25e23-1886-4cb7-97e2-ef9ff9cc3ff3",
   "metadata": {
    "collapsed": false,
    "jupyter": {
     "outputs_hidden": false
    }
   },
   "outputs": [
    {
     "data": {
      "text/plain": [
       "False"
      ]
     },
     "execution_count": 77,
     "metadata": {},
     "output_type": "execute_result"
    }
   ],
   "source": [
    "bool(None)"
   ]
  },
  {
   "cell_type": "markdown",
   "id": "a3870792-a758-4547-aaea-0539cde518e8",
   "metadata": {},
   "source": [
    "For strings, ``bool(s)`` is False for empty strings and True otherwise:"
   ]
  },
  {
   "cell_type": "code",
   "execution_count": 78,
   "id": "3f7e6260-8039-4fa9-9a72-a1c47eee48c5",
   "metadata": {
    "collapsed": false,
    "jupyter": {
     "outputs_hidden": false
    }
   },
   "outputs": [
    {
     "data": {
      "text/plain": [
       "False"
      ]
     },
     "execution_count": 78,
     "metadata": {},
     "output_type": "execute_result"
    }
   ],
   "source": [
    "bool(\"\")"
   ]
  },
  {
   "cell_type": "code",
   "execution_count": 79,
   "id": "a190d84d-7f0e-49a4-9eb3-aec493159383",
   "metadata": {
    "collapsed": false,
    "jupyter": {
     "outputs_hidden": false
    }
   },
   "outputs": [
    {
     "data": {
      "text/plain": [
       "True"
      ]
     },
     "execution_count": 79,
     "metadata": {},
     "output_type": "execute_result"
    }
   ],
   "source": [
    "bool(\"abc\")"
   ]
  },
  {
   "cell_type": "markdown",
   "id": "5c466475-ce74-4e05-825a-293d93edff86",
   "metadata": {},
   "source": [
    "For sequences, the Boolean representation is False for empty sequences and True for any other sequences"
   ]
  },
  {
   "cell_type": "code",
   "execution_count": null,
   "id": "26ae7a50-f740-4ea7-ba55-4e1bbdd03010",
   "metadata": {
    "collapsed": false,
    "jupyter": {
     "outputs_hidden": false
    }
   },
   "outputs": [],
   "source": [
    "bool([1, 2, 3])"
   ]
  },
  {
   "cell_type": "code",
   "execution_count": null,
   "id": "f84a1655-2f10-48e8-8a54-a53dffc5d35a",
   "metadata": {
    "tags": []
   },
   "outputs": [],
   "source": [
    "bool([])"
   ]
  }
 ],
 "metadata": {
  "kernelspec": {
   "display_name": "Python 3 (ipykernel)",
   "language": "python",
   "name": "python3"
  },
  "language_info": {
   "codemirror_mode": {
    "name": "ipython",
    "version": 3
   },
   "file_extension": ".py",
   "mimetype": "text/x-python",
   "name": "python",
   "nbconvert_exporter": "python",
   "pygments_lexer": "ipython3",
   "version": "3.10.8"
  },
  "toc-autonumbering": true,
  "toc-showtags": false
 },
 "nbformat": 4,
 "nbformat_minor": 5
}
